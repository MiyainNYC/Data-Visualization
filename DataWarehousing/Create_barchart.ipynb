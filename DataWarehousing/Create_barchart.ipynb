{
 "cells": [
  {
   "cell_type": "markdown",
   "metadata": {
    "collapsed": true
   },
   "source": [
    "# Use Vincent and Matplotlib to Do Visualization for 2016 Presidential Election"
   ]
  },
  {
   "cell_type": "code",
   "execution_count": 1,
   "metadata": {
    "collapsed": true
   },
   "outputs": [],
   "source": [
    "import pandas as pd\n",
    "import matplotlib.pyplot as plt"
   ]
  },
  {
   "cell_type": "code",
   "execution_count": 3,
   "metadata": {
    "collapsed": false
   },
   "outputs": [],
   "source": [
    "df = pd.read_csv(\"dataoriginal.csv\",low_memory=False,index_col = False)"
   ]
  },
  {
   "cell_type": "code",
   "execution_count": 4,
   "metadata": {
    "collapsed": false
   },
   "outputs": [
    {
     "data": {
      "text/html": [
       "<div>\n",
       "<table border=\"1\" class=\"dataframe\">\n",
       "  <thead>\n",
       "    <tr style=\"text-align: right;\">\n",
       "      <th></th>\n",
       "      <th>cmte_id</th>\n",
       "      <th>cand_id</th>\n",
       "      <th>cand_nm</th>\n",
       "      <th>contbr_nm</th>\n",
       "      <th>contbr_city</th>\n",
       "      <th>contbr_st</th>\n",
       "      <th>contbr_zip</th>\n",
       "      <th>contbr_employer</th>\n",
       "      <th>contbr_occupation</th>\n",
       "      <th>contb_receipt_amt</th>\n",
       "      <th>contb_receipt_dt</th>\n",
       "      <th>receipt_desc</th>\n",
       "      <th>memo_cd</th>\n",
       "      <th>memo_text</th>\n",
       "      <th>form_tp</th>\n",
       "      <th>file_num</th>\n",
       "      <th>tran_id</th>\n",
       "      <th>election_tp</th>\n",
       "    </tr>\n",
       "  </thead>\n",
       "  <tbody>\n",
       "    <tr>\n",
       "      <th>0</th>\n",
       "      <td>C00458844</td>\n",
       "      <td>P60006723</td>\n",
       "      <td>Rubio, Marco</td>\n",
       "      <td>HEFFERNAN, MICHAEL</td>\n",
       "      <td>APO</td>\n",
       "      <td>AE</td>\n",
       "      <td>09096</td>\n",
       "      <td>RETIRED</td>\n",
       "      <td>RETIRED</td>\n",
       "      <td>100.0</td>\n",
       "      <td>18-JAN-16</td>\n",
       "      <td>NaN</td>\n",
       "      <td>NaN</td>\n",
       "      <td>NaN</td>\n",
       "      <td>SA17A</td>\n",
       "      <td>1051592</td>\n",
       "      <td>SA17.944935</td>\n",
       "      <td>P2016</td>\n",
       "    </tr>\n",
       "    <tr>\n",
       "      <th>1</th>\n",
       "      <td>C00458844</td>\n",
       "      <td>P60006723</td>\n",
       "      <td>Rubio, Marco</td>\n",
       "      <td>HEFFERNAN, MICHAEL</td>\n",
       "      <td>APO</td>\n",
       "      <td>AE</td>\n",
       "      <td>09096</td>\n",
       "      <td>RETIRED</td>\n",
       "      <td>RETIRED</td>\n",
       "      <td>220.5</td>\n",
       "      <td>15-JAN-16</td>\n",
       "      <td>NaN</td>\n",
       "      <td>NaN</td>\n",
       "      <td>NaN</td>\n",
       "      <td>SA17A</td>\n",
       "      <td>1051592</td>\n",
       "      <td>SA17.994421</td>\n",
       "      <td>P2016</td>\n",
       "    </tr>\n",
       "    <tr>\n",
       "      <th>2</th>\n",
       "      <td>C00458844</td>\n",
       "      <td>P60006723</td>\n",
       "      <td>Rubio, Marco</td>\n",
       "      <td>HEFFERNAN, MICHAEL</td>\n",
       "      <td>APO</td>\n",
       "      <td>AE</td>\n",
       "      <td>09096</td>\n",
       "      <td>RETIRED</td>\n",
       "      <td>RETIRED</td>\n",
       "      <td>225.0</td>\n",
       "      <td>29-OCT-15</td>\n",
       "      <td>NaN</td>\n",
       "      <td>NaN</td>\n",
       "      <td>NaN</td>\n",
       "      <td>SA17A</td>\n",
       "      <td>1047126</td>\n",
       "      <td>SA17.863181</td>\n",
       "      <td>P2016</td>\n",
       "    </tr>\n",
       "    <tr>\n",
       "      <th>3</th>\n",
       "      <td>C00458844</td>\n",
       "      <td>P60006723</td>\n",
       "      <td>Rubio, Marco</td>\n",
       "      <td>CALLESEN JR., RICHARD O.</td>\n",
       "      <td>FPO</td>\n",
       "      <td>AE</td>\n",
       "      <td>096230023</td>\n",
       "      <td>RETIRED</td>\n",
       "      <td>RETIRED</td>\n",
       "      <td>50.0</td>\n",
       "      <td>14-JAN-16</td>\n",
       "      <td>NaN</td>\n",
       "      <td>NaN</td>\n",
       "      <td>NaN</td>\n",
       "      <td>SA17A</td>\n",
       "      <td>1051592</td>\n",
       "      <td>SA17.942388</td>\n",
       "      <td>P2016</td>\n",
       "    </tr>\n",
       "    <tr>\n",
       "      <th>4</th>\n",
       "      <td>C00458844</td>\n",
       "      <td>P60006723</td>\n",
       "      <td>Rubio, Marco</td>\n",
       "      <td>KIBBLE, KUMAR</td>\n",
       "      <td>DPO</td>\n",
       "      <td>AE</td>\n",
       "      <td>092131903</td>\n",
       "      <td>U.S. DEPARTMENT OF HOMELAND SECURITY</td>\n",
       "      <td>LAW ENFORCEMENT</td>\n",
       "      <td>500.0</td>\n",
       "      <td>27-AUG-15</td>\n",
       "      <td>NaN</td>\n",
       "      <td>NaN</td>\n",
       "      <td>NaN</td>\n",
       "      <td>SA17A</td>\n",
       "      <td>1031526</td>\n",
       "      <td>SA17.813360</td>\n",
       "      <td>P2016</td>\n",
       "    </tr>\n",
       "  </tbody>\n",
       "</table>\n",
       "</div>"
      ],
      "text/plain": [
       "     cmte_id    cand_id       cand_nm                 contbr_nm contbr_city  \\\n",
       "0  C00458844  P60006723  Rubio, Marco        HEFFERNAN, MICHAEL         APO   \n",
       "1  C00458844  P60006723  Rubio, Marco        HEFFERNAN, MICHAEL         APO   \n",
       "2  C00458844  P60006723  Rubio, Marco        HEFFERNAN, MICHAEL         APO   \n",
       "3  C00458844  P60006723  Rubio, Marco  CALLESEN JR., RICHARD O.         FPO   \n",
       "4  C00458844  P60006723  Rubio, Marco             KIBBLE, KUMAR         DPO   \n",
       "\n",
       "  contbr_st contbr_zip                       contbr_employer  \\\n",
       "0        AE      09096                               RETIRED   \n",
       "1        AE      09096                               RETIRED   \n",
       "2        AE      09096                               RETIRED   \n",
       "3        AE  096230023                               RETIRED   \n",
       "4        AE  092131903  U.S. DEPARTMENT OF HOMELAND SECURITY   \n",
       "\n",
       "  contbr_occupation  contb_receipt_amt contb_receipt_dt receipt_desc memo_cd  \\\n",
       "0           RETIRED              100.0        18-JAN-16          NaN     NaN   \n",
       "1           RETIRED              220.5        15-JAN-16          NaN     NaN   \n",
       "2           RETIRED              225.0        29-OCT-15          NaN     NaN   \n",
       "3           RETIRED               50.0        14-JAN-16          NaN     NaN   \n",
       "4   LAW ENFORCEMENT              500.0        27-AUG-15          NaN     NaN   \n",
       "\n",
       "  memo_text form_tp  file_num      tran_id election_tp  \n",
       "0       NaN   SA17A   1051592  SA17.944935       P2016  \n",
       "1       NaN   SA17A   1051592  SA17.994421       P2016  \n",
       "2       NaN   SA17A   1047126  SA17.863181       P2016  \n",
       "3       NaN   SA17A   1051592  SA17.942388       P2016  \n",
       "4       NaN   SA17A   1031526  SA17.813360       P2016  "
      ]
     },
     "execution_count": 4,
     "metadata": {},
     "output_type": "execute_result"
    }
   ],
   "source": [
    "df.head()"
   ]
  },
  {
   "cell_type": "code",
   "execution_count": 4,
   "metadata": {
    "collapsed": true
   },
   "outputs": [
    {
     "name": "stdout",
     "output_type": "stream",
     "text": [
      "0 cmte_id\n",
      "1 cand_id\n",
      "2 cand_nm\n",
      "3 contbr_nm\n",
      "4 contbr_city\n",
      "5 contbr_st\n",
      "6 contbr_zip\n",
      "7 contbr_employer\n",
      "8 contbr_occupation\n",
      "9 contb_receipt_amt\n",
      "10 contb_receipt_dt\n",
      "11 receipt_desc\n",
      "12 memo_cd\n",
      "13 memo_text\n",
      "14 form_tp\n",
      "15 file_num\n",
      "16 tran_id\n",
      "17 election_tp\n"
     ]
    }
   ],
   "source": [
    "list = df.columns.tolist()\n",
    "for i,v in enumerate(list):--\n",
    "    print i,v"
   ]
  },
  {
   "cell_type": "code",
   "execution_count": 5,
   "metadata": {
    "collapsed": true
   },
   "outputs": [],
   "source": [
    "df = df.iloc[:,[2,5,6,8,9]]\n",
    "df = df.iloc[:,[0,4]]"
   ]
  },
  {
   "cell_type": "code",
   "execution_count": 6,
   "metadata": {
    "collapsed": true
   },
   "outputs": [],
   "source": [
    "z = df.groupby('cand_nm').sum()"
   ]
  },
  {
   "cell_type": "code",
   "execution_count": 7,
   "metadata": {
    "collapsed": false
   },
   "outputs": [
    {
     "name": "stderr",
     "output_type": "stream",
     "text": [
      "C:\\Users\\Miya\\AppData\\Local\\Enthought\\Canopy\\User\\lib\\site-packages\\ipykernel\\__main__.py:1: FutureWarning: sort(columns=....) is deprecated, use sort_values(by=.....)\n",
      "  if __name__ == '__main__':\n"
     ]
    }
   ],
   "source": [
    "z = z.sort('contb_receipt_amt',ascending = False)"
   ]
  },
  {
   "cell_type": "code",
   "execution_count": 9,
   "metadata": {
    "collapsed": false
   },
   "outputs": [
    {
     "data": {
      "text/html": [
       "<div>\n",
       "<table border=\"1\" class=\"dataframe\">\n",
       "  <thead>\n",
       "    <tr style=\"text-align: right;\">\n",
       "      <th></th>\n",
       "      <th>contb_receipt_amt</th>\n",
       "    </tr>\n",
       "    <tr>\n",
       "      <th>cand_nm</th>\n",
       "      <th></th>\n",
       "    </tr>\n",
       "  </thead>\n",
       "  <tbody>\n",
       "    <tr>\n",
       "      <th>Clinton, Hillary Rodham</th>\n",
       "      <td>1.062859e+08</td>\n",
       "    </tr>\n",
       "    <tr>\n",
       "      <th>Cruz, Rafael Edward 'Ted'</th>\n",
       "      <td>3.482153e+07</td>\n",
       "    </tr>\n",
       "    <tr>\n",
       "      <th>Bush, Jeb</th>\n",
       "      <td>3.158145e+07</td>\n",
       "    </tr>\n",
       "    <tr>\n",
       "      <th>Rubio, Marco</th>\n",
       "      <td>2.691562e+07</td>\n",
       "    </tr>\n",
       "    <tr>\n",
       "      <th>Sanders, Bernard</th>\n",
       "      <td>2.650937e+07</td>\n",
       "    </tr>\n",
       "    <tr>\n",
       "      <th>Carson, Benjamin S.</th>\n",
       "      <td>2.399546e+07</td>\n",
       "    </tr>\n",
       "    <tr>\n",
       "      <th>Kasich, John R.</th>\n",
       "      <td>7.459832e+06</td>\n",
       "    </tr>\n",
       "    <tr>\n",
       "      <th>Christie, Christopher J.</th>\n",
       "      <td>7.444388e+06</td>\n",
       "    </tr>\n",
       "    <tr>\n",
       "      <th>Fiorina, Carly</th>\n",
       "      <td>6.272981e+06</td>\n",
       "    </tr>\n",
       "    <tr>\n",
       "      <th>Paul, Rand</th>\n",
       "      <td>5.927136e+06</td>\n",
       "    </tr>\n",
       "    <tr>\n",
       "      <th>Walker, Scott</th>\n",
       "      <td>4.365622e+06</td>\n",
       "    </tr>\n",
       "    <tr>\n",
       "      <th>O'Malley, Martin Joseph</th>\n",
       "      <td>3.901663e+06</td>\n",
       "    </tr>\n",
       "    <tr>\n",
       "      <th>Graham, Lindsey O.</th>\n",
       "      <td>3.673164e+06</td>\n",
       "    </tr>\n",
       "    <tr>\n",
       "      <th>Huckabee, Mike</th>\n",
       "      <td>2.283190e+06</td>\n",
       "    </tr>\n",
       "    <tr>\n",
       "      <th>Trump, Donald J.</th>\n",
       "      <td>1.773226e+06</td>\n",
       "    </tr>\n",
       "    <tr>\n",
       "      <th>Jindal, Bobby</th>\n",
       "      <td>1.264593e+06</td>\n",
       "    </tr>\n",
       "    <tr>\n",
       "      <th>Perry, James R. (Rick)</th>\n",
       "      <td>1.120363e+06</td>\n",
       "    </tr>\n",
       "    <tr>\n",
       "      <th>Santorum, Richard J.</th>\n",
       "      <td>1.027283e+06</td>\n",
       "    </tr>\n",
       "    <tr>\n",
       "      <th>Lessig, Lawrence</th>\n",
       "      <td>6.214945e+05</td>\n",
       "    </tr>\n",
       "    <tr>\n",
       "      <th>Pataki, George E.</th>\n",
       "      <td>4.782910e+05</td>\n",
       "    </tr>\n",
       "    <tr>\n",
       "      <th>Webb, James Henry Jr.</th>\n",
       "      <td>4.332214e+05</td>\n",
       "    </tr>\n",
       "    <tr>\n",
       "      <th>Stein, Jill</th>\n",
       "      <td>1.015260e+05</td>\n",
       "    </tr>\n",
       "  </tbody>\n",
       "</table>\n",
       "</div>"
      ],
      "text/plain": [
       "                           contb_receipt_amt\n",
       "cand_nm                                     \n",
       "Clinton, Hillary Rodham         1.062859e+08\n",
       "Cruz, Rafael Edward 'Ted'       3.482153e+07\n",
       "Bush, Jeb                       3.158145e+07\n",
       "Rubio, Marco                    2.691562e+07\n",
       "Sanders, Bernard                2.650937e+07\n",
       "Carson, Benjamin S.             2.399546e+07\n",
       "Kasich, John R.                 7.459832e+06\n",
       "Christie, Christopher J.        7.444388e+06\n",
       "Fiorina, Carly                  6.272981e+06\n",
       "Paul, Rand                      5.927136e+06\n",
       "Walker, Scott                   4.365622e+06\n",
       "O'Malley, Martin Joseph         3.901663e+06\n",
       "Graham, Lindsey O.              3.673164e+06\n",
       "Huckabee, Mike                  2.283190e+06\n",
       "Trump, Donald J.                1.773226e+06\n",
       "Jindal, Bobby                   1.264593e+06\n",
       "Perry, James R. (Rick)          1.120363e+06\n",
       "Santorum, Richard J.            1.027283e+06\n",
       "Lessig, Lawrence                6.214945e+05\n",
       "Pataki, George E.               4.782910e+05\n",
       "Webb, James Henry Jr.           4.332214e+05\n",
       "Stein, Jill                     1.015260e+05"
      ]
     },
     "execution_count": 9,
     "metadata": {},
     "output_type": "execute_result"
    }
   ],
   "source": [
    "z"
   ]
  },
  {
   "cell_type": "code",
   "execution_count": 22,
   "metadata": {
    "collapsed": false
   },
   "outputs": [
    {
     "data": {
      "text/plain": [
       "Index([u'Carson Benjamin S.', u'Clinton Hillary Rodham',\n",
       "       u'Cruz Rafael Edward 'Ted'', u'Paul Rand', u'Perry James R. (Rick)',\n",
       "       u'Rubio Marco', u'Bush Jeb', u'Christie Christopher J.',\n",
       "       u'Fiorina Carly', u'Graham Lindsey O.', u'Huckabee Mike',\n",
       "       u'Jindal Bobby', u'Kasich John R.', u'Lessig Lawrence',\n",
       "       u'O'Malley Martin Joseph', u'Pataki George E.', u'Sanders Bernard',\n",
       "       u'Santorum Richard J.', u'Stein Jill', u'Trump Donald J.',\n",
       "       u'Walker Scott', u'Webb James Henry Jr.'],\n",
       "      dtype='object')"
      ]
     },
     "execution_count": 22,
     "metadata": {},
     "output_type": "execute_result"
    }
   ],
   "source": [
    "data = pd.read_csv(\"bar_chart_data.csv\")\n",
    "data.columns"
   ]
  },
  {
   "cell_type": "code",
   "execution_count": 55,
   "metadata": {
    "collapsed": true
   },
   "outputs": [],
   "source": [
    "from decimal import Decimal\n",
    "from __future__ import division"
   ]
  },
  {
   "cell_type": "code",
   "execution_count": 56,
   "metadata": {
    "collapsed": false
   },
   "outputs": [],
   "source": [
    "list = []\n",
    "for i in data.values:\n",
    "    for j in i:\n",
    "        list.append(j/1000000)"
   ]
  },
  {
   "cell_type": "code",
   "execution_count": 62,
   "metadata": {
    "collapsed": false
   },
   "outputs": [
    {
     "name": "stderr",
     "output_type": "stream",
     "text": [
      "C:\\Users\\Miya\\AppData\\Local\\Enthought\\Canopy\\User\\lib\\site-packages\\ipykernel\\__main__.py:2: FutureWarning: sort(columns=....) is deprecated, use sort_values(by=.....)\n",
      "  from ipykernel import kernelapp as app\n"
     ]
    },
    {
     "data": {
      "text/html": [
       "<div>\n",
       "<table border=\"1\" class=\"dataframe\">\n",
       "  <thead>\n",
       "    <tr style=\"text-align: right;\">\n",
       "      <th></th>\n",
       "      <th>Cand</th>\n",
       "      <th>contb_receipt_amt</th>\n",
       "    </tr>\n",
       "  </thead>\n",
       "  <tbody>\n",
       "    <tr>\n",
       "      <th>1</th>\n",
       "      <td>Clinton Hillary Rodham</td>\n",
       "      <td>106.285874</td>\n",
       "    </tr>\n",
       "    <tr>\n",
       "      <th>2</th>\n",
       "      <td>Cruz Rafael Edward 'Ted'</td>\n",
       "      <td>34.821535</td>\n",
       "    </tr>\n",
       "    <tr>\n",
       "      <th>5</th>\n",
       "      <td>Rubio Marco</td>\n",
       "      <td>26.915622</td>\n",
       "    </tr>\n",
       "    <tr>\n",
       "      <th>0</th>\n",
       "      <td>Carson Benjamin S.</td>\n",
       "      <td>23.995461</td>\n",
       "    </tr>\n",
       "    <tr>\n",
       "      <th>6</th>\n",
       "      <td>Bush Jeb</td>\n",
       "      <td>15.274040</td>\n",
       "    </tr>\n",
       "    <tr>\n",
       "      <th>16</th>\n",
       "      <td>Sanders Bernard</td>\n",
       "      <td>11.989071</td>\n",
       "    </tr>\n",
       "    <tr>\n",
       "      <th>3</th>\n",
       "      <td>Paul Rand</td>\n",
       "      <td>5.927136</td>\n",
       "    </tr>\n",
       "    <tr>\n",
       "      <th>12</th>\n",
       "      <td>Kasich John R.</td>\n",
       "      <td>3.731458</td>\n",
       "    </tr>\n",
       "    <tr>\n",
       "      <th>8</th>\n",
       "      <td>Fiorina Carly</td>\n",
       "      <td>3.396107</td>\n",
       "    </tr>\n",
       "    <tr>\n",
       "      <th>20</th>\n",
       "      <td>Walker Scott</td>\n",
       "      <td>3.096961</td>\n",
       "    </tr>\n",
       "    <tr>\n",
       "      <th>7</th>\n",
       "      <td>Christie Christopher J.</td>\n",
       "      <td>2.982831</td>\n",
       "    </tr>\n",
       "    <tr>\n",
       "      <th>9</th>\n",
       "      <td>Graham Lindsey O.</td>\n",
       "      <td>2.248421</td>\n",
       "    </tr>\n",
       "    <tr>\n",
       "      <th>14</th>\n",
       "      <td>O'Malley Martin Joseph</td>\n",
       "      <td>1.665559</td>\n",
       "    </tr>\n",
       "    <tr>\n",
       "      <th>10</th>\n",
       "      <td>Huckabee Mike</td>\n",
       "      <td>1.243490</td>\n",
       "    </tr>\n",
       "    <tr>\n",
       "      <th>4</th>\n",
       "      <td>Perry James R. (Rick)</td>\n",
       "      <td>1.120363</td>\n",
       "    </tr>\n",
       "    <tr>\n",
       "      <th>19</th>\n",
       "      <td>Trump Donald J.</td>\n",
       "      <td>1.003122</td>\n",
       "    </tr>\n",
       "    <tr>\n",
       "      <th>11</th>\n",
       "      <td>Jindal Bobby</td>\n",
       "      <td>0.667850</td>\n",
       "    </tr>\n",
       "    <tr>\n",
       "      <th>17</th>\n",
       "      <td>Santorum Richard J.</td>\n",
       "      <td>0.623187</td>\n",
       "    </tr>\n",
       "    <tr>\n",
       "      <th>15</th>\n",
       "      <td>Pataki George E.</td>\n",
       "      <td>0.240325</td>\n",
       "    </tr>\n",
       "    <tr>\n",
       "      <th>13</th>\n",
       "      <td>Lessig Lawrence</td>\n",
       "      <td>0.205463</td>\n",
       "    </tr>\n",
       "    <tr>\n",
       "      <th>21</th>\n",
       "      <td>Webb James Henry Jr.</td>\n",
       "      <td>0.163305</td>\n",
       "    </tr>\n",
       "    <tr>\n",
       "      <th>18</th>\n",
       "      <td>Stein Jill</td>\n",
       "      <td>0.019254</td>\n",
       "    </tr>\n",
       "  </tbody>\n",
       "</table>\n",
       "</div>"
      ],
      "text/plain": [
       "                        Cand  contb_receipt_amt\n",
       "1     Clinton Hillary Rodham         106.285874\n",
       "2   Cruz Rafael Edward 'Ted'          34.821535\n",
       "5                Rubio Marco          26.915622\n",
       "0         Carson Benjamin S.          23.995461\n",
       "6                   Bush Jeb          15.274040\n",
       "16           Sanders Bernard          11.989071\n",
       "3                  Paul Rand           5.927136\n",
       "12            Kasich John R.           3.731458\n",
       "8              Fiorina Carly           3.396107\n",
       "20              Walker Scott           3.096961\n",
       "7    Christie Christopher J.           2.982831\n",
       "9          Graham Lindsey O.           2.248421\n",
       "14    O'Malley Martin Joseph           1.665559\n",
       "10             Huckabee Mike           1.243490\n",
       "4      Perry James R. (Rick)           1.120363\n",
       "19           Trump Donald J.           1.003122\n",
       "11              Jindal Bobby           0.667850\n",
       "17       Santorum Richard J.           0.623187\n",
       "15          Pataki George E.           0.240325\n",
       "13           Lessig Lawrence           0.205463\n",
       "21      Webb James Henry Jr.           0.163305\n",
       "18                Stein Jill           0.019254"
      ]
     },
     "execution_count": 62,
     "metadata": {},
     "output_type": "execute_result"
    }
   ],
   "source": [
    "z = pd.DataFrame({'Cand': data.columns,\n",
    "             'contb_receipt_amt':list}).sort('contb_receipt_amt',ascending = False)\n",
    "z"
   ]
  },
  {
   "cell_type": "code",
   "execution_count": 63,
   "metadata": {
    "collapsed": false
   },
   "outputs": [
    {
     "data": {
      "text/plain": [
       "0.019254"
      ]
     },
     "execution_count": 63,
     "metadata": {},
     "output_type": "execute_result"
    }
   ],
   "source": [
    "x = range(1,23)\n",
    "y = z.contb_receipt_amt\n",
    "labels = z.Cand\n",
    "min(y)"
   ]
  },
  {
   "cell_type": "code",
   "execution_count": null,
   "metadata": {
    "collapsed": false
   },
   "outputs": [],
   "source": [
    "plt.bar(x,y,color = 'red')\n",
    "plt.xticks(x,labels,rotation = 'vertical',fontsize = 18)\n",
    "plt.subplots_adjust(bottom=0.3)\n",
    "plt.ylabel('Contribution Amount (Millions) Received',fontsize = 20)\n",
    "plt.xlabel('Candidate', fontsize=20)\n",
    "plt.title('Contribution Amount (Millions) by Candidate',fontsize = 25,color = \n",
    "        'red')\n",
    "plt.show()"
   ]
  },
  {
   "cell_type": "code",
   "execution_count": 7,
   "metadata": {
    "collapsed": false
   },
   "outputs": [
    {
     "data": {
      "text/plain": [
       "['Bush, Jeb',\n",
       " 'Carson, Benjamin S.',\n",
       " 'Christie, Christopher J.',\n",
       " 'Clinton, Hillary Rodham',\n",
       " \"Cruz, Rafael Edward 'Ted'\",\n",
       " 'Fiorina, Carly',\n",
       " 'Graham, Lindsey O.',\n",
       " 'Huckabee, Mike',\n",
       " 'Jindal, Bobby',\n",
       " 'Kasich, John R.',\n",
       " 'Lessig, Lawrence',\n",
       " \"O'Malley, Martin Joseph\",\n",
       " 'Pataki, George E.',\n",
       " 'Paul, Rand',\n",
       " 'Perry, James R. (Rick)',\n",
       " 'Rubio, Marco',\n",
       " 'Sanders, Bernard',\n",
       " 'Santorum, Richard J.',\n",
       " 'Stein, Jill',\n",
       " 'Trump, Donald J.',\n",
       " 'Walker, Scott',\n",
       " 'Webb, James Henry Jr.']"
      ]
     },
     "execution_count": 7,
     "metadata": {},
     "output_type": "execute_result"
    }
   ],
   "source": [
    "can_nm"
   ]
  },
  {
   "cell_type": "code",
   "execution_count": 7,
   "metadata": {
    "collapsed": true
   },
   "outputs": [],
   "source": [
    "list_party = [0,0,0,1,0,0,0,0,0,0,1,1,0,0,0,0,1,0,0,0,1,1]"
   ]
  },
  {
   "cell_type": "code",
   "execution_count": 79,
   "metadata": {
    "collapsed": false
   },
   "outputs": [
    {
     "data": {
      "text/plain": [
       "22"
      ]
     },
     "execution_count": 79,
     "metadata": {},
     "output_type": "execute_result"
    }
   ],
   "source": [
    "len(list_party)"
   ]
  },
  {
   "cell_type": "code",
   "execution_count": 8,
   "metadata": {
    "collapsed": false
   },
   "outputs": [],
   "source": [
    "refereal = zip(can_nm, list_party)"
   ]
  },
  {
   "cell_type": "code",
   "execution_count": 9,
   "metadata": {
    "collapsed": false
   },
   "outputs": [],
   "source": [
    "refereal = dict(refereal)"
   ]
  },
  {
   "cell_type": "code",
   "execution_count": 10,
   "metadata": {
    "collapsed": false
   },
   "outputs": [],
   "source": [
    "cand_party = df.cand_nm.replace(refereal)"
   ]
  },
  {
   "cell_type": "code",
   "execution_count": 12,
   "metadata": {
    "collapsed": true
   },
   "outputs": [
    {
     "name": "stderr",
     "output_type": "stream",
     "text": [
      "C:\\Users\\Miya\\AppData\\Local\\Enthought\\Canopy\\User\\lib\\site-packages\\ipykernel\\__main__.py:1: SettingWithCopyWarning: \n",
      "A value is trying to be set on a copy of a slice from a DataFrame.\n",
      "Try using .loc[row_indexer,col_indexer] = value instead\n",
      "\n",
      "See the caveats in the documentation: http://pandas.pydata.org/pandas-docs/stable/indexing.html#indexing-view-versus-copy\n",
      "  if __name__ == '__main__':\n"
     ]
    }
   ],
   "source": [
    "df['cand_party']= cand_party"
   ]
  },
  {
   "cell_type": "code",
   "execution_count": 14,
   "metadata": {
    "collapsed": false
   },
   "outputs": [],
   "source": [
    "df2 = pd.DataFrame(df.groupby(['cand_party'])['contb_receipt_amt'].sum())"
   ]
  },
  {
   "cell_type": "code",
   "execution_count": 15,
   "metadata": {
    "collapsed": false
   },
   "outputs": [
    {
     "data": {
      "text/html": [
       "<div>\n",
       "<table border=\"1\" class=\"dataframe\">\n",
       "  <thead>\n",
       "    <tr style=\"text-align: right;\">\n",
       "      <th></th>\n",
       "      <th>contb_receipt_amt</th>\n",
       "    </tr>\n",
       "    <tr>\n",
       "      <th>cand_party</th>\n",
       "      <th></th>\n",
       "    </tr>\n",
       "  </thead>\n",
       "  <tbody>\n",
       "    <tr>\n",
       "      <th>0</th>\n",
       "      <td>1.561400e+08</td>\n",
       "    </tr>\n",
       "    <tr>\n",
       "      <th>1</th>\n",
       "      <td>1.421172e+08</td>\n",
       "    </tr>\n",
       "  </tbody>\n",
       "</table>\n",
       "</div>"
      ],
      "text/plain": [
       "            contb_receipt_amt\n",
       "cand_party                   \n",
       "0                1.561400e+08\n",
       "1                1.421172e+08"
      ]
     },
     "execution_count": 15,
     "metadata": {},
     "output_type": "execute_result"
    }
   ],
   "source": [
    "df2"
   ]
  },
  {
   "cell_type": "code",
   "execution_count": 27,
   "metadata": {
    "collapsed": false
   },
   "outputs": [
    {
     "data": {
      "text/plain": [
       "{u'name': u'table',\n",
       " u'values': [{u'col': u'contb_receipt_amt',\n",
       "   u'idx': 0,\n",
       "   u'val': 156140038.3699744},\n",
       "  {u'col': u'contb_receipt_amt', u'idx': 1, u'val': 142117240.3400018}]}"
      ]
     },
     "execution_count": 27,
     "metadata": {},
     "output_type": "execute_result"
    }
   ],
   "source": [
    "bar.data[0].grammar()"
   ]
  },
  {
   "cell_type": "code",
   "execution_count": 35,
   "metadata": {
    "collapsed": false
   },
   "outputs": [
    {
     "data": {
      "text/plain": [
       "{'contb_receipt_amt': {0: 156140038.3699744, 1: 142117240.34000179}}"
      ]
     },
     "execution_count": 35,
     "metadata": {},
     "output_type": "execute_result"
    }
   ],
   "source": [
    "farm1 = df2.to_dict()\n",
    "farm1"
   ]
  },
  {
   "cell_type": "code",
   "execution_count": 53,
   "metadata": {
    "collapsed": false
   },
   "outputs": [],
   "source": [
    "# farm1 = map(lambda x: x[1], farm1.items())\n",
    "farm1\n",
    "dict_new = {'republican':156140038.3699744,\n",
    "           'Democratic':142117240.34000179}"
   ]
  },
  {
   "cell_type": "code",
   "execution_count": 54,
   "metadata": {
    "collapsed": false
   },
   "outputs": [
    {
     "data": {
      "text/html": [
       "\n",
       "           <script>\n",
       "               \n",
       "                function vct_load_lib(url, callback){\n",
       "                      if(typeof d3 !== 'undefined' &&\n",
       "                         url === 'http://d3js.org/d3.v3.min.js'){\n",
       "                        callback()\n",
       "                      }\n",
       "                      var s = document.createElement('script');\n",
       "                      s.src = url;\n",
       "                      s.async = true;\n",
       "                      s.onreadystatechange = s.onload = callback;\n",
       "                      s.onerror = function(){\n",
       "                        console.warn(\"failed to load library \" + url);\n",
       "                        };\n",
       "                      document.getElementsByTagName(\"head\")[0].appendChild(s);\n",
       "                };\n",
       "                var vincent_event = new CustomEvent(\n",
       "                  \"vincent_libs_loaded\",\n",
       "                  {bubbles: true, cancelable: true}\n",
       "                );\n",
       "                \n",
       "               function load_all_libs(){\n",
       "                  console.log('Loading Vincent libs...')\n",
       "                  vct_load_lib('http://d3js.org/d3.v3.min.js', function(){\n",
       "                  vct_load_lib('http://d3js.org/d3.geo.projection.v0.min.js', function(){\n",
       "                  vct_load_lib('http://wrobstory.github.io/d3-cloud/d3.layout.cloud.js', function(){\n",
       "                  vct_load_lib('http://wrobstory.github.io/vega/vega.v1.3.3.js', function(){\n",
       "                  window.dispatchEvent(vincent_event);\n",
       "                  });\n",
       "                  });\n",
       "                  });\n",
       "                  });\n",
       "               };\n",
       "               if(typeof define === \"function\" && define.amd){\n",
       "                    if (window['d3'] === undefined ||\n",
       "                        window['topojson'] === undefined){\n",
       "                        require.config(\n",
       "                            {paths: {\n",
       "                              d3: 'http://d3js.org/d3.v3.min',\n",
       "                              topojson: 'http://d3js.org/topojson.v1.min'\n",
       "                              }\n",
       "                            }\n",
       "                          );\n",
       "                        require([\"d3\"], function(d3){\n",
       "                            console.log('Loading Vincent from require.js...')\n",
       "                            window.d3 = d3;\n",
       "                            require([\"topojson\"], function(topojson){\n",
       "                                window.topojson = topojson;\n",
       "                                load_all_libs();\n",
       "                            });\n",
       "                        });\n",
       "                    } else {\n",
       "                        load_all_libs();\n",
       "                    };\n",
       "               }else{\n",
       "                    console.log('Require.js not found, loading manually...')\n",
       "                    load_all_libs();\n",
       "               };\n",
       "\n",
       "           </script>"
      ],
      "text/plain": [
       "<IPython.core.display.HTML object>"
      ]
     },
     "metadata": {},
     "output_type": "display_data"
    },
    {
     "data": {
      "text/html": [
       "<div id=\"vis52a251f829e24c53b8e3846876ba988c\"></div>\n",
       "<script>\n",
       "   ( function() {\n",
       "     var _do_plot = function() {\n",
       "       if (typeof vg === 'undefined') {\n",
       "         window.addEventListener('vincent_libs_loaded', _do_plot)\n",
       "         return;\n",
       "       }\n",
       "       vg.parse.spec({\"axes\": [], \"data\": [{\"name\": \"table\", \"values\": [{\"col\": \"data\", \"idx\": \"Democratic\", \"val\": 142117240.3400018}, {\"col\": \"data\", \"idx\": \"republican\", \"val\": 156140038.3699744}]}], \"height\": 500, \"legends\": [{\"fill\": \"color\", \"offset\": 0, \"properties\": {}, \"title\": \"Different Party Contributions\"}], \"marks\": [{\"from\": {\"data\": \"table\", \"transform\": [{\"type\": \"pie\", \"value\": \"data.val\"}]}, \"properties\": {\"enter\": {\"endAngle\": {\"field\": \"endAngle\"}, \"fill\": {\"field\": \"data.idx\", \"scale\": \"color\"}, \"innerRadius\": {\"value\": 0}, \"outerRadius\": {\"value\": 250}, \"startAngle\": {\"field\": \"startAngle\"}, \"stroke\": {\"value\": \"white\"}, \"x\": {\"group\": \"width\", \"mult\": 0.5}, \"y\": {\"group\": \"height\", \"mult\": 0.5}}}, \"type\": \"arc\"}], \"scales\": [{\"domain\": {\"data\": \"table\", \"field\": \"data.idx\"}, \"name\": \"color\", \"range\": \"category10\", \"type\": \"ordinal\"}], \"width\": 960}, function(chart) {\n",
       "         chart({el: \"#vis52a251f829e24c53b8e3846876ba988c\"}).update();\n",
       "       });\n",
       "     };\n",
       "     _do_plot();\n",
       "   })();\n",
       "</script>\n",
       "<style>.vega canvas {width: 100%;}</style>\n",
       "        "
      ],
      "text/plain": [
       "<IPython.core.display.HTML object>"
      ]
     },
     "metadata": {},
     "output_type": "display_data"
    }
   ],
   "source": [
    "from vincent import *\n",
    "vis = Visualization(width=960,height = 500)\n",
    "vincent.core.initialize_notebook()\n",
    "outer_radius = min(vis.width, vis.height)/2 \n",
    "inner_radius = 0 \n",
    "data = Data.from_iter(dict_new) \n",
    "vis.data['table'] = data \n",
    "Pie = vincent.Pie(df2)\n",
    "vis.scales[\"color\"] = Scale(name=\"color\", type=\"ordinal\", range=\"category10\",domain=DataRef(data=\"table\", field=\"data.idx\")) \n",
    "transform = MarkRef(data=\"table\", transform=[Transform(type=\"pie\", value=\"data.val\")])\n",
    "enter_props = PropertySet(\n",
    "    x=ValueRef(group=\"width\", mult=0.5),\n",
    "    y=ValueRef(group=\"height\", mult=0.5),\n",
    "    start_angle=ValueRef(field=\"startAngle\"), \n",
    "    end_angle=ValueRef(field=\"endAngle\"),\n",
    "    inner_radius=ValueRef(value=inner_radius),\n",
    "    outer_radius=ValueRef(value=outer_radius), \n",
    "    stroke=ValueRef(value=\"white\"), \n",
    "    fill=ValueRef(scale=\"color\", field=\"data.idx\")) \n",
    "\n",
    "mark = Mark(type=\"arc\", from_=transform,\n",
    "            properties=MarkProperties(enter=enter_props)) \n",
    "\n",
    " \n",
    "vis.marks.append(mark) \n",
    "vis.legend('Different Party Contributions') \n",
    " \n",
    "vis.to_json('vega.json')\n",
    "vis.display()"
   ]
  },
  {
   "cell_type": "code",
   "execution_count": 68,
   "metadata": {
    "collapsed": false
   },
   "outputs": [
    {
     "data": {
      "text/html": [
       "<div id=\"vis40cfdbc981cd485d8ea33afd315c2b2a\"></div>\n",
       "<script>\n",
       "   ( function() {\n",
       "     var _do_plot = function() {\n",
       "       if (typeof vg === 'undefined') {\n",
       "         window.addEventListener('vincent_libs_loaded', _do_plot)\n",
       "         return;\n",
       "       }\n",
       "       vg.parse.spec({\"axes\": [{\"scale\": \"x\", \"type\": \"x\"}, {\"scale\": \"y\", \"type\": \"y\"}], \"data\": [{\"name\": \"table\", \"values\": [{\"col\": \"data\", \"idx\": \"Democratic\", \"val\": 142117240.3400018}, {\"col\": \"data\", \"idx\": \"republican\", \"val\": 156140038.3699744}]}, {\"name\": \"stats\", \"source\": \"table\", \"transform\": [{\"keys\": [\"data.idx\"], \"type\": \"facet\"}, {\"type\": \"stats\", \"value\": \"data.val\"}]}], \"height\": 500, \"legends\": [], \"marks\": [{\"from\": {\"data\": \"table\", \"transform\": [{\"keys\": [\"data.col\"], \"type\": \"facet\"}, {\"height\": \"data.val\", \"point\": \"data.idx\", \"type\": \"stack\"}]}, \"marks\": [{\"properties\": {\"enter\": {\"fill\": {\"field\": \"data.col\", \"scale\": \"color\"}, \"width\": {\"band\": true, \"offset\": -1, \"scale\": \"x\"}, \"x\": {\"field\": \"data.idx\", \"scale\": \"x\"}, \"y\": {\"field\": \"y\", \"scale\": \"y\"}, \"y2\": {\"field\": \"y2\", \"scale\": \"y\"}}}, \"type\": \"rect\"}], \"type\": \"group\"}], \"padding\": \"auto\", \"scales\": [{\"domain\": {\"data\": \"table\", \"field\": \"data.idx\"}, \"name\": \"x\", \"range\": \"width\", \"type\": \"ordinal\", \"zero\": false}, {\"domain\": {\"data\": \"stats\", \"field\": \"sum\"}, \"name\": \"y\", \"nice\": true, \"range\": \"height\"}, {\"domain\": {\"data\": \"table\", \"field\": \"data.col\"}, \"name\": \"color\", \"range\": [\"#8dd3c7\", \"#ffffb3\", \"#bebada\", \"#fb8072\", \"#80b1d3\", \"#fdb462\", \"#b3de69\", \"#fccde5\", \"#d9d9d9\", \"#bc80bd\", \"#ccebc5\", \"#ffed6f\"], \"type\": \"ordinal\"}], \"width\": 960}, function(chart) {\n",
       "         chart({el: \"#vis40cfdbc981cd485d8ea33afd315c2b2a\"}).update();\n",
       "       });\n",
       "     };\n",
       "     _do_plot();\n",
       "   })();\n",
       "</script>\n",
       "<style>.vega canvas {width: 100%;}</style>\n",
       "        "
      ],
      "text/plain": [
       "<IPython.core.display.HTML object>"
      ]
     },
     "metadata": {},
     "output_type": "display_data"
    }
   ],
   "source": [
    "bar = vincent.Bar(dict_new)\n",
    "bar.colors(brew = 'Set3')\n",
    "bar.display()"
   ]
  },
  {
   "cell_type": "code",
   "execution_count": 44,
   "metadata": {
    "collapsed": false
   },
   "outputs": [
    {
     "data": {
      "text/plain": [
       "22"
      ]
     },
     "execution_count": 44,
     "metadata": {},
     "output_type": "execute_result"
    }
   ],
   "source": [
    "len(df2)"
   ]
  },
  {
   "cell_type": "code",
   "execution_count": 69,
   "metadata": {
    "collapsed": false
   },
   "outputs": [
    {
     "data": {
      "text/plain": [
       "28562"
      ]
     },
     "execution_count": 69,
     "metadata": {},
     "output_type": "execute_result"
    }
   ],
   "source": [
    "import random\n",
    "rows = random.sample(df.index, 500000)\n",
    "df_500000 = df.ix[rows]\n",
    "len(set(df_500000.contbr_occupation))"
   ]
  },
  {
   "cell_type": "code",
   "execution_count": 71,
   "metadata": {
    "collapsed": false
   },
   "outputs": [
    {
     "data": {
      "text/plain": [
       "Index([u'cand_nm', u'contbr_st', u'contbr_zip', u'contbr_occupation',\n",
       "       u'contb_receipt_amt', u'cand_party'],\n",
       "      dtype='object')"
      ]
     },
     "execution_count": 71,
     "metadata": {},
     "output_type": "execute_result"
    }
   ],
   "source": [
    "df_500000.columns"
   ]
  },
  {
   "cell_type": "code",
   "execution_count": 13,
   "metadata": {
    "collapsed": true
   },
   "outputs": [
    {
     "data": {
      "text/html": [
       "<div>\n",
       "<table border=\"1\" class=\"dataframe\">\n",
       "  <thead>\n",
       "    <tr style=\"text-align: right;\">\n",
       "      <th></th>\n",
       "      <th></th>\n",
       "      <th>contb_receipt_amt</th>\n",
       "    </tr>\n",
       "    <tr>\n",
       "      <th>cand_nm</th>\n",
       "      <th>contbr_st</th>\n",
       "      <th></th>\n",
       "    </tr>\n",
       "  </thead>\n",
       "  <tbody>\n",
       "    <tr>\n",
       "      <th rowspan=\"30\" valign=\"top\">Bush, Jeb</th>\n",
       "      <th>AE</th>\n",
       "      <td>750.00</td>\n",
       "    </tr>\n",
       "    <tr>\n",
       "      <th>AK</th>\n",
       "      <td>7489.00</td>\n",
       "    </tr>\n",
       "    <tr>\n",
       "      <th>AL</th>\n",
       "      <td>267964.00</td>\n",
       "    </tr>\n",
       "    <tr>\n",
       "      <th>AP</th>\n",
       "      <td>1080.00</td>\n",
       "    </tr>\n",
       "    <tr>\n",
       "      <th>AR</th>\n",
       "      <td>175536.00</td>\n",
       "    </tr>\n",
       "    <tr>\n",
       "      <th>AZ</th>\n",
       "      <td>330705.00</td>\n",
       "    </tr>\n",
       "    <tr>\n",
       "      <th>CA</th>\n",
       "      <td>3333245.23</td>\n",
       "    </tr>\n",
       "    <tr>\n",
       "      <th>CO</th>\n",
       "      <td>279537.00</td>\n",
       "    </tr>\n",
       "    <tr>\n",
       "      <th>CT</th>\n",
       "      <td>1090772.00</td>\n",
       "    </tr>\n",
       "    <tr>\n",
       "      <th>DC</th>\n",
       "      <td>779365.80</td>\n",
       "    </tr>\n",
       "    <tr>\n",
       "      <th>DE</th>\n",
       "      <td>20550.00</td>\n",
       "    </tr>\n",
       "    <tr>\n",
       "      <th>FF</th>\n",
       "      <td>108520.00</td>\n",
       "    </tr>\n",
       "    <tr>\n",
       "      <th>FL</th>\n",
       "      <td>6568181.43</td>\n",
       "    </tr>\n",
       "    <tr>\n",
       "      <th>GA</th>\n",
       "      <td>791795.00</td>\n",
       "    </tr>\n",
       "    <tr>\n",
       "      <th>GU</th>\n",
       "      <td>2700.00</td>\n",
       "    </tr>\n",
       "    <tr>\n",
       "      <th>HI</th>\n",
       "      <td>6650.00</td>\n",
       "    </tr>\n",
       "    <tr>\n",
       "      <th>IA</th>\n",
       "      <td>71108.00</td>\n",
       "    </tr>\n",
       "    <tr>\n",
       "      <th>ID</th>\n",
       "      <td>29435.00</td>\n",
       "    </tr>\n",
       "    <tr>\n",
       "      <th>IL</th>\n",
       "      <td>641265.00</td>\n",
       "    </tr>\n",
       "    <tr>\n",
       "      <th>IN</th>\n",
       "      <td>376326.55</td>\n",
       "    </tr>\n",
       "    <tr>\n",
       "      <th>KS</th>\n",
       "      <td>68313.00</td>\n",
       "    </tr>\n",
       "    <tr>\n",
       "      <th>KY</th>\n",
       "      <td>66425.00</td>\n",
       "    </tr>\n",
       "    <tr>\n",
       "      <th>LA</th>\n",
       "      <td>415536.50</td>\n",
       "    </tr>\n",
       "    <tr>\n",
       "      <th>MA</th>\n",
       "      <td>395432.00</td>\n",
       "    </tr>\n",
       "    <tr>\n",
       "      <th>MD</th>\n",
       "      <td>461785.40</td>\n",
       "    </tr>\n",
       "    <tr>\n",
       "      <th>ME</th>\n",
       "      <td>134270.00</td>\n",
       "    </tr>\n",
       "    <tr>\n",
       "      <th>MI</th>\n",
       "      <td>998092.50</td>\n",
       "    </tr>\n",
       "    <tr>\n",
       "      <th>MN</th>\n",
       "      <td>218597.00</td>\n",
       "    </tr>\n",
       "    <tr>\n",
       "      <th>MO</th>\n",
       "      <td>292837.00</td>\n",
       "    </tr>\n",
       "    <tr>\n",
       "      <th>MS</th>\n",
       "      <td>198916.30</td>\n",
       "    </tr>\n",
       "    <tr>\n",
       "      <th>...</th>\n",
       "      <th>...</th>\n",
       "      <td>...</td>\n",
       "    </tr>\n",
       "    <tr>\n",
       "      <th rowspan=\"30\" valign=\"top\">Webb, James Henry Jr.</th>\n",
       "      <th>LA</th>\n",
       "      <td>200.00</td>\n",
       "    </tr>\n",
       "    <tr>\n",
       "      <th>MA</th>\n",
       "      <td>12100.09</td>\n",
       "    </tr>\n",
       "    <tr>\n",
       "      <th>MD</th>\n",
       "      <td>15050.00</td>\n",
       "    </tr>\n",
       "    <tr>\n",
       "      <th>ME</th>\n",
       "      <td>2200.00</td>\n",
       "    </tr>\n",
       "    <tr>\n",
       "      <th>MI</th>\n",
       "      <td>4800.00</td>\n",
       "    </tr>\n",
       "    <tr>\n",
       "      <th>MN</th>\n",
       "      <td>3350.00</td>\n",
       "    </tr>\n",
       "    <tr>\n",
       "      <th>MO</th>\n",
       "      <td>5850.00</td>\n",
       "    </tr>\n",
       "    <tr>\n",
       "      <th>MT</th>\n",
       "      <td>500.00</td>\n",
       "    </tr>\n",
       "    <tr>\n",
       "      <th>NC</th>\n",
       "      <td>13650.00</td>\n",
       "    </tr>\n",
       "    <tr>\n",
       "      <th>NH</th>\n",
       "      <td>3600.00</td>\n",
       "    </tr>\n",
       "    <tr>\n",
       "      <th>NJ</th>\n",
       "      <td>6120.00</td>\n",
       "    </tr>\n",
       "    <tr>\n",
       "      <th>NM</th>\n",
       "      <td>1500.00</td>\n",
       "    </tr>\n",
       "    <tr>\n",
       "      <th>NV</th>\n",
       "      <td>4000.00</td>\n",
       "    </tr>\n",
       "    <tr>\n",
       "      <th>NY</th>\n",
       "      <td>34600.00</td>\n",
       "    </tr>\n",
       "    <tr>\n",
       "      <th>OH</th>\n",
       "      <td>2600.00</td>\n",
       "    </tr>\n",
       "    <tr>\n",
       "      <th>OK</th>\n",
       "      <td>1100.00</td>\n",
       "    </tr>\n",
       "    <tr>\n",
       "      <th>OR</th>\n",
       "      <td>16825.00</td>\n",
       "    </tr>\n",
       "    <tr>\n",
       "      <th>PA</th>\n",
       "      <td>4900.00</td>\n",
       "    </tr>\n",
       "    <tr>\n",
       "      <th>RI</th>\n",
       "      <td>950.00</td>\n",
       "    </tr>\n",
       "    <tr>\n",
       "      <th>SC</th>\n",
       "      <td>2000.00</td>\n",
       "    </tr>\n",
       "    <tr>\n",
       "      <th>SD</th>\n",
       "      <td>300.00</td>\n",
       "    </tr>\n",
       "    <tr>\n",
       "      <th>SI</th>\n",
       "      <td>1000.00</td>\n",
       "    </tr>\n",
       "    <tr>\n",
       "      <th>TN</th>\n",
       "      <td>3600.00</td>\n",
       "    </tr>\n",
       "    <tr>\n",
       "      <th>TX</th>\n",
       "      <td>30565.16</td>\n",
       "    </tr>\n",
       "    <tr>\n",
       "      <th>VA</th>\n",
       "      <td>91080.00</td>\n",
       "    </tr>\n",
       "    <tr>\n",
       "      <th>VT</th>\n",
       "      <td>250.00</td>\n",
       "    </tr>\n",
       "    <tr>\n",
       "      <th>WA</th>\n",
       "      <td>14600.00</td>\n",
       "    </tr>\n",
       "    <tr>\n",
       "      <th>WI</th>\n",
       "      <td>1300.00</td>\n",
       "    </tr>\n",
       "    <tr>\n",
       "      <th>WV</th>\n",
       "      <td>2000.00</td>\n",
       "    </tr>\n",
       "    <tr>\n",
       "      <th>WY</th>\n",
       "      <td>3550.00</td>\n",
       "    </tr>\n",
       "  </tbody>\n",
       "</table>\n",
       "<p>1145 rows × 1 columns</p>\n",
       "</div>"
      ],
      "text/plain": [
       "                                 contb_receipt_amt\n",
       "cand_nm               contbr_st                   \n",
       "Bush, Jeb             AE                    750.00\n",
       "                      AK                   7489.00\n",
       "                      AL                 267964.00\n",
       "                      AP                   1080.00\n",
       "                      AR                 175536.00\n",
       "                      AZ                 330705.00\n",
       "                      CA                3333245.23\n",
       "                      CO                 279537.00\n",
       "                      CT                1090772.00\n",
       "                      DC                 779365.80\n",
       "                      DE                  20550.00\n",
       "                      FF                 108520.00\n",
       "                      FL                6568181.43\n",
       "                      GA                 791795.00\n",
       "                      GU                   2700.00\n",
       "                      HI                   6650.00\n",
       "                      IA                  71108.00\n",
       "                      ID                  29435.00\n",
       "                      IL                 641265.00\n",
       "                      IN                 376326.55\n",
       "                      KS                  68313.00\n",
       "                      KY                  66425.00\n",
       "                      LA                 415536.50\n",
       "                      MA                 395432.00\n",
       "                      MD                 461785.40\n",
       "                      ME                 134270.00\n",
       "                      MI                 998092.50\n",
       "                      MN                 218597.00\n",
       "                      MO                 292837.00\n",
       "                      MS                 198916.30\n",
       "...                                            ...\n",
       "Webb, James Henry Jr. LA                    200.00\n",
       "                      MA                  12100.09\n",
       "                      MD                  15050.00\n",
       "                      ME                   2200.00\n",
       "                      MI                   4800.00\n",
       "                      MN                   3350.00\n",
       "                      MO                   5850.00\n",
       "                      MT                    500.00\n",
       "                      NC                  13650.00\n",
       "                      NH                   3600.00\n",
       "                      NJ                   6120.00\n",
       "                      NM                   1500.00\n",
       "                      NV                   4000.00\n",
       "                      NY                  34600.00\n",
       "                      OH                   2600.00\n",
       "                      OK                   1100.00\n",
       "                      OR                  16825.00\n",
       "                      PA                   4900.00\n",
       "                      RI                    950.00\n",
       "                      SC                   2000.00\n",
       "                      SD                    300.00\n",
       "                      SI                   1000.00\n",
       "                      TN                   3600.00\n",
       "                      TX                  30565.16\n",
       "                      VA                  91080.00\n",
       "                      VT                    250.00\n",
       "                      WA                  14600.00\n",
       "                      WI                   1300.00\n",
       "                      WV                   2000.00\n",
       "                      WY                   3550.00\n",
       "\n",
       "[1145 rows x 1 columns]"
      ]
     },
     "execution_count": 13,
     "metadata": {},
     "output_type": "execute_result"
    }
   ],
   "source": [
    "import matplotlib.pyplot as plt\n",
    "df2  = pd.DataFrame(df.groupby(['cand_nm','contbr_st'])['contb_receipt_amt'].sum())\n",
    "df2"
   ]
  },
  {
   "cell_type": "code",
   "execution_count": 16,
   "metadata": {
    "collapsed": true
   },
   "outputs": [],
   "source": [
    "import vincent"
   ]
  },
  {
   "cell_type": "code",
   "execution_count": 88,
   "metadata": {
    "collapsed": false
   },
   "outputs": [
    {
     "data": {
      "text/html": [
       "<div>\n",
       "<table border=\"1\" class=\"dataframe\">\n",
       "  <thead>\n",
       "    <tr style=\"text-align: right;\">\n",
       "      <th></th>\n",
       "      <th></th>\n",
       "      <th>contb_receipt_amt</th>\n",
       "    </tr>\n",
       "    <tr>\n",
       "      <th>cand_nm</th>\n",
       "      <th>contbr_st</th>\n",
       "      <th></th>\n",
       "    </tr>\n",
       "  </thead>\n",
       "  <tbody>\n",
       "    <tr>\n",
       "      <th rowspan=\"5\" valign=\"top\">Bush, Jeb</th>\n",
       "      <th>AE</th>\n",
       "      <td>750</td>\n",
       "    </tr>\n",
       "    <tr>\n",
       "      <th>AK</th>\n",
       "      <td>7489</td>\n",
       "    </tr>\n",
       "    <tr>\n",
       "      <th>AL</th>\n",
       "      <td>267964</td>\n",
       "    </tr>\n",
       "    <tr>\n",
       "      <th>AP</th>\n",
       "      <td>1080</td>\n",
       "    </tr>\n",
       "    <tr>\n",
       "      <th>AR</th>\n",
       "      <td>175536</td>\n",
       "    </tr>\n",
       "  </tbody>\n",
       "</table>\n",
       "</div>"
      ],
      "text/plain": [
       "                     contb_receipt_amt\n",
       "cand_nm   contbr_st                   \n",
       "Bush, Jeb AE                       750\n",
       "          AK                      7489\n",
       "          AL                    267964\n",
       "          AP                      1080\n",
       "          AR                    175536"
      ]
     },
     "execution_count": 88,
     "metadata": {},
     "output_type": "execute_result"
    }
   ],
   "source": [
    "df2.head()"
   ]
  },
  {
   "cell_type": "code",
   "execution_count": 14,
   "metadata": {
    "collapsed": false
   },
   "outputs": [],
   "source": [
    "df2_indexchanged = df2.reset_index(['cand_nm','contbr_st'])"
   ]
  },
  {
   "cell_type": "code",
   "execution_count": 17,
   "metadata": {
    "collapsed": false
   },
   "outputs": [
    {
     "data": {
      "text/html": [
       "<div id=\"vis28040791436d49c495e7910a40153229\"></div>\n",
       "<script>\n",
       "   ( function() {\n",
       "     var _do_plot = function() {\n",
       "       if (typeof vg === 'undefined') {\n",
       "         window.addEventListener('vincent_libs_loaded', _do_plot)\n",
       "         return;\n",
       "       }\n",
       "       vg.parse.spec({\"axes\": [{\"scale\": \"x\", \"type\": \"x\"}, {\"scale\": \"y\", \"type\": \"y\"}], \"data\": [{\"name\": \"table\", \"values\": [{\"col\": \"cand_nm\", \"idx\": 0, \"val\": \"Bush, Jeb\"}, {\"col\": \"contbr_st\", \"idx\": 0, \"val\": \"AE\"}, {\"col\": \"contb_receipt_amt\", \"idx\": 0, \"val\": 750.0}, {\"col\": \"cand_nm\", \"idx\": 1, \"val\": \"Bush, Jeb\"}, {\"col\": \"contbr_st\", \"idx\": 1, \"val\": \"AK\"}, {\"col\": \"contb_receipt_amt\", \"idx\": 1, \"val\": 7489.0}, {\"col\": \"cand_nm\", \"idx\": 2, \"val\": \"Bush, Jeb\"}, {\"col\": \"contbr_st\", \"idx\": 2, \"val\": \"AL\"}, {\"col\": \"contb_receipt_amt\", \"idx\": 2, \"val\": 267964.0}, {\"col\": \"cand_nm\", \"idx\": 3, \"val\": \"Bush, Jeb\"}, {\"col\": \"contbr_st\", \"idx\": 3, \"val\": \"AP\"}, {\"col\": \"contb_receipt_amt\", \"idx\": 3, \"val\": 1080.0}, {\"col\": \"cand_nm\", \"idx\": 4, \"val\": \"Bush, Jeb\"}, {\"col\": \"contbr_st\", \"idx\": 4, \"val\": \"AR\"}, {\"col\": \"contb_receipt_amt\", \"idx\": 4, \"val\": 175536.0}, {\"col\": \"cand_nm\", \"idx\": 5, \"val\": \"Bush, Jeb\"}, {\"col\": \"contbr_st\", \"idx\": 5, \"val\": \"AZ\"}, {\"col\": \"contb_receipt_amt\", \"idx\": 5, \"val\": 330705.0}, {\"col\": \"cand_nm\", \"idx\": 6, \"val\": \"Bush, Jeb\"}, {\"col\": \"contbr_st\", \"idx\": 6, \"val\": \"CA\"}, {\"col\": \"contb_receipt_amt\", \"idx\": 6, \"val\": 3333245.23}, {\"col\": \"cand_nm\", \"idx\": 7, \"val\": \"Bush, Jeb\"}, {\"col\": \"contbr_st\", \"idx\": 7, \"val\": \"CO\"}, {\"col\": \"contb_receipt_amt\", \"idx\": 7, \"val\": 279537.0}, {\"col\": \"cand_nm\", \"idx\": 8, \"val\": \"Bush, Jeb\"}, {\"col\": \"contbr_st\", \"idx\": 8, \"val\": \"CT\"}, {\"col\": \"contb_receipt_amt\", \"idx\": 8, \"val\": 1090772.0}, {\"col\": \"cand_nm\", \"idx\": 9, \"val\": \"Bush, Jeb\"}, {\"col\": \"contbr_st\", \"idx\": 9, \"val\": \"DC\"}, {\"col\": \"contb_receipt_amt\", \"idx\": 9, \"val\": 779365.8}, {\"col\": \"cand_nm\", \"idx\": 10, \"val\": \"Bush, Jeb\"}, {\"col\": \"contbr_st\", \"idx\": 10, \"val\": \"DE\"}, {\"col\": \"contb_receipt_amt\", \"idx\": 10, \"val\": 20550.0}, {\"col\": \"cand_nm\", \"idx\": 11, \"val\": \"Bush, Jeb\"}, {\"col\": \"contbr_st\", \"idx\": 11, \"val\": \"FF\"}, {\"col\": \"contb_receipt_amt\", \"idx\": 11, \"val\": 108520.0}, {\"col\": \"cand_nm\", \"idx\": 12, \"val\": \"Bush, Jeb\"}, {\"col\": \"contbr_st\", \"idx\": 12, \"val\": \"FL\"}, {\"col\": \"contb_receipt_amt\", \"idx\": 12, \"val\": 6568181.43}, {\"col\": \"cand_nm\", \"idx\": 13, \"val\": \"Bush, Jeb\"}, {\"col\": \"contbr_st\", \"idx\": 13, \"val\": \"GA\"}, {\"col\": \"contb_receipt_amt\", \"idx\": 13, \"val\": 791795.0}, {\"col\": \"cand_nm\", \"idx\": 14, \"val\": \"Bush, Jeb\"}, {\"col\": \"contbr_st\", \"idx\": 14, \"val\": \"GU\"}, {\"col\": \"contb_receipt_amt\", \"idx\": 14, \"val\": 2700.0}, {\"col\": \"cand_nm\", \"idx\": 15, \"val\": \"Bush, Jeb\"}, {\"col\": \"contbr_st\", \"idx\": 15, \"val\": \"HI\"}, {\"col\": \"contb_receipt_amt\", \"idx\": 15, \"val\": 6650.0}, {\"col\": \"cand_nm\", \"idx\": 16, \"val\": \"Bush, Jeb\"}, {\"col\": \"contbr_st\", \"idx\": 16, \"val\": \"IA\"}, {\"col\": \"contb_receipt_amt\", \"idx\": 16, \"val\": 71108.0}, {\"col\": \"cand_nm\", \"idx\": 17, \"val\": \"Bush, Jeb\"}, {\"col\": \"contbr_st\", \"idx\": 17, \"val\": \"ID\"}, {\"col\": \"contb_receipt_amt\", \"idx\": 17, \"val\": 29435.0}, {\"col\": \"cand_nm\", \"idx\": 18, \"val\": \"Bush, Jeb\"}, {\"col\": \"contbr_st\", \"idx\": 18, \"val\": \"IL\"}, {\"col\": \"contb_receipt_amt\", \"idx\": 18, \"val\": 641265.0}, {\"col\": \"cand_nm\", \"idx\": 19, \"val\": \"Bush, Jeb\"}, {\"col\": \"contbr_st\", \"idx\": 19, \"val\": \"IN\"}, {\"col\": \"contb_receipt_amt\", \"idx\": 19, \"val\": 376326.55}, {\"col\": \"cand_nm\", \"idx\": 20, \"val\": \"Bush, Jeb\"}, {\"col\": \"contbr_st\", \"idx\": 20, \"val\": \"KS\"}, {\"col\": \"contb_receipt_amt\", \"idx\": 20, \"val\": 68313.0}, {\"col\": \"cand_nm\", \"idx\": 21, \"val\": \"Bush, Jeb\"}, {\"col\": \"contbr_st\", \"idx\": 21, \"val\": \"KY\"}, {\"col\": \"contb_receipt_amt\", \"idx\": 21, \"val\": 66425.0}, {\"col\": \"cand_nm\", \"idx\": 22, \"val\": \"Bush, Jeb\"}, {\"col\": \"contbr_st\", \"idx\": 22, \"val\": \"LA\"}, {\"col\": \"contb_receipt_amt\", \"idx\": 22, \"val\": 415536.5}, {\"col\": \"cand_nm\", \"idx\": 23, \"val\": \"Bush, Jeb\"}, {\"col\": \"contbr_st\", \"idx\": 23, \"val\": \"MA\"}, {\"col\": \"contb_receipt_amt\", \"idx\": 23, \"val\": 395432.0}, {\"col\": \"cand_nm\", \"idx\": 24, \"val\": \"Bush, Jeb\"}, {\"col\": \"contbr_st\", \"idx\": 24, \"val\": \"MD\"}, {\"col\": \"contb_receipt_amt\", \"idx\": 24, \"val\": 461785.4}, {\"col\": \"cand_nm\", \"idx\": 25, \"val\": \"Bush, Jeb\"}, {\"col\": \"contbr_st\", \"idx\": 25, \"val\": \"ME\"}, {\"col\": \"contb_receipt_amt\", \"idx\": 25, \"val\": 134270.0}, {\"col\": \"cand_nm\", \"idx\": 26, \"val\": \"Bush, Jeb\"}, {\"col\": \"contbr_st\", \"idx\": 26, \"val\": \"MI\"}, {\"col\": \"contb_receipt_amt\", \"idx\": 26, \"val\": 998092.5}, {\"col\": \"cand_nm\", \"idx\": 27, \"val\": \"Bush, Jeb\"}, {\"col\": \"contbr_st\", \"idx\": 27, \"val\": \"MN\"}, {\"col\": \"contb_receipt_amt\", \"idx\": 27, \"val\": 218597.0}, {\"col\": \"cand_nm\", \"idx\": 28, \"val\": \"Bush, Jeb\"}, {\"col\": \"contbr_st\", \"idx\": 28, \"val\": \"MO\"}, {\"col\": \"contb_receipt_amt\", \"idx\": 28, \"val\": 292837.0}, {\"col\": \"cand_nm\", \"idx\": 29, \"val\": \"Bush, Jeb\"}, {\"col\": \"contbr_st\", \"idx\": 29, \"val\": \"MS\"}, {\"col\": \"contb_receipt_amt\", \"idx\": 29, \"val\": 198916.3}, {\"col\": \"cand_nm\", \"idx\": 30, \"val\": \"Bush, Jeb\"}, {\"col\": \"contbr_st\", \"idx\": 30, \"val\": \"MT\"}, {\"col\": \"contb_receipt_amt\", \"idx\": 30, \"val\": 33175.0}, {\"col\": \"cand_nm\", \"idx\": 31, \"val\": \"Bush, Jeb\"}, {\"col\": \"contbr_st\", \"idx\": 31, \"val\": \"NC\"}, {\"col\": \"contb_receipt_amt\", \"idx\": 31, \"val\": 464600.44999999995}, {\"col\": \"cand_nm\", \"idx\": 32, \"val\": \"Bush, Jeb\"}, {\"col\": \"contbr_st\", \"idx\": 32, \"val\": \"ND\"}, {\"col\": \"contb_receipt_amt\", \"idx\": 32, \"val\": 10350.0}, {\"col\": \"cand_nm\", \"idx\": 33, \"val\": \"Bush, Jeb\"}, {\"col\": \"contbr_st\", \"idx\": 33, \"val\": \"NE\"}, {\"col\": \"contb_receipt_amt\", \"idx\": 33, \"val\": 36346.31}, {\"col\": \"cand_nm\", \"idx\": 34, \"val\": \"Bush, Jeb\"}, {\"col\": \"contbr_st\", \"idx\": 34, \"val\": \"NH\"}, {\"col\": \"contb_receipt_amt\", \"idx\": 34, \"val\": 82955.0}, {\"col\": \"cand_nm\", \"idx\": 35, \"val\": \"Bush, Jeb\"}, {\"col\": \"contbr_st\", \"idx\": 35, \"val\": \"NJ\"}, {\"col\": \"contb_receipt_amt\", \"idx\": 35, \"val\": 970860.0}, {\"col\": \"cand_nm\", \"idx\": 36, \"val\": \"Bush, Jeb\"}, {\"col\": \"contbr_st\", \"idx\": 36, \"val\": \"NM\"}, {\"col\": \"contb_receipt_amt\", \"idx\": 36, \"val\": 23061.0}, {\"col\": \"cand_nm\", \"idx\": 37, \"val\": \"Bush, Jeb\"}, {\"col\": \"contbr_st\", \"idx\": 37, \"val\": \"NV\"}, {\"col\": \"contb_receipt_amt\", \"idx\": 37, \"val\": 258230.0}, {\"col\": \"cand_nm\", \"idx\": 38, \"val\": \"Bush, Jeb\"}, {\"col\": \"contbr_st\", \"idx\": 38, \"val\": \"NY\"}, {\"col\": \"contb_receipt_amt\", \"idx\": 38, \"val\": 3605539.31}, {\"col\": \"cand_nm\", \"idx\": 39, \"val\": \"Bush, Jeb\"}, {\"col\": \"contbr_st\", \"idx\": 39, \"val\": \"OH\"}, {\"col\": \"contb_receipt_amt\", \"idx\": 39, \"val\": 237800.0}, {\"col\": \"cand_nm\", \"idx\": 40, \"val\": \"Bush, Jeb\"}, {\"col\": \"contbr_st\", \"idx\": 40, \"val\": \"OK\"}, {\"col\": \"contb_receipt_amt\", \"idx\": 40, \"val\": 207994.0}, {\"col\": \"cand_nm\", \"idx\": 41, \"val\": \"Bush, Jeb\"}, {\"col\": \"contbr_st\", \"idx\": 41, \"val\": \"OR\"}, {\"col\": \"contb_receipt_amt\", \"idx\": 41, \"val\": 190675.0}, {\"col\": \"cand_nm\", \"idx\": 42, \"val\": \"Bush, Jeb\"}, {\"col\": \"contbr_st\", \"idx\": 42, \"val\": \"PA\"}, {\"col\": \"contb_receipt_amt\", \"idx\": 42, \"val\": 453131.0}, {\"col\": \"cand_nm\", \"idx\": 43, \"val\": \"Bush, Jeb\"}, {\"col\": \"contbr_st\", \"idx\": 43, \"val\": \"PR\"}, {\"col\": \"contb_receipt_amt\", \"idx\": 43, \"val\": 86690.0}, {\"col\": \"cand_nm\", \"idx\": 44, \"val\": \"Bush, Jeb\"}, {\"col\": \"contbr_st\", \"idx\": 44, \"val\": \"RI\"}, {\"col\": \"contb_receipt_amt\", \"idx\": 44, \"val\": 58500.0}, {\"col\": \"cand_nm\", \"idx\": 45, \"val\": \"Bush, Jeb\"}, {\"col\": \"contbr_st\", \"idx\": 45, \"val\": \"SC\"}, {\"col\": \"contb_receipt_amt\", \"idx\": 45, \"val\": 234529.08000000002}, {\"col\": \"cand_nm\", \"idx\": 46, \"val\": \"Bush, Jeb\"}, {\"col\": \"contbr_st\", \"idx\": 46, \"val\": \"SD\"}, {\"col\": \"contb_receipt_amt\", \"idx\": 46, \"val\": 6593.21}, {\"col\": \"cand_nm\", \"idx\": 47, \"val\": \"Bush, Jeb\"}, {\"col\": \"contbr_st\", \"idx\": 47, \"val\": \"TN\"}, {\"col\": \"contb_receipt_amt\", \"idx\": 47, \"val\": 764464.6}, {\"col\": \"cand_nm\", \"idx\": 48, \"val\": \"Bush, Jeb\"}, {\"col\": \"contbr_st\", \"idx\": 48, \"val\": \"TX\"}, {\"col\": \"contb_receipt_amt\", \"idx\": 48, \"val\": 3716322.34}, {\"col\": \"cand_nm\", \"idx\": 49, \"val\": \"Bush, Jeb\"}, {\"col\": \"contbr_st\", \"idx\": 49, \"val\": \"UT\"}, {\"col\": \"contb_receipt_amt\", \"idx\": 49, \"val\": 201702.32999999996}, {\"col\": \"cand_nm\", \"idx\": 50, \"val\": \"Bush, Jeb\"}, {\"col\": \"contbr_st\", \"idx\": 50, \"val\": \"VA\"}, {\"col\": \"contb_receipt_amt\", \"idx\": 50, \"val\": 1364804.3800000001}, {\"col\": \"cand_nm\", \"idx\": 51, \"val\": \"Bush, Jeb\"}, {\"col\": \"contbr_st\", \"idx\": 51, \"val\": \"VI\"}, {\"col\": \"contb_receipt_amt\", \"idx\": 51, \"val\": 1000.0}, {\"col\": \"cand_nm\", \"idx\": 52, \"val\": \"Bush, Jeb\"}, {\"col\": \"contbr_st\", \"idx\": 52, \"val\": \"VT\"}, {\"col\": \"contb_receipt_amt\", \"idx\": 52, \"val\": 10250.0}, {\"col\": \"cand_nm\", \"idx\": 53, \"val\": \"Bush, Jeb\"}, {\"col\": \"contbr_st\", \"idx\": 53, \"val\": \"WA\"}, {\"col\": \"contb_receipt_amt\", \"idx\": 53, \"val\": 253035.0}, {\"col\": \"cand_nm\", \"idx\": 54, \"val\": \"Bush, Jeb\"}, {\"col\": \"contbr_st\", \"idx\": 54, \"val\": \"WI\"}, {\"col\": \"contb_receipt_amt\", \"idx\": 54, \"val\": 134635.0}, {\"col\": \"cand_nm\", \"idx\": 55, \"val\": \"Bush, Jeb\"}, {\"col\": \"contbr_st\", \"idx\": 55, \"val\": \"WV\"}, {\"col\": \"contb_receipt_amt\", \"idx\": 55, \"val\": 8600.0}, {\"col\": \"cand_nm\", \"idx\": 56, \"val\": \"Bush, Jeb\"}, {\"col\": \"contbr_st\", \"idx\": 56, \"val\": \"WY\"}, {\"col\": \"contb_receipt_amt\", \"idx\": 56, \"val\": 24325.0}, {\"col\": \"cand_nm\", \"idx\": 57, \"val\": \"Bush, Jeb\"}, {\"col\": \"contbr_st\", \"idx\": 57, \"val\": \"XX\"}, {\"col\": \"contb_receipt_amt\", \"idx\": 57, \"val\": 8100.0}, {\"col\": \"cand_nm\", \"idx\": 58, \"val\": \"Carson, Benjamin S.\"}, {\"col\": \"contbr_st\", \"idx\": 58, \"val\": \"AE\"}, {\"col\": \"contb_receipt_amt\", \"idx\": 58, \"val\": 1522.0}, {\"col\": \"cand_nm\", \"idx\": 59, \"val\": \"Carson, Benjamin S.\"}, {\"col\": \"contbr_st\", \"idx\": 59, \"val\": \"AK\"}, {\"col\": \"contb_receipt_amt\", \"idx\": 59, \"val\": 107739.82}, {\"col\": \"cand_nm\", \"idx\": 60, \"val\": \"Carson, Benjamin S.\"}, {\"col\": \"contbr_st\", \"idx\": 60, \"val\": \"AL\"}, {\"col\": \"contb_receipt_amt\", \"idx\": 60, \"val\": 527885.2499999993}, {\"col\": \"cand_nm\", \"idx\": 61, \"val\": \"Carson, Benjamin S.\"}, {\"col\": \"contbr_st\", \"idx\": 61, \"val\": \"AP\"}, {\"col\": \"contb_receipt_amt\", \"idx\": 61, \"val\": 4431.759999999998}, {\"col\": \"cand_nm\", \"idx\": 62, \"val\": \"Carson, Benjamin S.\"}, {\"col\": \"contbr_st\", \"idx\": 62, \"val\": \"AR\"}, {\"col\": \"contb_receipt_amt\", \"idx\": 62, \"val\": 157661.66000000003}, {\"col\": \"cand_nm\", \"idx\": 63, \"val\": \"Carson, Benjamin S.\"}, {\"col\": \"contbr_st\", \"idx\": 63, \"val\": \"AS\"}, {\"col\": \"contb_receipt_amt\", \"idx\": 63, \"val\": 350.0}, {\"col\": \"cand_nm\", \"idx\": 64, \"val\": \"Carson, Benjamin S.\"}, {\"col\": \"contbr_st\", \"idx\": 64, \"val\": \"AU\"}, {\"col\": \"contb_receipt_amt\", \"idx\": 64, \"val\": 300.0}, {\"col\": \"cand_nm\", \"idx\": 65, \"val\": \"Carson, Benjamin S.\"}, {\"col\": \"contbr_st\", \"idx\": 65, \"val\": \"AZ\"}, {\"col\": \"contb_receipt_amt\", \"idx\": 65, \"val\": 583059.3699999994}, {\"col\": \"cand_nm\", \"idx\": 66, \"val\": \"Carson, Benjamin S.\"}, {\"col\": \"contbr_st\", \"idx\": 66, \"val\": \"BC\"}, {\"col\": \"contb_receipt_amt\", \"idx\": 66, \"val\": 3435.0}, {\"col\": \"cand_nm\", \"idx\": 67, \"val\": \"Carson, Benjamin S.\"}, {\"col\": \"contbr_st\", \"idx\": 67, \"val\": \"BR\"}, {\"col\": \"contb_receipt_amt\", \"idx\": 67, \"val\": 600.0}, {\"col\": \"cand_nm\", \"idx\": 68, \"val\": \"Carson, Benjamin S.\"}, {\"col\": \"contbr_st\", \"idx\": 68, \"val\": \"CA\"}, {\"col\": \"contb_receipt_amt\", \"idx\": 68, \"val\": 2741477.219999993}, {\"col\": \"cand_nm\", \"idx\": 69, \"val\": \"Carson, Benjamin S.\"}, {\"col\": \"contbr_st\", \"idx\": 69, \"val\": \"CO\"}, {\"col\": \"contb_receipt_amt\", \"idx\": 69, \"val\": 634521.4699999997}, {\"col\": \"cand_nm\", \"idx\": 70, \"val\": \"Carson, Benjamin S.\"}, {\"col\": \"contbr_st\", \"idx\": 70, \"val\": \"CT\"}, {\"col\": \"contb_receipt_amt\", \"idx\": 70, \"val\": 143316.84000000003}, {\"col\": \"cand_nm\", \"idx\": 71, \"val\": \"Carson, Benjamin S.\"}, {\"col\": \"contbr_st\", \"idx\": 71, \"val\": \"DC\"}, {\"col\": \"contb_receipt_amt\", \"idx\": 71, \"val\": 30522.66}, {\"col\": \"cand_nm\", \"idx\": 72, \"val\": \"Carson, Benjamin S.\"}, {\"col\": \"contbr_st\", \"idx\": 72, \"val\": \"DE\"}, {\"col\": \"contb_receipt_amt\", \"idx\": 72, \"val\": 53782.94000000001}, {\"col\": \"cand_nm\", \"idx\": 73, \"val\": \"Carson, Benjamin S.\"}, {\"col\": \"contbr_st\", \"idx\": 73, \"val\": \"EN\"}, {\"col\": \"contb_receipt_amt\", \"idx\": 73, \"val\": 275.0}, {\"col\": \"cand_nm\", \"idx\": 74, \"val\": \"Carson, Benjamin S.\"}, {\"col\": \"contbr_st\", \"idx\": 74, \"val\": \"FF\"}, {\"col\": \"contb_receipt_amt\", \"idx\": 74, \"val\": 2500.0}, {\"col\": \"cand_nm\", \"idx\": 75, \"val\": \"Carson, Benjamin S.\"}, {\"col\": \"contbr_st\", \"idx\": 75, \"val\": \"FL\"}, {\"col\": \"contb_receipt_amt\", \"idx\": 75, \"val\": 1694866.8199999994}, {\"col\": \"cand_nm\", \"idx\": 76, \"val\": \"Carson, Benjamin S.\"}, {\"col\": \"contbr_st\", \"idx\": 76, \"val\": \"GA\"}, {\"col\": \"contb_receipt_amt\", \"idx\": 76, \"val\": 767466.8599999998}, {\"col\": \"cand_nm\", \"idx\": 77, \"val\": \"Carson, Benjamin S.\"}, {\"col\": \"contbr_st\", \"idx\": 77, \"val\": \"GU\"}, {\"col\": \"contb_receipt_amt\", \"idx\": 77, \"val\": 3900.0}, {\"col\": \"cand_nm\", \"idx\": 78, \"val\": \"Carson, Benjamin S.\"}, {\"col\": \"contbr_st\", \"idx\": 78, \"val\": \"HI\"}, {\"col\": \"contb_receipt_amt\", \"idx\": 78, \"val\": 84259.82}, {\"col\": \"cand_nm\", \"idx\": 79, \"val\": \"Carson, Benjamin S.\"}, {\"col\": \"contbr_st\", \"idx\": 79, \"val\": \"IA\"}, {\"col\": \"contb_receipt_amt\", \"idx\": 79, \"val\": 274712.9000000001}, {\"col\": \"cand_nm\", \"idx\": 80, \"val\": \"Carson, Benjamin S.\"}, {\"col\": \"contbr_st\", \"idx\": 80, \"val\": \"ID\"}, {\"col\": \"contb_receipt_amt\", \"idx\": 80, \"val\": 189946.57000000004}, {\"col\": \"cand_nm\", \"idx\": 81, \"val\": \"Carson, Benjamin S.\"}, {\"col\": \"contbr_st\", \"idx\": 81, \"val\": \"IL\"}, {\"col\": \"contb_receipt_amt\", \"idx\": 81, \"val\": 583381.4599999996}, {\"col\": \"cand_nm\", \"idx\": 82, \"val\": \"Carson, Benjamin S.\"}, {\"col\": \"contbr_st\", \"idx\": 82, \"val\": \"IN\"}, {\"col\": \"contb_receipt_amt\", \"idx\": 82, \"val\": 456008.6399999998}, {\"col\": \"cand_nm\", \"idx\": 83, \"val\": \"Carson, Benjamin S.\"}, {\"col\": \"contbr_st\", \"idx\": 83, \"val\": \"IS\"}, {\"col\": \"contb_receipt_amt\", \"idx\": 83, \"val\": 1000.0}, {\"col\": \"cand_nm\", \"idx\": 84, \"val\": \"Carson, Benjamin S.\"}, {\"col\": \"contbr_st\", \"idx\": 84, \"val\": \"JA\"}, {\"col\": \"contb_receipt_amt\", \"idx\": 84, \"val\": 100.0}, {\"col\": \"cand_nm\", \"idx\": 85, \"val\": \"Carson, Benjamin S.\"}, {\"col\": \"contbr_st\", \"idx\": 85, \"val\": \"KS\"}, {\"col\": \"contb_receipt_amt\", \"idx\": 85, \"val\": 311510.0599999999}, {\"col\": \"cand_nm\", \"idx\": 86, \"val\": \"Carson, Benjamin S.\"}, {\"col\": \"contbr_st\", \"idx\": 86, \"val\": \"KY\"}, {\"col\": \"contb_receipt_amt\", \"idx\": 86, \"val\": 180455.95000000004}, {\"col\": \"cand_nm\", \"idx\": 87, \"val\": \"Carson, Benjamin S.\"}, {\"col\": \"contbr_st\", \"idx\": 87, \"val\": \"LA\"}, {\"col\": \"contb_receipt_amt\", \"idx\": 87, \"val\": 300103.08}, {\"col\": \"cand_nm\", \"idx\": 88, \"val\": \"Carson, Benjamin S.\"}, {\"col\": \"contbr_st\", \"idx\": 88, \"val\": \"LE\"}, {\"col\": \"contb_receipt_amt\", \"idx\": 88, \"val\": 400.0}, {\"col\": \"cand_nm\", \"idx\": 89, \"val\": \"Carson, Benjamin S.\"}, {\"col\": \"contbr_st\", \"idx\": 89, \"val\": \"MA\"}, {\"col\": \"contb_receipt_amt\", \"idx\": 89, \"val\": 241501.08000000005}, {\"col\": \"cand_nm\", \"idx\": 90, \"val\": \"Carson, Benjamin S.\"}, {\"col\": \"contbr_st\", \"idx\": 90, \"val\": \"MD\"}, {\"col\": \"contb_receipt_amt\", \"idx\": 90, \"val\": 527577.2699999997}, {\"col\": \"cand_nm\", \"idx\": 91, \"val\": \"Carson, Benjamin S.\"}, {\"col\": \"contbr_st\", \"idx\": 91, \"val\": \"ME\"}, {\"col\": \"contb_receipt_amt\", \"idx\": 91, \"val\": 58027.91}, {\"col\": \"cand_nm\", \"idx\": 92, \"val\": \"Carson, Benjamin S.\"}, {\"col\": \"contbr_st\", \"idx\": 92, \"val\": \"MI\"}, {\"col\": \"contb_receipt_amt\", \"idx\": 92, \"val\": 862146.6700000005}, {\"col\": \"cand_nm\", \"idx\": 93, \"val\": \"Carson, Benjamin S.\"}, {\"col\": \"contbr_st\", \"idx\": 93, \"val\": \"MN\"}, {\"col\": \"contb_receipt_amt\", \"idx\": 93, \"val\": 361701.9000000001}, {\"col\": \"cand_nm\", \"idx\": 94, \"val\": \"Carson, Benjamin S.\"}, {\"col\": \"contbr_st\", \"idx\": 94, \"val\": \"MO\"}, {\"col\": \"contb_receipt_amt\", \"idx\": 94, \"val\": 581380.5000000001}, {\"col\": \"cand_nm\", \"idx\": 95, \"val\": \"Carson, Benjamin S.\"}, {\"col\": \"contbr_st\", \"idx\": 95, \"val\": \"MP\"}, {\"col\": \"contb_receipt_amt\", \"idx\": 95, \"val\": 225.0}, {\"col\": \"cand_nm\", \"idx\": 96, \"val\": \"Carson, Benjamin S.\"}, {\"col\": \"contbr_st\", \"idx\": 96, \"val\": \"MS\"}, {\"col\": \"contb_receipt_amt\", \"idx\": 96, \"val\": 154330.72000000006}, {\"col\": \"cand_nm\", \"idx\": 97, \"val\": \"Carson, Benjamin S.\"}, {\"col\": \"contbr_st\", \"idx\": 97, \"val\": \"MT\"}, {\"col\": \"contb_receipt_amt\", \"idx\": 97, \"val\": 181539.11000000002}, {\"col\": \"cand_nm\", \"idx\": 98, \"val\": \"Carson, Benjamin S.\"}, {\"col\": \"contbr_st\", \"idx\": 98, \"val\": \"NC\"}, {\"col\": \"contb_receipt_amt\", \"idx\": 98, \"val\": 1024261.5400000004}, {\"col\": \"cand_nm\", \"idx\": 99, \"val\": \"Carson, Benjamin S.\"}, {\"col\": \"contbr_st\", \"idx\": 99, \"val\": \"ND\"}, {\"col\": \"contb_receipt_amt\", \"idx\": 99, \"val\": 64880.55000000002}, {\"col\": \"cand_nm\", \"idx\": 100, \"val\": \"Carson, Benjamin S.\"}, {\"col\": \"contbr_st\", \"idx\": 100, \"val\": \"NE\"}, {\"col\": \"contb_receipt_amt\", \"idx\": 100, \"val\": 161561.50000000003}, {\"col\": \"cand_nm\", \"idx\": 101, \"val\": \"Carson, Benjamin S.\"}, {\"col\": \"contbr_st\", \"idx\": 101, \"val\": \"NH\"}, {\"col\": \"contb_receipt_amt\", \"idx\": 101, \"val\": 89637.14000000001}, {\"col\": \"cand_nm\", \"idx\": 102, \"val\": \"Carson, Benjamin S.\"}, {\"col\": \"contbr_st\", \"idx\": 102, \"val\": \"NJ\"}, {\"col\": \"contb_receipt_amt\", \"idx\": 102, \"val\": 366694.22000000003}, {\"col\": \"cand_nm\", \"idx\": 103, \"val\": \"Carson, Benjamin S.\"}, {\"col\": \"contbr_st\", \"idx\": 103, \"val\": \"NM\"}, {\"col\": \"contb_receipt_amt\", \"idx\": 103, \"val\": 150443.99000000008}, {\"col\": \"cand_nm\", \"idx\": 104, \"val\": \"Carson, Benjamin S.\"}, {\"col\": \"contbr_st\", \"idx\": 104, \"val\": \"NV\"}, {\"col\": \"contb_receipt_amt\", \"idx\": 104, \"val\": 267941.93999999994}, {\"col\": \"cand_nm\", \"idx\": 105, \"val\": \"Carson, Benjamin S.\"}, {\"col\": \"contbr_st\", \"idx\": 105, \"val\": \"NY\"}, {\"col\": \"contb_receipt_amt\", \"idx\": 105, \"val\": 583780.0900000002}, {\"col\": \"cand_nm\", \"idx\": 106, \"val\": \"Carson, Benjamin S.\"}, {\"col\": \"contbr_st\", \"idx\": 106, \"val\": \"OH\"}, {\"col\": \"contb_receipt_amt\", \"idx\": 106, \"val\": 608432.4399999995}, {\"col\": \"cand_nm\", \"idx\": 107, \"val\": \"Carson, Benjamin S.\"}, {\"col\": \"contbr_st\", \"idx\": 107, \"val\": \"OK\"}, {\"col\": \"contb_receipt_amt\", \"idx\": 107, \"val\": 428755.83}, {\"col\": \"cand_nm\", \"idx\": 108, \"val\": \"Carson, Benjamin S.\"}, {\"col\": \"contbr_st\", \"idx\": 108, \"val\": \"OR\"}, {\"col\": \"contb_receipt_amt\", \"idx\": 108, \"val\": 329712.0799999999}, {\"col\": \"cand_nm\", \"idx\": 109, \"val\": \"Carson, Benjamin S.\"}, {\"col\": \"contbr_st\", \"idx\": 109, \"val\": \"PA\"}, {\"col\": \"contb_receipt_amt\", \"idx\": 109, \"val\": 748148.4699999999}, {\"col\": \"cand_nm\", \"idx\": 110, \"val\": \"Carson, Benjamin S.\"}, {\"col\": \"contbr_st\", \"idx\": 110, \"val\": \"PR\"}, {\"col\": \"contb_receipt_amt\", \"idx\": 110, \"val\": 1035.0}, {\"col\": \"cand_nm\", \"idx\": 111, \"val\": \"Carson, Benjamin S.\"}, {\"col\": \"contbr_st\", \"idx\": 111, \"val\": \"RI\"}, {\"col\": \"contb_receipt_amt\", \"idx\": 111, \"val\": 22661.05}, {\"col\": \"cand_nm\", \"idx\": 112, \"val\": \"Carson, Benjamin S.\"}, {\"col\": \"contbr_st\", \"idx\": 112, \"val\": \"SC\"}, {\"col\": \"contb_receipt_amt\", \"idx\": 112, \"val\": 436813.91999999946}, {\"col\": \"cand_nm\", \"idx\": 113, \"val\": \"Carson, Benjamin S.\"}, {\"col\": \"contbr_st\", \"idx\": 113, \"val\": \"SD\"}, {\"col\": \"contb_receipt_amt\", \"idx\": 113, \"val\": 114354.91}, {\"col\": \"cand_nm\", \"idx\": 114, \"val\": \"Carson, Benjamin S.\"}, {\"col\": \"contbr_st\", \"idx\": 114, \"val\": \"SW\"}, {\"col\": \"contb_receipt_amt\", \"idx\": 114, \"val\": 500.0}, {\"col\": \"cand_nm\", \"idx\": 115, \"val\": \"Carson, Benjamin S.\"}, {\"col\": \"contbr_st\", \"idx\": 115, \"val\": \"TN\"}, {\"col\": \"contb_receipt_amt\", \"idx\": 115, \"val\": 767166.5399999996}, {\"col\": \"cand_nm\", \"idx\": 116, \"val\": \"Carson, Benjamin S.\"}, {\"col\": \"contbr_st\", \"idx\": 116, \"val\": \"TX\"}, {\"col\": \"contb_receipt_amt\", \"idx\": 116, \"val\": 2870018.9699999974}, {\"col\": \"cand_nm\", \"idx\": 117, \"val\": \"Carson, Benjamin S.\"}, {\"col\": \"contbr_st\", \"idx\": 117, \"val\": \"UK\"}, {\"col\": \"contb_receipt_amt\", \"idx\": 117, \"val\": 675.0}, {\"col\": \"cand_nm\", \"idx\": 118, \"val\": \"Carson, Benjamin S.\"}, {\"col\": \"contbr_st\", \"idx\": 118, \"val\": \"UT\"}, {\"col\": \"contb_receipt_amt\", \"idx\": 118, \"val\": 143592.63000000006}, {\"col\": \"cand_nm\", \"idx\": 119, \"val\": \"Carson, Benjamin S.\"}, {\"col\": \"contbr_st\", \"idx\": 119, \"val\": \"VA\"}, {\"col\": \"contb_receipt_amt\", \"idx\": 119, \"val\": 800847.2800000006}, {\"col\": \"cand_nm\", \"idx\": 120, \"val\": \"Carson, Benjamin S.\"}, {\"col\": \"contbr_st\", \"idx\": 120, \"val\": \"VI\"}, {\"col\": \"contb_receipt_amt\", \"idx\": 120, \"val\": 3960.0}, {\"col\": \"cand_nm\", \"idx\": 121, \"val\": \"Carson, Benjamin S.\"}, {\"col\": \"contbr_st\", \"idx\": 121, \"val\": \"VT\"}, {\"col\": \"contb_receipt_amt\", \"idx\": 121, \"val\": 28207.610000000004}, {\"col\": \"cand_nm\", \"idx\": 122, \"val\": \"Carson, Benjamin S.\"}, {\"col\": \"contbr_st\", \"idx\": 122, \"val\": \"WA\"}, {\"col\": \"contb_receipt_amt\", \"idx\": 122, \"val\": 592189.9499999995}, {\"col\": \"cand_nm\", \"idx\": 123, \"val\": \"Carson, Benjamin S.\"}, {\"col\": \"contbr_st\", \"idx\": 123, \"val\": \"WI\"}, {\"col\": \"contb_receipt_amt\", \"idx\": 123, \"val\": 302872.92000000004}, {\"col\": \"cand_nm\", \"idx\": 124, \"val\": \"Carson, Benjamin S.\"}, {\"col\": \"contbr_st\", \"idx\": 124, \"val\": \"WV\"}, {\"col\": \"contb_receipt_amt\", \"idx\": 124, \"val\": 74682.90000000001}, {\"col\": \"cand_nm\", \"idx\": 125, \"val\": \"Carson, Benjamin S.\"}, {\"col\": \"contbr_st\", \"idx\": 125, \"val\": \"WY\"}, {\"col\": \"contb_receipt_amt\", \"idx\": 125, \"val\": 175934.45}, {\"col\": \"cand_nm\", \"idx\": 126, \"val\": \"Carson, Benjamin S.\"}, {\"col\": \"contbr_st\", \"idx\": 126, \"val\": \"XX\"}, {\"col\": \"contb_receipt_amt\", \"idx\": 126, \"val\": 25775.0}, {\"col\": \"cand_nm\", \"idx\": 127, \"val\": \"Christie, Christopher J.\"}, {\"col\": \"contbr_st\", \"idx\": 127, \"val\": \"AE\"}, {\"col\": \"contb_receipt_amt\", \"idx\": 127, \"val\": 65.0}, {\"col\": \"cand_nm\", \"idx\": 128, \"val\": \"Christie, Christopher J.\"}, {\"col\": \"contbr_st\", \"idx\": 128, \"val\": \"AK\"}, {\"col\": \"contb_receipt_amt\", \"idx\": 128, \"val\": 300.0}, {\"col\": \"cand_nm\", \"idx\": 129, \"val\": \"Christie, Christopher J.\"}, {\"col\": \"contbr_st\", \"idx\": 129, \"val\": \"AL\"}, {\"col\": \"contb_receipt_amt\", \"idx\": 129, \"val\": 2520.0}, {\"col\": \"cand_nm\", \"idx\": 130, \"val\": \"Christie, Christopher J.\"}, {\"col\": \"contbr_st\", \"idx\": 130, \"val\": \"AR\"}, {\"col\": \"contb_receipt_amt\", \"idx\": 130, \"val\": 22600.0}, {\"col\": \"cand_nm\", \"idx\": 131, \"val\": \"Christie, Christopher J.\"}, {\"col\": \"contbr_st\", \"idx\": 131, \"val\": \"AZ\"}, {\"col\": \"contb_receipt_amt\", \"idx\": 131, \"val\": 57700.0}, {\"col\": \"cand_nm\", \"idx\": 132, \"val\": \"Christie, Christopher J.\"}, {\"col\": \"contbr_st\", \"idx\": 132, \"val\": \"C\"}, {\"col\": \"contb_receipt_amt\", \"idx\": 132, \"val\": 2700.0}, {\"col\": \"cand_nm\", \"idx\": 133, \"val\": \"Christie, Christopher J.\"}, {\"col\": \"contbr_st\", \"idx\": 133, \"val\": \"CA\"}, {\"col\": \"contb_receipt_amt\", \"idx\": 133, \"val\": 449491.0}, {\"col\": \"cand_nm\", \"idx\": 134, \"val\": \"Christie, Christopher J.\"}, {\"col\": \"contbr_st\", \"idx\": 134, \"val\": \"CO\"}, {\"col\": \"contb_receipt_amt\", \"idx\": 134, \"val\": 50139.0}, {\"col\": \"cand_nm\", \"idx\": 135, \"val\": \"Christie, Christopher J.\"}, {\"col\": \"contbr_st\", \"idx\": 135, \"val\": \"CT\"}, {\"col\": \"contb_receipt_amt\", \"idx\": 135, \"val\": 236250.0}, {\"col\": \"cand_nm\", \"idx\": 136, \"val\": \"Christie, Christopher J.\"}, {\"col\": \"contbr_st\", \"idx\": 136, \"val\": \"DC\"}, {\"col\": \"contb_receipt_amt\", \"idx\": 136, \"val\": 45100.0}, {\"col\": \"cand_nm\", \"idx\": 137, \"val\": \"Christie, Christopher J.\"}, {\"col\": \"contbr_st\", \"idx\": 137, \"val\": \"DE\"}, {\"col\": \"contb_receipt_amt\", \"idx\": 137, \"val\": 6525.0}, {\"col\": \"cand_nm\", \"idx\": 138, \"val\": \"Christie, Christopher J.\"}, {\"col\": \"contbr_st\", \"idx\": 138, \"val\": \"FL\"}, {\"col\": \"contb_receipt_amt\", \"idx\": 138, \"val\": 300329.25}, {\"col\": \"cand_nm\", \"idx\": 139, \"val\": \"Christie, Christopher J.\"}, {\"col\": \"contbr_st\", \"idx\": 139, \"val\": \"GA\"}, {\"col\": \"contb_receipt_amt\", \"idx\": 139, \"val\": 30178.0}, {\"col\": \"cand_nm\", \"idx\": 140, \"val\": \"Christie, Christopher J.\"}, {\"col\": \"contbr_st\", \"idx\": 140, \"val\": \"IA\"}, {\"col\": \"contb_receipt_amt\", \"idx\": 140, \"val\": 52975.0}, {\"col\": \"cand_nm\", \"idx\": 141, \"val\": \"Christie, Christopher J.\"}, {\"col\": \"contbr_st\", \"idx\": 141, \"val\": \"ID\"}, {\"col\": \"contb_receipt_amt\", \"idx\": 141, \"val\": 2871.0}, {\"col\": \"cand_nm\", \"idx\": 142, \"val\": \"Christie, Christopher J.\"}, {\"col\": \"contbr_st\", \"idx\": 142, \"val\": \"IL\"}, {\"col\": \"contb_receipt_amt\", \"idx\": 142, \"val\": 153923.0}, {\"col\": \"cand_nm\", \"idx\": 143, \"val\": \"Christie, Christopher J.\"}, {\"col\": \"contbr_st\", \"idx\": 143, \"val\": \"IN\"}, {\"col\": \"contb_receipt_amt\", \"idx\": 143, \"val\": 24525.0}, {\"col\": \"cand_nm\", \"idx\": 144, \"val\": \"Christie, Christopher J.\"}, {\"col\": \"contbr_st\", \"idx\": 144, \"val\": \"KS\"}, {\"col\": \"contb_receipt_amt\", \"idx\": 144, \"val\": 5725.0}, {\"col\": \"cand_nm\", \"idx\": 145, \"val\": \"Christie, Christopher J.\"}, {\"col\": \"contbr_st\", \"idx\": 145, \"val\": \"KY\"}, {\"col\": \"contb_receipt_amt\", \"idx\": 145, \"val\": 5400.0}, {\"col\": \"cand_nm\", \"idx\": 146, \"val\": \"Christie, Christopher J.\"}, {\"col\": \"contbr_st\", \"idx\": 146, \"val\": \"LA\"}, {\"col\": \"contb_receipt_amt\", \"idx\": 146, \"val\": 3700.0}, {\"col\": \"cand_nm\", \"idx\": 147, \"val\": \"Christie, Christopher J.\"}, {\"col\": \"contbr_st\", \"idx\": 147, \"val\": \"MA\"}, {\"col\": \"contb_receipt_amt\", \"idx\": 147, \"val\": 143395.0}, {\"col\": \"cand_nm\", \"idx\": 148, \"val\": \"Christie, Christopher J.\"}, {\"col\": \"contbr_st\", \"idx\": 148, \"val\": \"MD\"}, {\"col\": \"contb_receipt_amt\", \"idx\": 148, \"val\": 235083.0}, {\"col\": \"cand_nm\", \"idx\": 149, \"val\": \"Christie, Christopher J.\"}, {\"col\": \"contbr_st\", \"idx\": 149, \"val\": \"ME\"}, {\"col\": \"contb_receipt_amt\", \"idx\": 149, \"val\": 8450.0}, {\"col\": \"cand_nm\", \"idx\": 150, \"val\": \"Christie, Christopher J.\"}, {\"col\": \"contbr_st\", \"idx\": 150, \"val\": \"MI\"}, {\"col\": \"contb_receipt_amt\", \"idx\": 150, \"val\": 24075.0}, {\"col\": \"cand_nm\", \"idx\": 151, \"val\": \"Christie, Christopher J.\"}, {\"col\": \"contbr_st\", \"idx\": 151, \"val\": \"MN\"}, {\"col\": \"contb_receipt_amt\", \"idx\": 151, \"val\": 37228.0}, {\"col\": \"cand_nm\", \"idx\": 152, \"val\": \"Christie, Christopher J.\"}, {\"col\": \"contbr_st\", \"idx\": 152, \"val\": \"MO\"}, {\"col\": \"contb_receipt_amt\", \"idx\": 152, \"val\": 77346.0}, {\"col\": \"cand_nm\", \"idx\": 153, \"val\": \"Christie, Christopher J.\"}, {\"col\": \"contbr_st\", \"idx\": 153, \"val\": \"MS\"}, {\"col\": \"contb_receipt_amt\", \"idx\": 153, \"val\": 3700.0}, {\"col\": \"cand_nm\", \"idx\": 154, \"val\": \"Christie, Christopher J.\"}, {\"col\": \"contbr_st\", \"idx\": 154, \"val\": \"MT\"}, {\"col\": \"contb_receipt_amt\", \"idx\": 154, \"val\": 3400.0}, {\"col\": \"cand_nm\", \"idx\": 155, \"val\": \"Christie, Christopher J.\"}, {\"col\": \"contbr_st\", \"idx\": 155, \"val\": \"NC\"}, {\"col\": \"contb_receipt_amt\", \"idx\": 155, \"val\": 19295.0}, {\"col\": \"cand_nm\", \"idx\": 156, \"val\": \"Christie, Christopher J.\"}, {\"col\": \"contbr_st\", \"idx\": 156, \"val\": \"NE\"}, {\"col\": \"contb_receipt_amt\", \"idx\": 156, \"val\": 3000.0}, {\"col\": \"cand_nm\", \"idx\": 157, \"val\": \"Christie, Christopher J.\"}, {\"col\": \"contbr_st\", \"idx\": 157, \"val\": \"NH\"}, {\"col\": \"contb_receipt_amt\", \"idx\": 157, \"val\": 33225.0}, {\"col\": \"cand_nm\", \"idx\": 158, \"val\": \"Christie, Christopher J.\"}, {\"col\": \"contbr_st\", \"idx\": 158, \"val\": \"NJ\"}, {\"col\": \"contb_receipt_amt\", \"idx\": 158, \"val\": 3631255.3499999996}, {\"col\": \"cand_nm\", \"idx\": 159, \"val\": \"Christie, Christopher J.\"}, {\"col\": \"contbr_st\", \"idx\": 159, \"val\": \"NV\"}, {\"col\": \"contb_receipt_amt\", \"idx\": 159, \"val\": 14650.0}, {\"col\": \"cand_nm\", \"idx\": 160, \"val\": \"Christie, Christopher J.\"}, {\"col\": \"contbr_st\", \"idx\": 160, \"val\": \"NY\"}, {\"col\": \"contb_receipt_amt\", \"idx\": 160, \"val\": 804662.0}, {\"col\": \"cand_nm\", \"idx\": 161, \"val\": \"Christie, Christopher J.\"}, {\"col\": \"contbr_st\", \"idx\": 161, \"val\": \"OH\"}, {\"col\": \"contb_receipt_amt\", \"idx\": 161, \"val\": 5850.0}, {\"col\": \"cand_nm\", \"idx\": 162, \"val\": \"Christie, Christopher J.\"}, {\"col\": \"contbr_st\", \"idx\": 162, \"val\": \"OK\"}, {\"col\": \"contb_receipt_amt\", \"idx\": 162, \"val\": 2125.0}, {\"col\": \"cand_nm\", \"idx\": 163, \"val\": \"Christie, Christopher J.\"}, {\"col\": \"contbr_st\", \"idx\": 163, \"val\": \"OR\"}, {\"col\": \"contb_receipt_amt\", \"idx\": 163, \"val\": 8200.0}, {\"col\": \"cand_nm\", \"idx\": 164, \"val\": \"Christie, Christopher J.\"}, {\"col\": \"contbr_st\", \"idx\": 164, \"val\": \"PA\"}, {\"col\": \"contb_receipt_amt\", \"idx\": 164, \"val\": 381051.0}, {\"col\": \"cand_nm\", \"idx\": 165, \"val\": \"Christie, Christopher J.\"}, {\"col\": \"contbr_st\", \"idx\": 165, \"val\": \"PR\"}, {\"col\": \"contb_receipt_amt\", \"idx\": 165, \"val\": 2700.0}, {\"col\": \"cand_nm\", \"idx\": 166, \"val\": \"Christie, Christopher J.\"}, {\"col\": \"contbr_st\", \"idx\": 166, \"val\": \"RI\"}, {\"col\": \"contb_receipt_amt\", \"idx\": 166, \"val\": 7675.0}, {\"col\": \"cand_nm\", \"idx\": 167, \"val\": \"Christie, Christopher J.\"}, {\"col\": \"contbr_st\", \"idx\": 167, \"val\": \"SC\"}, {\"col\": \"contb_receipt_amt\", \"idx\": 167, \"val\": 8600.0}, {\"col\": \"cand_nm\", \"idx\": 168, \"val\": \"Christie, Christopher J.\"}, {\"col\": \"contbr_st\", \"idx\": 168, \"val\": \"SD\"}, {\"col\": \"contb_receipt_amt\", \"idx\": 168, \"val\": 500.0}, {\"col\": \"cand_nm\", \"idx\": 169, \"val\": \"Christie, Christopher J.\"}, {\"col\": \"contbr_st\", \"idx\": 169, \"val\": \"TN\"}, {\"col\": \"contb_receipt_amt\", \"idx\": 169, \"val\": 41775.0}, {\"col\": \"cand_nm\", \"idx\": 170, \"val\": \"Christie, Christopher J.\"}, {\"col\": \"contbr_st\", \"idx\": 170, \"val\": \"TX\"}, {\"col\": \"contb_receipt_amt\", \"idx\": 170, \"val\": 265730.0}, {\"col\": \"cand_nm\", \"idx\": 171, \"val\": \"Christie, Christopher J.\"}, {\"col\": \"contbr_st\", \"idx\": 171, \"val\": \"UT\"}, {\"col\": \"contb_receipt_amt\", \"idx\": 171, \"val\": 4300.0}, {\"col\": \"cand_nm\", \"idx\": 172, \"val\": \"Christie, Christopher J.\"}, {\"col\": \"contbr_st\", \"idx\": 172, \"val\": \"VA\"}, {\"col\": \"contb_receipt_amt\", \"idx\": 172, \"val\": 172925.0}, {\"col\": \"cand_nm\", \"idx\": 173, \"val\": \"Christie, Christopher J.\"}, {\"col\": \"contbr_st\", \"idx\": 173, \"val\": \"VT\"}, {\"col\": \"contb_receipt_amt\", \"idx\": 173, \"val\": 1500.0}, {\"col\": \"cand_nm\", \"idx\": 174, \"val\": \"Christie, Christopher J.\"}, {\"col\": \"contbr_st\", \"idx\": 174, \"val\": \"WA\"}, {\"col\": \"contb_receipt_amt\", \"idx\": 174, \"val\": 4275.0}, {\"col\": \"cand_nm\", \"idx\": 175, \"val\": \"Christie, Christopher J.\"}, {\"col\": \"contbr_st\", \"idx\": 175, \"val\": \"WI\"}, {\"col\": \"contb_receipt_amt\", \"idx\": 175, \"val\": 7650.0}, {\"col\": \"cand_nm\", \"idx\": 176, \"val\": \"Christie, Christopher J.\"}, {\"col\": \"contbr_st\", \"idx\": 176, \"val\": \"WV\"}, {\"col\": \"contb_receipt_amt\", \"idx\": 176, \"val\": 2500.0}, {\"col\": \"cand_nm\", \"idx\": 177, \"val\": \"Christie, Christopher J.\"}, {\"col\": \"contbr_st\", \"idx\": 177, \"val\": \"WY\"}, {\"col\": \"contb_receipt_amt\", \"idx\": 177, \"val\": 8301.0}, {\"col\": \"cand_nm\", \"idx\": 178, \"val\": \"Christie, Christopher J.\"}, {\"col\": \"contbr_st\", \"idx\": 178, \"val\": \"XX\"}, {\"col\": \"contb_receipt_amt\", \"idx\": 178, \"val\": 26950.0}, {\"col\": \"cand_nm\", \"idx\": 179, \"val\": \"Clinton, Hillary Rodham\"}, {\"col\": \"contbr_st\", \"idx\": 179, \"val\": \"AA\"}, {\"col\": \"contb_receipt_amt\", \"idx\": 179, \"val\": 600.0}, {\"col\": \"cand_nm\", \"idx\": 180, \"val\": \"Clinton, Hillary Rodham\"}, {\"col\": \"contbr_st\", \"idx\": 180, \"val\": \"AE\"}, {\"col\": \"contb_receipt_amt\", \"idx\": 180, \"val\": 17059.72}, {\"col\": \"cand_nm\", \"idx\": 181, \"val\": \"Clinton, Hillary Rodham\"}, {\"col\": \"contbr_st\", \"idx\": 181, \"val\": \"AK\"}, {\"col\": \"contb_receipt_amt\", \"idx\": 181, \"val\": 49402.1}, {\"col\": \"cand_nm\", \"idx\": 182, \"val\": \"Clinton, Hillary Rodham\"}, {\"col\": \"contbr_st\", \"idx\": 182, \"val\": \"AL\"}, {\"col\": \"contb_receipt_amt\", \"idx\": 182, \"val\": 358016.1899999999}, {\"col\": \"cand_nm\", \"idx\": 183, \"val\": \"Clinton, Hillary Rodham\"}, {\"col\": \"contbr_st\", \"idx\": 183, \"val\": \"AP\"}, {\"col\": \"contb_receipt_amt\", \"idx\": 183, \"val\": 9219.880000000001}, {\"col\": \"cand_nm\", \"idx\": 184, \"val\": \"Clinton, Hillary Rodham\"}, {\"col\": \"contbr_st\", \"idx\": 184, \"val\": \"AR\"}, {\"col\": \"contb_receipt_amt\", \"idx\": 184, \"val\": 704198.3100000011}, {\"col\": \"cand_nm\", \"idx\": 185, \"val\": \"Clinton, Hillary Rodham\"}, {\"col\": \"contbr_st\", \"idx\": 185, \"val\": \"AS\"}, {\"col\": \"contb_receipt_amt\", \"idx\": 185, \"val\": 520.0}, {\"col\": \"cand_nm\", \"idx\": 186, \"val\": \"Clinton, Hillary Rodham\"}, {\"col\": \"contbr_st\", \"idx\": 186, \"val\": \"AZ\"}, {\"col\": \"contb_receipt_amt\", \"idx\": 186, \"val\": 705243.5399999999}, {\"col\": \"cand_nm\", \"idx\": 187, \"val\": \"Clinton, Hillary Rodham\"}, {\"col\": \"contbr_st\", \"idx\": 187, \"val\": \"BC\"}, {\"col\": \"contb_receipt_amt\", \"idx\": 187, \"val\": -199.99999999999997}, {\"col\": \"cand_nm\", \"idx\": 188, \"val\": \"Clinton, Hillary Rodham\"}, {\"col\": \"contbr_st\", \"idx\": 188, \"val\": \"CA\"}, {\"col\": \"contb_receipt_amt\", \"idx\": 188, \"val\": 21899488.660000037}, {\"col\": \"cand_nm\", \"idx\": 189, \"val\": \"Clinton, Hillary Rodham\"}, {\"col\": \"contbr_st\", \"idx\": 189, \"val\": \"CO\"}, {\"col\": \"contb_receipt_amt\", \"idx\": 189, \"val\": 2192494.7399999993}, {\"col\": \"cand_nm\", \"idx\": 190, \"val\": \"Clinton, Hillary Rodham\"}, {\"col\": \"contbr_st\", \"idx\": 190, \"val\": \"CT\"}, {\"col\": \"contb_receipt_amt\", \"idx\": 190, \"val\": 1805178.2099999988}, {\"col\": \"cand_nm\", \"idx\": 191, \"val\": \"Clinton, Hillary Rodham\"}, {\"col\": \"contbr_st\", \"idx\": 191, \"val\": \"DC\"}, {\"col\": \"contb_receipt_amt\", \"idx\": 191, \"val\": 4680770.760000006}, {\"col\": \"cand_nm\", \"idx\": 192, \"val\": \"Clinton, Hillary Rodham\"}, {\"col\": \"contbr_st\", \"idx\": 192, \"val\": \"DE\"}, {\"col\": \"contb_receipt_amt\", \"idx\": 192, \"val\": 99549.51}, {\"col\": \"cand_nm\", \"idx\": 193, \"val\": \"Clinton, Hillary Rodham\"}, {\"col\": \"contbr_st\", \"idx\": 193, \"val\": \"FL\"}, {\"col\": \"contb_receipt_amt\", \"idx\": 193, \"val\": 6351485.980000012}, {\"col\": \"cand_nm\", \"idx\": 194, \"val\": \"Clinton, Hillary Rodham\"}, {\"col\": \"contbr_st\", \"idx\": 194, \"val\": \"GA\"}, {\"col\": \"contb_receipt_amt\", \"idx\": 194, \"val\": 1322274.3899999987}, {\"col\": \"cand_nm\", \"idx\": 195, \"val\": \"Clinton, Hillary Rodham\"}, {\"col\": \"contbr_st\", \"idx\": 195, \"val\": \"GU\"}, {\"col\": \"contb_receipt_amt\", \"idx\": 195, \"val\": 1723.1200000000001}, {\"col\": \"cand_nm\", \"idx\": 196, \"val\": \"Clinton, Hillary Rodham\"}, {\"col\": \"contbr_st\", \"idx\": 196, \"val\": \"HI\"}, {\"col\": \"contb_receipt_amt\", \"idx\": 196, \"val\": 103498.79000000001}, {\"col\": \"cand_nm\", \"idx\": 197, \"val\": \"Clinton, Hillary Rodham\"}, {\"col\": \"contbr_st\", \"idx\": 197, \"val\": \"IA\"}, {\"col\": \"contb_receipt_amt\", \"idx\": 197, \"val\": 342931.38999999996}, {\"col\": \"cand_nm\", \"idx\": 198, \"val\": \"Clinton, Hillary Rodham\"}, {\"col\": \"contbr_st\", \"idx\": 198, \"val\": \"ID\"}, {\"col\": \"contb_receipt_amt\", \"idx\": 198, \"val\": 68414.91999999998}, {\"col\": \"cand_nm\", \"idx\": 199, \"val\": \"Clinton, Hillary Rodham\"}, {\"col\": \"contbr_st\", \"idx\": 199, \"val\": \"IL\"}, {\"col\": \"contb_receipt_amt\", \"idx\": 199, \"val\": 4168017.969999997}, {\"col\": \"cand_nm\", \"idx\": 200, \"val\": \"Clinton, Hillary Rodham\"}, {\"col\": \"contbr_st\", \"idx\": 200, \"val\": \"IN\"}, {\"col\": \"contb_receipt_amt\", \"idx\": 200, \"val\": 622435.0900000001}, {\"col\": \"cand_nm\", \"idx\": 201, \"val\": \"Clinton, Hillary Rodham\"}, {\"col\": \"contbr_st\", \"idx\": 201, \"val\": \"KS\"}, {\"col\": \"contb_receipt_amt\", \"idx\": 201, \"val\": 246025.66}, {\"col\": \"cand_nm\", \"idx\": 202, \"val\": \"Clinton, Hillary Rodham\"}, {\"col\": \"contbr_st\", \"idx\": 202, \"val\": \"KY\"}, {\"col\": \"contb_receipt_amt\", \"idx\": 202, \"val\": 328985.59}, {\"col\": \"cand_nm\", \"idx\": 203, \"val\": \"Clinton, Hillary Rodham\"}, {\"col\": \"contbr_st\", \"idx\": 203, \"val\": \"LA\"}, {\"col\": \"contb_receipt_amt\", \"idx\": 203, \"val\": 699738.7999999999}, {\"col\": \"cand_nm\", \"idx\": 204, \"val\": \"Clinton, Hillary Rodham\"}, {\"col\": \"contbr_st\", \"idx\": 204, \"val\": \"MA\"}, {\"col\": \"contb_receipt_amt\", \"idx\": 204, \"val\": 4042909.410000001}, {\"col\": \"cand_nm\", \"idx\": 205, \"val\": \"Clinton, Hillary Rodham\"}, {\"col\": \"contbr_st\", \"idx\": 205, \"val\": \"MD\"}, {\"col\": \"contb_receipt_amt\", \"idx\": 205, \"val\": 3887602.610000006}, {\"col\": \"cand_nm\", \"idx\": 206, \"val\": \"Clinton, Hillary Rodham\"}, {\"col\": \"contbr_st\", \"idx\": 206, \"val\": \"ME\"}, {\"col\": \"contb_receipt_amt\", \"idx\": 206, \"val\": 272347.17}, {\"col\": \"cand_nm\", \"idx\": 207, \"val\": \"Clinton, Hillary Rodham\"}, {\"col\": \"contbr_st\", \"idx\": 207, \"val\": \"MI\"}, {\"col\": \"contb_receipt_amt\", \"idx\": 207, \"val\": 1174905.7300000004}, {\"col\": \"cand_nm\", \"idx\": 208, \"val\": \"Clinton, Hillary Rodham\"}, {\"col\": \"contbr_st\", \"idx\": 208, \"val\": \"MN\"}, {\"col\": \"contb_receipt_amt\", \"idx\": 208, \"val\": 1140975.1400000004}, {\"col\": \"cand_nm\", \"idx\": 209, \"val\": \"Clinton, Hillary Rodham\"}, {\"col\": \"contbr_st\", \"idx\": 209, \"val\": \"MO\"}, {\"col\": \"contb_receipt_amt\", \"idx\": 209, \"val\": 1330112.61}, {\"col\": \"cand_nm\", \"idx\": 210, \"val\": \"Clinton, Hillary Rodham\"}, {\"col\": \"contbr_st\", \"idx\": 210, \"val\": \"MP\"}, {\"col\": \"contb_receipt_amt\", \"idx\": 210, \"val\": 752.0}, {\"col\": \"cand_nm\", \"idx\": 211, \"val\": \"Clinton, Hillary Rodham\"}, {\"col\": \"contbr_st\", \"idx\": 211, \"val\": \"MS\"}, {\"col\": \"contb_receipt_amt\", \"idx\": 211, \"val\": 144730.29}, {\"col\": \"cand_nm\", \"idx\": 212, \"val\": \"Clinton, Hillary Rodham\"}, {\"col\": \"contbr_st\", \"idx\": 212, \"val\": \"MT\"}, {\"col\": \"contb_receipt_amt\", \"idx\": 212, \"val\": 68884.70999999999}, {\"col\": \"cand_nm\", \"idx\": 213, \"val\": \"Clinton, Hillary Rodham\"}, {\"col\": \"contbr_st\", \"idx\": 213, \"val\": \"NC\"}, {\"col\": \"contb_receipt_amt\", \"idx\": 213, \"val\": 1410501.7599999998}, {\"col\": \"cand_nm\", \"idx\": 214, \"val\": \"Clinton, Hillary Rodham\"}, {\"col\": \"contbr_st\", \"idx\": 214, \"val\": \"ND\"}, {\"col\": \"contb_receipt_amt\", \"idx\": 214, \"val\": 19533.870000000003}, {\"col\": \"cand_nm\", \"idx\": 215, \"val\": \"Clinton, Hillary Rodham\"}, {\"col\": \"contbr_st\", \"idx\": 215, \"val\": \"NE\"}, {\"col\": \"contb_receipt_amt\", \"idx\": 215, \"val\": 264097.70999999996}, {\"col\": \"cand_nm\", \"idx\": 216, \"val\": \"Clinton, Hillary Rodham\"}, {\"col\": \"contbr_st\", \"idx\": 216, \"val\": \"NH\"}, {\"col\": \"contb_receipt_amt\", \"idx\": 216, \"val\": 290911.47999999975}, {\"col\": \"cand_nm\", \"idx\": 217, \"val\": \"Clinton, Hillary Rodham\"}, {\"col\": \"contbr_st\", \"idx\": 217, \"val\": \"NJ\"}, {\"col\": \"contb_receipt_amt\", \"idx\": 217, \"val\": 2698781.6099999985}, {\"col\": \"cand_nm\", \"idx\": 218, \"val\": \"Clinton, Hillary Rodham\"}, {\"col\": \"contbr_st\", \"idx\": 218, \"val\": \"NM\"}, {\"col\": \"contb_receipt_amt\", \"idx\": 218, \"val\": 565462.0100000002}, {\"col\": \"cand_nm\", \"idx\": 219, \"val\": \"Clinton, Hillary Rodham\"}, {\"col\": \"contbr_st\", \"idx\": 219, \"val\": \"NV\"}, {\"col\": \"contb_receipt_amt\", \"idx\": 219, \"val\": 682410.61}, {\"col\": \"cand_nm\", \"idx\": 220, \"val\": \"Clinton, Hillary Rodham\"}, {\"col\": \"contbr_st\", \"idx\": 220, \"val\": \"NY\"}, {\"col\": \"contb_receipt_amt\", \"idx\": 220, \"val\": 21874766.42}, {\"col\": \"cand_nm\", \"idx\": 221, \"val\": \"Clinton, Hillary Rodham\"}, {\"col\": \"contbr_st\", \"idx\": 221, \"val\": \"OH\"}, {\"col\": \"contb_receipt_amt\", \"idx\": 221, \"val\": 1237082.8800000004}, {\"col\": \"cand_nm\", \"idx\": 222, \"val\": \"Clinton, Hillary Rodham\"}, {\"col\": \"contbr_st\", \"idx\": 222, \"val\": \"OK\"}, {\"col\": \"contb_receipt_amt\", \"idx\": 222, \"val\": 719273.3}, {\"col\": \"cand_nm\", \"idx\": 223, \"val\": \"Clinton, Hillary Rodham\"}, {\"col\": \"contbr_st\", \"idx\": 223, \"val\": \"ON\"}, {\"col\": \"contb_receipt_amt\", \"idx\": 223, \"val\": 7325.0}, {\"col\": \"cand_nm\", \"idx\": 224, \"val\": \"Clinton, Hillary Rodham\"}, {\"col\": \"contbr_st\", \"idx\": 224, \"val\": \"OR\"}, {\"col\": \"contb_receipt_amt\", \"idx\": 224, \"val\": 655720.1200000001}, {\"col\": \"cand_nm\", \"idx\": 225, \"val\": \"Clinton, Hillary Rodham\"}, {\"col\": \"contbr_st\", \"idx\": 225, \"val\": \"PA\"}, {\"col\": \"contb_receipt_amt\", \"idx\": 225, \"val\": 2775412.0999999996}, {\"col\": \"cand_nm\", \"idx\": 226, \"val\": \"Clinton, Hillary Rodham\"}, {\"col\": \"contbr_st\", \"idx\": 226, \"val\": \"PR\"}, {\"col\": \"contb_receipt_amt\", \"idx\": 226, \"val\": 443169.42000000004}, {\"col\": \"cand_nm\", \"idx\": 227, \"val\": \"Clinton, Hillary Rodham\"}, {\"col\": \"contbr_st\", \"idx\": 227, \"val\": \"QC\"}, {\"col\": \"contb_receipt_amt\", \"idx\": 227, \"val\": 2900.0}, {\"col\": \"cand_nm\", \"idx\": 228, \"val\": \"Clinton, Hillary Rodham\"}, {\"col\": \"contbr_st\", \"idx\": 228, \"val\": \"RI\"}, {\"col\": \"contb_receipt_amt\", \"idx\": 228, \"val\": 491324.5}, {\"col\": \"cand_nm\", \"idx\": 229, \"val\": \"Clinton, Hillary Rodham\"}, {\"col\": \"contbr_st\", \"idx\": 229, \"val\": \"SC\"}, {\"col\": \"contb_receipt_amt\", \"idx\": 229, \"val\": 555371.4299999999}, {\"col\": \"cand_nm\", \"idx\": 230, \"val\": \"Clinton, Hillary Rodham\"}, {\"col\": \"contbr_st\", \"idx\": 230, \"val\": \"SD\"}, {\"col\": \"contb_receipt_amt\", \"idx\": 230, \"val\": 41315.83}, {\"col\": \"cand_nm\", \"idx\": 231, \"val\": \"Clinton, Hillary Rodham\"}, {\"col\": \"contbr_st\", \"idx\": 231, \"val\": \"SO\"}, {\"col\": \"contb_receipt_amt\", \"idx\": 231, \"val\": 500.0}, {\"col\": \"cand_nm\", \"idx\": 232, \"val\": \"Clinton, Hillary Rodham\"}, {\"col\": \"contbr_st\", \"idx\": 232, \"val\": \"TN\"}, {\"col\": \"contb_receipt_amt\", \"idx\": 232, \"val\": 866136.74}, {\"col\": \"cand_nm\", \"idx\": 233, \"val\": \"Clinton, Hillary Rodham\"}, {\"col\": \"contbr_st\", \"idx\": 233, \"val\": \"TX\"}, {\"col\": \"contb_receipt_amt\", \"idx\": 233, \"val\": 5887674.089999993}, {\"col\": \"cand_nm\", \"idx\": 234, \"val\": \"Clinton, Hillary Rodham\"}, {\"col\": \"contbr_st\", \"idx\": 234, \"val\": \"UT\"}, {\"col\": \"contb_receipt_amt\", \"idx\": 234, \"val\": 307840.71}, {\"col\": \"cand_nm\", \"idx\": 235, \"val\": \"Clinton, Hillary Rodham\"}, {\"col\": \"contbr_st\", \"idx\": 235, \"val\": \"VA\"}, {\"col\": \"contb_receipt_amt\", \"idx\": 235, \"val\": 3283312.829999998}, {\"col\": \"cand_nm\", \"idx\": 236, \"val\": \"Clinton, Hillary Rodham\"}, {\"col\": \"contbr_st\", \"idx\": 236, \"val\": \"VI\"}, {\"col\": \"contb_receipt_amt\", \"idx\": 236, \"val\": 11758.37}, {\"col\": \"cand_nm\", \"idx\": 237, \"val\": \"Clinton, Hillary Rodham\"}, {\"col\": \"contbr_st\", \"idx\": 237, \"val\": \"VT\"}, {\"col\": \"contb_receipt_amt\", \"idx\": 237, \"val\": 103619.44}, {\"col\": \"cand_nm\", \"idx\": 238, \"val\": \"Clinton, Hillary Rodham\"}, {\"col\": \"contbr_st\", \"idx\": 238, \"val\": \"WA\"}, {\"col\": \"contb_receipt_amt\", \"idx\": 238, \"val\": 1576100.169999999}, {\"col\": \"cand_nm\", \"idx\": 239, \"val\": \"Clinton, Hillary Rodham\"}, {\"col\": \"contbr_st\", \"idx\": 239, \"val\": \"WI\"}, {\"col\": \"contb_receipt_amt\", \"idx\": 239, \"val\": 511622.76000000007}, {\"col\": \"cand_nm\", \"idx\": 240, \"val\": \"Clinton, Hillary Rodham\"}, {\"col\": \"contbr_st\", \"idx\": 240, \"val\": \"WV\"}, {\"col\": \"contb_receipt_amt\", \"idx\": 240, \"val\": 113048.59000000001}, {\"col\": \"cand_nm\", \"idx\": 241, \"val\": \"Clinton, Hillary Rodham\"}, {\"col\": \"contbr_st\", \"idx\": 241, \"val\": \"WY\"}, {\"col\": \"contb_receipt_amt\", \"idx\": 241, \"val\": 48607.38}, {\"col\": \"cand_nm\", \"idx\": 242, \"val\": \"Cruz, Rafael Edward 'Ted'\"}, {\"col\": \"contbr_st\", \"idx\": 242, \"val\": \"AA\"}, {\"col\": \"contb_receipt_amt\", \"idx\": 242, \"val\": 258.0}, {\"col\": \"cand_nm\", \"idx\": 243, \"val\": \"Cruz, Rafael Edward 'Ted'\"}, {\"col\": \"contbr_st\", \"idx\": 243, \"val\": \"AE\"}, {\"col\": \"contb_receipt_amt\", \"idx\": 243, \"val\": 6375.0}, {\"col\": \"cand_nm\", \"idx\": 244, \"val\": \"Cruz, Rafael Edward 'Ted'\"}, {\"col\": \"contbr_st\", \"idx\": 244, \"val\": \"AK\"}, {\"col\": \"contb_receipt_amt\", \"idx\": 244, \"val\": 67353.44}, {\"col\": \"cand_nm\", \"idx\": 245, \"val\": \"Cruz, Rafael Edward 'Ted'\"}, {\"col\": \"contbr_st\", \"idx\": 245, \"val\": \"AL\"}, {\"col\": \"contb_receipt_amt\", \"idx\": 245, \"val\": 373012.44}, {\"col\": \"cand_nm\", \"idx\": 246, \"val\": \"Cruz, Rafael Edward 'Ted'\"}, {\"col\": \"contbr_st\", \"idx\": 246, \"val\": \"AP\"}, {\"col\": \"contb_receipt_amt\", \"idx\": 246, \"val\": 2561.0}, {\"col\": \"cand_nm\", \"idx\": 247, \"val\": \"Cruz, Rafael Edward 'Ted'\"}, {\"col\": \"contbr_st\", \"idx\": 247, \"val\": \"AR\"}, {\"col\": \"contb_receipt_amt\", \"idx\": 247, \"val\": 164466.63}, {\"col\": \"cand_nm\", \"idx\": 248, \"val\": \"Cruz, Rafael Edward 'Ted'\"}, {\"col\": \"contbr_st\", \"idx\": 248, \"val\": \"AZ\"}, {\"col\": \"contb_receipt_amt\", \"idx\": 248, \"val\": 526588.25}, {\"col\": \"cand_nm\", \"idx\": 249, \"val\": \"Cruz, Rafael Edward 'Ted'\"}, {\"col\": \"contbr_st\", \"idx\": 249, \"val\": \"CA\"}, {\"col\": \"contb_receipt_amt\", \"idx\": 249, \"val\": 3133010.5300000007}, {\"col\": \"cand_nm\", \"idx\": 250, \"val\": \"Cruz, Rafael Edward 'Ted'\"}, {\"col\": \"contbr_st\", \"idx\": 250, \"val\": \"CO\"}, {\"col\": \"contb_receipt_amt\", \"idx\": 250, \"val\": 527798.02}, {\"col\": \"cand_nm\", \"idx\": 251, \"val\": \"Cruz, Rafael Edward 'Ted'\"}, {\"col\": \"contbr_st\", \"idx\": 251, \"val\": \"CT\"}, {\"col\": \"contb_receipt_amt\", \"idx\": 251, \"val\": 172512.5}, {\"col\": \"cand_nm\", \"idx\": 252, \"val\": \"Cruz, Rafael Edward 'Ted'\"}, {\"col\": \"contbr_st\", \"idx\": 252, \"val\": \"DC\"}, {\"col\": \"contb_receipt_amt\", \"idx\": 252, \"val\": 90797.21}, {\"col\": \"cand_nm\", \"idx\": 253, \"val\": \"Cruz, Rafael Edward 'Ted'\"}, {\"col\": \"contbr_st\", \"idx\": 253, \"val\": \"DE\"}, {\"col\": \"contb_receipt_amt\", \"idx\": 253, \"val\": 49066.0}, {\"col\": \"cand_nm\", \"idx\": 254, \"val\": \"Cruz, Rafael Edward 'Ted'\"}, {\"col\": \"contbr_st\", \"idx\": 254, \"val\": \"FF\"}, {\"col\": \"contb_receipt_amt\", \"idx\": 254, \"val\": 200.0}, {\"col\": \"cand_nm\", \"idx\": 255, \"val\": \"Cruz, Rafael Edward 'Ted'\"}, {\"col\": \"contbr_st\", \"idx\": 255, \"val\": \"FL\"}, {\"col\": \"contb_receipt_amt\", \"idx\": 255, \"val\": 1816751.4499999995}, {\"col\": \"cand_nm\", \"idx\": 256, \"val\": \"Cruz, Rafael Edward 'Ted'\"}, {\"col\": \"contbr_st\", \"idx\": 256, \"val\": \"GA\"}, {\"col\": \"contb_receipt_amt\", \"idx\": 256, \"val\": 617701.03}, {\"col\": \"cand_nm\", \"idx\": 257, \"val\": \"Cruz, Rafael Edward 'Ted'\"}, {\"col\": \"contbr_st\", \"idx\": 257, \"val\": \"GU\"}, {\"col\": \"contb_receipt_amt\", \"idx\": 257, \"val\": 1425.0}, {\"col\": \"cand_nm\", \"idx\": 258, \"val\": \"Cruz, Rafael Edward 'Ted'\"}, {\"col\": \"contbr_st\", \"idx\": 258, \"val\": \"HI\"}, {\"col\": \"contb_receipt_amt\", \"idx\": 258, \"val\": 63123.0}, {\"col\": \"cand_nm\", \"idx\": 259, \"val\": \"Cruz, Rafael Edward 'Ted'\"}, {\"col\": \"contbr_st\", \"idx\": 259, \"val\": \"IA\"}, {\"col\": \"contb_receipt_amt\", \"idx\": 259, \"val\": 228626.05000000002}, {\"col\": \"cand_nm\", \"idx\": 260, \"val\": \"Cruz, Rafael Edward 'Ted'\"}, {\"col\": \"contbr_st\", \"idx\": 260, \"val\": \"ID\"}, {\"col\": \"contb_receipt_amt\", \"idx\": 260, \"val\": 150886.0}, {\"col\": \"cand_nm\", \"idx\": 261, \"val\": \"Cruz, Rafael Edward 'Ted'\"}, {\"col\": \"contbr_st\", \"idx\": 261, \"val\": \"IL\"}, {\"col\": \"contb_receipt_amt\", \"idx\": 261, \"val\": 676155.3699999998}, {\"col\": \"cand_nm\", \"idx\": 262, \"val\": \"Cruz, Rafael Edward 'Ted'\"}, {\"col\": \"contbr_st\", \"idx\": 262, \"val\": \"IN\"}, {\"col\": \"contb_receipt_amt\", \"idx\": 262, \"val\": 309862.02999999997}, {\"col\": \"cand_nm\", \"idx\": 263, \"val\": \"Cruz, Rafael Edward 'Ted'\"}, {\"col\": \"contbr_st\", \"idx\": 263, \"val\": \"KS\"}, {\"col\": \"contb_receipt_amt\", \"idx\": 263, \"val\": 248454.92}, {\"col\": \"cand_nm\", \"idx\": 264, \"val\": \"Cruz, Rafael Edward 'Ted'\"}, {\"col\": \"contbr_st\", \"idx\": 264, \"val\": \"KY\"}, {\"col\": \"contb_receipt_amt\", \"idx\": 264, \"val\": 140902.65}, {\"col\": \"cand_nm\", \"idx\": 265, \"val\": \"Cruz, Rafael Edward 'Ted'\"}, {\"col\": \"contbr_st\", \"idx\": 265, \"val\": \"LA\"}, {\"col\": \"contb_receipt_amt\", \"idx\": 265, \"val\": 402058.82}, {\"col\": \"cand_nm\", \"idx\": 266, \"val\": \"Cruz, Rafael Edward 'Ted'\"}, {\"col\": \"contbr_st\", \"idx\": 266, \"val\": \"MA\"}, {\"col\": \"contb_receipt_amt\", \"idx\": 266, \"val\": 230653.6}, {\"col\": \"cand_nm\", \"idx\": 267, \"val\": \"Cruz, Rafael Edward 'Ted'\"}, {\"col\": \"contbr_st\", \"idx\": 267, \"val\": \"MD\"}, {\"col\": \"contb_receipt_amt\", \"idx\": 267, \"val\": 303895.5}, {\"col\": \"cand_nm\", \"idx\": 268, \"val\": \"Cruz, Rafael Edward 'Ted'\"}, {\"col\": \"contbr_st\", \"idx\": 268, \"val\": \"ME\"}, {\"col\": \"contb_receipt_amt\", \"idx\": 268, \"val\": 31488.0}, {\"col\": \"cand_nm\", \"idx\": 269, \"val\": \"Cruz, Rafael Edward 'Ted'\"}, {\"col\": \"contbr_st\", \"idx\": 269, \"val\": \"MI\"}, {\"col\": \"contb_receipt_amt\", \"idx\": 269, \"val\": 508109.08}, {\"col\": \"cand_nm\", \"idx\": 270, \"val\": \"Cruz, Rafael Edward 'Ted'\"}, {\"col\": \"contbr_st\", \"idx\": 270, \"val\": \"MN\"}, {\"col\": \"contb_receipt_amt\", \"idx\": 270, \"val\": 252206.74000000002}, {\"col\": \"cand_nm\", \"idx\": 271, \"val\": \"Cruz, Rafael Edward 'Ted'\"}, {\"col\": \"contbr_st\", \"idx\": 271, \"val\": \"MO\"}, {\"col\": \"contb_receipt_amt\", \"idx\": 271, \"val\": 501397.76}, {\"col\": \"cand_nm\", \"idx\": 272, \"val\": \"Cruz, Rafael Edward 'Ted'\"}, {\"col\": \"contbr_st\", \"idx\": 272, \"val\": \"MS\"}, {\"col\": \"contb_receipt_amt\", \"idx\": 272, \"val\": 133915.41}, {\"col\": \"cand_nm\", \"idx\": 273, \"val\": \"Cruz, Rafael Edward 'Ted'\"}, {\"col\": \"contbr_st\", \"idx\": 273, \"val\": \"MT\"}, {\"col\": \"contb_receipt_amt\", \"idx\": 273, \"val\": 121285.0}, {\"col\": \"cand_nm\", \"idx\": 274, \"val\": \"Cruz, Rafael Edward 'Ted'\"}, {\"col\": \"contbr_st\", \"idx\": 274, \"val\": \"NC\"}, {\"col\": \"contb_receipt_amt\", \"idx\": 274, \"val\": 485186.32999999984}, {\"col\": \"cand_nm\", \"idx\": 275, \"val\": \"Cruz, Rafael Edward 'Ted'\"}, {\"col\": \"contbr_st\", \"idx\": 275, \"val\": \"ND\"}, {\"col\": \"contb_receipt_amt\", \"idx\": 275, \"val\": 43833.0}, {\"col\": \"cand_nm\", \"idx\": 276, \"val\": \"Cruz, Rafael Edward 'Ted'\"}, {\"col\": \"contbr_st\", \"idx\": 276, \"val\": \"NE\"}, {\"col\": \"contb_receipt_amt\", \"idx\": 276, \"val\": 100692.5}, {\"col\": \"cand_nm\", \"idx\": 277, \"val\": \"Cruz, Rafael Edward 'Ted'\"}, {\"col\": \"contbr_st\", \"idx\": 277, \"val\": \"NH\"}, {\"col\": \"contb_receipt_amt\", \"idx\": 277, \"val\": 89312.78}, {\"col\": \"cand_nm\", \"idx\": 278, \"val\": \"Cruz, Rafael Edward 'Ted'\"}, {\"col\": \"contbr_st\", \"idx\": 278, \"val\": \"NJ\"}, {\"col\": \"contb_receipt_amt\", \"idx\": 278, \"val\": 491757.56000000006}, {\"col\": \"cand_nm\", \"idx\": 279, \"val\": \"Cruz, Rafael Edward 'Ted'\"}, {\"col\": \"contbr_st\", \"idx\": 279, \"val\": \"NM\"}, {\"col\": \"contb_receipt_amt\", \"idx\": 279, \"val\": 248760.4}, {\"col\": \"cand_nm\", \"idx\": 280, \"val\": \"Cruz, Rafael Edward 'Ted'\"}, {\"col\": \"contbr_st\", \"idx\": 280, \"val\": \"NV\"}, {\"col\": \"contb_receipt_amt\", \"idx\": 280, \"val\": 280434.15}, {\"col\": \"cand_nm\", \"idx\": 281, \"val\": \"Cruz, Rafael Edward 'Ted'\"}, {\"col\": \"contbr_st\", \"idx\": 281, \"val\": \"NY\"}, {\"col\": \"contb_receipt_amt\", \"idx\": 281, \"val\": 942644.07}, {\"col\": \"cand_nm\", \"idx\": 282, \"val\": \"Cruz, Rafael Edward 'Ted'\"}, {\"col\": \"contbr_st\", \"idx\": 282, \"val\": \"OH\"}, {\"col\": \"contb_receipt_amt\", \"idx\": 282, \"val\": 567408.6299999999}, {\"col\": \"cand_nm\", \"idx\": 283, \"val\": \"Cruz, Rafael Edward 'Ted'\"}, {\"col\": \"contbr_st\", \"idx\": 283, \"val\": \"OK\"}, {\"col\": \"contb_receipt_amt\", \"idx\": 283, \"val\": 397305.52999999997}, {\"col\": \"cand_nm\", \"idx\": 284, \"val\": \"Cruz, Rafael Edward 'Ted'\"}, {\"col\": \"contbr_st\", \"idx\": 284, \"val\": \"OR\"}, {\"col\": \"contb_receipt_amt\", \"idx\": 284, \"val\": 246100.9}, {\"col\": \"cand_nm\", \"idx\": 285, \"val\": \"Cruz, Rafael Edward 'Ted'\"}, {\"col\": \"contbr_st\", \"idx\": 285, \"val\": \"PA\"}, {\"col\": \"contb_receipt_amt\", \"idx\": 285, \"val\": 660259.61}, {\"col\": \"cand_nm\", \"idx\": 286, \"val\": \"Cruz, Rafael Edward 'Ted'\"}, {\"col\": \"contbr_st\", \"idx\": 286, \"val\": \"PR\"}, {\"col\": \"contb_receipt_amt\", \"idx\": 286, \"val\": 625.0}, {\"col\": \"cand_nm\", \"idx\": 287, \"val\": \"Cruz, Rafael Edward 'Ted'\"}, {\"col\": \"contbr_st\", \"idx\": 287, \"val\": \"RI\"}, {\"col\": \"contb_receipt_amt\", \"idx\": 287, \"val\": 31559.0}, {\"col\": \"cand_nm\", \"idx\": 288, \"val\": \"Cruz, Rafael Edward 'Ted'\"}, {\"col\": \"contbr_st\", \"idx\": 288, \"val\": \"SC\"}, {\"col\": \"contb_receipt_amt\", \"idx\": 288, \"val\": 404797.06999999983}, {\"col\": \"cand_nm\", \"idx\": 289, \"val\": \"Cruz, Rafael Edward 'Ted'\"}, {\"col\": \"contbr_st\", \"idx\": 289, \"val\": \"SD\"}, {\"col\": \"contb_receipt_amt\", \"idx\": 289, \"val\": 51629.0}, {\"col\": \"cand_nm\", \"idx\": 290, \"val\": \"Cruz, Rafael Edward 'Ted'\"}, {\"col\": \"contbr_st\", \"idx\": 290, \"val\": \"TE\"}, {\"col\": \"contb_receipt_amt\", \"idx\": 290, \"val\": 150.0}, {\"col\": \"cand_nm\", \"idx\": 291, \"val\": \"Cruz, Rafael Edward 'Ted'\"}, {\"col\": \"contbr_st\", \"idx\": 291, \"val\": \"TN\"}, {\"col\": \"contb_receipt_amt\", \"idx\": 291, \"val\": 508312.32}, {\"col\": \"cand_nm\", \"idx\": 292, \"val\": \"Cruz, Rafael Edward 'Ted'\"}, {\"col\": \"contbr_st\", \"idx\": 292, \"val\": \"TX\"}, {\"col\": \"contb_receipt_amt\", \"idx\": 292, \"val\": 15519794.49}, {\"col\": \"cand_nm\", \"idx\": 293, \"val\": \"Cruz, Rafael Edward 'Ted'\"}, {\"col\": \"contbr_st\", \"idx\": 293, \"val\": \"UT\"}, {\"col\": \"contb_receipt_amt\", \"idx\": 293, \"val\": 180679.81}, {\"col\": \"cand_nm\", \"idx\": 294, \"val\": \"Cruz, Rafael Edward 'Ted'\"}, {\"col\": \"contbr_st\", \"idx\": 294, \"val\": \"VA\"}, {\"col\": \"contb_receipt_amt\", \"idx\": 294, \"val\": 726109.7999999999}, {\"col\": \"cand_nm\", \"idx\": 295, \"val\": \"Cruz, Rafael Edward 'Ted'\"}, {\"col\": \"contbr_st\", \"idx\": 295, \"val\": \"VI\"}, {\"col\": \"contb_receipt_amt\", \"idx\": 295, \"val\": 1751.0}, {\"col\": \"cand_nm\", \"idx\": 296, \"val\": \"Cruz, Rafael Edward 'Ted'\"}, {\"col\": \"contbr_st\", \"idx\": 296, \"val\": \"VT\"}, {\"col\": \"contb_receipt_amt\", \"idx\": 296, \"val\": 29044.140000000003}, {\"col\": \"cand_nm\", \"idx\": 297, \"val\": \"Cruz, Rafael Edward 'Ted'\"}, {\"col\": \"contbr_st\", \"idx\": 297, \"val\": \"WA\"}, {\"col\": \"contb_receipt_amt\", \"idx\": 297, \"val\": 558715.6399999998}, {\"col\": \"cand_nm\", \"idx\": 298, \"val\": \"Cruz, Rafael Edward 'Ted'\"}, {\"col\": \"contbr_st\", \"idx\": 298, \"val\": \"WI\"}, {\"col\": \"contb_receipt_amt\", \"idx\": 298, \"val\": 156941.22}, {\"col\": \"cand_nm\", \"idx\": 299, \"val\": \"Cruz, Rafael Edward 'Ted'\"}, {\"col\": \"contbr_st\", \"idx\": 299, \"val\": \"WV\"}, {\"col\": \"contb_receipt_amt\", \"idx\": 299, \"val\": 122522.43}, {\"col\": \"cand_nm\", \"idx\": 300, \"val\": \"Cruz, Rafael Edward 'Ted'\"}, {\"col\": \"contbr_st\", \"idx\": 300, \"val\": \"WY\"}, {\"col\": \"contb_receipt_amt\", \"idx\": 300, \"val\": 113152.0}, {\"col\": \"cand_nm\", \"idx\": 301, \"val\": \"Cruz, Rafael Edward 'Ted'\"}, {\"col\": \"contbr_st\", \"idx\": 301, \"val\": \"XX\"}, {\"col\": \"contb_receipt_amt\", \"idx\": 301, \"val\": 9160.0}, {\"col\": \"cand_nm\", \"idx\": 302, \"val\": \"Fiorina, Carly\"}, {\"col\": \"contbr_st\", \"idx\": 302, \"val\": \"AE\"}, {\"col\": \"contb_receipt_amt\", \"idx\": 302, \"val\": 75.0}, {\"col\": \"cand_nm\", \"idx\": 303, \"val\": \"Fiorina, Carly\"}, {\"col\": \"contbr_st\", \"idx\": 303, \"val\": \"AK\"}, {\"col\": \"contb_receipt_amt\", \"idx\": 303, \"val\": 12795.5}, {\"col\": \"cand_nm\", \"idx\": 304, \"val\": \"Fiorina, Carly\"}, {\"col\": \"contbr_st\", \"idx\": 304, \"val\": \"AL\"}, {\"col\": \"contb_receipt_amt\", \"idx\": 304, \"val\": 30331.0}, {\"col\": \"cand_nm\", \"idx\": 305, \"val\": \"Fiorina, Carly\"}, {\"col\": \"contbr_st\", \"idx\": 305, \"val\": \"AP\"}, {\"col\": \"contb_receipt_amt\", \"idx\": 305, \"val\": 1125.0}, {\"col\": \"cand_nm\", \"idx\": 306, \"val\": \"Fiorina, Carly\"}, {\"col\": \"contbr_st\", \"idx\": 306, \"val\": \"AR\"}, {\"col\": \"contb_receipt_amt\", \"idx\": 306, \"val\": 16680.5}, {\"col\": \"cand_nm\", \"idx\": 307, \"val\": \"Fiorina, Carly\"}, {\"col\": \"contbr_st\", \"idx\": 307, \"val\": \"AZ\"}, {\"col\": \"contb_receipt_amt\", \"idx\": 307, \"val\": 187422.5}, {\"col\": \"cand_nm\", \"idx\": 308, \"val\": \"Fiorina, Carly\"}, {\"col\": \"contbr_st\", \"idx\": 308, \"val\": \"CA\"}, {\"col\": \"contb_receipt_amt\", \"idx\": 308, \"val\": 1452619.42}, {\"col\": \"cand_nm\", \"idx\": 309, \"val\": \"Fiorina, Carly\"}, {\"col\": \"contbr_st\", \"idx\": 309, \"val\": \"CO\"}, {\"col\": \"contb_receipt_amt\", \"idx\": 309, \"val\": 220494.65}, {\"col\": \"cand_nm\", \"idx\": 310, \"val\": \"Fiorina, Carly\"}, {\"col\": \"contbr_st\", \"idx\": 310, \"val\": \"CT\"}, {\"col\": \"contb_receipt_amt\", \"idx\": 310, \"val\": 83329.95}, {\"col\": \"cand_nm\", \"idx\": 311, \"val\": \"Fiorina, Carly\"}, {\"col\": \"contbr_st\", \"idx\": 311, \"val\": \"DC\"}, {\"col\": \"contb_receipt_amt\", \"idx\": 311, \"val\": 25525.0}, {\"col\": \"cand_nm\", \"idx\": 312, \"val\": \"Fiorina, Carly\"}, {\"col\": \"contbr_st\", \"idx\": 312, \"val\": \"DE\"}, {\"col\": \"contb_receipt_amt\", \"idx\": 312, \"val\": 14213.0}, {\"col\": \"cand_nm\", \"idx\": 313, \"val\": \"Fiorina, Carly\"}, {\"col\": \"contbr_st\", \"idx\": 313, \"val\": \"EN\"}, {\"col\": \"contb_receipt_amt\", \"idx\": 313, \"val\": 190.0}, {\"col\": \"cand_nm\", \"idx\": 314, \"val\": \"Fiorina, Carly\"}, {\"col\": \"contbr_st\", \"idx\": 314, \"val\": \"FF\"}, {\"col\": \"contb_receipt_amt\", \"idx\": 314, \"val\": 4700.0}, {\"col\": \"cand_nm\", \"idx\": 315, \"val\": \"Fiorina, Carly\"}, {\"col\": \"contbr_st\", \"idx\": 315, \"val\": \"FL\"}, {\"col\": \"contb_receipt_amt\", \"idx\": 315, \"val\": 425415.08}, {\"col\": \"cand_nm\", \"idx\": 316, \"val\": \"Fiorina, Carly\"}, {\"col\": \"contbr_st\", \"idx\": 316, \"val\": \"GA\"}, {\"col\": \"contb_receipt_amt\", \"idx\": 316, \"val\": 164939.97}, {\"col\": \"cand_nm\", \"idx\": 317, \"val\": \"Fiorina, Carly\"}, {\"col\": \"contbr_st\", \"idx\": 317, \"val\": \"HI\"}, {\"col\": \"contb_receipt_amt\", \"idx\": 317, \"val\": 22428.0}, {\"col\": \"cand_nm\", \"idx\": 318, \"val\": \"Fiorina, Carly\"}, {\"col\": \"contbr_st\", \"idx\": 318, \"val\": \"IA\"}, {\"col\": \"contb_receipt_amt\", \"idx\": 318, \"val\": 59751.399999999994}, {\"col\": \"cand_nm\", \"idx\": 319, \"val\": \"Fiorina, Carly\"}, {\"col\": \"contbr_st\", \"idx\": 319, \"val\": \"ID\"}, {\"col\": \"contb_receipt_amt\", \"idx\": 319, \"val\": 29807.0}, {\"col\": \"cand_nm\", \"idx\": 320, \"val\": \"Fiorina, Carly\"}, {\"col\": \"contbr_st\", \"idx\": 320, \"val\": \"IL\"}, {\"col\": \"contb_receipt_amt\", \"idx\": 320, \"val\": 151284.5}, {\"col\": \"cand_nm\", \"idx\": 321, \"val\": \"Fiorina, Carly\"}, {\"col\": \"contbr_st\", \"idx\": 321, \"val\": \"IN\"}, {\"col\": \"contb_receipt_amt\", \"idx\": 321, \"val\": 37434.0}, {\"col\": \"cand_nm\", \"idx\": 322, \"val\": \"Fiorina, Carly\"}, {\"col\": \"contbr_st\", \"idx\": 322, \"val\": \"KS\"}, {\"col\": \"contb_receipt_amt\", \"idx\": 322, \"val\": 31330.85}, {\"col\": \"cand_nm\", \"idx\": 323, \"val\": \"Fiorina, Carly\"}, {\"col\": \"contbr_st\", \"idx\": 323, \"val\": \"KY\"}, {\"col\": \"contb_receipt_amt\", \"idx\": 323, \"val\": 21734.0}, {\"col\": \"cand_nm\", \"idx\": 324, \"val\": \"Fiorina, Carly\"}, {\"col\": \"contbr_st\", \"idx\": 324, \"val\": \"LA\"}, {\"col\": \"contb_receipt_amt\", \"idx\": 324, \"val\": 74911.82}, {\"col\": \"cand_nm\", \"idx\": 325, \"val\": \"Fiorina, Carly\"}, {\"col\": \"contbr_st\", \"idx\": 325, \"val\": \"MA\"}, {\"col\": \"contb_receipt_amt\", \"idx\": 325, \"val\": 115982.48}, {\"col\": \"cand_nm\", \"idx\": 326, \"val\": \"Fiorina, Carly\"}, {\"col\": \"contbr_st\", \"idx\": 326, \"val\": \"MD\"}, {\"col\": \"contb_receipt_amt\", \"idx\": 326, \"val\": 75056.25}, {\"col\": \"cand_nm\", \"idx\": 327, \"val\": \"Fiorina, Carly\"}, {\"col\": \"contbr_st\", \"idx\": 327, \"val\": \"ME\"}, {\"col\": \"contb_receipt_amt\", \"idx\": 327, \"val\": 69124.0}, {\"col\": \"cand_nm\", \"idx\": 328, \"val\": \"Fiorina, Carly\"}, {\"col\": \"contbr_st\", \"idx\": 328, \"val\": \"MI\"}, {\"col\": \"contb_receipt_amt\", \"idx\": 328, \"val\": 101639.0}, {\"col\": \"cand_nm\", \"idx\": 329, \"val\": \"Fiorina, Carly\"}, {\"col\": \"contbr_st\", \"idx\": 329, \"val\": \"MN\"}, {\"col\": \"contb_receipt_amt\", \"idx\": 329, \"val\": 57315.0}, {\"col\": \"cand_nm\", \"idx\": 330, \"val\": \"Fiorina, Carly\"}, {\"col\": \"contbr_st\", \"idx\": 330, \"val\": \"MO\"}, {\"col\": \"contb_receipt_amt\", \"idx\": 330, \"val\": 42867.0}, {\"col\": \"cand_nm\", \"idx\": 331, \"val\": \"Fiorina, Carly\"}, {\"col\": \"contbr_st\", \"idx\": 331, \"val\": \"MS\"}, {\"col\": \"contb_receipt_amt\", \"idx\": 331, \"val\": 28613.0}, {\"col\": \"cand_nm\", \"idx\": 332, \"val\": \"Fiorina, Carly\"}, {\"col\": \"contbr_st\", \"idx\": 332, \"val\": \"MT\"}, {\"col\": \"contb_receipt_amt\", \"idx\": 332, \"val\": 15810.2}, {\"col\": \"cand_nm\", \"idx\": 333, \"val\": \"Fiorina, Carly\"}, {\"col\": \"contbr_st\", \"idx\": 333, \"val\": \"NC\"}, {\"col\": \"contb_receipt_amt\", \"idx\": 333, \"val\": 109967.86}, {\"col\": \"cand_nm\", \"idx\": 334, \"val\": \"Fiorina, Carly\"}, {\"col\": \"contbr_st\", \"idx\": 334, \"val\": \"ND\"}, {\"col\": \"contb_receipt_amt\", \"idx\": 334, \"val\": 4438.0}, {\"col\": \"cand_nm\", \"idx\": 335, \"val\": \"Fiorina, Carly\"}, {\"col\": \"contbr_st\", \"idx\": 335, \"val\": \"NE\"}, {\"col\": \"contb_receipt_amt\", \"idx\": 335, \"val\": 29367.0}, {\"col\": \"cand_nm\", \"idx\": 336, \"val\": \"Fiorina, Carly\"}, {\"col\": \"contbr_st\", \"idx\": 336, \"val\": \"NH\"}, {\"col\": \"contb_receipt_amt\", \"idx\": 336, \"val\": 61157.0}, {\"col\": \"cand_nm\", \"idx\": 337, \"val\": \"Fiorina, Carly\"}, {\"col\": \"contbr_st\", \"idx\": 337, \"val\": \"NJ\"}, {\"col\": \"contb_receipt_amt\", \"idx\": 337, \"val\": 86812.5}, {\"col\": \"cand_nm\", \"idx\": 338, \"val\": \"Fiorina, Carly\"}, {\"col\": \"contbr_st\", \"idx\": 338, \"val\": \"NM\"}, {\"col\": \"contb_receipt_amt\", \"idx\": 338, \"val\": 34545.0}, {\"col\": \"cand_nm\", \"idx\": 339, \"val\": \"Fiorina, Carly\"}, {\"col\": \"contbr_st\", \"idx\": 339, \"val\": \"NV\"}, {\"col\": \"contb_receipt_amt\", \"idx\": 339, \"val\": 69159.57}, {\"col\": \"cand_nm\", \"idx\": 340, \"val\": \"Fiorina, Carly\"}, {\"col\": \"contbr_st\", \"idx\": 340, \"val\": \"NY\"}, {\"col\": \"contb_receipt_amt\", \"idx\": 340, \"val\": 347983.23}, {\"col\": \"cand_nm\", \"idx\": 341, \"val\": \"Fiorina, Carly\"}, {\"col\": \"contbr_st\", \"idx\": 341, \"val\": \"OH\"}, {\"col\": \"contb_receipt_amt\", \"idx\": 341, \"val\": 80985.6}, {\"col\": \"cand_nm\", \"idx\": 342, \"val\": \"Fiorina, Carly\"}, {\"col\": \"contbr_st\", \"idx\": 342, \"val\": \"OK\"}, {\"col\": \"contb_receipt_amt\", \"idx\": 342, \"val\": 115806.5}, {\"col\": \"cand_nm\", \"idx\": 343, \"val\": \"Fiorina, Carly\"}, {\"col\": \"contbr_st\", \"idx\": 343, \"val\": \"OR\"}, {\"col\": \"contb_receipt_amt\", \"idx\": 343, \"val\": 31922.0}, {\"col\": \"cand_nm\", \"idx\": 344, \"val\": \"Fiorina, Carly\"}, {\"col\": \"contbr_st\", \"idx\": 344, \"val\": \"PA\"}, {\"col\": \"contb_receipt_amt\", \"idx\": 344, \"val\": 318925.85000000003}, {\"col\": \"cand_nm\", \"idx\": 345, \"val\": \"Fiorina, Carly\"}, {\"col\": \"contbr_st\", \"idx\": 345, \"val\": \"PR\"}, {\"col\": \"contb_receipt_amt\", \"idx\": 345, \"val\": 2915.0}, {\"col\": \"cand_nm\", \"idx\": 346, \"val\": \"Fiorina, Carly\"}, {\"col\": \"contbr_st\", \"idx\": 346, \"val\": \"RI\"}, {\"col\": \"contb_receipt_amt\", \"idx\": 346, \"val\": 5487.0}, {\"col\": \"cand_nm\", \"idx\": 347, \"val\": \"Fiorina, Carly\"}, {\"col\": \"contbr_st\", \"idx\": 347, \"val\": \"SC\"}, {\"col\": \"contb_receipt_amt\", \"idx\": 347, \"val\": 71546.76000000001}, {\"col\": \"cand_nm\", \"idx\": 348, \"val\": \"Fiorina, Carly\"}, {\"col\": \"contbr_st\", \"idx\": 348, \"val\": \"SD\"}, {\"col\": \"contb_receipt_amt\", \"idx\": 348, \"val\": 9935.0}, {\"col\": \"cand_nm\", \"idx\": 349, \"val\": \"Fiorina, Carly\"}, {\"col\": \"contbr_st\", \"idx\": 349, \"val\": \"TN\"}, {\"col\": \"contb_receipt_amt\", \"idx\": 349, \"val\": 74166.41}, {\"col\": \"cand_nm\", \"idx\": 350, \"val\": \"Fiorina, Carly\"}, {\"col\": \"contbr_st\", \"idx\": 350, \"val\": \"TX\"}, {\"col\": \"contb_receipt_amt\", \"idx\": 350, \"val\": 624766.5599999999}, {\"col\": \"cand_nm\", \"idx\": 351, \"val\": \"Fiorina, Carly\"}, {\"col\": \"contbr_st\", \"idx\": 351, \"val\": \"UT\"}, {\"col\": \"contb_receipt_amt\", \"idx\": 351, \"val\": 90856.1}, {\"col\": \"cand_nm\", \"idx\": 352, \"val\": \"Fiorina, Carly\"}, {\"col\": \"contbr_st\", \"idx\": 352, \"val\": \"VA\"}, {\"col\": \"contb_receipt_amt\", \"idx\": 352, \"val\": 277951.38}, {\"col\": \"cand_nm\", \"idx\": 353, \"val\": \"Fiorina, Carly\"}, {\"col\": \"contbr_st\", \"idx\": 353, \"val\": \"VI\"}, {\"col\": \"contb_receipt_amt\", \"idx\": 353, \"val\": 1000.0}, {\"col\": \"cand_nm\", \"idx\": 354, \"val\": \"Fiorina, Carly\"}, {\"col\": \"contbr_st\", \"idx\": 354, \"val\": \"VT\"}, {\"col\": \"contb_receipt_amt\", \"idx\": 354, \"val\": 4288.0}, {\"col\": \"cand_nm\", \"idx\": 355, \"val\": \"Fiorina, Carly\"}, {\"col\": \"contbr_st\", \"idx\": 355, \"val\": \"WA\"}, {\"col\": \"contb_receipt_amt\", \"idx\": 355, \"val\": 128041.0}, {\"col\": \"cand_nm\", \"idx\": 356, \"val\": \"Fiorina, Carly\"}, {\"col\": \"contbr_st\", \"idx\": 356, \"val\": \"WI\"}, {\"col\": \"contb_receipt_amt\", \"idx\": 356, \"val\": 87695.0}, {\"col\": \"cand_nm\", \"idx\": 357, \"val\": \"Fiorina, Carly\"}, {\"col\": \"contbr_st\", \"idx\": 357, \"val\": \"WV\"}, {\"col\": \"contb_receipt_amt\", \"idx\": 357, \"val\": 3833.0}, {\"col\": \"cand_nm\", \"idx\": 358, \"val\": \"Fiorina, Carly\"}, {\"col\": \"contbr_st\", \"idx\": 358, \"val\": \"WY\"}, {\"col\": \"contb_receipt_amt\", \"idx\": 358, \"val\": 23235.05}, {\"col\": \"cand_nm\", \"idx\": 359, \"val\": \"Fiorina, Carly\"}, {\"col\": \"contbr_st\", \"idx\": 359, \"val\": \"XX\"}, {\"col\": \"contb_receipt_amt\", \"idx\": 359, \"val\": 1250.0}, {\"col\": \"cand_nm\", \"idx\": 360, \"val\": \"Graham, Lindsey O.\"}, {\"col\": \"contbr_st\", \"idx\": 360, \"val\": \"AE\"}, {\"col\": \"contb_receipt_amt\", \"idx\": 360, \"val\": 100.0}, {\"col\": \"cand_nm\", \"idx\": 361, \"val\": \"Graham, Lindsey O.\"}, {\"col\": \"contbr_st\", \"idx\": 361, \"val\": \"AK\"}, {\"col\": \"contb_receipt_amt\", \"idx\": 361, \"val\": 250.0}, {\"col\": \"cand_nm\", \"idx\": 362, \"val\": \"Graham, Lindsey O.\"}, {\"col\": \"contbr_st\", \"idx\": 362, \"val\": \"AL\"}, {\"col\": \"contb_receipt_amt\", \"idx\": 362, \"val\": 855.0}, {\"col\": \"cand_nm\", \"idx\": 363, \"val\": \"Graham, Lindsey O.\"}, {\"col\": \"contbr_st\", \"idx\": 363, \"val\": \"AP\"}, {\"col\": \"contb_receipt_amt\", \"idx\": 363, \"val\": 451.6}, {\"col\": \"cand_nm\", \"idx\": 364, \"val\": \"Graham, Lindsey O.\"}, {\"col\": \"contbr_st\", \"idx\": 364, \"val\": \"AR\"}, {\"col\": \"contb_receipt_amt\", \"idx\": 364, \"val\": 69950.0}, {\"col\": \"cand_nm\", \"idx\": 365, \"val\": \"Graham, Lindsey O.\"}, {\"col\": \"contbr_st\", \"idx\": 365, \"val\": \"AZ\"}, {\"col\": \"contb_receipt_amt\", \"idx\": 365, \"val\": 9450.0}, {\"col\": \"cand_nm\", \"idx\": 366, \"val\": \"Graham, Lindsey O.\"}, {\"col\": \"contbr_st\", \"idx\": 366, \"val\": \"CA\"}, {\"col\": \"contb_receipt_amt\", \"idx\": 366, \"val\": 400495.0}, {\"col\": \"cand_nm\", \"idx\": 367, \"val\": \"Graham, Lindsey O.\"}, {\"col\": \"contbr_st\", \"idx\": 367, \"val\": \"CO\"}, {\"col\": \"contb_receipt_amt\", \"idx\": 367, \"val\": 43450.0}, {\"col\": \"cand_nm\", \"idx\": 368, \"val\": \"Graham, Lindsey O.\"}, {\"col\": \"contbr_st\", \"idx\": 368, \"val\": \"CT\"}, {\"col\": \"contb_receipt_amt\", \"idx\": 368, \"val\": 83135.0}, {\"col\": \"cand_nm\", \"idx\": 369, \"val\": \"Graham, Lindsey O.\"}, {\"col\": \"contbr_st\", \"idx\": 369, \"val\": \"DC\"}, {\"col\": \"contb_receipt_amt\", \"idx\": 369, \"val\": 36150.0}, {\"col\": \"cand_nm\", \"idx\": 370, \"val\": \"Graham, Lindsey O.\"}, {\"col\": \"contbr_st\", \"idx\": 370, \"val\": \"FL\"}, {\"col\": \"contb_receipt_amt\", \"idx\": 370, \"val\": 137982.0}, {\"col\": \"cand_nm\", \"idx\": 371, \"val\": \"Graham, Lindsey O.\"}, {\"col\": \"contbr_st\", \"idx\": 371, \"val\": \"GA\"}, {\"col\": \"contb_receipt_amt\", \"idx\": 371, \"val\": 64273.62}, {\"col\": \"cand_nm\", \"idx\": 372, \"val\": \"Graham, Lindsey O.\"}, {\"col\": \"contbr_st\", \"idx\": 372, \"val\": \"HI\"}, {\"col\": \"contb_receipt_amt\", \"idx\": 372, \"val\": 1100.0}, {\"col\": \"cand_nm\", \"idx\": 373, \"val\": \"Graham, Lindsey O.\"}, {\"col\": \"contbr_st\", \"idx\": 373, \"val\": \"IA\"}, {\"col\": \"contb_receipt_amt\", \"idx\": 373, \"val\": 5050.0}, {\"col\": \"cand_nm\", \"idx\": 374, \"val\": \"Graham, Lindsey O.\"}, {\"col\": \"contbr_st\", \"idx\": 374, \"val\": \"IL\"}, {\"col\": \"contb_receipt_amt\", \"idx\": 374, \"val\": 54510.0}, {\"col\": \"cand_nm\", \"idx\": 375, \"val\": \"Graham, Lindsey O.\"}, {\"col\": \"contbr_st\", \"idx\": 375, \"val\": \"IN\"}, {\"col\": \"contb_receipt_amt\", \"idx\": 375, \"val\": 7500.0}, {\"col\": \"cand_nm\", \"idx\": 376, \"val\": \"Graham, Lindsey O.\"}, {\"col\": \"contbr_st\", \"idx\": 376, \"val\": \"KS\"}, {\"col\": \"contb_receipt_amt\", \"idx\": 376, \"val\": 3450.0}, {\"col\": \"cand_nm\", \"idx\": 377, \"val\": \"Graham, Lindsey O.\"}, {\"col\": \"contbr_st\", \"idx\": 377, \"val\": \"KY\"}, {\"col\": \"contb_receipt_amt\", \"idx\": 377, \"val\": 3625.0}, {\"col\": \"cand_nm\", \"idx\": 378, \"val\": \"Graham, Lindsey O.\"}, {\"col\": \"contbr_st\", \"idx\": 378, \"val\": \"LA\"}, {\"col\": \"contb_receipt_amt\", \"idx\": 378, \"val\": 13675.0}, {\"col\": \"cand_nm\", \"idx\": 379, \"val\": \"Graham, Lindsey O.\"}, {\"col\": \"contbr_st\", \"idx\": 379, \"val\": \"MA\"}, {\"col\": \"contb_receipt_amt\", \"idx\": 379, \"val\": 151130.0}, {\"col\": \"cand_nm\", \"idx\": 380, \"val\": \"Graham, Lindsey O.\"}, {\"col\": \"contbr_st\", \"idx\": 380, \"val\": \"MD\"}, {\"col\": \"contb_receipt_amt\", \"idx\": 380, \"val\": 32960.0}, {\"col\": \"cand_nm\", \"idx\": 381, \"val\": \"Graham, Lindsey O.\"}, {\"col\": \"contbr_st\", \"idx\": 381, \"val\": \"ME\"}, {\"col\": \"contb_receipt_amt\", \"idx\": 381, \"val\": 130.0}, {\"col\": \"cand_nm\", \"idx\": 382, \"val\": \"Graham, Lindsey O.\"}, {\"col\": \"contbr_st\", \"idx\": 382, \"val\": \"MI\"}, {\"col\": \"contb_receipt_amt\", \"idx\": 382, \"val\": 21635.0}, {\"col\": \"cand_nm\", \"idx\": 383, \"val\": \"Graham, Lindsey O.\"}, {\"col\": \"contbr_st\", \"idx\": 383, \"val\": \"MN\"}, {\"col\": \"contb_receipt_amt\", \"idx\": 383, \"val\": 3950.0}, {\"col\": \"cand_nm\", \"idx\": 384, \"val\": \"Graham, Lindsey O.\"}, {\"col\": \"contbr_st\", \"idx\": 384, \"val\": \"MO\"}, {\"col\": \"contb_receipt_amt\", \"idx\": 384, \"val\": 1815.0}, {\"col\": \"cand_nm\", \"idx\": 385, \"val\": \"Graham, Lindsey O.\"}, {\"col\": \"contbr_st\", \"idx\": 385, \"val\": \"MS\"}, {\"col\": \"contb_receipt_amt\", \"idx\": 385, \"val\": 5500.0}, {\"col\": \"cand_nm\", \"idx\": 386, \"val\": \"Graham, Lindsey O.\"}, {\"col\": \"contbr_st\", \"idx\": 386, \"val\": \"MT\"}, {\"col\": \"contb_receipt_amt\", \"idx\": 386, \"val\": 1000.0}, {\"col\": \"cand_nm\", \"idx\": 387, \"val\": \"Graham, Lindsey O.\"}, {\"col\": \"contbr_st\", \"idx\": 387, \"val\": \"NC\"}, {\"col\": \"contb_receipt_amt\", \"idx\": 387, \"val\": 169347.08000000002}, {\"col\": \"cand_nm\", \"idx\": 388, \"val\": \"Graham, Lindsey O.\"}, {\"col\": \"contbr_st\", \"idx\": 388, \"val\": \"ND\"}, {\"col\": \"contb_receipt_amt\", \"idx\": 388, \"val\": 1000.0}, {\"col\": \"cand_nm\", \"idx\": 389, \"val\": \"Graham, Lindsey O.\"}, {\"col\": \"contbr_st\", \"idx\": 389, \"val\": \"NE\"}, {\"col\": \"contb_receipt_amt\", \"idx\": 389, \"val\": 4675.0}, {\"col\": \"cand_nm\", \"idx\": 390, \"val\": \"Graham, Lindsey O.\"}, {\"col\": \"contbr_st\", \"idx\": 390, \"val\": \"NH\"}, {\"col\": \"contb_receipt_amt\", \"idx\": 390, \"val\": 14505.0}, {\"col\": \"cand_nm\", \"idx\": 391, \"val\": \"Graham, Lindsey O.\"}, {\"col\": \"contbr_st\", \"idx\": 391, \"val\": \"NJ\"}, {\"col\": \"contb_receipt_amt\", \"idx\": 391, \"val\": 74990.0}, {\"col\": \"cand_nm\", \"idx\": 392, \"val\": \"Graham, Lindsey O.\"}, {\"col\": \"contbr_st\", \"idx\": 392, \"val\": \"NM\"}, {\"col\": \"contb_receipt_amt\", \"idx\": 392, \"val\": 570.0}, {\"col\": \"cand_nm\", \"idx\": 393, \"val\": \"Graham, Lindsey O.\"}, {\"col\": \"contbr_st\", \"idx\": 393, \"val\": \"NV\"}, {\"col\": \"contb_receipt_amt\", \"idx\": 393, \"val\": 24275.0}, {\"col\": \"cand_nm\", \"idx\": 394, \"val\": \"Graham, Lindsey O.\"}, {\"col\": \"contbr_st\", \"idx\": 394, \"val\": \"NY\"}, {\"col\": \"contb_receipt_amt\", \"idx\": 394, \"val\": 376822.07}, {\"col\": \"cand_nm\", \"idx\": 395, \"val\": \"Graham, Lindsey O.\"}, {\"col\": \"contbr_st\", \"idx\": 395, \"val\": \"OH\"}, {\"col\": \"contb_receipt_amt\", \"idx\": 395, \"val\": 15600.0}, {\"col\": \"cand_nm\", \"idx\": 396, \"val\": \"Graham, Lindsey O.\"}, {\"col\": \"contbr_st\", \"idx\": 396, \"val\": \"OK\"}, {\"col\": \"contb_receipt_amt\", \"idx\": 396, \"val\": 4450.0}, {\"col\": \"cand_nm\", \"idx\": 397, \"val\": \"Graham, Lindsey O.\"}, {\"col\": \"contbr_st\", \"idx\": 397, \"val\": \"OR\"}, {\"col\": \"contb_receipt_amt\", \"idx\": 397, \"val\": 300.0}, {\"col\": \"cand_nm\", \"idx\": 398, \"val\": \"Graham, Lindsey O.\"}, {\"col\": \"contbr_st\", \"idx\": 398, \"val\": \"PA\"}, {\"col\": \"contb_receipt_amt\", \"idx\": 398, \"val\": 30950.0}, {\"col\": \"cand_nm\", \"idx\": 399, \"val\": \"Graham, Lindsey O.\"}, {\"col\": \"contbr_st\", \"idx\": 399, \"val\": \"RI\"}, {\"col\": \"contb_receipt_amt\", \"idx\": 399, \"val\": 2760.0}, {\"col\": \"cand_nm\", \"idx\": 400, \"val\": \"Graham, Lindsey O.\"}, {\"col\": \"contbr_st\", \"idx\": 400, \"val\": \"SC\"}, {\"col\": \"contb_receipt_amt\", \"idx\": 400, \"val\": 1505911.6500000001}, {\"col\": \"cand_nm\", \"idx\": 401, \"val\": \"Graham, Lindsey O.\"}, {\"col\": \"contbr_st\", \"idx\": 401, \"val\": \"TN\"}, {\"col\": \"contb_receipt_amt\", \"idx\": 401, \"val\": 18050.0}, {\"col\": \"cand_nm\", \"idx\": 402, \"val\": \"Graham, Lindsey O.\"}, {\"col\": \"contbr_st\", \"idx\": 402, \"val\": \"TX\"}, {\"col\": \"contb_receipt_amt\", \"idx\": 402, \"val\": 159086.0}, {\"col\": \"cand_nm\", \"idx\": 403, \"val\": \"Graham, Lindsey O.\"}, {\"col\": \"contbr_st\", \"idx\": 403, \"val\": \"UT\"}, {\"col\": \"contb_receipt_amt\", \"idx\": 403, \"val\": 1250.0}, {\"col\": \"cand_nm\", \"idx\": 404, \"val\": \"Graham, Lindsey O.\"}, {\"col\": \"contbr_st\", \"idx\": 404, \"val\": \"VA\"}, {\"col\": \"contb_receipt_amt\", \"idx\": 404, \"val\": 92000.0}, {\"col\": \"cand_nm\", \"idx\": 405, \"val\": \"Graham, Lindsey O.\"}, {\"col\": \"contbr_st\", \"idx\": 405, \"val\": \"VI\"}, {\"col\": \"contb_receipt_amt\", \"idx\": 405, \"val\": 2700.0}, {\"col\": \"cand_nm\", \"idx\": 406, \"val\": \"Graham, Lindsey O.\"}, {\"col\": \"contbr_st\", \"idx\": 406, \"val\": \"VT\"}, {\"col\": \"contb_receipt_amt\", \"idx\": 406, \"val\": 500.0}, {\"col\": \"cand_nm\", \"idx\": 407, \"val\": \"Graham, Lindsey O.\"}, {\"col\": \"contbr_st\", \"idx\": 407, \"val\": \"WA\"}, {\"col\": \"contb_receipt_amt\", \"idx\": 407, \"val\": 14700.0}, {\"col\": \"cand_nm\", \"idx\": 408, \"val\": \"Graham, Lindsey O.\"}, {\"col\": \"contbr_st\", \"idx\": 408, \"val\": \"WI\"}, {\"col\": \"contb_receipt_amt\", \"idx\": 408, \"val\": 950.0}, {\"col\": \"cand_nm\", \"idx\": 409, \"val\": \"Graham, Lindsey O.\"}, {\"col\": \"contbr_st\", \"idx\": 409, \"val\": \"WY\"}, {\"col\": \"contb_receipt_amt\", \"idx\": 409, \"val\": 2950.0}, {\"col\": \"cand_nm\", \"idx\": 410, \"val\": \"Graham, Lindsey O.\"}, {\"col\": \"contbr_st\", \"idx\": 410, \"val\": \"XX\"}, {\"col\": \"contb_receipt_amt\", \"idx\": 410, \"val\": 1250.0}, {\"col\": \"cand_nm\", \"idx\": 411, \"val\": \"Huckabee, Mike\"}, {\"col\": \"contbr_st\", \"idx\": 411, \"val\": \"AK\"}, {\"col\": \"contb_receipt_amt\", \"idx\": 411, \"val\": 1753.0}, {\"col\": \"cand_nm\", \"idx\": 412, \"val\": \"Huckabee, Mike\"}, {\"col\": \"contbr_st\", \"idx\": 412, \"val\": \"AL\"}, {\"col\": \"contb_receipt_amt\", \"idx\": 412, \"val\": 75891.5}, {\"col\": \"cand_nm\", \"idx\": 413, \"val\": \"Huckabee, Mike\"}, {\"col\": \"contbr_st\", \"idx\": 413, \"val\": \"AR\"}, {\"col\": \"contb_receipt_amt\", \"idx\": 413, \"val\": 503162.6}, {\"col\": \"cand_nm\", \"idx\": 414, \"val\": \"Huckabee, Mike\"}, {\"col\": \"contbr_st\", \"idx\": 414, \"val\": \"AZ\"}, {\"col\": \"contb_receipt_amt\", \"idx\": 414, \"val\": 62372.0}, {\"col\": \"cand_nm\", \"idx\": 415, \"val\": \"Huckabee, Mike\"}, {\"col\": \"contbr_st\", \"idx\": 415, \"val\": \"CA\"}, {\"col\": \"contb_receipt_amt\", \"idx\": 415, \"val\": 225351.6}, {\"col\": \"cand_nm\", \"idx\": 416, \"val\": \"Huckabee, Mike\"}, {\"col\": \"contbr_st\", \"idx\": 416, \"val\": \"CO\"}, {\"col\": \"contb_receipt_amt\", \"idx\": 416, \"val\": 19487.8}, {\"col\": \"cand_nm\", \"idx\": 417, \"val\": \"Huckabee, Mike\"}, {\"col\": \"contbr_st\", \"idx\": 417, \"val\": \"CT\"}, {\"col\": \"contb_receipt_amt\", \"idx\": 417, \"val\": 6277.5}, {\"col\": \"cand_nm\", \"idx\": 418, \"val\": \"Huckabee, Mike\"}, {\"col\": \"contbr_st\", \"idx\": 418, \"val\": \"DC\"}, {\"col\": \"contb_receipt_amt\", \"idx\": 418, \"val\": 250.0}, {\"col\": \"cand_nm\", \"idx\": 419, \"val\": \"Huckabee, Mike\"}, {\"col\": \"contbr_st\", \"idx\": 419, \"val\": \"DE\"}, {\"col\": \"contb_receipt_amt\", \"idx\": 419, \"val\": 1300.0}, {\"col\": \"cand_nm\", \"idx\": 420, \"val\": \"Huckabee, Mike\"}, {\"col\": \"contbr_st\", \"idx\": 420, \"val\": \"FL\"}, {\"col\": \"contb_receipt_amt\", \"idx\": 420, \"val\": 162879.0}, {\"col\": \"cand_nm\", \"idx\": 421, \"val\": \"Huckabee, Mike\"}, {\"col\": \"contbr_st\", \"idx\": 421, \"val\": \"GA\"}, {\"col\": \"contb_receipt_amt\", \"idx\": 421, \"val\": 57158.5}, {\"col\": \"cand_nm\", \"idx\": 422, \"val\": \"Huckabee, Mike\"}, {\"col\": \"contbr_st\", \"idx\": 422, \"val\": \"GU\"}, {\"col\": \"contb_receipt_amt\", \"idx\": 422, \"val\": 101.0}, {\"col\": \"cand_nm\", \"idx\": 423, \"val\": \"Huckabee, Mike\"}, {\"col\": \"contbr_st\", \"idx\": 423, \"val\": \"HI\"}, {\"col\": \"contb_receipt_amt\", \"idx\": 423, \"val\": 1150.0}, {\"col\": \"cand_nm\", \"idx\": 424, \"val\": \"Huckabee, Mike\"}, {\"col\": \"contbr_st\", \"idx\": 424, \"val\": \"IA\"}, {\"col\": \"contb_receipt_amt\", \"idx\": 424, \"val\": 23380.22}, {\"col\": \"cand_nm\", \"idx\": 425, \"val\": \"Huckabee, Mike\"}, {\"col\": \"contbr_st\", \"idx\": 425, \"val\": \"ID\"}, {\"col\": \"contb_receipt_amt\", \"idx\": 425, \"val\": 2381.0}, {\"col\": \"cand_nm\", \"idx\": 426, \"val\": \"Huckabee, Mike\"}, {\"col\": \"contbr_st\", \"idx\": 426, \"val\": \"IL\"}, {\"col\": \"contb_receipt_amt\", \"idx\": 426, \"val\": 17940.2}, {\"col\": \"cand_nm\", \"idx\": 427, \"val\": \"Huckabee, Mike\"}, {\"col\": \"contbr_st\", \"idx\": 427, \"val\": \"IN\"}, {\"col\": \"contb_receipt_amt\", \"idx\": 427, \"val\": 10877.5}, {\"col\": \"cand_nm\", \"idx\": 428, \"val\": \"Huckabee, Mike\"}, {\"col\": \"contbr_st\", \"idx\": 428, \"val\": \"KS\"}, {\"col\": \"contb_receipt_amt\", \"idx\": 428, \"val\": 9848.0}, {\"col\": \"cand_nm\", \"idx\": 429, \"val\": \"Huckabee, Mike\"}, {\"col\": \"contbr_st\", \"idx\": 429, \"val\": \"KY\"}, {\"col\": \"contb_receipt_amt\", \"idx\": 429, \"val\": 15376.0}, {\"col\": \"cand_nm\", \"idx\": 430, \"val\": \"Huckabee, Mike\"}, {\"col\": \"contbr_st\", \"idx\": 430, \"val\": \"LA\"}, {\"col\": \"contb_receipt_amt\", \"idx\": 430, \"val\": 63208.0}, {\"col\": \"cand_nm\", \"idx\": 431, \"val\": \"Huckabee, Mike\"}, {\"col\": \"contbr_st\", \"idx\": 431, \"val\": \"MA\"}, {\"col\": \"contb_receipt_amt\", \"idx\": 431, \"val\": 7682.0}, {\"col\": \"cand_nm\", \"idx\": 432, \"val\": \"Huckabee, Mike\"}, {\"col\": \"contbr_st\", \"idx\": 432, \"val\": \"MD\"}, {\"col\": \"contb_receipt_amt\", \"idx\": 432, \"val\": 8516.5}, {\"col\": \"cand_nm\", \"idx\": 433, \"val\": \"Huckabee, Mike\"}, {\"col\": \"contbr_st\", \"idx\": 433, \"val\": \"ME\"}, {\"col\": \"contb_receipt_amt\", \"idx\": 433, \"val\": 710.0}, {\"col\": \"cand_nm\", \"idx\": 434, \"val\": \"Huckabee, Mike\"}, {\"col\": \"contbr_st\", \"idx\": 434, \"val\": \"MI\"}, {\"col\": \"contb_receipt_amt\", \"idx\": 434, \"val\": 8179.0}, {\"col\": \"cand_nm\", \"idx\": 435, \"val\": \"Huckabee, Mike\"}, {\"col\": \"contbr_st\", \"idx\": 435, \"val\": \"MN\"}, {\"col\": \"contb_receipt_amt\", \"idx\": 435, \"val\": 9005.6}, {\"col\": \"cand_nm\", \"idx\": 436, \"val\": \"Huckabee, Mike\"}, {\"col\": \"contbr_st\", \"idx\": 436, \"val\": \"MO\"}, {\"col\": \"contb_receipt_amt\", \"idx\": 436, \"val\": 87757.6}, {\"col\": \"cand_nm\", \"idx\": 437, \"val\": \"Huckabee, Mike\"}, {\"col\": \"contbr_st\", \"idx\": 437, \"val\": \"MS\"}, {\"col\": \"contb_receipt_amt\", \"idx\": 437, \"val\": 13531.5}, {\"col\": \"cand_nm\", \"idx\": 438, \"val\": \"Huckabee, Mike\"}, {\"col\": \"contbr_st\", \"idx\": 438, \"val\": \"MT\"}, {\"col\": \"contb_receipt_amt\", \"idx\": 438, \"val\": 10317.0}, {\"col\": \"cand_nm\", \"idx\": 439, \"val\": \"Huckabee, Mike\"}, {\"col\": \"contbr_st\", \"idx\": 439, \"val\": \"NC\"}, {\"col\": \"contb_receipt_amt\", \"idx\": 439, \"val\": 77305.08}, {\"col\": \"cand_nm\", \"idx\": 440, \"val\": \"Huckabee, Mike\"}, {\"col\": \"contbr_st\", \"idx\": 440, \"val\": \"ND\"}, {\"col\": \"contb_receipt_amt\", \"idx\": 440, \"val\": 1000.0}, {\"col\": \"cand_nm\", \"idx\": 441, \"val\": \"Huckabee, Mike\"}, {\"col\": \"contbr_st\", \"idx\": 441, \"val\": \"NE\"}, {\"col\": \"contb_receipt_amt\", \"idx\": 441, \"val\": 5476.0}, {\"col\": \"cand_nm\", \"idx\": 442, \"val\": \"Huckabee, Mike\"}, {\"col\": \"contbr_st\", \"idx\": 442, \"val\": \"NH\"}, {\"col\": \"contb_receipt_amt\", \"idx\": 442, \"val\": 250.0}, {\"col\": \"cand_nm\", \"idx\": 443, \"val\": \"Huckabee, Mike\"}, {\"col\": \"contbr_st\", \"idx\": 443, \"val\": \"NJ\"}, {\"col\": \"contb_receipt_amt\", \"idx\": 443, \"val\": 16917.5}, {\"col\": \"cand_nm\", \"idx\": 444, \"val\": \"Huckabee, Mike\"}, {\"col\": \"contbr_st\", \"idx\": 444, \"val\": \"NM\"}, {\"col\": \"contb_receipt_amt\", \"idx\": 444, \"val\": 5000.0}, {\"col\": \"cand_nm\", \"idx\": 445, \"val\": \"Huckabee, Mike\"}, {\"col\": \"contbr_st\", \"idx\": 445, \"val\": \"NV\"}, {\"col\": \"contb_receipt_amt\", \"idx\": 445, \"val\": 9462.0}, {\"col\": \"cand_nm\", \"idx\": 446, \"val\": \"Huckabee, Mike\"}, {\"col\": \"contbr_st\", \"idx\": 446, \"val\": \"NY\"}, {\"col\": \"contb_receipt_amt\", \"idx\": 446, \"val\": 145297.5}, {\"col\": \"cand_nm\", \"idx\": 447, \"val\": \"Huckabee, Mike\"}, {\"col\": \"contbr_st\", \"idx\": 447, \"val\": \"OH\"}, {\"col\": \"contb_receipt_amt\", \"idx\": 447, \"val\": 9999.0}, {\"col\": \"cand_nm\", \"idx\": 448, \"val\": \"Huckabee, Mike\"}, {\"col\": \"contbr_st\", \"idx\": 448, \"val\": \"OK\"}, {\"col\": \"contb_receipt_amt\", \"idx\": 448, \"val\": 16493.0}, {\"col\": \"cand_nm\", \"idx\": 449, \"val\": \"Huckabee, Mike\"}, {\"col\": \"contbr_st\", \"idx\": 449, \"val\": \"OR\"}, {\"col\": \"contb_receipt_amt\", \"idx\": 449, \"val\": 5727.0}, {\"col\": \"cand_nm\", \"idx\": 450, \"val\": \"Huckabee, Mike\"}, {\"col\": \"contbr_st\", \"idx\": 450, \"val\": \"PA\"}, {\"col\": \"contb_receipt_amt\", \"idx\": 450, \"val\": 30324.0}, {\"col\": \"cand_nm\", \"idx\": 451, \"val\": \"Huckabee, Mike\"}, {\"col\": \"contbr_st\", \"idx\": 451, \"val\": \"SC\"}, {\"col\": \"contb_receipt_amt\", \"idx\": 451, \"val\": 17652.0}, {\"col\": \"cand_nm\", \"idx\": 452, \"val\": \"Huckabee, Mike\"}, {\"col\": \"contbr_st\", \"idx\": 452, \"val\": \"SD\"}, {\"col\": \"contb_receipt_amt\", \"idx\": 452, \"val\": 4865.0}, {\"col\": \"cand_nm\", \"idx\": 453, \"val\": \"Huckabee, Mike\"}, {\"col\": \"contbr_st\", \"idx\": 453, \"val\": \"TN\"}, {\"col\": \"contb_receipt_amt\", \"idx\": 453, \"val\": 192617.0}, {\"col\": \"cand_nm\", \"idx\": 454, \"val\": \"Huckabee, Mike\"}, {\"col\": \"contbr_st\", \"idx\": 454, \"val\": \"TX\"}, {\"col\": \"contb_receipt_amt\", \"idx\": 454, \"val\": 304463.14999999997}, {\"col\": \"cand_nm\", \"idx\": 455, \"val\": \"Huckabee, Mike\"}, {\"col\": \"contbr_st\", \"idx\": 455, \"val\": \"UT\"}, {\"col\": \"contb_receipt_amt\", \"idx\": 455, \"val\": 275.0}, {\"col\": \"cand_nm\", \"idx\": 456, \"val\": \"Huckabee, Mike\"}, {\"col\": \"contbr_st\", \"idx\": 456, \"val\": \"VA\"}, {\"col\": \"contb_receipt_amt\", \"idx\": 456, \"val\": 19376.9}, {\"col\": \"cand_nm\", \"idx\": 457, \"val\": \"Huckabee, Mike\"}, {\"col\": \"contbr_st\", \"idx\": 457, \"val\": \"VT\"}, {\"col\": \"contb_receipt_amt\", \"idx\": 457, \"val\": 100.0}, {\"col\": \"cand_nm\", \"idx\": 458, \"val\": \"Huckabee, Mike\"}, {\"col\": \"contbr_st\", \"idx\": 458, \"val\": \"WA\"}, {\"col\": \"contb_receipt_amt\", \"idx\": 458, \"val\": 9525.0}, {\"col\": \"cand_nm\", \"idx\": 459, \"val\": \"Huckabee, Mike\"}, {\"col\": \"contbr_st\", \"idx\": 459, \"val\": \"WI\"}, {\"col\": \"contb_receipt_amt\", \"idx\": 459, \"val\": 3413.0}, {\"col\": \"cand_nm\", \"idx\": 460, \"val\": \"Huckabee, Mike\"}, {\"col\": \"contbr_st\", \"idx\": 460, \"val\": \"WV\"}, {\"col\": \"contb_receipt_amt\", \"idx\": 460, \"val\": 1307.0}, {\"col\": \"cand_nm\", \"idx\": 461, \"val\": \"Huckabee, Mike\"}, {\"col\": \"contbr_st\", \"idx\": 461, \"val\": \"WY\"}, {\"col\": \"contb_receipt_amt\", \"idx\": 461, \"val\": 500.0}, {\"col\": \"cand_nm\", \"idx\": 462, \"val\": \"Jindal, Bobby\"}, {\"col\": \"contbr_st\", \"idx\": 462, \"val\": \"AL\"}, {\"col\": \"contb_receipt_amt\", \"idx\": 462, \"val\": 2759.0}, {\"col\": \"cand_nm\", \"idx\": 463, \"val\": \"Jindal, Bobby\"}, {\"col\": \"contbr_st\", \"idx\": 463, \"val\": \"AR\"}, {\"col\": \"contb_receipt_amt\", \"idx\": 463, \"val\": 3950.0}, {\"col\": \"cand_nm\", \"idx\": 464, \"val\": \"Jindal, Bobby\"}, {\"col\": \"contbr_st\", \"idx\": 464, \"val\": \"AZ\"}, {\"col\": \"contb_receipt_amt\", \"idx\": 464, \"val\": 8925.0}, {\"col\": \"cand_nm\", \"idx\": 465, \"val\": \"Jindal, Bobby\"}, {\"col\": \"contbr_st\", \"idx\": 465, \"val\": \"CA\"}, {\"col\": \"contb_receipt_amt\", \"idx\": 465, \"val\": 23231.260000000002}, {\"col\": \"cand_nm\", \"idx\": 466, \"val\": \"Jindal, Bobby\"}, {\"col\": \"contbr_st\", \"idx\": 466, \"val\": \"CO\"}, {\"col\": \"contb_receipt_amt\", \"idx\": 466, \"val\": 7000.0}, {\"col\": \"cand_nm\", \"idx\": 467, \"val\": \"Jindal, Bobby\"}, {\"col\": \"contbr_st\", \"idx\": 467, \"val\": \"CT\"}, {\"col\": \"contb_receipt_amt\", \"idx\": 467, \"val\": 2700.0}, {\"col\": \"cand_nm\", \"idx\": 468, \"val\": \"Jindal, Bobby\"}, {\"col\": \"contbr_st\", \"idx\": 468, \"val\": \"FL\"}, {\"col\": \"contb_receipt_amt\", \"idx\": 468, \"val\": 32050.0}, {\"col\": \"cand_nm\", \"idx\": 469, \"val\": \"Jindal, Bobby\"}, {\"col\": \"contbr_st\", \"idx\": 469, \"val\": \"GA\"}, {\"col\": \"contb_receipt_amt\", \"idx\": 469, \"val\": 3600.0}, {\"col\": \"cand_nm\", \"idx\": 470, \"val\": \"Jindal, Bobby\"}, {\"col\": \"contbr_st\", \"idx\": 470, \"val\": \"IA\"}, {\"col\": \"contb_receipt_amt\", \"idx\": 470, \"val\": 6420.16}, {\"col\": \"cand_nm\", \"idx\": 471, \"val\": \"Jindal, Bobby\"}, {\"col\": \"contbr_st\", \"idx\": 471, \"val\": \"ID\"}, {\"col\": \"contb_receipt_amt\", \"idx\": 471, \"val\": 1050.0}, {\"col\": \"cand_nm\", \"idx\": 472, \"val\": \"Jindal, Bobby\"}, {\"col\": \"contbr_st\", \"idx\": 472, \"val\": \"IL\"}, {\"col\": \"contb_receipt_amt\", \"idx\": 472, \"val\": 5500.0}, {\"col\": \"cand_nm\", \"idx\": 473, \"val\": \"Jindal, Bobby\"}, {\"col\": \"contbr_st\", \"idx\": 473, \"val\": \"IN\"}, {\"col\": \"contb_receipt_amt\", \"idx\": 473, \"val\": 3450.0}, {\"col\": \"cand_nm\", \"idx\": 474, \"val\": \"Jindal, Bobby\"}, {\"col\": \"contbr_st\", \"idx\": 474, \"val\": \"KS\"}, {\"col\": \"contb_receipt_amt\", \"idx\": 474, \"val\": 250.0}, {\"col\": \"cand_nm\", \"idx\": 475, \"val\": \"Jindal, Bobby\"}, {\"col\": \"contbr_st\", \"idx\": 475, \"val\": \"LA\"}, {\"col\": \"contb_receipt_amt\", \"idx\": 475, \"val\": 934939.3200000001}, {\"col\": \"cand_nm\", \"idx\": 476, \"val\": \"Jindal, Bobby\"}, {\"col\": \"contbr_st\", \"idx\": 476, \"val\": \"MA\"}, {\"col\": \"contb_receipt_amt\", \"idx\": 476, \"val\": 250.0}, {\"col\": \"cand_nm\", \"idx\": 477, \"val\": \"Jindal, Bobby\"}, {\"col\": \"contbr_st\", \"idx\": 477, \"val\": \"MD\"}, {\"col\": \"contb_receipt_amt\", \"idx\": 477, \"val\": 9650.0}, {\"col\": \"cand_nm\", \"idx\": 478, \"val\": \"Jindal, Bobby\"}, {\"col\": \"contbr_st\", \"idx\": 478, \"val\": \"MI\"}, {\"col\": \"contb_receipt_amt\", \"idx\": 478, \"val\": 11300.0}, {\"col\": \"cand_nm\", \"idx\": 479, \"val\": \"Jindal, Bobby\"}, {\"col\": \"contbr_st\", \"idx\": 479, \"val\": \"MO\"}, {\"col\": \"contb_receipt_amt\", \"idx\": 479, \"val\": 12060.0}, {\"col\": \"cand_nm\", \"idx\": 480, \"val\": \"Jindal, Bobby\"}, {\"col\": \"contbr_st\", \"idx\": 480, \"val\": \"MS\"}, {\"col\": \"contb_receipt_amt\", \"idx\": 480, \"val\": 13500.0}, {\"col\": \"cand_nm\", \"idx\": 481, \"val\": \"Jindal, Bobby\"}, {\"col\": \"contbr_st\", \"idx\": 481, \"val\": \"NC\"}, {\"col\": \"contb_receipt_amt\", \"idx\": 481, \"val\": 15885.0}, {\"col\": \"cand_nm\", \"idx\": 482, \"val\": \"Jindal, Bobby\"}, {\"col\": \"contbr_st\", \"idx\": 482, \"val\": \"NE\"}, {\"col\": \"contb_receipt_amt\", \"idx\": 482, \"val\": 300.0}, {\"col\": \"cand_nm\", \"idx\": 483, \"val\": \"Jindal, Bobby\"}, {\"col\": \"contbr_st\", \"idx\": 483, \"val\": \"NH\"}, {\"col\": \"contb_receipt_amt\", \"idx\": 483, \"val\": 1250.0}, {\"col\": \"cand_nm\", \"idx\": 484, \"val\": \"Jindal, Bobby\"}, {\"col\": \"contbr_st\", \"idx\": 484, \"val\": \"NJ\"}, {\"col\": \"contb_receipt_amt\", \"idx\": 484, \"val\": 6250.0}, {\"col\": \"cand_nm\", \"idx\": 485, \"val\": \"Jindal, Bobby\"}, {\"col\": \"contbr_st\", \"idx\": 485, \"val\": \"NM\"}, {\"col\": \"contb_receipt_amt\", \"idx\": 485, \"val\": 500.0}, {\"col\": \"cand_nm\", \"idx\": 486, \"val\": \"Jindal, Bobby\"}, {\"col\": \"contbr_st\", \"idx\": 486, \"val\": \"NV\"}, {\"col\": \"contb_receipt_amt\", \"idx\": 486, \"val\": 250.0}, {\"col\": \"cand_nm\", \"idx\": 487, \"val\": \"Jindal, Bobby\"}, {\"col\": \"contbr_st\", \"idx\": 487, \"val\": \"NY\"}, {\"col\": \"contb_receipt_amt\", \"idx\": 487, \"val\": 32176.42}, {\"col\": \"cand_nm\", \"idx\": 488, \"val\": \"Jindal, Bobby\"}, {\"col\": \"contbr_st\", \"idx\": 488, \"val\": \"OH\"}, {\"col\": \"contb_receipt_amt\", \"idx\": 488, \"val\": 3420.16}, {\"col\": \"cand_nm\", \"idx\": 489, \"val\": \"Jindal, Bobby\"}, {\"col\": \"contbr_st\", \"idx\": 489, \"val\": \"OK\"}, {\"col\": \"contb_receipt_amt\", \"idx\": 489, \"val\": 7143.0}, {\"col\": \"cand_nm\", \"idx\": 490, \"val\": \"Jindal, Bobby\"}, {\"col\": \"contbr_st\", \"idx\": 490, \"val\": \"OR\"}, {\"col\": \"contb_receipt_amt\", \"idx\": 490, \"val\": 270.15999999999997}, {\"col\": \"cand_nm\", \"idx\": 491, \"val\": \"Jindal, Bobby\"}, {\"col\": \"contbr_st\", \"idx\": 491, \"val\": \"PA\"}, {\"col\": \"contb_receipt_amt\", \"idx\": 491, \"val\": 7595.16}, {\"col\": \"cand_nm\", \"idx\": 492, \"val\": \"Jindal, Bobby\"}, {\"col\": \"contbr_st\", \"idx\": 492, \"val\": \"SC\"}, {\"col\": \"contb_receipt_amt\", \"idx\": 492, \"val\": 2061.26}, {\"col\": \"cand_nm\", \"idx\": 493, \"val\": \"Jindal, Bobby\"}, {\"col\": \"contbr_st\", \"idx\": 493, \"val\": \"SD\"}, {\"col\": \"contb_receipt_amt\", \"idx\": 493, \"val\": 500.0}, {\"col\": \"cand_nm\", \"idx\": 494, \"val\": \"Jindal, Bobby\"}, {\"col\": \"contbr_st\", \"idx\": 494, \"val\": \"TN\"}, {\"col\": \"contb_receipt_amt\", \"idx\": 494, \"val\": 1050.0}, {\"col\": \"cand_nm\", \"idx\": 495, \"val\": \"Jindal, Bobby\"}, {\"col\": \"contbr_st\", \"idx\": 495, \"val\": \"TX\"}, {\"col\": \"contb_receipt_amt\", \"idx\": 495, \"val\": 45160.0}, {\"col\": \"cand_nm\", \"idx\": 496, \"val\": \"Jindal, Bobby\"}, {\"col\": \"contbr_st\", \"idx\": 496, \"val\": \"UT\"}, {\"col\": \"contb_receipt_amt\", \"idx\": 496, \"val\": 250.0}, {\"col\": \"cand_nm\", \"idx\": 497, \"val\": \"Jindal, Bobby\"}, {\"col\": \"contbr_st\", \"idx\": 497, \"val\": \"VA\"}, {\"col\": \"contb_receipt_amt\", \"idx\": 497, \"val\": 19716.0}, {\"col\": \"cand_nm\", \"idx\": 498, \"val\": \"Jindal, Bobby\"}, {\"col\": \"contbr_st\", \"idx\": 498, \"val\": \"WA\"}, {\"col\": \"contb_receipt_amt\", \"idx\": 498, \"val\": 6231.26}, {\"col\": \"cand_nm\", \"idx\": 499, \"val\": \"Jindal, Bobby\"}, {\"col\": \"contbr_st\", \"idx\": 499, \"val\": \"WI\"}, {\"col\": \"contb_receipt_amt\", \"idx\": 499, \"val\": 32000.0}, {\"col\": \"cand_nm\", \"idx\": 500, \"val\": \"Kasich, John R.\"}, {\"col\": \"contbr_st\", \"idx\": 500, \"val\": \"AK\"}, {\"col\": \"contb_receipt_amt\", \"idx\": 500, \"val\": 3070.0}, {\"col\": \"cand_nm\", \"idx\": 501, \"val\": \"Kasich, John R.\"}, {\"col\": \"contbr_st\", \"idx\": 501, \"val\": \"AL\"}, {\"col\": \"contb_receipt_amt\", \"idx\": 501, \"val\": 28821.0}, {\"col\": \"cand_nm\", \"idx\": 502, \"val\": \"Kasich, John R.\"}, {\"col\": \"contbr_st\", \"idx\": 502, \"val\": \"AR\"}, {\"col\": \"contb_receipt_amt\", \"idx\": 502, \"val\": 12700.0}, {\"col\": \"cand_nm\", \"idx\": 503, \"val\": \"Kasich, John R.\"}, {\"col\": \"contbr_st\", \"idx\": 503, \"val\": \"AZ\"}, {\"col\": \"contb_receipt_amt\", \"idx\": 503, \"val\": 38796.0}, {\"col\": \"cand_nm\", \"idx\": 504, \"val\": \"Kasich, John R.\"}, {\"col\": \"contbr_st\", \"idx\": 504, \"val\": \"CA\"}, {\"col\": \"contb_receipt_amt\", \"idx\": 504, \"val\": 708585.37}, {\"col\": \"cand_nm\", \"idx\": 505, \"val\": \"Kasich, John R.\"}, {\"col\": \"contbr_st\", \"idx\": 505, \"val\": \"CO\"}, {\"col\": \"contb_receipt_amt\", \"idx\": 505, \"val\": 47214.5}, {\"col\": \"cand_nm\", \"idx\": 506, \"val\": \"Kasich, John R.\"}, {\"col\": \"contbr_st\", \"idx\": 506, \"val\": \"CT\"}, {\"col\": \"contb_receipt_amt\", \"idx\": 506, \"val\": 95530.0}, {\"col\": \"cand_nm\", \"idx\": 507, \"val\": \"Kasich, John R.\"}, {\"col\": \"contbr_st\", \"idx\": 507, \"val\": \"DC\"}, {\"col\": \"contb_receipt_amt\", \"idx\": 507, \"val\": 44484.0}, {\"col\": \"cand_nm\", \"idx\": 508, \"val\": \"Kasich, John R.\"}, {\"col\": \"contbr_st\", \"idx\": 508, \"val\": \"DE\"}, {\"col\": \"contb_receipt_amt\", \"idx\": 508, \"val\": 8150.0}, {\"col\": \"cand_nm\", \"idx\": 509, \"val\": \"Kasich, John R.\"}, {\"col\": \"contbr_st\", \"idx\": 509, \"val\": \"FL\"}, {\"col\": \"contb_receipt_amt\", \"idx\": 509, \"val\": 378319.37}, {\"col\": \"cand_nm\", \"idx\": 510, \"val\": \"Kasich, John R.\"}, {\"col\": \"contbr_st\", \"idx\": 510, \"val\": \"GA\"}, {\"col\": \"contb_receipt_amt\", \"idx\": 510, \"val\": 49205.0}, {\"col\": \"cand_nm\", \"idx\": 511, \"val\": \"Kasich, John R.\"}, {\"col\": \"contbr_st\", \"idx\": 511, \"val\": \"HI\"}, {\"col\": \"contb_receipt_amt\", \"idx\": 511, \"val\": 500.0}, {\"col\": \"cand_nm\", \"idx\": 512, \"val\": \"Kasich, John R.\"}, {\"col\": \"contbr_st\", \"idx\": 512, \"val\": \"IA\"}, {\"col\": \"contb_receipt_amt\", \"idx\": 512, \"val\": 31686.0}, {\"col\": \"cand_nm\", \"idx\": 513, \"val\": \"Kasich, John R.\"}, {\"col\": \"contbr_st\", \"idx\": 513, \"val\": \"ID\"}, {\"col\": \"contb_receipt_amt\", \"idx\": 513, \"val\": 9250.0}, {\"col\": \"cand_nm\", \"idx\": 514, \"val\": \"Kasich, John R.\"}, {\"col\": \"contbr_st\", \"idx\": 514, \"val\": \"IL\"}, {\"col\": \"contb_receipt_amt\", \"idx\": 514, \"val\": 274626.0}, {\"col\": \"cand_nm\", \"idx\": 515, \"val\": \"Kasich, John R.\"}, {\"col\": \"contbr_st\", \"idx\": 515, \"val\": \"IN\"}, {\"col\": \"contb_receipt_amt\", \"idx\": 515, \"val\": 44350.0}, {\"col\": \"cand_nm\", \"idx\": 516, \"val\": \"Kasich, John R.\"}, {\"col\": \"contbr_st\", \"idx\": 516, \"val\": \"KS\"}, {\"col\": \"contb_receipt_amt\", \"idx\": 516, \"val\": 11626.0}, {\"col\": \"cand_nm\", \"idx\": 517, \"val\": \"Kasich, John R.\"}, {\"col\": \"contbr_st\", \"idx\": 517, \"val\": \"KY\"}, {\"col\": \"contb_receipt_amt\", \"idx\": 517, \"val\": 63035.0}, {\"col\": \"cand_nm\", \"idx\": 518, \"val\": \"Kasich, John R.\"}, {\"col\": \"contbr_st\", \"idx\": 518, \"val\": \"LA\"}, {\"col\": \"contb_receipt_amt\", \"idx\": 518, \"val\": 11941.0}, {\"col\": \"cand_nm\", \"idx\": 519, \"val\": \"Kasich, John R.\"}, {\"col\": \"contbr_st\", \"idx\": 519, \"val\": \"MA\"}, {\"col\": \"contb_receipt_amt\", \"idx\": 519, \"val\": 174766.0}, {\"col\": \"cand_nm\", \"idx\": 520, \"val\": \"Kasich, John R.\"}, {\"col\": \"contbr_st\", \"idx\": 520, \"val\": \"MD\"}, {\"col\": \"contb_receipt_amt\", \"idx\": 520, \"val\": 54343.0}, {\"col\": \"cand_nm\", \"idx\": 521, \"val\": \"Kasich, John R.\"}, {\"col\": \"contbr_st\", \"idx\": 521, \"val\": \"ME\"}, {\"col\": \"contb_receipt_amt\", \"idx\": 521, \"val\": 4881.0}, {\"col\": \"cand_nm\", \"idx\": 522, \"val\": \"Kasich, John R.\"}, {\"col\": \"contbr_st\", \"idx\": 522, \"val\": \"MI\"}, {\"col\": \"contb_receipt_amt\", \"idx\": 522, \"val\": 235787.0}, {\"col\": \"cand_nm\", \"idx\": 523, \"val\": \"Kasich, John R.\"}, {\"col\": \"contbr_st\", \"idx\": 523, \"val\": \"MN\"}, {\"col\": \"contb_receipt_amt\", \"idx\": 523, \"val\": 28370.0}, {\"col\": \"cand_nm\", \"idx\": 524, \"val\": \"Kasich, John R.\"}, {\"col\": \"contbr_st\", \"idx\": 524, \"val\": \"MO\"}, {\"col\": \"contb_receipt_amt\", \"idx\": 524, \"val\": 38331.0}, {\"col\": \"cand_nm\", \"idx\": 525, \"val\": \"Kasich, John R.\"}, {\"col\": \"contbr_st\", \"idx\": 525, \"val\": \"MS\"}, {\"col\": \"contb_receipt_amt\", \"idx\": 525, \"val\": 54733.0}, {\"col\": \"cand_nm\", \"idx\": 526, \"val\": \"Kasich, John R.\"}, {\"col\": \"contbr_st\", \"idx\": 526, \"val\": \"MT\"}, {\"col\": \"contb_receipt_amt\", \"idx\": 526, \"val\": 6850.0}, {\"col\": \"cand_nm\", \"idx\": 527, \"val\": \"Kasich, John R.\"}, {\"col\": \"contbr_st\", \"idx\": 527, \"val\": \"NC\"}, {\"col\": \"contb_receipt_amt\", \"idx\": 527, \"val\": 41768.0}, {\"col\": \"cand_nm\", \"idx\": 528, \"val\": \"Kasich, John R.\"}, {\"col\": \"contbr_st\", \"idx\": 528, \"val\": \"ND\"}, {\"col\": \"contb_receipt_amt\", \"idx\": 528, \"val\": 2786.0}, {\"col\": \"cand_nm\", \"idx\": 529, \"val\": \"Kasich, John R.\"}, {\"col\": \"contbr_st\", \"idx\": 529, \"val\": \"NE\"}, {\"col\": \"contb_receipt_amt\", \"idx\": 529, \"val\": 1050.0}, {\"col\": \"cand_nm\", \"idx\": 530, \"val\": \"Kasich, John R.\"}, {\"col\": \"contbr_st\", \"idx\": 530, \"val\": \"NH\"}, {\"col\": \"contb_receipt_amt\", \"idx\": 530, \"val\": 67672.0}, {\"col\": \"cand_nm\", \"idx\": 531, \"val\": \"Kasich, John R.\"}, {\"col\": \"contbr_st\", \"idx\": 531, \"val\": \"NJ\"}, {\"col\": \"contb_receipt_amt\", \"idx\": 531, \"val\": 49546.0}, {\"col\": \"cand_nm\", \"idx\": 532, \"val\": \"Kasich, John R.\"}, {\"col\": \"contbr_st\", \"idx\": 532, \"val\": \"NM\"}, {\"col\": \"contb_receipt_amt\", \"idx\": 532, \"val\": 6150.0}, {\"col\": \"cand_nm\", \"idx\": 533, \"val\": \"Kasich, John R.\"}, {\"col\": \"contbr_st\", \"idx\": 533, \"val\": \"NV\"}, {\"col\": \"contb_receipt_amt\", \"idx\": 533, \"val\": 17153.0}, {\"col\": \"cand_nm\", \"idx\": 534, \"val\": \"Kasich, John R.\"}, {\"col\": \"contbr_st\", \"idx\": 534, \"val\": \"NY\"}, {\"col\": \"contb_receipt_amt\", \"idx\": 534, \"val\": 327397.0}, {\"col\": \"cand_nm\", \"idx\": 535, \"val\": \"Kasich, John R.\"}, {\"col\": \"contbr_st\", \"idx\": 535, \"val\": \"OH\"}, {\"col\": \"contb_receipt_amt\", \"idx\": 535, \"val\": 3601071.6500000004}, {\"col\": \"cand_nm\", \"idx\": 536, \"val\": \"Kasich, John R.\"}, {\"col\": \"contbr_st\", \"idx\": 536, \"val\": \"OK\"}, {\"col\": \"contb_receipt_amt\", \"idx\": 536, \"val\": 13800.0}, {\"col\": \"cand_nm\", \"idx\": 537, \"val\": \"Kasich, John R.\"}, {\"col\": \"contbr_st\", \"idx\": 537, \"val\": \"OR\"}, {\"col\": \"contb_receipt_amt\", \"idx\": 537, \"val\": 7225.0}, {\"col\": \"cand_nm\", \"idx\": 538, \"val\": \"Kasich, John R.\"}, {\"col\": \"contbr_st\", \"idx\": 538, \"val\": \"PA\"}, {\"col\": \"contb_receipt_amt\", \"idx\": 538, \"val\": 240649.25}, {\"col\": \"cand_nm\", \"idx\": 539, \"val\": \"Kasich, John R.\"}, {\"col\": \"contbr_st\", \"idx\": 539, \"val\": \"RI\"}, {\"col\": \"contb_receipt_amt\", \"idx\": 539, \"val\": 11600.0}, {\"col\": \"cand_nm\", \"idx\": 540, \"val\": \"Kasich, John R.\"}, {\"col\": \"contbr_st\", \"idx\": 540, \"val\": \"SC\"}, {\"col\": \"contb_receipt_amt\", \"idx\": 540, \"val\": 29626.0}, {\"col\": \"cand_nm\", \"idx\": 541, \"val\": \"Kasich, John R.\"}, {\"col\": \"contbr_st\", \"idx\": 541, \"val\": \"SD\"}, {\"col\": \"contb_receipt_amt\", \"idx\": 541, \"val\": 3250.0}, {\"col\": \"cand_nm\", \"idx\": 542, \"val\": \"Kasich, John R.\"}, {\"col\": \"contbr_st\", \"idx\": 542, \"val\": \"TN\"}, {\"col\": \"contb_receipt_amt\", \"idx\": 542, \"val\": 95881.0}, {\"col\": \"cand_nm\", \"idx\": 543, \"val\": \"Kasich, John R.\"}, {\"col\": \"contbr_st\", \"idx\": 543, \"val\": \"TX\"}, {\"col\": \"contb_receipt_amt\", \"idx\": 543, \"val\": 199603.0}, {\"col\": \"cand_nm\", \"idx\": 544, \"val\": \"Kasich, John R.\"}, {\"col\": \"contbr_st\", \"idx\": 544, \"val\": \"UT\"}, {\"col\": \"contb_receipt_amt\", \"idx\": 544, \"val\": 26200.0}, {\"col\": \"cand_nm\", \"idx\": 545, \"val\": \"Kasich, John R.\"}, {\"col\": \"contbr_st\", \"idx\": 545, \"val\": \"VA\"}, {\"col\": \"contb_receipt_amt\", \"idx\": 545, \"val\": 188532.0}, {\"col\": \"cand_nm\", \"idx\": 546, \"val\": \"Kasich, John R.\"}, {\"col\": \"contbr_st\", \"idx\": 546, \"val\": \"VT\"}, {\"col\": \"contb_receipt_amt\", \"idx\": 546, \"val\": 50.0}, {\"col\": \"cand_nm\", \"idx\": 547, \"val\": \"Kasich, John R.\"}, {\"col\": \"contbr_st\", \"idx\": 547, \"val\": \"WA\"}, {\"col\": \"contb_receipt_amt\", \"idx\": 547, \"val\": 30422.0}, {\"col\": \"cand_nm\", \"idx\": 548, \"val\": \"Kasich, John R.\"}, {\"col\": \"contbr_st\", \"idx\": 548, \"val\": \"WI\"}, {\"col\": \"contb_receipt_amt\", \"idx\": 548, \"val\": 14575.0}, {\"col\": \"cand_nm\", \"idx\": 549, \"val\": \"Kasich, John R.\"}, {\"col\": \"contbr_st\", \"idx\": 549, \"val\": \"WV\"}, {\"col\": \"contb_receipt_amt\", \"idx\": 549, \"val\": 15725.0}, {\"col\": \"cand_nm\", \"idx\": 550, \"val\": \"Kasich, John R.\"}, {\"col\": \"contbr_st\", \"idx\": 550, \"val\": \"WY\"}, {\"col\": \"contb_receipt_amt\", \"idx\": 550, \"val\": 8200.0}, {\"col\": \"cand_nm\", \"idx\": 551, \"val\": \"Kasich, John R.\"}, {\"col\": \"contbr_st\", \"idx\": 551, \"val\": \"ZZ\"}, {\"col\": \"contb_receipt_amt\", \"idx\": 551, \"val\": -50.0}, {\"col\": \"cand_nm\", \"idx\": 552, \"val\": \"Lessig, Lawrence\"}, {\"col\": \"contbr_st\", \"idx\": 552, \"val\": \"AL\"}, {\"col\": \"contb_receipt_amt\", \"idx\": 552, \"val\": 1000.0}, {\"col\": \"cand_nm\", \"idx\": 553, \"val\": \"Lessig, Lawrence\"}, {\"col\": \"contbr_st\", \"idx\": 553, \"val\": \"AR\"}, {\"col\": \"contb_receipt_amt\", \"idx\": 553, \"val\": 250.0}, {\"col\": \"cand_nm\", \"idx\": 554, \"val\": \"Lessig, Lawrence\"}, {\"col\": \"contbr_st\", \"idx\": 554, \"val\": \"AZ\"}, {\"col\": \"contb_receipt_amt\", \"idx\": 554, \"val\": 1250.0}, {\"col\": \"cand_nm\", \"idx\": 555, \"val\": \"Lessig, Lawrence\"}, {\"col\": \"contbr_st\", \"idx\": 555, \"val\": \"CA\"}, {\"col\": \"contb_receipt_amt\", \"idx\": 555, \"val\": 186144.49999999997}, {\"col\": \"cand_nm\", \"idx\": 556, \"val\": \"Lessig, Lawrence\"}, {\"col\": \"contbr_st\", \"idx\": 556, \"val\": \"CO\"}, {\"col\": \"contb_receipt_amt\", \"idx\": 556, \"val\": 11850.87}, {\"col\": \"cand_nm\", \"idx\": 557, \"val\": \"Lessig, Lawrence\"}, {\"col\": \"contbr_st\", \"idx\": 557, \"val\": \"CT\"}, {\"col\": \"contb_receipt_amt\", \"idx\": 557, \"val\": 17525.0}, {\"col\": \"cand_nm\", \"idx\": 558, \"val\": \"Lessig, Lawrence\"}, {\"col\": \"contbr_st\", \"idx\": 558, \"val\": \"DC\"}, {\"col\": \"contb_receipt_amt\", \"idx\": 558, \"val\": 8295.0}, {\"col\": \"cand_nm\", \"idx\": 559, \"val\": \"Lessig, Lawrence\"}, {\"col\": \"contbr_st\", \"idx\": 559, \"val\": \"DE\"}, {\"col\": \"contb_receipt_amt\", \"idx\": 559, \"val\": 1616.75}, {\"col\": \"cand_nm\", \"idx\": 560, \"val\": \"Lessig, Lawrence\"}, {\"col\": \"contbr_st\", \"idx\": 560, \"val\": \"FL\"}, {\"col\": \"contb_receipt_amt\", \"idx\": 560, \"val\": 16432.5}, {\"col\": \"cand_nm\", \"idx\": 561, \"val\": \"Lessig, Lawrence\"}, {\"col\": \"contbr_st\", \"idx\": 561, \"val\": \"GA\"}, {\"col\": \"contb_receipt_amt\", \"idx\": 561, \"val\": 3618.38}, {\"col\": \"cand_nm\", \"idx\": 562, \"val\": \"Lessig, Lawrence\"}, {\"col\": \"contbr_st\", \"idx\": 562, \"val\": \"HI\"}, {\"col\": \"contb_receipt_amt\", \"idx\": 562, \"val\": 3751.4799999999996}, {\"col\": \"cand_nm\", \"idx\": 563, \"val\": \"Lessig, Lawrence\"}, {\"col\": \"contbr_st\", \"idx\": 563, \"val\": \"IA\"}, {\"col\": \"contb_receipt_amt\", \"idx\": 563, \"val\": 777.94}, {\"col\": \"cand_nm\", \"idx\": 564, \"val\": \"Lessig, Lawrence\"}, {\"col\": \"contbr_st\", \"idx\": 564, \"val\": \"ID\"}, {\"col\": \"contb_receipt_amt\", \"idx\": 564, \"val\": 550.0}, {\"col\": \"cand_nm\", \"idx\": 565, \"val\": \"Lessig, Lawrence\"}, {\"col\": \"contbr_st\", \"idx\": 565, \"val\": \"IL\"}, {\"col\": \"contb_receipt_amt\", \"idx\": 565, \"val\": 21393.89}, {\"col\": \"cand_nm\", \"idx\": 566, \"val\": \"Lessig, Lawrence\"}, {\"col\": \"contbr_st\", \"idx\": 566, \"val\": \"IN\"}, {\"col\": \"contb_receipt_amt\", \"idx\": 566, \"val\": 3862.73}, {\"col\": \"cand_nm\", \"idx\": 567, \"val\": \"Lessig, Lawrence\"}, {\"col\": \"contbr_st\", \"idx\": 567, \"val\": \"KY\"}, {\"col\": \"contb_receipt_amt\", \"idx\": 567, \"val\": 750.0}, {\"col\": \"cand_nm\", \"idx\": 568, \"val\": \"Lessig, Lawrence\"}, {\"col\": \"contbr_st\", \"idx\": 568, \"val\": \"LA\"}, {\"col\": \"contb_receipt_amt\", \"idx\": 568, \"val\": 1230.75}, {\"col\": \"cand_nm\", \"idx\": 569, \"val\": \"Lessig, Lawrence\"}, {\"col\": \"contbr_st\", \"idx\": 569, \"val\": \"MA\"}, {\"col\": \"contb_receipt_amt\", \"idx\": 569, \"val\": 99533.86}, {\"col\": \"cand_nm\", \"idx\": 570, \"val\": \"Lessig, Lawrence\"}, {\"col\": \"contbr_st\", \"idx\": 570, \"val\": \"MD\"}, {\"col\": \"contb_receipt_amt\", \"idx\": 570, \"val\": 12318.14}, {\"col\": \"cand_nm\", \"idx\": 571, \"val\": \"Lessig, Lawrence\"}, {\"col\": \"contbr_st\", \"idx\": 571, \"val\": \"ME\"}, {\"col\": \"contb_receipt_amt\", \"idx\": 571, \"val\": 1100.0}, {\"col\": \"cand_nm\", \"idx\": 572, \"val\": \"Lessig, Lawrence\"}, {\"col\": \"contbr_st\", \"idx\": 572, \"val\": \"MI\"}, {\"col\": \"contb_receipt_amt\", \"idx\": 572, \"val\": 3450.0}, {\"col\": \"cand_nm\", \"idx\": 573, \"val\": \"Lessig, Lawrence\"}, {\"col\": \"contbr_st\", \"idx\": 573, \"val\": \"MN\"}, {\"col\": \"contb_receipt_amt\", \"idx\": 573, \"val\": 3566.5}, {\"col\": \"cand_nm\", \"idx\": 574, \"val\": \"Lessig, Lawrence\"}, {\"col\": \"contbr_st\", \"idx\": 574, \"val\": \"MO\"}, {\"col\": \"contb_receipt_amt\", \"idx\": 574, \"val\": 2637.19}, {\"col\": \"cand_nm\", \"idx\": 575, \"val\": \"Lessig, Lawrence\"}, {\"col\": \"contbr_st\", \"idx\": 575, \"val\": \"MT\"}, {\"col\": \"contb_receipt_amt\", \"idx\": 575, \"val\": 250.0}, {\"col\": \"cand_nm\", \"idx\": 576, \"val\": \"Lessig, Lawrence\"}, {\"col\": \"contbr_st\", \"idx\": 576, \"val\": \"NC\"}, {\"col\": \"contb_receipt_amt\", \"idx\": 576, \"val\": 7161.75}, {\"col\": \"cand_nm\", \"idx\": 577, \"val\": \"Lessig, Lawrence\"}, {\"col\": \"contbr_st\", \"idx\": 577, \"val\": \"ND\"}, {\"col\": \"contb_receipt_amt\", \"idx\": 577, \"val\": 250.0}, {\"col\": \"cand_nm\", \"idx\": 578, \"val\": \"Lessig, Lawrence\"}, {\"col\": \"contbr_st\", \"idx\": 578, \"val\": \"NE\"}, {\"col\": \"contb_receipt_amt\", \"idx\": 578, \"val\": 1000.0}, {\"col\": \"cand_nm\", \"idx\": 579, \"val\": \"Lessig, Lawrence\"}, {\"col\": \"contbr_st\", \"idx\": 579, \"val\": \"NH\"}, {\"col\": \"contb_receipt_amt\", \"idx\": 579, \"val\": 2850.0}, {\"col\": \"cand_nm\", \"idx\": 580, \"val\": \"Lessig, Lawrence\"}, {\"col\": \"contbr_st\", \"idx\": 580, \"val\": \"NJ\"}, {\"col\": \"contb_receipt_amt\", \"idx\": 580, \"val\": 19936.15}, {\"col\": \"cand_nm\", \"idx\": 581, \"val\": \"Lessig, Lawrence\"}, {\"col\": \"contbr_st\", \"idx\": 581, \"val\": \"NM\"}, {\"col\": \"contb_receipt_amt\", \"idx\": 581, \"val\": 250.0}, {\"col\": \"cand_nm\", \"idx\": 582, \"val\": \"Lessig, Lawrence\"}, {\"col\": \"contbr_st\", \"idx\": 582, \"val\": \"NV\"}, {\"col\": \"contb_receipt_amt\", \"idx\": 582, \"val\": 3087.0}, {\"col\": \"cand_nm\", \"idx\": 583, \"val\": \"Lessig, Lawrence\"}, {\"col\": \"contbr_st\", \"idx\": 583, \"val\": \"NY\"}, {\"col\": \"contb_receipt_amt\", \"idx\": 583, \"val\": 64772.310000000005}, {\"col\": \"cand_nm\", \"idx\": 584, \"val\": \"Lessig, Lawrence\"}, {\"col\": \"contbr_st\", \"idx\": 584, \"val\": \"OH\"}, {\"col\": \"contb_receipt_amt\", \"idx\": 584, \"val\": 4012.77}, {\"col\": \"cand_nm\", \"idx\": 585, \"val\": \"Lessig, Lawrence\"}, {\"col\": \"contbr_st\", \"idx\": 585, \"val\": \"OK\"}, {\"col\": \"contb_receipt_amt\", \"idx\": 585, \"val\": 1475.0}, {\"col\": \"cand_nm\", \"idx\": 586, \"val\": \"Lessig, Lawrence\"}, {\"col\": \"contbr_st\", \"idx\": 586, \"val\": \"OR\"}, {\"col\": \"contb_receipt_amt\", \"idx\": 586, \"val\": 14862.43}, {\"col\": \"cand_nm\", \"idx\": 587, \"val\": \"Lessig, Lawrence\"}, {\"col\": \"contbr_st\", \"idx\": 587, \"val\": \"PA\"}, {\"col\": \"contb_receipt_amt\", \"idx\": 587, \"val\": 13461.9}, {\"col\": \"cand_nm\", \"idx\": 588, \"val\": \"Lessig, Lawrence\"}, {\"col\": \"contbr_st\", \"idx\": 588, \"val\": \"RI\"}, {\"col\": \"contb_receipt_amt\", \"idx\": 588, \"val\": 15050.0}, {\"col\": \"cand_nm\", \"idx\": 589, \"val\": \"Lessig, Lawrence\"}, {\"col\": \"contbr_st\", \"idx\": 589, \"val\": \"SC\"}, {\"col\": \"contb_receipt_amt\", \"idx\": 589, \"val\": 4448.83}, {\"col\": \"cand_nm\", \"idx\": 590, \"val\": \"Lessig, Lawrence\"}, {\"col\": \"contbr_st\", \"idx\": 590, \"val\": \"SD\"}, {\"col\": \"contb_receipt_amt\", \"idx\": 590, \"val\": 1250.0}, {\"col\": \"cand_nm\", \"idx\": 591, \"val\": \"Lessig, Lawrence\"}, {\"col\": \"contbr_st\", \"idx\": 591, \"val\": \"TN\"}, {\"col\": \"contb_receipt_amt\", \"idx\": 591, \"val\": 1883.14}, {\"col\": \"cand_nm\", \"idx\": 592, \"val\": \"Lessig, Lawrence\"}, {\"col\": \"contbr_st\", \"idx\": 592, \"val\": \"TX\"}, {\"col\": \"contb_receipt_amt\", \"idx\": 592, \"val\": 20277.94}, {\"col\": \"cand_nm\", \"idx\": 593, \"val\": \"Lessig, Lawrence\"}, {\"col\": \"contbr_st\", \"idx\": 593, \"val\": \"UT\"}, {\"col\": \"contb_receipt_amt\", \"idx\": 593, \"val\": 614.34}, {\"col\": \"cand_nm\", \"idx\": 594, \"val\": \"Lessig, Lawrence\"}, {\"col\": \"contbr_st\", \"idx\": 594, \"val\": \"VA\"}, {\"col\": \"contb_receipt_amt\", \"idx\": 594, \"val\": 8815.0}, {\"col\": \"cand_nm\", \"idx\": 595, \"val\": \"Lessig, Lawrence\"}, {\"col\": \"contbr_st\", \"idx\": 595, \"val\": \"VT\"}, {\"col\": \"contb_receipt_amt\", \"idx\": 595, \"val\": 1525.0}, {\"col\": \"cand_nm\", \"idx\": 596, \"val\": \"Lessig, Lawrence\"}, {\"col\": \"contbr_st\", \"idx\": 596, \"val\": \"WA\"}, {\"col\": \"contb_receipt_amt\", \"idx\": 596, \"val\": 24408.309999999998}, {\"col\": \"cand_nm\", \"idx\": 597, \"val\": \"Lessig, Lawrence\"}, {\"col\": \"contbr_st\", \"idx\": 597, \"val\": \"WI\"}, {\"col\": \"contb_receipt_amt\", \"idx\": 597, \"val\": 6197.15}, {\"col\": \"cand_nm\", \"idx\": 598, \"val\": \"Lessig, Lawrence\"}, {\"col\": \"contbr_st\", \"idx\": 598, \"val\": \"WY\"}, {\"col\": \"contb_receipt_amt\", \"idx\": 598, \"val\": 750.0}, {\"col\": \"cand_nm\", \"idx\": 599, \"val\": \"O'Malley, Martin Joseph\"}, {\"col\": \"contbr_st\", \"idx\": 599, \"val\": \"AE\"}, {\"col\": \"contb_receipt_amt\", \"idx\": 599, \"val\": 500.0}, {\"col\": \"cand_nm\", \"idx\": 600, \"val\": \"O'Malley, Martin Joseph\"}, {\"col\": \"contbr_st\", \"idx\": 600, \"val\": \"AK\"}, {\"col\": \"contb_receipt_amt\", \"idx\": 600, \"val\": 1725.0}, {\"col\": \"cand_nm\", \"idx\": 601, \"val\": \"O'Malley, Martin Joseph\"}, {\"col\": \"contbr_st\", \"idx\": 601, \"val\": \"AL\"}, {\"col\": \"contb_receipt_amt\", \"idx\": 601, \"val\": 2890.6399999999994}, {\"col\": \"cand_nm\", \"idx\": 602, \"val\": \"O'Malley, Martin Joseph\"}, {\"col\": \"contbr_st\", \"idx\": 602, \"val\": \"AP\"}, {\"col\": \"contb_receipt_amt\", \"idx\": 602, \"val\": 2700.0}, {\"col\": \"cand_nm\", \"idx\": 603, \"val\": \"O'Malley, Martin Joseph\"}, {\"col\": \"contbr_st\", \"idx\": 603, \"val\": \"AR\"}, {\"col\": \"contb_receipt_amt\", \"idx\": 603, \"val\": 19200.0}, {\"col\": \"cand_nm\", \"idx\": 604, \"val\": \"O'Malley, Martin Joseph\"}, {\"col\": \"contbr_st\", \"idx\": 604, \"val\": \"AZ\"}, {\"col\": \"contb_receipt_amt\", \"idx\": 604, \"val\": 12176.810000000001}, {\"col\": \"cand_nm\", \"idx\": 605, \"val\": \"O'Malley, Martin Joseph\"}, {\"col\": \"contbr_st\", \"idx\": 605, \"val\": \"BU\"}, {\"col\": \"contb_receipt_amt\", \"idx\": 605, \"val\": 500.0}, {\"col\": \"cand_nm\", \"idx\": 606, \"val\": \"O'Malley, Martin Joseph\"}, {\"col\": \"contbr_st\", \"idx\": 606, \"val\": \"CA\"}, {\"col\": \"contb_receipt_amt\", \"idx\": 606, \"val\": 290230.16000000003}, {\"col\": \"cand_nm\", \"idx\": 607, \"val\": \"O'Malley, Martin Joseph\"}, {\"col\": \"contbr_st\", \"idx\": 607, \"val\": \"CO\"}, {\"col\": \"contb_receipt_amt\", \"idx\": 607, \"val\": 61072.24}, {\"col\": \"cand_nm\", \"idx\": 608, \"val\": \"O'Malley, Martin Joseph\"}, {\"col\": \"contbr_st\", \"idx\": 608, \"val\": \"CT\"}, {\"col\": \"contb_receipt_amt\", \"idx\": 608, \"val\": 51600.0}, {\"col\": \"cand_nm\", \"idx\": 609, \"val\": \"O'Malley, Martin Joseph\"}, {\"col\": \"contbr_st\", \"idx\": 609, \"val\": \"DC\"}, {\"col\": \"contb_receipt_amt\", \"idx\": 609, \"val\": 130572.96}, {\"col\": \"cand_nm\", \"idx\": 610, \"val\": \"O'Malley, Martin Joseph\"}, {\"col\": \"contbr_st\", \"idx\": 610, \"val\": \"DE\"}, {\"col\": \"contb_receipt_amt\", \"idx\": 610, \"val\": 5875.0}, {\"col\": \"cand_nm\", \"idx\": 611, \"val\": \"O'Malley, Martin Joseph\"}, {\"col\": \"contbr_st\", \"idx\": 611, \"val\": \"FL\"}, {\"col\": \"contb_receipt_amt\", \"idx\": 611, \"val\": 150347.85}, {\"col\": \"cand_nm\", \"idx\": 612, \"val\": \"O'Malley, Martin Joseph\"}, {\"col\": \"contbr_st\", \"idx\": 612, \"val\": \"GA\"}, {\"col\": \"contb_receipt_amt\", \"idx\": 612, \"val\": 13150.0}, {\"col\": \"cand_nm\", \"idx\": 613, \"val\": \"O'Malley, Martin Joseph\"}, {\"col\": \"contbr_st\", \"idx\": 613, \"val\": \"GE\"}, {\"col\": \"contb_receipt_amt\", \"idx\": 613, \"val\": 500.0}, {\"col\": \"cand_nm\", \"idx\": 614, \"val\": \"O'Malley, Martin Joseph\"}, {\"col\": \"contbr_st\", \"idx\": 614, \"val\": \"HI\"}, {\"col\": \"contb_receipt_amt\", \"idx\": 614, \"val\": 11110.0}, {\"col\": \"cand_nm\", \"idx\": 615, \"val\": \"O'Malley, Martin Joseph\"}, {\"col\": \"contbr_st\", \"idx\": 615, \"val\": \"IA\"}, {\"col\": \"contb_receipt_amt\", \"idx\": 615, \"val\": 32757.7}, {\"col\": \"cand_nm\", \"idx\": 616, \"val\": \"O'Malley, Martin Joseph\"}, {\"col\": \"contbr_st\", \"idx\": 616, \"val\": \"ID\"}, {\"col\": \"contb_receipt_amt\", \"idx\": 616, \"val\": 500.0}, {\"col\": \"cand_nm\", \"idx\": 617, \"val\": \"O'Malley, Martin Joseph\"}, {\"col\": \"contbr_st\", \"idx\": 617, \"val\": \"IL\"}, {\"col\": \"contb_receipt_amt\", \"idx\": 617, \"val\": 123715.0}, {\"col\": \"cand_nm\", \"idx\": 618, \"val\": \"O'Malley, Martin Joseph\"}, {\"col\": \"contbr_st\", \"idx\": 618, \"val\": \"IN\"}, {\"col\": \"contb_receipt_amt\", \"idx\": 618, \"val\": 7640.0}, {\"col\": \"cand_nm\", \"idx\": 619, \"val\": \"O'Malley, Martin Joseph\"}, {\"col\": \"contbr_st\", \"idx\": 619, \"val\": \"KS\"}, {\"col\": \"contb_receipt_amt\", \"idx\": 619, \"val\": 3250.0}, {\"col\": \"cand_nm\", \"idx\": 620, \"val\": \"O'Malley, Martin Joseph\"}, {\"col\": \"contbr_st\", \"idx\": 620, \"val\": \"KY\"}, {\"col\": \"contb_receipt_amt\", \"idx\": 620, \"val\": 114067.94}, {\"col\": \"cand_nm\", \"idx\": 621, \"val\": \"O'Malley, Martin Joseph\"}, {\"col\": \"contbr_st\", \"idx\": 621, \"val\": \"LA\"}, {\"col\": \"contb_receipt_amt\", \"idx\": 621, \"val\": 8350.0}, {\"col\": \"cand_nm\", \"idx\": 622, \"val\": \"O'Malley, Martin Joseph\"}, {\"col\": \"contbr_st\", \"idx\": 622, \"val\": \"LO\"}, {\"col\": \"contb_receipt_amt\", \"idx\": 622, \"val\": 1000.0}, {\"col\": \"cand_nm\", \"idx\": 623, \"val\": \"O'Malley, Martin Joseph\"}, {\"col\": \"contbr_st\", \"idx\": 623, \"val\": \"MA\"}, {\"col\": \"contb_receipt_amt\", \"idx\": 623, \"val\": 223896.38999999998}, {\"col\": \"cand_nm\", \"idx\": 624, \"val\": \"O'Malley, Martin Joseph\"}, {\"col\": \"contbr_st\", \"idx\": 624, \"val\": \"MD\"}, {\"col\": \"contb_receipt_amt\", \"idx\": 624, \"val\": 1526804.9899999995}, {\"col\": \"cand_nm\", \"idx\": 625, \"val\": \"O'Malley, Martin Joseph\"}, {\"col\": \"contbr_st\", \"idx\": 625, \"val\": \"ME\"}, {\"col\": \"contb_receipt_amt\", \"idx\": 625, \"val\": 7875.0}, {\"col\": \"cand_nm\", \"idx\": 626, \"val\": \"O'Malley, Martin Joseph\"}, {\"col\": \"contbr_st\", \"idx\": 626, \"val\": \"MI\"}, {\"col\": \"contb_receipt_amt\", \"idx\": 626, \"val\": 31131.0}, {\"col\": \"cand_nm\", \"idx\": 627, \"val\": \"O'Malley, Martin Joseph\"}, {\"col\": \"contbr_st\", \"idx\": 627, \"val\": \"MN\"}, {\"col\": \"contb_receipt_amt\", \"idx\": 627, \"val\": 26693.0}, {\"col\": \"cand_nm\", \"idx\": 628, \"val\": \"O'Malley, Martin Joseph\"}, {\"col\": \"contbr_st\", \"idx\": 628, \"val\": \"MO\"}, {\"col\": \"contb_receipt_amt\", \"idx\": 628, \"val\": 9000.0}, {\"col\": \"cand_nm\", \"idx\": 629, \"val\": \"O'Malley, Martin Joseph\"}, {\"col\": \"contbr_st\", \"idx\": 629, \"val\": \"MS\"}, {\"col\": \"contb_receipt_amt\", \"idx\": 629, \"val\": 12900.0}, {\"col\": \"cand_nm\", \"idx\": 630, \"val\": \"O'Malley, Martin Joseph\"}, {\"col\": \"contbr_st\", \"idx\": 630, \"val\": \"MT\"}, {\"col\": \"contb_receipt_amt\", \"idx\": 630, \"val\": 750.0}, {\"col\": \"cand_nm\", \"idx\": 631, \"val\": \"O'Malley, Martin Joseph\"}, {\"col\": \"contbr_st\", \"idx\": 631, \"val\": \"N.\"}, {\"col\": \"contb_receipt_amt\", \"idx\": 631, \"val\": 250.0}, {\"col\": \"cand_nm\", \"idx\": 632, \"val\": \"O'Malley, Martin Joseph\"}, {\"col\": \"contbr_st\", \"idx\": 632, \"val\": \"NC\"}, {\"col\": \"contb_receipt_amt\", \"idx\": 632, \"val\": 13018.25}, {\"col\": \"cand_nm\", \"idx\": 633, \"val\": \"O'Malley, Martin Joseph\"}, {\"col\": \"contbr_st\", \"idx\": 633, \"val\": \"ND\"}, {\"col\": \"contb_receipt_amt\", \"idx\": 633, \"val\": 300.0}, {\"col\": \"cand_nm\", \"idx\": 634, \"val\": \"O'Malley, Martin Joseph\"}, {\"col\": \"contbr_st\", \"idx\": 634, \"val\": \"NE\"}, {\"col\": \"contb_receipt_amt\", \"idx\": 634, \"val\": 20400.000000000004}, {\"col\": \"cand_nm\", \"idx\": 635, \"val\": \"O'Malley, Martin Joseph\"}, {\"col\": \"contbr_st\", \"idx\": 635, \"val\": \"NH\"}, {\"col\": \"contb_receipt_amt\", \"idx\": 635, \"val\": 37039.96000000001}, {\"col\": \"cand_nm\", \"idx\": 636, \"val\": \"O'Malley, Martin Joseph\"}, {\"col\": \"contbr_st\", \"idx\": 636, \"val\": \"NJ\"}, {\"col\": \"contb_receipt_amt\", \"idx\": 636, \"val\": 50810.0}, {\"col\": \"cand_nm\", \"idx\": 637, \"val\": \"O'Malley, Martin Joseph\"}, {\"col\": \"contbr_st\", \"idx\": 637, \"val\": \"NM\"}, {\"col\": \"contb_receipt_amt\", \"idx\": 637, \"val\": 4925.0}, {\"col\": \"cand_nm\", \"idx\": 638, \"val\": \"O'Malley, Martin Joseph\"}, {\"col\": \"contbr_st\", \"idx\": 638, \"val\": \"NO\"}, {\"col\": \"contb_receipt_amt\", \"idx\": 638, \"val\": 2000.0}, {\"col\": \"cand_nm\", \"idx\": 639, \"val\": \"O'Malley, Martin Joseph\"}, {\"col\": \"contbr_st\", \"idx\": 639, \"val\": \"NV\"}, {\"col\": \"contb_receipt_amt\", \"idx\": 639, \"val\": 15050.0}, {\"col\": \"cand_nm\", \"idx\": 640, \"val\": \"O'Malley, Martin Joseph\"}, {\"col\": \"contbr_st\", \"idx\": 640, \"val\": \"NY\"}, {\"col\": \"contb_receipt_amt\", \"idx\": 640, \"val\": 251357.0}, {\"col\": \"cand_nm\", \"idx\": 641, \"val\": \"O'Malley, Martin Joseph\"}, {\"col\": \"contbr_st\", \"idx\": 641, \"val\": \"OH\"}, {\"col\": \"contb_receipt_amt\", \"idx\": 641, \"val\": 16370.0}, {\"col\": \"cand_nm\", \"idx\": 642, \"val\": \"O'Malley, Martin Joseph\"}, {\"col\": \"contbr_st\", \"idx\": 642, \"val\": \"OK\"}, {\"col\": \"contb_receipt_amt\", \"idx\": 642, \"val\": 2500.0}, {\"col\": \"cand_nm\", \"idx\": 643, \"val\": \"O'Malley, Martin Joseph\"}, {\"col\": \"contbr_st\", \"idx\": 643, \"val\": \"OR\"}, {\"col\": \"contb_receipt_amt\", \"idx\": 643, \"val\": 8501.0}, {\"col\": \"cand_nm\", \"idx\": 644, \"val\": \"O'Malley, Martin Joseph\"}, {\"col\": \"contbr_st\", \"idx\": 644, \"val\": \"PA\"}, {\"col\": \"contb_receipt_amt\", \"idx\": 644, \"val\": 101154.55}, {\"col\": \"cand_nm\", \"idx\": 645, \"val\": \"O'Malley, Martin Joseph\"}, {\"col\": \"contbr_st\", \"idx\": 645, \"val\": \"PR\"}, {\"col\": \"contb_receipt_amt\", \"idx\": 645, \"val\": 61890.0}, {\"col\": \"cand_nm\", \"idx\": 646, \"val\": \"O'Malley, Martin Joseph\"}, {\"col\": \"contbr_st\", \"idx\": 646, \"val\": \"RI\"}, {\"col\": \"contb_receipt_amt\", \"idx\": 646, \"val\": 32370.0}, {\"col\": \"cand_nm\", \"idx\": 647, \"val\": \"O'Malley, Martin Joseph\"}, {\"col\": \"contbr_st\", \"idx\": 647, \"val\": \"SC\"}, {\"col\": \"contb_receipt_amt\", \"idx\": 647, \"val\": 18310.0}, {\"col\": \"cand_nm\", \"idx\": 648, \"val\": \"O'Malley, Martin Joseph\"}, {\"col\": \"contbr_st\", \"idx\": 648, \"val\": \"TN\"}, {\"col\": \"contb_receipt_amt\", \"idx\": 648, \"val\": 50751.42}, {\"col\": \"cand_nm\", \"idx\": 649, \"val\": \"O'Malley, Martin Joseph\"}, {\"col\": \"contbr_st\", \"idx\": 649, \"val\": \"TX\"}, {\"col\": \"contb_receipt_amt\", \"idx\": 649, \"val\": 143062.0}, {\"col\": \"cand_nm\", \"idx\": 650, \"val\": \"O'Malley, Martin Joseph\"}, {\"col\": \"contbr_st\", \"idx\": 650, \"val\": \"UT\"}, {\"col\": \"contb_receipt_amt\", \"idx\": 650, \"val\": 2700.0}, {\"col\": \"cand_nm\", \"idx\": 651, \"val\": \"O'Malley, Martin Joseph\"}, {\"col\": \"contbr_st\", \"idx\": 651, \"val\": \"VA\"}, {\"col\": \"contb_receipt_amt\", \"idx\": 651, \"val\": 163418.64}, {\"col\": \"cand_nm\", \"idx\": 652, \"val\": \"O'Malley, Martin Joseph\"}, {\"col\": \"contbr_st\", \"idx\": 652, \"val\": \"VT\"}, {\"col\": \"contb_receipt_amt\", \"idx\": 652, \"val\": 500.0}, {\"col\": \"cand_nm\", \"idx\": 653, \"val\": \"O'Malley, Martin Joseph\"}, {\"col\": \"contbr_st\", \"idx\": 653, \"val\": \"WA\"}, {\"col\": \"contb_receipt_amt\", \"idx\": 653, \"val\": 12663.0}, {\"col\": \"cand_nm\", \"idx\": 654, \"val\": \"O'Malley, Martin Joseph\"}, {\"col\": \"contbr_st\", \"idx\": 654, \"val\": \"WI\"}, {\"col\": \"contb_receipt_amt\", \"idx\": 654, \"val\": 6840.0}, {\"col\": \"cand_nm\", \"idx\": 655, \"val\": \"O'Malley, Martin Joseph\"}, {\"col\": \"contbr_st\", \"idx\": 655, \"val\": \"WV\"}, {\"col\": \"contb_receipt_amt\", \"idx\": 655, \"val\": 1000.0}, {\"col\": \"cand_nm\", \"idx\": 656, \"val\": \"Pataki, George E.\"}, {\"col\": \"contbr_st\", \"idx\": 656, \"val\": \"CA\"}, {\"col\": \"contb_receipt_amt\", \"idx\": 656, \"val\": 30450.0}, {\"col\": \"cand_nm\", \"idx\": 657, \"val\": \"Pataki, George E.\"}, {\"col\": \"contbr_st\", \"idx\": 657, \"val\": \"CO\"}, {\"col\": \"contb_receipt_amt\", \"idx\": 657, \"val\": 500.0}, {\"col\": \"cand_nm\", \"idx\": 658, \"val\": \"Pataki, George E.\"}, {\"col\": \"contbr_st\", \"idx\": 658, \"val\": \"CT\"}, {\"col\": \"contb_receipt_amt\", \"idx\": 658, \"val\": 14600.0}, {\"col\": \"cand_nm\", \"idx\": 659, \"val\": \"Pataki, George E.\"}, {\"col\": \"contbr_st\", \"idx\": 659, \"val\": \"DC\"}, {\"col\": \"contb_receipt_amt\", \"idx\": 659, \"val\": 4200.0}, {\"col\": \"cand_nm\", \"idx\": 660, \"val\": \"Pataki, George E.\"}, {\"col\": \"contbr_st\", \"idx\": 660, \"val\": \"FL\"}, {\"col\": \"contb_receipt_amt\", \"idx\": 660, \"val\": 21300.0}, {\"col\": \"cand_nm\", \"idx\": 661, \"val\": \"Pataki, George E.\"}, {\"col\": \"contbr_st\", \"idx\": 661, \"val\": \"IA\"}, {\"col\": \"contb_receipt_amt\", \"idx\": 661, \"val\": 1000.0}, {\"col\": \"cand_nm\", \"idx\": 662, \"val\": \"Pataki, George E.\"}, {\"col\": \"contbr_st\", \"idx\": 662, \"val\": \"IL\"}, {\"col\": \"contb_receipt_amt\", \"idx\": 662, \"val\": 4200.0}, {\"col\": \"cand_nm\", \"idx\": 663, \"val\": \"Pataki, George E.\"}, {\"col\": \"contbr_st\", \"idx\": 663, \"val\": \"MA\"}, {\"col\": \"contb_receipt_amt\", \"idx\": 663, \"val\": 5650.0}, {\"col\": \"cand_nm\", \"idx\": 664, \"val\": \"Pataki, George E.\"}, {\"col\": \"contbr_st\", \"idx\": 664, \"val\": \"MD\"}, {\"col\": \"contb_receipt_amt\", \"idx\": 664, \"val\": 4000.0}, {\"col\": \"cand_nm\", \"idx\": 665, \"val\": \"Pataki, George E.\"}, {\"col\": \"contbr_st\", \"idx\": 665, \"val\": \"MI\"}, {\"col\": \"contb_receipt_amt\", \"idx\": 665, \"val\": 500.0}, {\"col\": \"cand_nm\", \"idx\": 666, \"val\": \"Pataki, George E.\"}, {\"col\": \"contbr_st\", \"idx\": 666, \"val\": \"MN\"}, {\"col\": \"contb_receipt_amt\", \"idx\": 666, \"val\": 5000.0}, {\"col\": \"cand_nm\", \"idx\": 667, \"val\": \"Pataki, George E.\"}, {\"col\": \"contbr_st\", \"idx\": 667, \"val\": \"MO\"}, {\"col\": \"contb_receipt_amt\", \"idx\": 667, \"val\": 1250.0}, {\"col\": \"cand_nm\", \"idx\": 668, \"val\": \"Pataki, George E.\"}, {\"col\": \"contbr_st\", \"idx\": 668, \"val\": \"NH\"}, {\"col\": \"contb_receipt_amt\", \"idx\": 668, \"val\": 5450.0}, {\"col\": \"cand_nm\", \"idx\": 669, \"val\": \"Pataki, George E.\"}, {\"col\": \"contbr_st\", \"idx\": 669, \"val\": \"NJ\"}, {\"col\": \"contb_receipt_amt\", \"idx\": 669, \"val\": 60500.0}, {\"col\": \"cand_nm\", \"idx\": 670, \"val\": \"Pataki, George E.\"}, {\"col\": \"contbr_st\", \"idx\": 670, \"val\": \"NM\"}, {\"col\": \"contb_receipt_amt\", \"idx\": 670, \"val\": 750.0}, {\"col\": \"cand_nm\", \"idx\": 671, \"val\": \"Pataki, George E.\"}, {\"col\": \"contbr_st\", \"idx\": 671, \"val\": \"NV\"}, {\"col\": \"contb_receipt_amt\", \"idx\": 671, \"val\": 4000.0}, {\"col\": \"cand_nm\", \"idx\": 672, \"val\": \"Pataki, George E.\"}, {\"col\": \"contbr_st\", \"idx\": 672, \"val\": \"NY\"}, {\"col\": \"contb_receipt_amt\", \"idx\": 672, \"val\": 286595.81999999995}, {\"col\": \"cand_nm\", \"idx\": 673, \"val\": \"Pataki, George E.\"}, {\"col\": \"contbr_st\", \"idx\": 673, \"val\": \"OH\"}, {\"col\": \"contb_receipt_amt\", \"idx\": 673, \"val\": 1250.0}, {\"col\": \"cand_nm\", \"idx\": 674, \"val\": \"Pataki, George E.\"}, {\"col\": \"contbr_st\", \"idx\": 674, \"val\": \"OK\"}, {\"col\": \"contb_receipt_amt\", \"idx\": 674, \"val\": 250.0}, {\"col\": \"cand_nm\", \"idx\": 675, \"val\": \"Pataki, George E.\"}, {\"col\": \"contbr_st\", \"idx\": 675, \"val\": \"OR\"}, {\"col\": \"contb_receipt_amt\", \"idx\": 675, \"val\": 5400.0}, {\"col\": \"cand_nm\", \"idx\": 676, \"val\": \"Pataki, George E.\"}, {\"col\": \"contbr_st\", \"idx\": 676, \"val\": \"PA\"}, {\"col\": \"contb_receipt_amt\", \"idx\": 676, \"val\": 625.0}, {\"col\": \"cand_nm\", \"idx\": 677, \"val\": \"Pataki, George E.\"}, {\"col\": \"contbr_st\", \"idx\": 677, \"val\": \"PR\"}, {\"col\": \"contb_receipt_amt\", \"idx\": 677, \"val\": 2750.0}, {\"col\": \"cand_nm\", \"idx\": 678, \"val\": \"Pataki, George E.\"}, {\"col\": \"contbr_st\", \"idx\": 678, \"val\": \"RI\"}, {\"col\": \"contb_receipt_amt\", \"idx\": 678, \"val\": 250.0}, {\"col\": \"cand_nm\", \"idx\": 679, \"val\": \"Pataki, George E.\"}, {\"col\": \"contbr_st\", \"idx\": 679, \"val\": \"TN\"}, {\"col\": \"contb_receipt_amt\", \"idx\": 679, \"val\": 1000.0}, {\"col\": \"cand_nm\", \"idx\": 680, \"val\": \"Pataki, George E.\"}, {\"col\": \"contbr_st\", \"idx\": 680, \"val\": \"TX\"}, {\"col\": \"contb_receipt_amt\", \"idx\": 680, \"val\": 6000.0}, {\"col\": \"cand_nm\", \"idx\": 681, \"val\": \"Pataki, George E.\"}, {\"col\": \"contbr_st\", \"idx\": 681, \"val\": \"VA\"}, {\"col\": \"contb_receipt_amt\", \"idx\": 681, \"val\": 10570.16}, {\"col\": \"cand_nm\", \"idx\": 682, \"val\": \"Pataki, George E.\"}, {\"col\": \"contbr_st\", \"idx\": 682, \"val\": \"VT\"}, {\"col\": \"contb_receipt_amt\", \"idx\": 682, \"val\": 250.0}, {\"col\": \"cand_nm\", \"idx\": 683, \"val\": \"Paul, Rand\"}, {\"col\": \"contbr_st\", \"idx\": 683, \"val\": \"AA\"}, {\"col\": \"contb_receipt_amt\", \"idx\": 683, \"val\": 400.0}, {\"col\": \"cand_nm\", \"idx\": 684, \"val\": \"Paul, Rand\"}, {\"col\": \"contbr_st\", \"idx\": 684, \"val\": \"AE\"}, {\"col\": \"contb_receipt_amt\", \"idx\": 684, \"val\": 4066.92}, {\"col\": \"cand_nm\", \"idx\": 685, \"val\": \"Paul, Rand\"}, {\"col\": \"contbr_st\", \"idx\": 685, \"val\": \"AK\"}, {\"col\": \"contb_receipt_amt\", \"idx\": 685, \"val\": 21546.439999999995}, {\"col\": \"cand_nm\", \"idx\": 686, \"val\": \"Paul, Rand\"}, {\"col\": \"contbr_st\", \"idx\": 686, \"val\": \"AL\"}, {\"col\": \"contb_receipt_amt\", \"idx\": 686, \"val\": 51549.21000000001}, {\"col\": \"cand_nm\", \"idx\": 687, \"val\": \"Paul, Rand\"}, {\"col\": \"contbr_st\", \"idx\": 687, \"val\": \"AP\"}, {\"col\": \"contb_receipt_amt\", \"idx\": 687, \"val\": 4512.279999999999}, {\"col\": \"cand_nm\", \"idx\": 688, \"val\": \"Paul, Rand\"}, {\"col\": \"contbr_st\", \"idx\": 688, \"val\": \"AR\"}, {\"col\": \"contb_receipt_amt\", \"idx\": 688, \"val\": 17878.85}, {\"col\": \"cand_nm\", \"idx\": 689, \"val\": \"Paul, Rand\"}, {\"col\": \"contbr_st\", \"idx\": 689, \"val\": \"AZ\"}, {\"col\": \"contb_receipt_amt\", \"idx\": 689, \"val\": 157741.5000000003}, {\"col\": \"cand_nm\", \"idx\": 690, \"val\": \"Paul, Rand\"}, {\"col\": \"contbr_st\", \"idx\": 690, \"val\": \"CA\"}, {\"col\": \"contb_receipt_amt\", \"idx\": 690, \"val\": 814093.7200000081}, {\"col\": \"cand_nm\", \"idx\": 691, \"val\": \"Paul, Rand\"}, {\"col\": \"contbr_st\", \"idx\": 691, \"val\": \"CO\"}, {\"col\": \"contb_receipt_amt\", \"idx\": 691, \"val\": 103637.88000000006}, {\"col\": \"cand_nm\", \"idx\": 692, \"val\": \"Paul, Rand\"}, {\"col\": \"contbr_st\", \"idx\": 692, \"val\": \"CT\"}, {\"col\": \"contb_receipt_amt\", \"idx\": 692, \"val\": 62303.99000000001}, {\"col\": \"cand_nm\", \"idx\": 693, \"val\": \"Paul, Rand\"}, {\"col\": \"contbr_st\", \"idx\": 693, \"val\": \"DC\"}, {\"col\": \"contb_receipt_amt\", \"idx\": 693, \"val\": 97460.51000000001}, {\"col\": \"cand_nm\", \"idx\": 694, \"val\": \"Paul, Rand\"}, {\"col\": \"contbr_st\", \"idx\": 694, \"val\": \"DE\"}, {\"col\": \"contb_receipt_amt\", \"idx\": 694, \"val\": 14517.98}, {\"col\": \"cand_nm\", \"idx\": 695, \"val\": \"Paul, Rand\"}, {\"col\": \"contbr_st\", \"idx\": 695, \"val\": \"FL\"}, {\"col\": \"contb_receipt_amt\", \"idx\": 695, \"val\": 406707.46999999386}, {\"col\": \"cand_nm\", \"idx\": 696, \"val\": \"Paul, Rand\"}, {\"col\": \"contbr_st\", \"idx\": 696, \"val\": \"GA\"}, {\"col\": \"contb_receipt_amt\", \"idx\": 696, \"val\": 125693.24000000034}, {\"col\": \"cand_nm\", \"idx\": 697, \"val\": \"Paul, Rand\"}, {\"col\": \"contbr_st\", \"idx\": 697, \"val\": \"GU\"}, {\"col\": \"contb_receipt_amt\", \"idx\": 697, \"val\": 201.6}, {\"col\": \"cand_nm\", \"idx\": 698, \"val\": \"Paul, Rand\"}, {\"col\": \"contbr_st\", \"idx\": 698, \"val\": \"HI\"}, {\"col\": \"contb_receipt_amt\", \"idx\": 698, \"val\": 25853.91999999999}, {\"col\": \"cand_nm\", \"idx\": 699, \"val\": \"Paul, Rand\"}, {\"col\": \"contbr_st\", \"idx\": 699, \"val\": \"IA\"}, {\"col\": \"contb_receipt_amt\", \"idx\": 699, \"val\": 71577.96000000008}, {\"col\": \"cand_nm\", \"idx\": 700, \"val\": \"Paul, Rand\"}, {\"col\": \"contbr_st\", \"idx\": 700, \"val\": \"ID\"}, {\"col\": \"contb_receipt_amt\", \"idx\": 700, \"val\": 47119.08}, {\"col\": \"cand_nm\", \"idx\": 701, \"val\": \"Paul, Rand\"}, {\"col\": \"contbr_st\", \"idx\": 701, \"val\": \"IL\"}, {\"col\": \"contb_receipt_amt\", \"idx\": 701, \"val\": 190896.64000000065}, {\"col\": \"cand_nm\", \"idx\": 702, \"val\": \"Paul, Rand\"}, {\"col\": \"contbr_st\", \"idx\": 702, \"val\": \"IN\"}, {\"col\": \"contb_receipt_amt\", \"idx\": 702, \"val\": 62461.96000000002}, {\"col\": \"cand_nm\", \"idx\": 703, \"val\": \"Paul, Rand\"}, {\"col\": \"contbr_st\", \"idx\": 703, \"val\": \"KS\"}, {\"col\": \"contb_receipt_amt\", \"idx\": 703, \"val\": 32559.059999999987}, {\"col\": \"cand_nm\", \"idx\": 704, \"val\": \"Paul, Rand\"}, {\"col\": \"contbr_st\", \"idx\": 704, \"val\": \"KY\"}, {\"col\": \"contb_receipt_amt\", \"idx\": 704, \"val\": 365753.40999999765}, {\"col\": \"cand_nm\", \"idx\": 705, \"val\": \"Paul, Rand\"}, {\"col\": \"contbr_st\", \"idx\": 705, \"val\": \"LA\"}, {\"col\": \"contb_receipt_amt\", \"idx\": 705, \"val\": 64620.06000000008}, {\"col\": \"cand_nm\", \"idx\": 706, \"val\": \"Paul, Rand\"}, {\"col\": \"contbr_st\", \"idx\": 706, \"val\": \"MA\"}, {\"col\": \"contb_receipt_amt\", \"idx\": 706, \"val\": 86895.7000000001}, {\"col\": \"cand_nm\", \"idx\": 707, \"val\": \"Paul, Rand\"}, {\"col\": \"contbr_st\", \"idx\": 707, \"val\": \"MD\"}, {\"col\": \"contb_receipt_amt\", \"idx\": 707, \"val\": 65836.06}, {\"col\": \"cand_nm\", \"idx\": 708, \"val\": \"Paul, Rand\"}, {\"col\": \"contbr_st\", \"idx\": 708, \"val\": \"ME\"}, {\"col\": \"contb_receipt_amt\", \"idx\": 708, \"val\": 21550.83}, {\"col\": \"cand_nm\", \"idx\": 709, \"val\": \"Paul, Rand\"}, {\"col\": \"contbr_st\", \"idx\": 709, \"val\": \"MI\"}, {\"col\": \"contb_receipt_amt\", \"idx\": 709, \"val\": 198288.92000000054}, {\"col\": \"cand_nm\", \"idx\": 710, \"val\": \"Paul, Rand\"}, {\"col\": \"contbr_st\", \"idx\": 710, \"val\": \"MN\"}, {\"col\": \"contb_receipt_amt\", \"idx\": 710, \"val\": 84100.62000000005}, {\"col\": \"cand_nm\", \"idx\": 711, \"val\": \"Paul, Rand\"}, {\"col\": \"contbr_st\", \"idx\": 711, \"val\": \"MO\"}, {\"col\": \"contb_receipt_amt\", \"idx\": 711, \"val\": 101056.45000000004}, {\"col\": \"cand_nm\", \"idx\": 712, \"val\": \"Paul, Rand\"}, {\"col\": \"contbr_st\", \"idx\": 712, \"val\": \"MS\"}, {\"col\": \"contb_receipt_amt\", \"idx\": 712, \"val\": 48306.87000000002}, {\"col\": \"cand_nm\", \"idx\": 713, \"val\": \"Paul, Rand\"}, {\"col\": \"contbr_st\", \"idx\": 713, \"val\": \"MT\"}, {\"col\": \"contb_receipt_amt\", \"idx\": 713, \"val\": 16691.760000000002}, {\"col\": \"cand_nm\", \"idx\": 714, \"val\": \"Paul, Rand\"}, {\"col\": \"contbr_st\", \"idx\": 714, \"val\": \"NC\"}, {\"col\": \"contb_receipt_amt\", \"idx\": 714, \"val\": 125028.91000000009}, {\"col\": \"cand_nm\", \"idx\": 715, \"val\": \"Paul, Rand\"}, {\"col\": \"contbr_st\", \"idx\": 715, \"val\": \"ND\"}, {\"col\": \"contb_receipt_amt\", \"idx\": 715, \"val\": 12663.57}, {\"col\": \"cand_nm\", \"idx\": 716, \"val\": \"Paul, Rand\"}, {\"col\": \"contbr_st\", \"idx\": 716, \"val\": \"NE\"}, {\"col\": \"contb_receipt_amt\", \"idx\": 716, \"val\": 24014.379999999994}, {\"col\": \"cand_nm\", \"idx\": 717, \"val\": \"Paul, Rand\"}, {\"col\": \"contbr_st\", \"idx\": 717, \"val\": \"NH\"}, {\"col\": \"contb_receipt_amt\", \"idx\": 717, \"val\": 51711.72999999999}, {\"col\": \"cand_nm\", \"idx\": 718, \"val\": \"Paul, Rand\"}, {\"col\": \"contbr_st\", \"idx\": 718, \"val\": \"NJ\"}, {\"col\": \"contb_receipt_amt\", \"idx\": 718, \"val\": 105320.73000000016}, {\"col\": \"cand_nm\", \"idx\": 719, \"val\": \"Paul, Rand\"}, {\"col\": \"contbr_st\", \"idx\": 719, \"val\": \"NM\"}, {\"col\": \"contb_receipt_amt\", \"idx\": 719, \"val\": 36361.719999999994}, {\"col\": \"cand_nm\", \"idx\": 720, \"val\": \"Paul, Rand\"}, {\"col\": \"contbr_st\", \"idx\": 720, \"val\": \"NV\"}, {\"col\": \"contb_receipt_amt\", \"idx\": 720, \"val\": 150132.12000000026}, {\"col\": \"cand_nm\", \"idx\": 721, \"val\": \"Paul, Rand\"}, {\"col\": \"contbr_st\", \"idx\": 721, \"val\": \"NY\"}, {\"col\": \"contb_receipt_amt\", \"idx\": 721, \"val\": 259292.67000000045}, {\"col\": \"cand_nm\", \"idx\": 722, \"val\": \"Paul, Rand\"}, {\"col\": \"contbr_st\", \"idx\": 722, \"val\": \"OH\"}, {\"col\": \"contb_receipt_amt\", \"idx\": 722, \"val\": 115187.72000000012}, {\"col\": \"cand_nm\", \"idx\": 723, \"val\": \"Paul, Rand\"}, {\"col\": \"contbr_st\", \"idx\": 723, \"val\": \"OK\"}, {\"col\": \"contb_receipt_amt\", \"idx\": 723, \"val\": 66978.2200000002}, {\"col\": \"cand_nm\", \"idx\": 724, \"val\": \"Paul, Rand\"}, {\"col\": \"contbr_st\", \"idx\": 724, \"val\": \"OR\"}, {\"col\": \"contb_receipt_amt\", \"idx\": 724, \"val\": 58614.66000000004}, {\"col\": \"cand_nm\", \"idx\": 725, \"val\": \"Paul, Rand\"}, {\"col\": \"contbr_st\", \"idx\": 725, \"val\": \"PA\"}, {\"col\": \"contb_receipt_amt\", \"idx\": 725, \"val\": 138652.5800000006}, {\"col\": \"cand_nm\", \"idx\": 726, \"val\": \"Paul, Rand\"}, {\"col\": \"contbr_st\", \"idx\": 726, \"val\": \"PR\"}, {\"col\": \"contb_receipt_amt\", \"idx\": 726, \"val\": 7286.209999999999}, {\"col\": \"cand_nm\", \"idx\": 727, \"val\": \"Paul, Rand\"}, {\"col\": \"contbr_st\", \"idx\": 727, \"val\": \"RI\"}, {\"col\": \"contb_receipt_amt\", \"idx\": 727, \"val\": 3258.71}, {\"col\": \"cand_nm\", \"idx\": 728, \"val\": \"Paul, Rand\"}, {\"col\": \"contbr_st\", \"idx\": 728, \"val\": \"SC\"}, {\"col\": \"contb_receipt_amt\", \"idx\": 728, \"val\": 67243.13000000021}, {\"col\": \"cand_nm\", \"idx\": 729, \"val\": \"Paul, Rand\"}, {\"col\": \"contbr_st\", \"idx\": 729, \"val\": \"SD\"}, {\"col\": \"contb_receipt_amt\", \"idx\": 729, \"val\": 9678.59}, {\"col\": \"cand_nm\", \"idx\": 730, \"val\": \"Paul, Rand\"}, {\"col\": \"contbr_st\", \"idx\": 730, \"val\": \"TN\"}, {\"col\": \"contb_receipt_amt\", \"idx\": 730, \"val\": 124405.14000000006}, {\"col\": \"cand_nm\", \"idx\": 731, \"val\": \"Paul, Rand\"}, {\"col\": \"contbr_st\", \"idx\": 731, \"val\": \"TX\"}, {\"col\": \"contb_receipt_amt\", \"idx\": 731, \"val\": 694090.1800000042}, {\"col\": \"cand_nm\", \"idx\": 732, \"val\": \"Paul, Rand\"}, {\"col\": \"contbr_st\", \"idx\": 732, \"val\": \"UT\"}, {\"col\": \"contb_receipt_amt\", \"idx\": 732, \"val\": 50159.48000000007}, {\"col\": \"cand_nm\", \"idx\": 733, \"val\": \"Paul, Rand\"}, {\"col\": \"contbr_st\", \"idx\": 733, \"val\": \"VA\"}, {\"col\": \"contb_receipt_amt\", \"idx\": 733, \"val\": 172875.97000000044}, {\"col\": \"cand_nm\", \"idx\": 734, \"val\": \"Paul, Rand\"}, {\"col\": \"contbr_st\", \"idx\": 734, \"val\": \"VI\"}, {\"col\": \"contb_receipt_amt\", \"idx\": 734, \"val\": 501.6}, {\"col\": \"cand_nm\", \"idx\": 735, \"val\": \"Paul, Rand\"}, {\"col\": \"contbr_st\", \"idx\": 735, \"val\": \"VT\"}, {\"col\": \"contb_receipt_amt\", \"idx\": 735, \"val\": 14108.05}, {\"col\": \"cand_nm\", \"idx\": 736, \"val\": \"Paul, Rand\"}, {\"col\": \"contbr_st\", \"idx\": 736, \"val\": \"WA\"}, {\"col\": \"contb_receipt_amt\", \"idx\": 736, \"val\": 145603.04000000062}, {\"col\": \"cand_nm\", \"idx\": 737, \"val\": \"Paul, Rand\"}, {\"col\": \"contbr_st\", \"idx\": 737, \"val\": \"WI\"}, {\"col\": \"contb_receipt_amt\", \"idx\": 737, \"val\": 58800.61000000004}, {\"col\": \"cand_nm\", \"idx\": 738, \"val\": \"Paul, Rand\"}, {\"col\": \"contbr_st\", \"idx\": 738, \"val\": \"WV\"}, {\"col\": \"contb_receipt_amt\", \"idx\": 738, \"val\": 19634.27}, {\"col\": \"cand_nm\", \"idx\": 739, \"val\": \"Paul, Rand\"}, {\"col\": \"contbr_st\", \"idx\": 739, \"val\": \"WY\"}, {\"col\": \"contb_receipt_amt\", \"idx\": 739, \"val\": 49450.79}, {\"col\": \"cand_nm\", \"idx\": 740, \"val\": \"Paul, Rand\"}, {\"col\": \"contbr_st\", \"idx\": 740, \"val\": \"ZZ\"}, {\"col\": \"contb_receipt_amt\", \"idx\": 740, \"val\": 200.0}, {\"col\": \"cand_nm\", \"idx\": 741, \"val\": \"Perry, James R. (Rick)\"}, {\"col\": \"contbr_st\", \"idx\": 741, \"val\": \"AL\"}, {\"col\": \"contb_receipt_amt\", \"idx\": 741, \"val\": 600.0}, {\"col\": \"cand_nm\", \"idx\": 742, \"val\": \"Perry, James R. (Rick)\"}, {\"col\": \"contbr_st\", \"idx\": 742, \"val\": \"AR\"}, {\"col\": \"contb_receipt_amt\", \"idx\": 742, \"val\": 50.0}, {\"col\": \"cand_nm\", \"idx\": 743, \"val\": \"Perry, James R. (Rick)\"}, {\"col\": \"contbr_st\", \"idx\": 743, \"val\": \"AZ\"}, {\"col\": \"contb_receipt_amt\", \"idx\": 743, \"val\": 350.0}, {\"col\": \"cand_nm\", \"idx\": 744, \"val\": \"Perry, James R. (Rick)\"}, {\"col\": \"contbr_st\", \"idx\": 744, \"val\": \"CA\"}, {\"col\": \"contb_receipt_amt\", \"idx\": 744, \"val\": 208400.0}, {\"col\": \"cand_nm\", \"idx\": 745, \"val\": \"Perry, James R. (Rick)\"}, {\"col\": \"contbr_st\", \"idx\": 745, \"val\": \"CO\"}, {\"col\": \"contb_receipt_amt\", \"idx\": 745, \"val\": 20125.0}, {\"col\": \"cand_nm\", \"idx\": 746, \"val\": \"Perry, James R. (Rick)\"}, {\"col\": \"contbr_st\", \"idx\": 746, \"val\": \"CT\"}, {\"col\": \"contb_receipt_amt\", \"idx\": 746, \"val\": 3000.0}, {\"col\": \"cand_nm\", \"idx\": 747, \"val\": \"Perry, James R. (Rick)\"}, {\"col\": \"contbr_st\", \"idx\": 747, \"val\": \"FL\"}, {\"col\": \"contb_receipt_amt\", \"idx\": 747, \"val\": 44500.0}, {\"col\": \"cand_nm\", \"idx\": 748, \"val\": \"Perry, James R. (Rick)\"}, {\"col\": \"contbr_st\", \"idx\": 748, \"val\": \"GA\"}, {\"col\": \"contb_receipt_amt\", \"idx\": 748, \"val\": 12870.0}, {\"col\": \"cand_nm\", \"idx\": 749, \"val\": \"Perry, James R. (Rick)\"}, {\"col\": \"contbr_st\", \"idx\": 749, \"val\": \"IA\"}, {\"col\": \"contb_receipt_amt\", \"idx\": 749, \"val\": 962.9100000000001}, {\"col\": \"cand_nm\", \"idx\": 750, \"val\": \"Perry, James R. (Rick)\"}, {\"col\": \"contbr_st\", \"idx\": 750, \"val\": \"ID\"}, {\"col\": \"contb_receipt_amt\", \"idx\": 750, \"val\": 2800.0}, {\"col\": \"cand_nm\", \"idx\": 751, \"val\": \"Perry, James R. (Rick)\"}, {\"col\": \"contbr_st\", \"idx\": 751, \"val\": \"IL\"}, {\"col\": \"contb_receipt_amt\", \"idx\": 751, \"val\": 1000.0}, {\"col\": \"cand_nm\", \"idx\": 752, \"val\": \"Perry, James R. (Rick)\"}, {\"col\": \"contbr_st\", \"idx\": 752, \"val\": \"MA\"}, {\"col\": \"contb_receipt_amt\", \"idx\": 752, \"val\": 750.0}, {\"col\": \"cand_nm\", \"idx\": 753, \"val\": \"Perry, James R. (Rick)\"}, {\"col\": \"contbr_st\", \"idx\": 753, \"val\": \"MD\"}, {\"col\": \"contb_receipt_amt\", \"idx\": 753, \"val\": 100.0}, {\"col\": \"cand_nm\", \"idx\": 754, \"val\": \"Perry, James R. (Rick)\"}, {\"col\": \"contbr_st\", \"idx\": 754, \"val\": \"ME\"}, {\"col\": \"contb_receipt_amt\", \"idx\": 754, \"val\": 250.0}, {\"col\": \"cand_nm\", \"idx\": 755, \"val\": \"Perry, James R. (Rick)\"}, {\"col\": \"contbr_st\", \"idx\": 755, \"val\": \"MI\"}, {\"col\": \"contb_receipt_amt\", \"idx\": 755, \"val\": 350.0}, {\"col\": \"cand_nm\", \"idx\": 756, \"val\": \"Perry, James R. (Rick)\"}, {\"col\": \"contbr_st\", \"idx\": 756, \"val\": \"MO\"}, {\"col\": \"contb_receipt_amt\", \"idx\": 756, \"val\": 3250.0}, {\"col\": \"cand_nm\", \"idx\": 757, \"val\": \"Perry, James R. (Rick)\"}, {\"col\": \"contbr_st\", \"idx\": 757, \"val\": \"MS\"}, {\"col\": \"contb_receipt_amt\", \"idx\": 757, \"val\": 16300.16}, {\"col\": \"cand_nm\", \"idx\": 758, \"val\": \"Perry, James R. (Rick)\"}, {\"col\": \"contbr_st\", \"idx\": 758, \"val\": \"MT\"}, {\"col\": \"contb_receipt_amt\", \"idx\": 758, \"val\": 1000.0}, {\"col\": \"cand_nm\", \"idx\": 759, \"val\": \"Perry, James R. (Rick)\"}, {\"col\": \"contbr_st\", \"idx\": 759, \"val\": \"NC\"}, {\"col\": \"contb_receipt_amt\", \"idx\": 759, \"val\": 1555.0}, {\"col\": \"cand_nm\", \"idx\": 760, \"val\": \"Perry, James R. (Rick)\"}, {\"col\": \"contbr_st\", \"idx\": 760, \"val\": \"NE\"}, {\"col\": \"contb_receipt_amt\", \"idx\": 760, \"val\": 200.0}, {\"col\": \"cand_nm\", \"idx\": 761, \"val\": \"Perry, James R. (Rick)\"}, {\"col\": \"contbr_st\", \"idx\": 761, \"val\": \"NH\"}, {\"col\": \"contb_receipt_amt\", \"idx\": 761, \"val\": 1000.0}, {\"col\": \"cand_nm\", \"idx\": 762, \"val\": \"Perry, James R. (Rick)\"}, {\"col\": \"contbr_st\", \"idx\": 762, \"val\": \"NJ\"}, {\"col\": \"contb_receipt_amt\", \"idx\": 762, \"val\": 5500.0}, {\"col\": \"cand_nm\", \"idx\": 763, \"val\": \"Perry, James R. (Rick)\"}, {\"col\": \"contbr_st\", \"idx\": 763, \"val\": \"NM\"}, {\"col\": \"contb_receipt_amt\", \"idx\": 763, \"val\": 600.0}, {\"col\": \"cand_nm\", \"idx\": 764, \"val\": \"Perry, James R. (Rick)\"}, {\"col\": \"contbr_st\", \"idx\": 764, \"val\": \"NV\"}, {\"col\": \"contb_receipt_amt\", \"idx\": 764, \"val\": 250.0}, {\"col\": \"cand_nm\", \"idx\": 765, \"val\": \"Perry, James R. (Rick)\"}, {\"col\": \"contbr_st\", \"idx\": 765, \"val\": \"NY\"}, {\"col\": \"contb_receipt_amt\", \"idx\": 765, \"val\": 16700.0}, {\"col\": \"cand_nm\", \"idx\": 766, \"val\": \"Perry, James R. (Rick)\"}, {\"col\": \"contbr_st\", \"idx\": 766, \"val\": \"OH\"}, {\"col\": \"contb_receipt_amt\", \"idx\": 766, \"val\": 3185.0}, {\"col\": \"cand_nm\", \"idx\": 767, \"val\": \"Perry, James R. (Rick)\"}, {\"col\": \"contbr_st\", \"idx\": 767, \"val\": \"OR\"}, {\"col\": \"contb_receipt_amt\", \"idx\": 767, \"val\": 2800.0}, {\"col\": \"cand_nm\", \"idx\": 768, \"val\": \"Perry, James R. (Rick)\"}, {\"col\": \"contbr_st\", \"idx\": 768, \"val\": \"PA\"}, {\"col\": \"contb_receipt_amt\", \"idx\": 768, \"val\": 3725.0}, {\"col\": \"cand_nm\", \"idx\": 769, \"val\": \"Perry, James R. (Rick)\"}, {\"col\": \"contbr_st\", \"idx\": 769, \"val\": \"SC\"}, {\"col\": \"contb_receipt_amt\", \"idx\": 769, \"val\": 775.0}, {\"col\": \"cand_nm\", \"idx\": 770, \"val\": \"Perry, James R. (Rick)\"}, {\"col\": \"contbr_st\", \"idx\": 770, \"val\": \"TN\"}, {\"col\": \"contb_receipt_amt\", \"idx\": 770, \"val\": 7850.0}, {\"col\": \"cand_nm\", \"idx\": 771, \"val\": \"Perry, James R. (Rick)\"}, {\"col\": \"contbr_st\", \"idx\": 771, \"val\": \"TX\"}, {\"col\": \"contb_receipt_amt\", \"idx\": 771, \"val\": 749339.5200000003}, {\"col\": \"cand_nm\", \"idx\": 772, \"val\": \"Perry, James R. (Rick)\"}, {\"col\": \"contbr_st\", \"idx\": 772, \"val\": \"UT\"}, {\"col\": \"contb_receipt_amt\", \"idx\": 772, \"val\": 100.0}, {\"col\": \"cand_nm\", \"idx\": 773, \"val\": \"Perry, James R. (Rick)\"}, {\"col\": \"contbr_st\", \"idx\": 773, \"val\": \"VA\"}, {\"col\": \"contb_receipt_amt\", \"idx\": 773, \"val\": 700.0}, {\"col\": \"cand_nm\", \"idx\": 774, \"val\": \"Perry, James R. (Rick)\"}, {\"col\": \"contbr_st\", \"idx\": 774, \"val\": \"VT\"}, {\"col\": \"contb_receipt_amt\", \"idx\": 774, \"val\": 250.0}, {\"col\": \"cand_nm\", \"idx\": 775, \"val\": \"Perry, James R. (Rick)\"}, {\"col\": \"contbr_st\", \"idx\": 775, \"val\": \"WA\"}, {\"col\": \"contb_receipt_amt\", \"idx\": 775, \"val\": 6925.0}, {\"col\": \"cand_nm\", \"idx\": 776, \"val\": \"Perry, James R. (Rick)\"}, {\"col\": \"contbr_st\", \"idx\": 776, \"val\": \"WI\"}, {\"col\": \"contb_receipt_amt\", \"idx\": 776, \"val\": 1750.0}, {\"col\": \"cand_nm\", \"idx\": 777, \"val\": \"Perry, James R. (Rick)\"}, {\"col\": \"contbr_st\", \"idx\": 777, \"val\": \"WY\"}, {\"col\": \"contb_receipt_amt\", \"idx\": 777, \"val\": 500.0}, {\"col\": \"cand_nm\", \"idx\": 778, \"val\": \"Rubio, Marco\"}, {\"col\": \"contbr_st\", \"idx\": 778, \"val\": \"AE\"}, {\"col\": \"contb_receipt_amt\", \"idx\": 778, \"val\": 2105.5}, {\"col\": \"cand_nm\", \"idx\": 779, \"val\": \"Rubio, Marco\"}, {\"col\": \"contbr_st\", \"idx\": 779, \"val\": \"AK\"}, {\"col\": \"contb_receipt_amt\", \"idx\": 779, \"val\": 15780.0}, {\"col\": \"cand_nm\", \"idx\": 780, \"val\": \"Rubio, Marco\"}, {\"col\": \"contbr_st\", \"idx\": 780, \"val\": \"AL\"}, {\"col\": \"contb_receipt_amt\", \"idx\": 780, \"val\": 313454.41000000003}, {\"col\": \"cand_nm\", \"idx\": 781, \"val\": \"Rubio, Marco\"}, {\"col\": \"contbr_st\", \"idx\": 781, \"val\": \"AP\"}, {\"col\": \"contb_receipt_amt\", \"idx\": 781, \"val\": 200.0}, {\"col\": \"cand_nm\", \"idx\": 782, \"val\": \"Rubio, Marco\"}, {\"col\": \"contbr_st\", \"idx\": 782, \"val\": \"AR\"}, {\"col\": \"contb_receipt_amt\", \"idx\": 782, \"val\": 31835.0}, {\"col\": \"cand_nm\", \"idx\": 783, \"val\": \"Rubio, Marco\"}, {\"col\": \"contbr_st\", \"idx\": 783, \"val\": \"AZ\"}, {\"col\": \"contb_receipt_amt\", \"idx\": 783, \"val\": 716024.7}, {\"col\": \"cand_nm\", \"idx\": 784, \"val\": \"Rubio, Marco\"}, {\"col\": \"contbr_st\", \"idx\": 784, \"val\": \"CA\"}, {\"col\": \"contb_receipt_amt\", \"idx\": 784, \"val\": 4562345.789999999}, {\"col\": \"cand_nm\", \"idx\": 785, \"val\": \"Rubio, Marco\"}, {\"col\": \"contbr_st\", \"idx\": 785, \"val\": \"CO\"}, {\"col\": \"contb_receipt_amt\", \"idx\": 785, \"val\": 499555.55}, {\"col\": \"cand_nm\", \"idx\": 786, \"val\": \"Rubio, Marco\"}, {\"col\": \"contbr_st\", \"idx\": 786, \"val\": \"CT\"}, {\"col\": \"contb_receipt_amt\", \"idx\": 786, \"val\": 456225.85000000003}, {\"col\": \"cand_nm\", \"idx\": 787, \"val\": \"Rubio, Marco\"}, {\"col\": \"contbr_st\", \"idx\": 787, \"val\": \"DC\"}, {\"col\": \"contb_receipt_amt\", \"idx\": 787, \"val\": 338295.05}, {\"col\": \"cand_nm\", \"idx\": 788, \"val\": \"Rubio, Marco\"}, {\"col\": \"contbr_st\", \"idx\": 788, \"val\": \"DE\"}, {\"col\": \"contb_receipt_amt\", \"idx\": 788, \"val\": 14861.0}, {\"col\": \"cand_nm\", \"idx\": 789, \"val\": \"Rubio, Marco\"}, {\"col\": \"contbr_st\", \"idx\": 789, \"val\": \"FF\"}, {\"col\": \"contb_receipt_amt\", \"idx\": 789, \"val\": 23400.0}, {\"col\": \"cand_nm\", \"idx\": 790, \"val\": \"Rubio, Marco\"}, {\"col\": \"contbr_st\", \"idx\": 790, \"val\": \"FL\"}, {\"col\": \"contb_receipt_amt\", \"idx\": 790, \"val\": 5244574.1400000015}, {\"col\": \"cand_nm\", \"idx\": 791, \"val\": \"Rubio, Marco\"}, {\"col\": \"contbr_st\", \"idx\": 791, \"val\": \"FR\"}, {\"col\": \"contb_receipt_amt\", \"idx\": 791, \"val\": 15.0}, {\"col\": \"cand_nm\", \"idx\": 792, \"val\": \"Rubio, Marco\"}, {\"col\": \"contbr_st\", \"idx\": 792, \"val\": \"GA\"}, {\"col\": \"contb_receipt_amt\", \"idx\": 792, \"val\": 570381.66}, {\"col\": \"cand_nm\", \"idx\": 793, \"val\": \"Rubio, Marco\"}, {\"col\": \"contbr_st\", \"idx\": 793, \"val\": \"GU\"}, {\"col\": \"contb_receipt_amt\", \"idx\": 793, \"val\": 200.0}, {\"col\": \"cand_nm\", \"idx\": 794, \"val\": \"Rubio, Marco\"}, {\"col\": \"contbr_st\", \"idx\": 794, \"val\": \"HI\"}, {\"col\": \"contb_receipt_amt\", \"idx\": 794, \"val\": 33507.0}, {\"col\": \"cand_nm\", \"idx\": 795, \"val\": \"Rubio, Marco\"}, {\"col\": \"contbr_st\", \"idx\": 795, \"val\": \"IA\"}, {\"col\": \"contb_receipt_amt\", \"idx\": 795, \"val\": 121476.05}, {\"col\": \"cand_nm\", \"idx\": 796, \"val\": \"Rubio, Marco\"}, {\"col\": \"contbr_st\", \"idx\": 796, \"val\": \"ID\"}, {\"col\": \"contb_receipt_amt\", \"idx\": 796, \"val\": 109651.5}, {\"col\": \"cand_nm\", \"idx\": 797, \"val\": \"Rubio, Marco\"}, {\"col\": \"contbr_st\", \"idx\": 797, \"val\": \"IL\"}, {\"col\": \"contb_receipt_amt\", \"idx\": 797, \"val\": 833727.0600000002}, {\"col\": \"cand_nm\", \"idx\": 798, \"val\": \"Rubio, Marco\"}, {\"col\": \"contbr_st\", \"idx\": 798, \"val\": \"IN\"}, {\"col\": \"contb_receipt_amt\", \"idx\": 798, \"val\": 192731.7}, {\"col\": \"cand_nm\", \"idx\": 799, \"val\": \"Rubio, Marco\"}, {\"col\": \"contbr_st\", \"idx\": 799, \"val\": \"IS\"}, {\"col\": \"contb_receipt_amt\", \"idx\": 799, \"val\": 700.0}, {\"col\": \"cand_nm\", \"idx\": 800, \"val\": \"Rubio, Marco\"}, {\"col\": \"contbr_st\", \"idx\": 800, \"val\": \"KS\"}, {\"col\": \"contb_receipt_amt\", \"idx\": 800, \"val\": 93144.0}, {\"col\": \"cand_nm\", \"idx\": 801, \"val\": \"Rubio, Marco\"}, {\"col\": \"contbr_st\", \"idx\": 801, \"val\": \"KY\"}, {\"col\": \"contb_receipt_amt\", \"idx\": 801, \"val\": 90606.05}, {\"col\": \"cand_nm\", \"idx\": 802, \"val\": \"Rubio, Marco\"}, {\"col\": \"contbr_st\", \"idx\": 802, \"val\": \"LA\"}, {\"col\": \"contb_receipt_amt\", \"idx\": 802, \"val\": 332870.89999999997}, {\"col\": \"cand_nm\", \"idx\": 803, \"val\": \"Rubio, Marco\"}, {\"col\": \"contbr_st\", \"idx\": 803, \"val\": \"MA\"}, {\"col\": \"contb_receipt_amt\", \"idx\": 803, \"val\": 634774.53}, {\"col\": \"cand_nm\", \"idx\": 804, \"val\": \"Rubio, Marco\"}, {\"col\": \"contbr_st\", \"idx\": 804, \"val\": \"MD\"}, {\"col\": \"contb_receipt_amt\", \"idx\": 804, \"val\": 283840.9}, {\"col\": \"cand_nm\", \"idx\": 805, \"val\": \"Rubio, Marco\"}, {\"col\": \"contbr_st\", \"idx\": 805, \"val\": \"ME\"}, {\"col\": \"contb_receipt_amt\", \"idx\": 805, \"val\": 17658.66}, {\"col\": \"cand_nm\", \"idx\": 806, \"val\": \"Rubio, Marco\"}, {\"col\": \"contbr_st\", \"idx\": 806, \"val\": \"MI\"}, {\"col\": \"contb_receipt_amt\", \"idx\": 806, \"val\": 618458.5}, {\"col\": \"cand_nm\", \"idx\": 807, \"val\": \"Rubio, Marco\"}, {\"col\": \"contbr_st\", \"idx\": 807, \"val\": \"MN\"}, {\"col\": \"contb_receipt_amt\", \"idx\": 807, \"val\": 138231.0}, {\"col\": \"cand_nm\", \"idx\": 808, \"val\": \"Rubio, Marco\"}, {\"col\": \"contbr_st\", \"idx\": 808, \"val\": \"MO\"}, {\"col\": \"contb_receipt_amt\", \"idx\": 808, \"val\": 315312.5}, {\"col\": \"cand_nm\", \"idx\": 809, \"val\": \"Rubio, Marco\"}, {\"col\": \"contbr_st\", \"idx\": 809, \"val\": \"MP\"}, {\"col\": \"contb_receipt_amt\", \"idx\": 809, \"val\": 500.0}, {\"col\": \"cand_nm\", \"idx\": 810, \"val\": \"Rubio, Marco\"}, {\"col\": \"contbr_st\", \"idx\": 810, \"val\": \"MS\"}, {\"col\": \"contb_receipt_amt\", \"idx\": 810, \"val\": 37192.49}, {\"col\": \"cand_nm\", \"idx\": 811, \"val\": \"Rubio, Marco\"}, {\"col\": \"contbr_st\", \"idx\": 811, \"val\": \"MT\"}, {\"col\": \"contb_receipt_amt\", \"idx\": 811, \"val\": 141839.34}, {\"col\": \"cand_nm\", \"idx\": 812, \"val\": \"Rubio, Marco\"}, {\"col\": \"contbr_st\", \"idx\": 812, \"val\": \"NC\"}, {\"col\": \"contb_receipt_amt\", \"idx\": 812, \"val\": 334358.55000000005}, {\"col\": \"cand_nm\", \"idx\": 813, \"val\": \"Rubio, Marco\"}, {\"col\": \"contbr_st\", \"idx\": 813, \"val\": \"ND\"}, {\"col\": \"contb_receipt_amt\", \"idx\": 813, \"val\": 11298.0}, {\"col\": \"cand_nm\", \"idx\": 814, \"val\": \"Rubio, Marco\"}, {\"col\": \"contbr_st\", \"idx\": 814, \"val\": \"NE\"}, {\"col\": \"contb_receipt_amt\", \"idx\": 814, \"val\": 24596.0}, {\"col\": \"cand_nm\", \"idx\": 815, \"val\": \"Rubio, Marco\"}, {\"col\": \"contbr_st\", \"idx\": 815, \"val\": \"NH\"}, {\"col\": \"contb_receipt_amt\", \"idx\": 815, \"val\": 88634.34}, {\"col\": \"cand_nm\", \"idx\": 816, \"val\": \"Rubio, Marco\"}, {\"col\": \"contbr_st\", \"idx\": 816, \"val\": \"NJ\"}, {\"col\": \"contb_receipt_amt\", \"idx\": 816, \"val\": 549587.11}, {\"col\": \"cand_nm\", \"idx\": 817, \"val\": \"Rubio, Marco\"}, {\"col\": \"contbr_st\", \"idx\": 817, \"val\": \"NM\"}, {\"col\": \"contb_receipt_amt\", \"idx\": 817, \"val\": 33414.85}, {\"col\": \"cand_nm\", \"idx\": 818, \"val\": \"Rubio, Marco\"}, {\"col\": \"contbr_st\", \"idx\": 818, \"val\": \"NV\"}, {\"col\": \"contb_receipt_amt\", \"idx\": 818, \"val\": 332603.44999999995}, {\"col\": \"cand_nm\", \"idx\": 819, \"val\": \"Rubio, Marco\"}, {\"col\": \"contbr_st\", \"idx\": 819, \"val\": \"NY\"}, {\"col\": \"contb_receipt_amt\", \"idx\": 819, \"val\": 2343677.7700000005}, {\"col\": \"cand_nm\", \"idx\": 820, \"val\": \"Rubio, Marco\"}, {\"col\": \"contbr_st\", \"idx\": 820, \"val\": \"OH\"}, {\"col\": \"contb_receipt_amt\", \"idx\": 820, \"val\": 744354.0}, {\"col\": \"cand_nm\", \"idx\": 821, \"val\": \"Rubio, Marco\"}, {\"col\": \"contbr_st\", \"idx\": 821, \"val\": \"OK\"}, {\"col\": \"contb_receipt_amt\", \"idx\": 821, \"val\": 105991.5}, {\"col\": \"cand_nm\", \"idx\": 822, \"val\": \"Rubio, Marco\"}, {\"col\": \"contbr_st\", \"idx\": 822, \"val\": \"ON\"}, {\"col\": \"contb_receipt_amt\", \"idx\": 822, \"val\": 65.0}, {\"col\": \"cand_nm\", \"idx\": 823, \"val\": \"Rubio, Marco\"}, {\"col\": \"contbr_st\", \"idx\": 823, \"val\": \"OR\"}, {\"col\": \"contb_receipt_amt\", \"idx\": 823, \"val\": 85146.4}, {\"col\": \"cand_nm\", \"idx\": 824, \"val\": \"Rubio, Marco\"}, {\"col\": \"contbr_st\", \"idx\": 824, \"val\": \"PA\"}, {\"col\": \"contb_receipt_amt\", \"idx\": 824, \"val\": 738626.63}, {\"col\": \"cand_nm\", \"idx\": 825, \"val\": \"Rubio, Marco\"}, {\"col\": \"contbr_st\", \"idx\": 825, \"val\": \"PR\"}, {\"col\": \"contb_receipt_amt\", \"idx\": 825, \"val\": 72607.0}, {\"col\": \"cand_nm\", \"idx\": 826, \"val\": \"Rubio, Marco\"}, {\"col\": \"contbr_st\", \"idx\": 826, \"val\": \"RI\"}, {\"col\": \"contb_receipt_amt\", \"idx\": 826, \"val\": 15008.0}, {\"col\": \"cand_nm\", \"idx\": 827, \"val\": \"Rubio, Marco\"}, {\"col\": \"contbr_st\", \"idx\": 827, \"val\": \"SC\"}, {\"col\": \"contb_receipt_amt\", \"idx\": 827, \"val\": 419035.87999999995}, {\"col\": \"cand_nm\", \"idx\": 828, \"val\": \"Rubio, Marco\"}, {\"col\": \"contbr_st\", \"idx\": 828, \"val\": \"SD\"}, {\"col\": \"contb_receipt_amt\", \"idx\": 828, \"val\": 31215.0}, {\"col\": \"cand_nm\", \"idx\": 829, \"val\": \"Rubio, Marco\"}, {\"col\": \"contbr_st\", \"idx\": 829, \"val\": \"SI\"}, {\"col\": \"contb_receipt_amt\", \"idx\": 829, \"val\": 2700.0}, {\"col\": \"cand_nm\", \"idx\": 830, \"val\": \"Rubio, Marco\"}, {\"col\": \"contbr_st\", \"idx\": 830, \"val\": \"TN\"}, {\"col\": \"contb_receipt_amt\", \"idx\": 830, \"val\": 234126.52000000005}, {\"col\": \"cand_nm\", \"idx\": 831, \"val\": \"Rubio, Marco\"}, {\"col\": \"contbr_st\", \"idx\": 831, \"val\": \"TX\"}, {\"col\": \"contb_receipt_amt\", \"idx\": 831, \"val\": 2298395.16}, {\"col\": \"cand_nm\", \"idx\": 832, \"val\": \"Rubio, Marco\"}, {\"col\": \"contbr_st\", \"idx\": 832, \"val\": \"UT\"}, {\"col\": \"contb_receipt_amt\", \"idx\": 832, \"val\": 123875.91}, {\"col\": \"cand_nm\", \"idx\": 833, \"val\": \"Rubio, Marco\"}, {\"col\": \"contbr_st\", \"idx\": 833, \"val\": \"VA\"}, {\"col\": \"contb_receipt_amt\", \"idx\": 833, \"val\": 789388.5000000001}, {\"col\": \"cand_nm\", \"idx\": 834, \"val\": \"Rubio, Marco\"}, {\"col\": \"contbr_st\", \"idx\": 834, \"val\": \"VI\"}, {\"col\": \"contb_receipt_amt\", \"idx\": 834, \"val\": 2600.0}, {\"col\": \"cand_nm\", \"idx\": 835, \"val\": \"Rubio, Marco\"}, {\"col\": \"contbr_st\", \"idx\": 835, \"val\": \"VT\"}, {\"col\": \"contb_receipt_amt\", \"idx\": 835, \"val\": 81017.0}, {\"col\": \"cand_nm\", \"idx\": 836, \"val\": \"Rubio, Marco\"}, {\"col\": \"contbr_st\", \"idx\": 836, \"val\": \"WA\"}, {\"col\": \"contb_receipt_amt\", \"idx\": 836, \"val\": 289008.99}, {\"col\": \"cand_nm\", \"idx\": 837, \"val\": \"Rubio, Marco\"}, {\"col\": \"contbr_st\", \"idx\": 837, \"val\": \"WI\"}, {\"col\": \"contb_receipt_amt\", \"idx\": 837, \"val\": 174567.66}, {\"col\": \"cand_nm\", \"idx\": 838, \"val\": \"Rubio, Marco\"}, {\"col\": \"contbr_st\", \"idx\": 838, \"val\": \"WV\"}, {\"col\": \"contb_receipt_amt\", \"idx\": 838, \"val\": 13057.0}, {\"col\": \"cand_nm\", \"idx\": 839, \"val\": \"Rubio, Marco\"}, {\"col\": \"contbr_st\", \"idx\": 839, \"val\": \"WY\"}, {\"col\": \"contb_receipt_amt\", \"idx\": 839, \"val\": 71190.35}, {\"col\": \"cand_nm\", \"idx\": 840, \"val\": \"Rubio, Marco\"}, {\"col\": \"contbr_st\", \"idx\": 840, \"val\": \"XX\"}, {\"col\": \"contb_receipt_amt\", \"idx\": 840, \"val\": 120000.0}, {\"col\": \"cand_nm\", \"idx\": 841, \"val\": \"Sanders, Bernard\"}, {\"col\": \"contbr_st\", \"idx\": 841, \"val\": \"AA\"}, {\"col\": \"contb_receipt_amt\", \"idx\": 841, \"val\": 3590.0}, {\"col\": \"cand_nm\", \"idx\": 842, \"val\": \"Sanders, Bernard\"}, {\"col\": \"contbr_st\", \"idx\": 842, \"val\": \"AE\"}, {\"col\": \"contb_receipt_amt\", \"idx\": 842, \"val\": 13860.119999999999}, {\"col\": \"cand_nm\", \"idx\": 843, \"val\": \"Sanders, Bernard\"}, {\"col\": \"contbr_st\", \"idx\": 843, \"val\": \"AK\"}, {\"col\": \"contb_receipt_amt\", \"idx\": 843, \"val\": 107794.7}, {\"col\": \"cand_nm\", \"idx\": 844, \"val\": \"Sanders, Bernard\"}, {\"col\": \"contbr_st\", \"idx\": 844, \"val\": \"AL\"}, {\"col\": \"contb_receipt_amt\", \"idx\": 844, \"val\": 85632.39000000007}, {\"col\": \"cand_nm\", \"idx\": 845, \"val\": \"Sanders, Bernard\"}, {\"col\": \"contbr_st\", \"idx\": 845, \"val\": \"AP\"}, {\"col\": \"contb_receipt_amt\", \"idx\": 845, \"val\": 13386.800000000001}, {\"col\": \"cand_nm\", \"idx\": 846, \"val\": \"Sanders, Bernard\"}, {\"col\": \"contbr_st\", \"idx\": 846, \"val\": \"AR\"}, {\"col\": \"contb_receipt_amt\", \"idx\": 846, \"val\": 80893.43000000004}, {\"col\": \"cand_nm\", \"idx\": 847, \"val\": \"Sanders, Bernard\"}, {\"col\": \"contbr_st\", \"idx\": 847, \"val\": \"AZ\"}, {\"col\": \"contb_receipt_amt\", \"idx\": 847, \"val\": 464242.5899999999}, {\"col\": \"cand_nm\", \"idx\": 848, \"val\": \"Sanders, Bernard\"}, {\"col\": \"contbr_st\", \"idx\": 848, \"val\": \"BC\"}, {\"col\": \"contb_receipt_amt\", \"idx\": 848, \"val\": 2445.0}, {\"col\": \"cand_nm\", \"idx\": 849, \"val\": \"Sanders, Bernard\"}, {\"col\": \"contbr_st\", \"idx\": 849, \"val\": \"CA\"}, {\"col\": \"contb_receipt_amt\", \"idx\": 849, \"val\": 6109590.100000072}, {\"col\": \"cand_nm\", \"idx\": 850, \"val\": \"Sanders, Bernard\"}, {\"col\": \"contbr_st\", \"idx\": 850, \"val\": \"CO\"}, {\"col\": \"contb_receipt_amt\", \"idx\": 850, \"val\": 672998.6999999991}, {\"col\": \"cand_nm\", \"idx\": 851, \"val\": \"Sanders, Bernard\"}, {\"col\": \"contbr_st\", \"idx\": 851, \"val\": \"CT\"}, {\"col\": \"contb_receipt_amt\", \"idx\": 851, \"val\": 388239.53000000067}, {\"col\": \"cand_nm\", \"idx\": 852, \"val\": \"Sanders, Bernard\"}, {\"col\": \"contbr_st\", \"idx\": 852, \"val\": \"DC\"}, {\"col\": \"contb_receipt_amt\", \"idx\": 852, \"val\": 212874.07999999996}, {\"col\": \"cand_nm\", \"idx\": 853, \"val\": \"Sanders, Bernard\"}, {\"col\": \"contbr_st\", \"idx\": 853, \"val\": \"DE\"}, {\"col\": \"contb_receipt_amt\", \"idx\": 853, \"val\": 33402.60000000001}, {\"col\": \"cand_nm\", \"idx\": 854, \"val\": \"Sanders, Bernard\"}, {\"col\": \"contbr_st\", \"idx\": 854, \"val\": \"FL\"}, {\"col\": \"contb_receipt_amt\", \"idx\": 854, \"val\": 975983.870000002}, {\"col\": \"cand_nm\", \"idx\": 855, \"val\": \"Sanders, Bernard\"}, {\"col\": \"contbr_st\", \"idx\": 855, \"val\": \"GA\"}, {\"col\": \"contb_receipt_amt\", \"idx\": 855, \"val\": 320529.0300000002}, {\"col\": \"cand_nm\", \"idx\": 856, \"val\": \"Sanders, Bernard\"}, {\"col\": \"contbr_st\", \"idx\": 856, \"val\": \"GU\"}, {\"col\": \"contb_receipt_amt\", \"idx\": 856, \"val\": 1925.0}, {\"col\": \"cand_nm\", \"idx\": 857, \"val\": \"Sanders, Bernard\"}, {\"col\": \"contbr_st\", \"idx\": 857, \"val\": \"HI\"}, {\"col\": \"contb_receipt_amt\", \"idx\": 857, \"val\": 163945.59000000003}, {\"col\": \"cand_nm\", \"idx\": 858, \"val\": \"Sanders, Bernard\"}, {\"col\": \"contbr_st\", \"idx\": 858, \"val\": \"HO\"}, {\"col\": \"contb_receipt_amt\", \"idx\": 858, \"val\": 2700.0}, {\"col\": \"cand_nm\", \"idx\": 859, \"val\": \"Sanders, Bernard\"}, {\"col\": \"contbr_st\", \"idx\": 859, \"val\": \"IA\"}, {\"col\": \"contb_receipt_amt\", \"idx\": 859, \"val\": 170209.0899999999}, {\"col\": \"cand_nm\", \"idx\": 860, \"val\": \"Sanders, Bernard\"}, {\"col\": \"contbr_st\", \"idx\": 860, \"val\": \"ID\"}, {\"col\": \"contb_receipt_amt\", \"idx\": 860, \"val\": 77223.59999999996}, {\"col\": \"cand_nm\", \"idx\": 861, \"val\": \"Sanders, Bernard\"}, {\"col\": \"contbr_st\", \"idx\": 861, \"val\": \"IL\"}, {\"col\": \"contb_receipt_amt\", \"idx\": 861, \"val\": 1021246.5900000037}, {\"col\": \"cand_nm\", \"idx\": 862, \"val\": \"Sanders, Bernard\"}, {\"col\": \"contbr_st\", \"idx\": 862, \"val\": \"IN\"}, {\"col\": \"contb_receipt_amt\", \"idx\": 862, \"val\": 203424.4399999998}, {\"col\": \"cand_nm\", \"idx\": 863, \"val\": \"Sanders, Bernard\"}, {\"col\": \"contbr_st\", \"idx\": 863, \"val\": \"KS\"}, {\"col\": \"contb_receipt_amt\", \"idx\": 863, \"val\": 121713.05999999995}, {\"col\": \"cand_nm\", \"idx\": 864, \"val\": \"Sanders, Bernard\"}, {\"col\": \"contbr_st\", \"idx\": 864, \"val\": \"KY\"}, {\"col\": \"contb_receipt_amt\", \"idx\": 864, \"val\": 128058.45999999996}, {\"col\": \"cand_nm\", \"idx\": 865, \"val\": \"Sanders, Bernard\"}, {\"col\": \"contbr_st\", \"idx\": 865, \"val\": \"LA\"}, {\"col\": \"contb_receipt_amt\", \"idx\": 865, \"val\": 100030.75000000003}, {\"col\": \"cand_nm\", \"idx\": 866, \"val\": \"Sanders, Bernard\"}, {\"col\": \"contbr_st\", \"idx\": 866, \"val\": \"LO\"}, {\"col\": \"contb_receipt_amt\", \"idx\": 866, \"val\": 250.0}, {\"col\": \"cand_nm\", \"idx\": 867, \"val\": \"Sanders, Bernard\"}, {\"col\": \"contbr_st\", \"idx\": 867, \"val\": \"MA\"}, {\"col\": \"contb_receipt_amt\", \"idx\": 867, \"val\": 1414238.7200000049}, {\"col\": \"cand_nm\", \"idx\": 868, \"val\": \"Sanders, Bernard\"}, {\"col\": \"contbr_st\", \"idx\": 868, \"val\": \"MB\"}, {\"col\": \"contb_receipt_amt\", \"idx\": 868, \"val\": 500.0}, {\"col\": \"cand_nm\", \"idx\": 869, \"val\": \"Sanders, Bernard\"}, {\"col\": \"contbr_st\", \"idx\": 869, \"val\": \"MD\"}, {\"col\": \"contb_receipt_amt\", \"idx\": 869, \"val\": 570382.0499999985}, {\"col\": \"cand_nm\", \"idx\": 870, \"val\": \"Sanders, Bernard\"}, {\"col\": \"contbr_st\", \"idx\": 870, \"val\": \"ME\"}, {\"col\": \"contb_receipt_amt\", \"idx\": 870, \"val\": 201707.8100000001}, {\"col\": \"cand_nm\", \"idx\": 871, \"val\": \"Sanders, Bernard\"}, {\"col\": \"contbr_st\", \"idx\": 871, \"val\": \"MI\"}, {\"col\": \"contb_receipt_amt\", \"idx\": 871, \"val\": 504517.07999999967}, {\"col\": \"cand_nm\", \"idx\": 872, \"val\": \"Sanders, Bernard\"}, {\"col\": \"contbr_st\", \"idx\": 872, \"val\": \"MN\"}, {\"col\": \"contb_receipt_amt\", \"idx\": 872, \"val\": 439521.54000000004}, {\"col\": \"cand_nm\", \"idx\": 873, \"val\": \"Sanders, Bernard\"}, {\"col\": \"contbr_st\", \"idx\": 873, \"val\": \"MO\"}, {\"col\": \"contb_receipt_amt\", \"idx\": 873, \"val\": 234306.39999999997}, {\"col\": \"cand_nm\", \"idx\": 874, \"val\": \"Sanders, Bernard\"}, {\"col\": \"contbr_st\", \"idx\": 874, \"val\": \"MP\"}, {\"col\": \"contb_receipt_amt\", \"idx\": 874, \"val\": 1500.0}, {\"col\": \"cand_nm\", \"idx\": 875, \"val\": \"Sanders, Bernard\"}, {\"col\": \"contbr_st\", \"idx\": 875, \"val\": \"MS\"}, {\"col\": \"contb_receipt_amt\", \"idx\": 875, \"val\": 34228.73}, {\"col\": \"cand_nm\", \"idx\": 876, \"val\": \"Sanders, Bernard\"}, {\"col\": \"contbr_st\", \"idx\": 876, \"val\": \"MT\"}, {\"col\": \"contb_receipt_amt\", \"idx\": 876, \"val\": 91023.24}, {\"col\": \"cand_nm\", \"idx\": 877, \"val\": \"Sanders, Bernard\"}, {\"col\": \"contbr_st\", \"idx\": 877, \"val\": \"NC\"}, {\"col\": \"contb_receipt_amt\", \"idx\": 877, \"val\": 456462.41000000015}, {\"col\": \"cand_nm\", \"idx\": 878, \"val\": \"Sanders, Bernard\"}, {\"col\": \"contbr_st\", \"idx\": 878, \"val\": \"ND\"}, {\"col\": \"contb_receipt_amt\", \"idx\": 878, \"val\": 22368.810000000005}, {\"col\": \"cand_nm\", \"idx\": 879, \"val\": \"Sanders, Bernard\"}, {\"col\": \"contbr_st\", \"idx\": 879, \"val\": \"NE\"}, {\"col\": \"contb_receipt_amt\", \"idx\": 879, \"val\": 72616.54000000004}, {\"col\": \"cand_nm\", \"idx\": 880, \"val\": \"Sanders, Bernard\"}, {\"col\": \"contbr_st\", \"idx\": 880, \"val\": \"NH\"}, {\"col\": \"contb_receipt_amt\", \"idx\": 880, \"val\": 289927.78000000026}, {\"col\": \"cand_nm\", \"idx\": 881, \"val\": \"Sanders, Bernard\"}, {\"col\": \"contbr_st\", \"idx\": 881, \"val\": \"NJ\"}, {\"col\": \"contb_receipt_amt\", \"idx\": 881, \"val\": 548269.9499999986}, {\"col\": \"cand_nm\", \"idx\": 882, \"val\": \"Sanders, Bernard\"}, {\"col\": \"contbr_st\", \"idx\": 882, \"val\": \"NL\"}, {\"col\": \"contb_receipt_amt\", \"idx\": 882, \"val\": 500.0}, {\"col\": \"cand_nm\", \"idx\": 883, \"val\": \"Sanders, Bernard\"}, {\"col\": \"contbr_st\", \"idx\": 883, \"val\": \"NM\"}, {\"col\": \"contb_receipt_amt\", \"idx\": 883, \"val\": 348260.4799999994}, {\"col\": \"cand_nm\", \"idx\": 884, \"val\": \"Sanders, Bernard\"}, {\"col\": \"contbr_st\", \"idx\": 884, \"val\": \"NS\"}, {\"col\": \"contb_receipt_amt\", \"idx\": 884, \"val\": 1050.0}, {\"col\": \"cand_nm\", \"idx\": 885, \"val\": \"Sanders, Bernard\"}, {\"col\": \"contbr_st\", \"idx\": 885, \"val\": \"NV\"}, {\"col\": \"contb_receipt_amt\", \"idx\": 885, \"val\": 190239.96000000005}, {\"col\": \"cand_nm\", \"idx\": 886, \"val\": \"Sanders, Bernard\"}, {\"col\": \"contbr_st\", \"idx\": 886, \"val\": \"NY\"}, {\"col\": \"contb_receipt_amt\", \"idx\": 886, \"val\": 2333623.3600000073}, {\"col\": \"cand_nm\", \"idx\": 887, \"val\": \"Sanders, Bernard\"}, {\"col\": \"contbr_st\", \"idx\": 887, \"val\": \"OH\"}, {\"col\": \"contb_receipt_amt\", \"idx\": 887, \"val\": 381103.5299999988}, {\"col\": \"cand_nm\", \"idx\": 888, \"val\": \"Sanders, Bernard\"}, {\"col\": \"contbr_st\", \"idx\": 888, \"val\": \"OK\"}, {\"col\": \"contb_receipt_amt\", \"idx\": 888, \"val\": 115780.50000000003}, {\"col\": \"cand_nm\", \"idx\": 889, \"val\": \"Sanders, Bernard\"}, {\"col\": \"contbr_st\", \"idx\": 889, \"val\": \"ON\"}, {\"col\": \"contb_receipt_amt\", \"idx\": 889, \"val\": 1490.0}, {\"col\": \"cand_nm\", \"idx\": 890, \"val\": \"Sanders, Bernard\"}, {\"col\": \"contbr_st\", \"idx\": 890, \"val\": \"OR\"}, {\"col\": \"contb_receipt_amt\", \"idx\": 890, \"val\": 821315.5999999999}, {\"col\": \"cand_nm\", \"idx\": 891, \"val\": \"Sanders, Bernard\"}, {\"col\": \"contbr_st\", \"idx\": 891, \"val\": \"PA\"}, {\"col\": \"contb_receipt_amt\", \"idx\": 891, \"val\": 651118.0700000002}, {\"col\": \"cand_nm\", \"idx\": 892, \"val\": \"Sanders, Bernard\"}, {\"col\": \"contbr_st\", \"idx\": 892, \"val\": \"PR\"}, {\"col\": \"contb_receipt_amt\", \"idx\": 892, \"val\": 12373.09}, {\"col\": \"cand_nm\", \"idx\": 893, \"val\": \"Sanders, Bernard\"}, {\"col\": \"contbr_st\", \"idx\": 893, \"val\": \"QC\"}, {\"col\": \"contb_receipt_amt\", \"idx\": 893, \"val\": 2460.0}, {\"col\": \"cand_nm\", \"idx\": 894, \"val\": \"Sanders, Bernard\"}, {\"col\": \"contbr_st\", \"idx\": 894, \"val\": \"RI\"}, {\"col\": \"contb_receipt_amt\", \"idx\": 894, \"val\": 104700.0}, {\"col\": \"cand_nm\", \"idx\": 895, \"val\": \"Sanders, Bernard\"}, {\"col\": \"contbr_st\", \"idx\": 895, \"val\": \"SC\"}, {\"col\": \"contb_receipt_amt\", \"idx\": 895, \"val\": 122887.64999999998}, {\"col\": \"cand_nm\", \"idx\": 896, \"val\": \"Sanders, Bernard\"}, {\"col\": \"contbr_st\", \"idx\": 896, \"val\": \"SD\"}, {\"col\": \"contb_receipt_amt\", \"idx\": 896, \"val\": 34087.549999999996}, {\"col\": \"cand_nm\", \"idx\": 897, \"val\": \"Sanders, Bernard\"}, {\"col\": \"contbr_st\", \"idx\": 897, \"val\": \"SI\"}, {\"col\": \"contb_receipt_amt\", \"idx\": 897, \"val\": 1000.0}, {\"col\": \"cand_nm\", \"idx\": 898, \"val\": \"Sanders, Bernard\"}, {\"col\": \"contbr_st\", \"idx\": 898, \"val\": \"TN\"}, {\"col\": \"contb_receipt_amt\", \"idx\": 898, \"val\": 215957.63000000012}, {\"col\": \"cand_nm\", \"idx\": 899, \"val\": \"Sanders, Bernard\"}, {\"col\": \"contbr_st\", \"idx\": 899, \"val\": \"TO\"}, {\"col\": \"contb_receipt_amt\", \"idx\": 899, \"val\": 250.0}, {\"col\": \"cand_nm\", \"idx\": 900, \"val\": \"Sanders, Bernard\"}, {\"col\": \"contbr_st\", \"idx\": 900, \"val\": \"TX\"}, {\"col\": \"contb_receipt_amt\", \"idx\": 900, \"val\": 956062.1499999996}, {\"col\": \"cand_nm\", \"idx\": 901, \"val\": \"Sanders, Bernard\"}, {\"col\": \"contbr_st\", \"idx\": 901, \"val\": \"UT\"}, {\"col\": \"contb_receipt_amt\", \"idx\": 901, \"val\": 135926.10000000003}, {\"col\": \"cand_nm\", \"idx\": 902, \"val\": \"Sanders, Bernard\"}, {\"col\": \"contbr_st\", \"idx\": 902, \"val\": \"VA\"}, {\"col\": \"contb_receipt_amt\", \"idx\": 902, \"val\": 552513.1099999988}, {\"col\": \"cand_nm\", \"idx\": 903, \"val\": \"Sanders, Bernard\"}, {\"col\": \"contbr_st\", \"idx\": 903, \"val\": \"VI\"}, {\"col\": \"contb_receipt_amt\", \"idx\": 903, \"val\": 7160.28}, {\"col\": \"cand_nm\", \"idx\": 904, \"val\": \"Sanders, Bernard\"}, {\"col\": \"contbr_st\", \"idx\": 904, \"val\": \"VT\"}, {\"col\": \"contb_receipt_amt\", \"idx\": 904, \"val\": 949689.9600000005}, {\"col\": \"cand_nm\", \"idx\": 905, \"val\": \"Sanders, Bernard\"}, {\"col\": \"contbr_st\", \"idx\": 905, \"val\": \"WA\"}, {\"col\": \"contb_receipt_amt\", \"idx\": 905, \"val\": 1683241.2100000076}, {\"col\": \"cand_nm\", \"idx\": 906, \"val\": \"Sanders, Bernard\"}, {\"col\": \"contbr_st\", \"idx\": 906, \"val\": \"WI\"}, {\"col\": \"contb_receipt_amt\", \"idx\": 906, \"val\": 394505.5999999997}, {\"col\": \"cand_nm\", \"idx\": 907, \"val\": \"Sanders, Bernard\"}, {\"col\": \"contbr_st\", \"idx\": 907, \"val\": \"WV\"}, {\"col\": \"contb_receipt_amt\", \"idx\": 907, \"val\": 69323.78999999998}, {\"col\": \"cand_nm\", \"idx\": 908, \"val\": \"Sanders, Bernard\"}, {\"col\": \"contbr_st\", \"idx\": 908, \"val\": \"WY\"}, {\"col\": \"contb_receipt_amt\", \"idx\": 908, \"val\": 28709.950000000004}, {\"col\": \"cand_nm\", \"idx\": 909, \"val\": \"Sanders, Bernard\"}, {\"col\": \"contbr_st\", \"idx\": 909, \"val\": \"YT\"}, {\"col\": \"contb_receipt_amt\", \"idx\": 909, \"val\": 25.0}, {\"col\": \"cand_nm\", \"idx\": 910, \"val\": \"Sanders, Bernard\"}, {\"col\": \"contbr_st\", \"idx\": 910, \"val\": \"ZZ\"}, {\"col\": \"contb_receipt_amt\", \"idx\": 910, \"val\": 36250.59999999999}, {\"col\": \"cand_nm\", \"idx\": 911, \"val\": \"Santorum, Richard J.\"}, {\"col\": \"contbr_st\", \"idx\": 911, \"val\": \"AE\"}, {\"col\": \"contb_receipt_amt\", \"idx\": 911, \"val\": 550.0}, {\"col\": \"cand_nm\", \"idx\": 912, \"val\": \"Santorum, Richard J.\"}, {\"col\": \"contbr_st\", \"idx\": 912, \"val\": \"AK\"}, {\"col\": \"contb_receipt_amt\", \"idx\": 912, \"val\": 250.0}, {\"col\": \"cand_nm\", \"idx\": 913, \"val\": \"Santorum, Richard J.\"}, {\"col\": \"contbr_st\", \"idx\": 913, \"val\": \"AL\"}, {\"col\": \"contb_receipt_amt\", \"idx\": 913, \"val\": 10908.0}, {\"col\": \"cand_nm\", \"idx\": 914, \"val\": \"Santorum, Richard J.\"}, {\"col\": \"contbr_st\", \"idx\": 914, \"val\": \"AR\"}, {\"col\": \"contb_receipt_amt\", \"idx\": 914, \"val\": 600.0}, {\"col\": \"cand_nm\", \"idx\": 915, \"val\": \"Santorum, Richard J.\"}, {\"col\": \"contbr_st\", \"idx\": 915, \"val\": \"AZ\"}, {\"col\": \"contb_receipt_amt\", \"idx\": 915, \"val\": 23284.55}, {\"col\": \"cand_nm\", \"idx\": 916, \"val\": \"Santorum, Richard J.\"}, {\"col\": \"contbr_st\", \"idx\": 916, \"val\": \"CA\"}, {\"col\": \"contb_receipt_amt\", \"idx\": 916, \"val\": 36104.88}, {\"col\": \"cand_nm\", \"idx\": 917, \"val\": \"Santorum, Richard J.\"}, {\"col\": \"contbr_st\", \"idx\": 917, \"val\": \"CO\"}, {\"col\": \"contb_receipt_amt\", \"idx\": 917, \"val\": 18670.0}, {\"col\": \"cand_nm\", \"idx\": 918, \"val\": \"Santorum, Richard J.\"}, {\"col\": \"contbr_st\", \"idx\": 918, \"val\": \"CT\"}, {\"col\": \"contb_receipt_amt\", \"idx\": 918, \"val\": 5375.950000000001}, {\"col\": \"cand_nm\", \"idx\": 919, \"val\": \"Santorum, Richard J.\"}, {\"col\": \"contbr_st\", \"idx\": 919, \"val\": \"DC\"}, {\"col\": \"contb_receipt_amt\", \"idx\": 919, \"val\": 2250.0}, {\"col\": \"cand_nm\", \"idx\": 920, \"val\": \"Santorum, Richard J.\"}, {\"col\": \"contbr_st\", \"idx\": 920, \"val\": \"DE\"}, {\"col\": \"contb_receipt_amt\", \"idx\": 920, \"val\": 500.0}, {\"col\": \"cand_nm\", \"idx\": 921, \"val\": \"Santorum, Richard J.\"}, {\"col\": \"contbr_st\", \"idx\": 921, \"val\": \"FL\"}, {\"col\": \"contb_receipt_amt\", \"idx\": 921, \"val\": 61363.950000000004}, {\"col\": \"cand_nm\", \"idx\": 922, \"val\": \"Santorum, Richard J.\"}, {\"col\": \"contbr_st\", \"idx\": 922, \"val\": \"GA\"}, {\"col\": \"contb_receipt_amt\", \"idx\": 922, \"val\": 8447.79}, {\"col\": \"cand_nm\", \"idx\": 923, \"val\": \"Santorum, Richard J.\"}, {\"col\": \"contbr_st\", \"idx\": 923, \"val\": \"GU\"}, {\"col\": \"contb_receipt_amt\", \"idx\": 923, \"val\": 155.0}, {\"col\": \"cand_nm\", \"idx\": 924, \"val\": \"Santorum, Richard J.\"}, {\"col\": \"contbr_st\", \"idx\": 924, \"val\": \"IA\"}, {\"col\": \"contb_receipt_amt\", \"idx\": 924, \"val\": 19039.41}, {\"col\": \"cand_nm\", \"idx\": 925, \"val\": \"Santorum, Richard J.\"}, {\"col\": \"contbr_st\", \"idx\": 925, \"val\": \"ID\"}, {\"col\": \"contb_receipt_amt\", \"idx\": 925, \"val\": 1052.1399999999999}, {\"col\": \"cand_nm\", \"idx\": 926, \"val\": \"Santorum, Richard J.\"}, {\"col\": \"contbr_st\", \"idx\": 926, \"val\": \"IL\"}, {\"col\": \"contb_receipt_amt\", \"idx\": 926, \"val\": 11022.46}, {\"col\": \"cand_nm\", \"idx\": 927, \"val\": \"Santorum, Richard J.\"}, {\"col\": \"contbr_st\", \"idx\": 927, \"val\": \"IN\"}, {\"col\": \"contb_receipt_amt\", \"idx\": 927, \"val\": 7960.0}, {\"col\": \"cand_nm\", \"idx\": 928, \"val\": \"Santorum, Richard J.\"}, {\"col\": \"contbr_st\", \"idx\": 928, \"val\": \"KS\"}, {\"col\": \"contb_receipt_amt\", \"idx\": 928, \"val\": 3485.64}, {\"col\": \"cand_nm\", \"idx\": 929, \"val\": \"Santorum, Richard J.\"}, {\"col\": \"contbr_st\", \"idx\": 929, \"val\": \"KY\"}, {\"col\": \"contb_receipt_amt\", \"idx\": 929, \"val\": 1000.0}, {\"col\": \"cand_nm\", \"idx\": 930, \"val\": \"Santorum, Richard J.\"}, {\"col\": \"contbr_st\", \"idx\": 930, \"val\": \"LA\"}, {\"col\": \"contb_receipt_amt\", \"idx\": 930, \"val\": 49050.0}, {\"col\": \"cand_nm\", \"idx\": 931, \"val\": \"Santorum, Richard J.\"}, {\"col\": \"contbr_st\", \"idx\": 931, \"val\": \"MA\"}, {\"col\": \"contb_receipt_amt\", \"idx\": 931, \"val\": 7620.1}, {\"col\": \"cand_nm\", \"idx\": 932, \"val\": \"Santorum, Richard J.\"}, {\"col\": \"contbr_st\", \"idx\": 932, \"val\": \"MD\"}, {\"col\": \"contb_receipt_amt\", \"idx\": 932, \"val\": 12500.0}, {\"col\": \"cand_nm\", \"idx\": 933, \"val\": \"Santorum, Richard J.\"}, {\"col\": \"contbr_st\", \"idx\": 933, \"val\": \"MI\"}, {\"col\": \"contb_receipt_amt\", \"idx\": 933, \"val\": 2366.98}, {\"col\": \"cand_nm\", \"idx\": 934, \"val\": \"Santorum, Richard J.\"}, {\"col\": \"contbr_st\", \"idx\": 934, \"val\": \"MN\"}, {\"col\": \"contb_receipt_amt\", \"idx\": 934, \"val\": 24486.5}, {\"col\": \"cand_nm\", \"idx\": 935, \"val\": \"Santorum, Richard J.\"}, {\"col\": \"contbr_st\", \"idx\": 935, \"val\": \"MO\"}, {\"col\": \"contb_receipt_amt\", \"idx\": 935, \"val\": 6830.799999999999}, {\"col\": \"cand_nm\", \"idx\": 936, \"val\": \"Santorum, Richard J.\"}, {\"col\": \"contbr_st\", \"idx\": 936, \"val\": \"MS\"}, {\"col\": \"contb_receipt_amt\", \"idx\": 936, \"val\": 1035.0}, {\"col\": \"cand_nm\", \"idx\": 937, \"val\": \"Santorum, Richard J.\"}, {\"col\": \"contbr_st\", \"idx\": 937, \"val\": \"MT\"}, {\"col\": \"contb_receipt_amt\", \"idx\": 937, \"val\": 1000.0}, {\"col\": \"cand_nm\", \"idx\": 938, \"val\": \"Santorum, Richard J.\"}, {\"col\": \"contbr_st\", \"idx\": 938, \"val\": \"NC\"}, {\"col\": \"contb_receipt_amt\", \"idx\": 938, \"val\": 4095.0}, {\"col\": \"cand_nm\", \"idx\": 939, \"val\": \"Santorum, Richard J.\"}, {\"col\": \"contbr_st\", \"idx\": 939, \"val\": \"NE\"}, {\"col\": \"contb_receipt_amt\", \"idx\": 939, \"val\": 6800.0}, {\"col\": \"cand_nm\", \"idx\": 940, \"val\": \"Santorum, Richard J.\"}, {\"col\": \"contbr_st\", \"idx\": 940, \"val\": \"NH\"}, {\"col\": \"contb_receipt_amt\", \"idx\": 940, \"val\": 1525.0}, {\"col\": \"cand_nm\", \"idx\": 941, \"val\": \"Santorum, Richard J.\"}, {\"col\": \"contbr_st\", \"idx\": 941, \"val\": \"NJ\"}, {\"col\": \"contb_receipt_amt\", \"idx\": 941, \"val\": 22712.140000000003}, {\"col\": \"cand_nm\", \"idx\": 942, \"val\": \"Santorum, Richard J.\"}, {\"col\": \"contbr_st\", \"idx\": 942, \"val\": \"NV\"}, {\"col\": \"contb_receipt_amt\", \"idx\": 942, \"val\": 11750.0}, {\"col\": \"cand_nm\", \"idx\": 943, \"val\": \"Santorum, Richard J.\"}, {\"col\": \"contbr_st\", \"idx\": 943, \"val\": \"NY\"}, {\"col\": \"contb_receipt_amt\", \"idx\": 943, \"val\": 26955.1}, {\"col\": \"cand_nm\", \"idx\": 944, \"val\": \"Santorum, Richard J.\"}, {\"col\": \"contbr_st\", \"idx\": 944, \"val\": \"OH\"}, {\"col\": \"contb_receipt_amt\", \"idx\": 944, \"val\": 13858.61}, {\"col\": \"cand_nm\", \"idx\": 945, \"val\": \"Santorum, Richard J.\"}, {\"col\": \"contbr_st\", \"idx\": 945, \"val\": \"OK\"}, {\"col\": \"contb_receipt_amt\", \"idx\": 945, \"val\": 525.0}, {\"col\": \"cand_nm\", \"idx\": 946, \"val\": \"Santorum, Richard J.\"}, {\"col\": \"contbr_st\", \"idx\": 946, \"val\": \"OR\"}, {\"col\": \"contb_receipt_amt\", \"idx\": 946, \"val\": 400.0}, {\"col\": \"cand_nm\", \"idx\": 947, \"val\": \"Santorum, Richard J.\"}, {\"col\": \"contbr_st\", \"idx\": 947, \"val\": \"PA\"}, {\"col\": \"contb_receipt_amt\", \"idx\": 947, \"val\": 196881.44000000003}, {\"col\": \"cand_nm\", \"idx\": 948, \"val\": \"Santorum, Richard J.\"}, {\"col\": \"contbr_st\", \"idx\": 948, \"val\": \"SC\"}, {\"col\": \"contb_receipt_amt\", \"idx\": 948, \"val\": 44319.44}, {\"col\": \"cand_nm\", \"idx\": 949, \"val\": \"Santorum, Richard J.\"}, {\"col\": \"contbr_st\", \"idx\": 949, \"val\": \"SD\"}, {\"col\": \"contb_receipt_amt\", \"idx\": 949, \"val\": 1300.0}, {\"col\": \"cand_nm\", \"idx\": 950, \"val\": \"Santorum, Richard J.\"}, {\"col\": \"contbr_st\", \"idx\": 950, \"val\": \"TN\"}, {\"col\": \"contb_receipt_amt\", \"idx\": 950, \"val\": 25768.46}, {\"col\": \"cand_nm\", \"idx\": 951, \"val\": \"Santorum, Richard J.\"}, {\"col\": \"contbr_st\", \"idx\": 951, \"val\": \"TX\"}, {\"col\": \"contb_receipt_amt\", \"idx\": 951, \"val\": 273918.19999999995}, {\"col\": \"cand_nm\", \"idx\": 952, \"val\": \"Santorum, Richard J.\"}, {\"col\": \"contbr_st\", \"idx\": 952, \"val\": \"VA\"}, {\"col\": \"contb_receipt_amt\", \"idx\": 952, \"val\": 60189.41000000001}, {\"col\": \"cand_nm\", \"idx\": 953, \"val\": \"Santorum, Richard J.\"}, {\"col\": \"contbr_st\", \"idx\": 953, \"val\": \"WA\"}, {\"col\": \"contb_receipt_amt\", \"idx\": 953, \"val\": 1260.0}, {\"col\": \"cand_nm\", \"idx\": 954, \"val\": \"Santorum, Richard J.\"}, {\"col\": \"contbr_st\", \"idx\": 954, \"val\": \"WI\"}, {\"col\": \"contb_receipt_amt\", \"idx\": 954, \"val\": 916.3}, {\"col\": \"cand_nm\", \"idx\": 955, \"val\": \"Santorum, Richard J.\"}, {\"col\": \"contbr_st\", \"idx\": 955, \"val\": \"WY\"}, {\"col\": \"contb_receipt_amt\", \"idx\": 955, \"val\": 17200.0}, {\"col\": \"cand_nm\", \"idx\": 956, \"val\": \"Stein, Jill\"}, {\"col\": \"contbr_st\", \"idx\": 956, \"val\": \"AZ\"}, {\"col\": \"contb_receipt_amt\", \"idx\": 956, \"val\": 3250.0}, {\"col\": \"cand_nm\", \"idx\": 957, \"val\": \"Stein, Jill\"}, {\"col\": \"contbr_st\", \"idx\": 957, \"val\": \"CA\"}, {\"col\": \"contb_receipt_amt\", \"idx\": 957, \"val\": 13265.0}, {\"col\": \"cand_nm\", \"idx\": 958, \"val\": \"Stein, Jill\"}, {\"col\": \"contbr_st\", \"idx\": 958, \"val\": \"CO\"}, {\"col\": \"contb_receipt_amt\", \"idx\": 958, \"val\": 950.0}, {\"col\": \"cand_nm\", \"idx\": 959, \"val\": \"Stein, Jill\"}, {\"col\": \"contbr_st\", \"idx\": 959, \"val\": \"CT\"}, {\"col\": \"contb_receipt_amt\", \"idx\": 959, \"val\": 3425.0}, {\"col\": \"cand_nm\", \"idx\": 960, \"val\": \"Stein, Jill\"}, {\"col\": \"contbr_st\", \"idx\": 960, \"val\": \"DC\"}, {\"col\": \"contb_receipt_amt\", \"idx\": 960, \"val\": 480.0}, {\"col\": \"cand_nm\", \"idx\": 961, \"val\": \"Stein, Jill\"}, {\"col\": \"contbr_st\", \"idx\": 961, \"val\": \"FL\"}, {\"col\": \"contb_receipt_amt\", \"idx\": 961, \"val\": 3270.0}, {\"col\": \"cand_nm\", \"idx\": 962, \"val\": \"Stein, Jill\"}, {\"col\": \"contbr_st\", \"idx\": 962, \"val\": \"GA\"}, {\"col\": \"contb_receipt_amt\", \"idx\": 962, \"val\": 3842.0}, {\"col\": \"cand_nm\", \"idx\": 963, \"val\": \"Stein, Jill\"}, {\"col\": \"contbr_st\", \"idx\": 963, \"val\": \"HI\"}, {\"col\": \"contb_receipt_amt\", \"idx\": 963, \"val\": 250.0}, {\"col\": \"cand_nm\", \"idx\": 964, \"val\": \"Stein, Jill\"}, {\"col\": \"contbr_st\", \"idx\": 964, \"val\": \"ID\"}, {\"col\": \"contb_receipt_amt\", \"idx\": 964, \"val\": 100.0}, {\"col\": \"cand_nm\", \"idx\": 965, \"val\": \"Stein, Jill\"}, {\"col\": \"contbr_st\", \"idx\": 965, \"val\": \"IL\"}, {\"col\": \"contb_receipt_amt\", \"idx\": 965, \"val\": 6300.0}, {\"col\": \"cand_nm\", \"idx\": 966, \"val\": \"Stein, Jill\"}, {\"col\": \"contbr_st\", \"idx\": 966, \"val\": \"KS\"}, {\"col\": \"contb_receipt_amt\", \"idx\": 966, \"val\": 750.0}, {\"col\": \"cand_nm\", \"idx\": 967, \"val\": \"Stein, Jill\"}, {\"col\": \"contbr_st\", \"idx\": 967, \"val\": \"KY\"}, {\"col\": \"contb_receipt_amt\", \"idx\": 967, \"val\": 750.0}, {\"col\": \"cand_nm\", \"idx\": 968, \"val\": \"Stein, Jill\"}, {\"col\": \"contbr_st\", \"idx\": 968, \"val\": \"MA\"}, {\"col\": \"contb_receipt_amt\", \"idx\": 968, \"val\": 6370.0}, {\"col\": \"cand_nm\", \"idx\": 969, \"val\": \"Stein, Jill\"}, {\"col\": \"contbr_st\", \"idx\": 969, \"val\": \"MD\"}, {\"col\": \"contb_receipt_amt\", \"idx\": 969, \"val\": 4400.0}, {\"col\": \"cand_nm\", \"idx\": 970, \"val\": \"Stein, Jill\"}, {\"col\": \"contbr_st\", \"idx\": 970, \"val\": \"ME\"}, {\"col\": \"contb_receipt_amt\", \"idx\": 970, \"val\": 1500.0}, {\"col\": \"cand_nm\", \"idx\": 971, \"val\": \"Stein, Jill\"}, {\"col\": \"contbr_st\", \"idx\": 971, \"val\": \"MI\"}, {\"col\": \"contb_receipt_amt\", \"idx\": 971, \"val\": 3389.0}, {\"col\": \"cand_nm\", \"idx\": 972, \"val\": \"Stein, Jill\"}, {\"col\": \"contbr_st\", \"idx\": 972, \"val\": \"MN\"}, {\"col\": \"contb_receipt_amt\", \"idx\": 972, \"val\": 3565.0}, {\"col\": \"cand_nm\", \"idx\": 973, \"val\": \"Stein, Jill\"}, {\"col\": \"contbr_st\", \"idx\": 973, \"val\": \"MO\"}, {\"col\": \"contb_receipt_amt\", \"idx\": 973, \"val\": 1216.0}, {\"col\": \"cand_nm\", \"idx\": 974, \"val\": \"Stein, Jill\"}, {\"col\": \"contbr_st\", \"idx\": 974, \"val\": \"NC\"}, {\"col\": \"contb_receipt_amt\", \"idx\": 974, \"val\": 2938.0}, {\"col\": \"cand_nm\", \"idx\": 975, \"val\": \"Stein, Jill\"}, {\"col\": \"contbr_st\", \"idx\": 975, \"val\": \"NH\"}, {\"col\": \"contb_receipt_amt\", \"idx\": 975, \"val\": 250.0}, {\"col\": \"cand_nm\", \"idx\": 976, \"val\": \"Stein, Jill\"}, {\"col\": \"contbr_st\", \"idx\": 976, \"val\": \"NJ\"}, {\"col\": \"contb_receipt_amt\", \"idx\": 976, \"val\": 2250.0}, {\"col\": \"cand_nm\", \"idx\": 977, \"val\": \"Stein, Jill\"}, {\"col\": \"contbr_st\", \"idx\": 977, \"val\": \"NM\"}, {\"col\": \"contb_receipt_amt\", \"idx\": 977, \"val\": 1000.0}, {\"col\": \"cand_nm\", \"idx\": 978, \"val\": \"Stein, Jill\"}, {\"col\": \"contbr_st\", \"idx\": 978, \"val\": \"NY\"}, {\"col\": \"contb_receipt_amt\", \"idx\": 978, \"val\": 10965.0}, {\"col\": \"cand_nm\", \"idx\": 979, \"val\": \"Stein, Jill\"}, {\"col\": \"contbr_st\", \"idx\": 979, \"val\": \"OH\"}, {\"col\": \"contb_receipt_amt\", \"idx\": 979, \"val\": 1340.0}, {\"col\": \"cand_nm\", \"idx\": 980, \"val\": \"Stein, Jill\"}, {\"col\": \"contbr_st\", \"idx\": 980, \"val\": \"OK\"}, {\"col\": \"contb_receipt_amt\", \"idx\": 980, \"val\": 3100.0}, {\"col\": \"cand_nm\", \"idx\": 981, \"val\": \"Stein, Jill\"}, {\"col\": \"contbr_st\", \"idx\": 981, \"val\": \"OR\"}, {\"col\": \"contb_receipt_amt\", \"idx\": 981, \"val\": 2270.0}, {\"col\": \"cand_nm\", \"idx\": 982, \"val\": \"Stein, Jill\"}, {\"col\": \"contbr_st\", \"idx\": 982, \"val\": \"PA\"}, {\"col\": \"contb_receipt_amt\", \"idx\": 982, \"val\": 1510.0}, {\"col\": \"cand_nm\", \"idx\": 983, \"val\": \"Stein, Jill\"}, {\"col\": \"contbr_st\", \"idx\": 983, \"val\": \"RI\"}, {\"col\": \"contb_receipt_amt\", \"idx\": 983, \"val\": 500.0}, {\"col\": \"cand_nm\", \"idx\": 984, \"val\": \"Stein, Jill\"}, {\"col\": \"contbr_st\", \"idx\": 984, \"val\": \"TN\"}, {\"col\": \"contb_receipt_amt\", \"idx\": 984, \"val\": 250.0}, {\"col\": \"cand_nm\", \"idx\": 985, \"val\": \"Stein, Jill\"}, {\"col\": \"contbr_st\", \"idx\": 985, \"val\": \"TX\"}, {\"col\": \"contb_receipt_amt\", \"idx\": 985, \"val\": 2614.0}, {\"col\": \"cand_nm\", \"idx\": 986, \"val\": \"Stein, Jill\"}, {\"col\": \"contbr_st\", \"idx\": 986, \"val\": \"UT\"}, {\"col\": \"contb_receipt_amt\", \"idx\": 986, \"val\": 250.0}, {\"col\": \"cand_nm\", \"idx\": 987, \"val\": \"Stein, Jill\"}, {\"col\": \"contbr_st\", \"idx\": 987, \"val\": \"VA\"}, {\"col\": \"contb_receipt_amt\", \"idx\": 987, \"val\": 2625.0}, {\"col\": \"cand_nm\", \"idx\": 988, \"val\": \"Stein, Jill\"}, {\"col\": \"contbr_st\", \"idx\": 988, \"val\": \"VT\"}, {\"col\": \"contb_receipt_amt\", \"idx\": 988, \"val\": 250.0}, {\"col\": \"cand_nm\", \"idx\": 989, \"val\": \"Stein, Jill\"}, {\"col\": \"contbr_st\", \"idx\": 989, \"val\": \"WA\"}, {\"col\": \"contb_receipt_amt\", \"idx\": 989, \"val\": 6317.0}, {\"col\": \"cand_nm\", \"idx\": 990, \"val\": \"Stein, Jill\"}, {\"col\": \"contbr_st\", \"idx\": 990, \"val\": \"WI\"}, {\"col\": \"contb_receipt_amt\", \"idx\": 990, \"val\": 6025.0}, {\"col\": \"cand_nm\", \"idx\": 991, \"val\": \"Trump, Donald J.\"}, {\"col\": \"contbr_st\", \"idx\": 991, \"val\": \"AE\"}, {\"col\": \"contb_receipt_amt\", \"idx\": 991, \"val\": 600.0}, {\"col\": \"cand_nm\", \"idx\": 992, \"val\": \"Trump, Donald J.\"}, {\"col\": \"contbr_st\", \"idx\": 992, \"val\": \"AK\"}, {\"col\": \"contb_receipt_amt\", \"idx\": 992, \"val\": 11553.93}, {\"col\": \"cand_nm\", \"idx\": 993, \"val\": \"Trump, Donald J.\"}, {\"col\": \"contbr_st\", \"idx\": 993, \"val\": \"AL\"}, {\"col\": \"contb_receipt_amt\", \"idx\": 993, \"val\": 26150.03999999999}, {\"col\": \"cand_nm\", \"idx\": 994, \"val\": \"Trump, Donald J.\"}, {\"col\": \"contbr_st\", \"idx\": 994, \"val\": \"AR\"}, {\"col\": \"contb_receipt_amt\", \"idx\": 994, \"val\": 6930.67}, {\"col\": \"cand_nm\", \"idx\": 995, \"val\": \"Trump, Donald J.\"}, {\"col\": \"contbr_st\", \"idx\": 995, \"val\": \"AZ\"}, {\"col\": \"contb_receipt_amt\", \"idx\": 995, \"val\": 46697.49999999999}, {\"col\": \"cand_nm\", \"idx\": 996, \"val\": \"Trump, Donald J.\"}, {\"col\": \"contbr_st\", \"idx\": 996, \"val\": \"CA\"}, {\"col\": \"contb_receipt_amt\", \"idx\": 996, \"val\": 208891.34000000005}, {\"col\": \"cand_nm\", \"idx\": 997, \"val\": \"Trump, Donald J.\"}, {\"col\": \"contbr_st\", \"idx\": 997, \"val\": \"CO\"}, {\"col\": \"contb_receipt_amt\", \"idx\": 997, \"val\": 46899.39000000001}, {\"col\": \"cand_nm\", \"idx\": 998, \"val\": \"Trump, Donald J.\"}, {\"col\": \"contbr_st\", \"idx\": 998, \"val\": \"CT\"}, {\"col\": \"contb_receipt_amt\", \"idx\": 998, \"val\": 16899.350000000002}, {\"col\": \"cand_nm\", \"idx\": 999, \"val\": \"Trump, Donald J.\"}, {\"col\": \"contbr_st\", \"idx\": 999, \"val\": \"DC\"}, {\"col\": \"contb_receipt_amt\", \"idx\": 999, \"val\": 5705.889999999999}, {\"col\": \"cand_nm\", \"idx\": 1000, \"val\": \"Trump, Donald J.\"}, {\"col\": \"contbr_st\", \"idx\": 1000, \"val\": \"DE\"}, {\"col\": \"contb_receipt_amt\", \"idx\": 1000, \"val\": 2648.96}, {\"col\": \"cand_nm\", \"idx\": 1001, \"val\": \"Trump, Donald J.\"}, {\"col\": \"contbr_st\", \"idx\": 1001, \"val\": \"FL\"}, {\"col\": \"contb_receipt_amt\", \"idx\": 1001, \"val\": 202379.89}, {\"col\": \"cand_nm\", \"idx\": 1002, \"val\": \"Trump, Donald J.\"}, {\"col\": \"contbr_st\", \"idx\": 1002, \"val\": \"GA\"}, {\"col\": \"contb_receipt_amt\", \"idx\": 1002, \"val\": 55514.03000000002}, {\"col\": \"cand_nm\", \"idx\": 1003, \"val\": \"Trump, Donald J.\"}, {\"col\": \"contbr_st\", \"idx\": 1003, \"val\": \"HI\"}, {\"col\": \"contb_receipt_amt\", \"idx\": 1003, \"val\": 10450.669999999998}, {\"col\": \"cand_nm\", \"idx\": 1004, \"val\": \"Trump, Donald J.\"}, {\"col\": \"contbr_st\", \"idx\": 1004, \"val\": \"IA\"}, {\"col\": \"contb_receipt_amt\", \"idx\": 1004, \"val\": 27882.39}, {\"col\": \"cand_nm\", \"idx\": 1005, \"val\": \"Trump, Donald J.\"}, {\"col\": \"contbr_st\", \"idx\": 1005, \"val\": \"ID\"}, {\"col\": \"contb_receipt_amt\", \"idx\": 1005, \"val\": 7913.109999999999}, {\"col\": \"cand_nm\", \"idx\": 1006, \"val\": \"Trump, Donald J.\"}, {\"col\": \"contbr_st\", \"idx\": 1006, \"val\": \"IL\"}, {\"col\": \"contb_receipt_amt\", \"idx\": 1006, \"val\": 47846.560000000005}, {\"col\": \"cand_nm\", \"idx\": 1007, \"val\": \"Trump, Donald J.\"}, {\"col\": \"contbr_st\", \"idx\": 1007, \"val\": \"IN\"}, {\"col\": \"contb_receipt_amt\", \"idx\": 1007, \"val\": 17754.33999999999}, {\"col\": \"cand_nm\", \"idx\": 1008, \"val\": \"Trump, Donald J.\"}, {\"col\": \"contbr_st\", \"idx\": 1008, \"val\": \"KS\"}, {\"col\": \"contb_receipt_amt\", \"idx\": 1008, \"val\": 11973.980000000001}, {\"col\": \"cand_nm\", \"idx\": 1009, \"val\": \"Trump, Donald J.\"}, {\"col\": \"contbr_st\", \"idx\": 1009, \"val\": \"KY\"}, {\"col\": \"contb_receipt_amt\", \"idx\": 1009, \"val\": 15111.569999999998}, {\"col\": \"cand_nm\", \"idx\": 1010, \"val\": \"Trump, Donald J.\"}, {\"col\": \"contbr_st\", \"idx\": 1010, \"val\": \"LA\"}, {\"col\": \"contb_receipt_amt\", \"idx\": 1010, \"val\": 32932.829999999994}, {\"col\": \"cand_nm\", \"idx\": 1011, \"val\": \"Trump, Donald J.\"}, {\"col\": \"contbr_st\", \"idx\": 1011, \"val\": \"MA\"}, {\"col\": \"contb_receipt_amt\", \"idx\": 1011, \"val\": 55790.38999999996}, {\"col\": \"cand_nm\", \"idx\": 1012, \"val\": \"Trump, Donald J.\"}, {\"col\": \"contbr_st\", \"idx\": 1012, \"val\": \"MD\"}, {\"col\": \"contb_receipt_amt\", \"idx\": 1012, \"val\": 22493.699999999997}, {\"col\": \"cand_nm\", \"idx\": 1013, \"val\": \"Trump, Donald J.\"}, {\"col\": \"contbr_st\", \"idx\": 1013, \"val\": \"ME\"}, {\"col\": \"contb_receipt_amt\", \"idx\": 1013, \"val\": 2849.0000000000005}, {\"col\": \"cand_nm\", \"idx\": 1014, \"val\": \"Trump, Donald J.\"}, {\"col\": \"contbr_st\", \"idx\": 1014, \"val\": \"MI\"}, {\"col\": \"contb_receipt_amt\", \"idx\": 1014, \"val\": 27067.189999999995}, {\"col\": \"cand_nm\", \"idx\": 1015, \"val\": \"Trump, Donald J.\"}, {\"col\": \"contbr_st\", \"idx\": 1015, \"val\": \"MN\"}, {\"col\": \"contb_receipt_amt\", \"idx\": 1015, \"val\": 11158.400000000001}, {\"col\": \"cand_nm\", \"idx\": 1016, \"val\": \"Trump, Donald J.\"}, {\"col\": \"contbr_st\", \"idx\": 1016, \"val\": \"MO\"}, {\"col\": \"contb_receipt_amt\", \"idx\": 1016, \"val\": 17416.210000000003}, {\"col\": \"cand_nm\", \"idx\": 1017, \"val\": \"Trump, Donald J.\"}, {\"col\": \"contbr_st\", \"idx\": 1017, \"val\": \"MS\"}, {\"col\": \"contb_receipt_amt\", \"idx\": 1017, \"val\": 19140.59}, {\"col\": \"cand_nm\", \"idx\": 1018, \"val\": \"Trump, Donald J.\"}, {\"col\": \"contbr_st\", \"idx\": 1018, \"val\": \"MT\"}, {\"col\": \"contb_receipt_amt\", \"idx\": 1018, \"val\": 5143.9}, {\"col\": \"cand_nm\", \"idx\": 1019, \"val\": \"Trump, Donald J.\"}, {\"col\": \"contbr_st\", \"idx\": 1019, \"val\": \"NC\"}, {\"col\": \"contb_receipt_amt\", \"idx\": 1019, \"val\": 30489.310000000005}, {\"col\": \"cand_nm\", \"idx\": 1020, \"val\": \"Trump, Donald J.\"}, {\"col\": \"contbr_st\", \"idx\": 1020, \"val\": \"ND\"}, {\"col\": \"contb_receipt_amt\", \"idx\": 1020, \"val\": 2432.96}, {\"col\": \"cand_nm\", \"idx\": 1021, \"val\": \"Trump, Donald J.\"}, {\"col\": \"contbr_st\", \"idx\": 1021, \"val\": \"NE\"}, {\"col\": \"contb_receipt_amt\", \"idx\": 1021, \"val\": 12782.550000000001}, {\"col\": \"cand_nm\", \"idx\": 1022, \"val\": \"Trump, Donald J.\"}, {\"col\": \"contbr_st\", \"idx\": 1022, \"val\": \"NH\"}, {\"col\": \"contb_receipt_amt\", \"idx\": 1022, \"val\": 15925.050000000001}, {\"col\": \"cand_nm\", \"idx\": 1023, \"val\": \"Trump, Donald J.\"}, {\"col\": \"contbr_st\", \"idx\": 1023, \"val\": \"NJ\"}, {\"col\": \"contb_receipt_amt\", \"idx\": 1023, \"val\": 44599.57000000001}, {\"col\": \"cand_nm\", \"idx\": 1024, \"val\": \"Trump, Donald J.\"}, {\"col\": \"contbr_st\", \"idx\": 1024, \"val\": \"NM\"}, {\"col\": \"contb_receipt_amt\", \"idx\": 1024, \"val\": 4692.08}, {\"col\": \"cand_nm\", \"idx\": 1025, \"val\": \"Trump, Donald J.\"}, {\"col\": \"contbr_st\", \"idx\": 1025, \"val\": \"NV\"}, {\"col\": \"contb_receipt_amt\", \"idx\": 1025, \"val\": 35149.1}, {\"col\": \"cand_nm\", \"idx\": 1026, \"val\": \"Trump, Donald J.\"}, {\"col\": \"contbr_st\", \"idx\": 1026, \"val\": \"NY\"}, {\"col\": \"contb_receipt_amt\", \"idx\": 1026, \"val\": 126184.03000000004}, {\"col\": \"cand_nm\", \"idx\": 1027, \"val\": \"Trump, Donald J.\"}, {\"col\": \"contbr_st\", \"idx\": 1027, \"val\": \"OH\"}, {\"col\": \"contb_receipt_amt\", \"idx\": 1027, \"val\": 33825.929999999986}, {\"col\": \"cand_nm\", \"idx\": 1028, \"val\": \"Trump, Donald J.\"}, {\"col\": \"contbr_st\", \"idx\": 1028, \"val\": \"OK\"}, {\"col\": \"contb_receipt_amt\", \"idx\": 1028, \"val\": 19368.969999999998}, {\"col\": \"cand_nm\", \"idx\": 1029, \"val\": \"Trump, Donald J.\"}, {\"col\": \"contbr_st\", \"idx\": 1029, \"val\": \"OR\"}, {\"col\": \"contb_receipt_amt\", \"idx\": 1029, \"val\": 13728.06}, {\"col\": \"cand_nm\", \"idx\": 1030, \"val\": \"Trump, Donald J.\"}, {\"col\": \"contbr_st\", \"idx\": 1030, \"val\": \"PA\"}, {\"col\": \"contb_receipt_amt\", \"idx\": 1030, \"val\": 49191.13}, {\"col\": \"cand_nm\", \"idx\": 1031, \"val\": \"Trump, Donald J.\"}, {\"col\": \"contbr_st\", \"idx\": 1031, \"val\": \"RI\"}, {\"col\": \"contb_receipt_amt\", \"idx\": 1031, \"val\": 5031.889999999999}, {\"col\": \"cand_nm\", \"idx\": 1032, \"val\": \"Trump, Donald J.\"}, {\"col\": \"contbr_st\", \"idx\": 1032, \"val\": \"SC\"}, {\"col\": \"contb_receipt_amt\", \"idx\": 1032, \"val\": 33718.23999999999}, {\"col\": \"cand_nm\", \"idx\": 1033, \"val\": \"Trump, Donald J.\"}, {\"col\": \"contbr_st\", \"idx\": 1033, \"val\": \"SD\"}, {\"col\": \"contb_receipt_amt\", \"idx\": 1033, \"val\": 3954.56}, {\"col\": \"cand_nm\", \"idx\": 1034, \"val\": \"Trump, Donald J.\"}, {\"col\": \"contbr_st\", \"idx\": 1034, \"val\": \"TN\"}, {\"col\": \"contb_receipt_amt\", \"idx\": 1034, \"val\": 52727.72999999998}, {\"col\": \"cand_nm\", \"idx\": 1035, \"val\": \"Trump, Donald J.\"}, {\"col\": \"contbr_st\", \"idx\": 1035, \"val\": \"TX\"}, {\"col\": \"contb_receipt_amt\", \"idx\": 1035, \"val\": 211596.22999999986}, {\"col\": \"cand_nm\", \"idx\": 1036, \"val\": \"Trump, Donald J.\"}, {\"col\": \"contbr_st\", \"idx\": 1036, \"val\": \"UT\"}, {\"col\": \"contb_receipt_amt\", \"idx\": 1036, \"val\": 6188.259999999999}, {\"col\": \"cand_nm\", \"idx\": 1037, \"val\": \"Trump, Donald J.\"}, {\"col\": \"contbr_st\", \"idx\": 1037, \"val\": \"VA\"}, {\"col\": \"contb_receipt_amt\", \"idx\": 1037, \"val\": 46475.78999999997}, {\"col\": \"cand_nm\", \"idx\": 1038, \"val\": \"Trump, Donald J.\"}, {\"col\": \"contbr_st\", \"idx\": 1038, \"val\": \"VI\"}, {\"col\": \"contb_receipt_amt\", \"idx\": 1038, \"val\": 250.0}, {\"col\": \"cand_nm\", \"idx\": 1039, \"val\": \"Trump, Donald J.\"}, {\"col\": \"contbr_st\", \"idx\": 1039, \"val\": \"VT\"}, {\"col\": \"contb_receipt_amt\", \"idx\": 1039, \"val\": 608.35}, {\"col\": \"cand_nm\", \"idx\": 1040, \"val\": \"Trump, Donald J.\"}, {\"col\": \"contbr_st\", \"idx\": 1040, \"val\": \"WA\"}, {\"col\": \"contb_receipt_amt\", \"idx\": 1040, \"val\": 33896.91}, {\"col\": \"cand_nm\", \"idx\": 1041, \"val\": \"Trump, Donald J.\"}, {\"col\": \"contbr_st\", \"idx\": 1041, \"val\": \"WI\"}, {\"col\": \"contb_receipt_amt\", \"idx\": 1041, \"val\": 17999.719999999998}, {\"col\": \"cand_nm\", \"idx\": 1042, \"val\": \"Trump, Donald J.\"}, {\"col\": \"contbr_st\", \"idx\": 1042, \"val\": \"WV\"}, {\"col\": \"contb_receipt_amt\", \"idx\": 1042, \"val\": 3863.3700000000003}, {\"col\": \"cand_nm\", \"idx\": 1043, \"val\": \"Trump, Donald J.\"}, {\"col\": \"contbr_st\", \"idx\": 1043, \"val\": \"WY\"}, {\"col\": \"contb_receipt_amt\", \"idx\": 1043, \"val\": 4500.0}, {\"col\": \"cand_nm\", \"idx\": 1044, \"val\": \"Trump, Donald J.\"}, {\"col\": \"contbr_st\", \"idx\": 1044, \"val\": \"ZZ\"}, {\"col\": \"contb_receipt_amt\", \"idx\": 1044, \"val\": 250.0}, {\"col\": \"cand_nm\", \"idx\": 1045, \"val\": \"Walker, Scott\"}, {\"col\": \"contbr_st\", \"idx\": 1045, \"val\": \"AE\"}, {\"col\": \"contb_receipt_amt\", \"idx\": 1045, \"val\": 250.0}, {\"col\": \"cand_nm\", \"idx\": 1046, \"val\": \"Walker, Scott\"}, {\"col\": \"contbr_st\", \"idx\": 1046, \"val\": \"AK\"}, {\"col\": \"contb_receipt_amt\", \"idx\": 1046, \"val\": 2485.0}, {\"col\": \"cand_nm\", \"idx\": 1047, \"val\": \"Walker, Scott\"}, {\"col\": \"contbr_st\", \"idx\": 1047, \"val\": \"AL\"}, {\"col\": \"contb_receipt_amt\", \"idx\": 1047, \"val\": 54681.0}, {\"col\": \"cand_nm\", \"idx\": 1048, \"val\": \"Walker, Scott\"}, {\"col\": \"contbr_st\", \"idx\": 1048, \"val\": \"AR\"}, {\"col\": \"contb_receipt_amt\", \"idx\": 1048, \"val\": 26784.0}, {\"col\": \"cand_nm\", \"idx\": 1049, \"val\": \"Walker, Scott\"}, {\"col\": \"contbr_st\", \"idx\": 1049, \"val\": \"AZ\"}, {\"col\": \"contb_receipt_amt\", \"idx\": 1049, \"val\": 42328.0}, {\"col\": \"cand_nm\", \"idx\": 1050, \"val\": \"Walker, Scott\"}, {\"col\": \"contbr_st\", \"idx\": 1050, \"val\": \"CA\"}, {\"col\": \"contb_receipt_amt\", \"idx\": 1050, \"val\": 461479.24}, {\"col\": \"cand_nm\", \"idx\": 1051, \"val\": \"Walker, Scott\"}, {\"col\": \"contbr_st\", \"idx\": 1051, \"val\": \"CO\"}, {\"col\": \"contb_receipt_amt\", \"idx\": 1051, \"val\": 49775.0}, {\"col\": \"cand_nm\", \"idx\": 1052, \"val\": \"Walker, Scott\"}, {\"col\": \"contbr_st\", \"idx\": 1052, \"val\": \"CT\"}, {\"col\": \"contb_receipt_amt\", \"idx\": 1052, \"val\": 74271.0}, {\"col\": \"cand_nm\", \"idx\": 1053, \"val\": \"Walker, Scott\"}, {\"col\": \"contbr_st\", \"idx\": 1053, \"val\": \"DC\"}, {\"col\": \"contb_receipt_amt\", \"idx\": 1053, \"val\": 32268.76}, {\"col\": \"cand_nm\", \"idx\": 1054, \"val\": \"Walker, Scott\"}, {\"col\": \"contbr_st\", \"idx\": 1054, \"val\": \"DE\"}, {\"col\": \"contb_receipt_amt\", \"idx\": 1054, \"val\": 6800.0}, {\"col\": \"cand_nm\", \"idx\": 1055, \"val\": \"Walker, Scott\"}, {\"col\": \"contbr_st\", \"idx\": 1055, \"val\": \"FL\"}, {\"col\": \"contb_receipt_amt\", \"idx\": 1055, \"val\": 275015.43}, {\"col\": \"cand_nm\", \"idx\": 1056, \"val\": \"Walker, Scott\"}, {\"col\": \"contbr_st\", \"idx\": 1056, \"val\": \"GA\"}, {\"col\": \"contb_receipt_amt\", \"idx\": 1056, \"val\": 111264.0}, {\"col\": \"cand_nm\", \"idx\": 1057, \"val\": \"Walker, Scott\"}, {\"col\": \"contbr_st\", \"idx\": 1057, \"val\": \"HI\"}, {\"col\": \"contb_receipt_amt\", \"idx\": 1057, \"val\": 8600.0}, {\"col\": \"cand_nm\", \"idx\": 1058, \"val\": \"Walker, Scott\"}, {\"col\": \"contbr_st\", \"idx\": 1058, \"val\": \"IA\"}, {\"col\": \"contb_receipt_amt\", \"idx\": 1058, \"val\": 28670.0}, {\"col\": \"cand_nm\", \"idx\": 1059, \"val\": \"Walker, Scott\"}, {\"col\": \"contbr_st\", \"idx\": 1059, \"val\": \"ID\"}, {\"col\": \"contb_receipt_amt\", \"idx\": 1059, \"val\": 15079.0}, {\"col\": \"cand_nm\", \"idx\": 1060, \"val\": \"Walker, Scott\"}, {\"col\": \"contbr_st\", \"idx\": 1060, \"val\": \"IL\"}, {\"col\": \"contb_receipt_amt\", \"idx\": 1060, \"val\": 280428.0}, {\"col\": \"cand_nm\", \"idx\": 1061, \"val\": \"Walker, Scott\"}, {\"col\": \"contbr_st\", \"idx\": 1061, \"val\": \"IN\"}, {\"col\": \"contb_receipt_amt\", \"idx\": 1061, \"val\": 40308.21000000001}, {\"col\": \"cand_nm\", \"idx\": 1062, \"val\": \"Walker, Scott\"}, {\"col\": \"contbr_st\", \"idx\": 1062, \"val\": \"KS\"}, {\"col\": \"contb_receipt_amt\", \"idx\": 1062, \"val\": 8300.0}, {\"col\": \"cand_nm\", \"idx\": 1063, \"val\": \"Walker, Scott\"}, {\"col\": \"contbr_st\", \"idx\": 1063, \"val\": \"KY\"}, {\"col\": \"contb_receipt_amt\", \"idx\": 1063, \"val\": 8166.0}, {\"col\": \"cand_nm\", \"idx\": 1064, \"val\": \"Walker, Scott\"}, {\"col\": \"contbr_st\", \"idx\": 1064, \"val\": \"LA\"}, {\"col\": \"contb_receipt_amt\", \"idx\": 1064, \"val\": 22050.0}, {\"col\": \"cand_nm\", \"idx\": 1065, \"val\": \"Walker, Scott\"}, {\"col\": \"contbr_st\", \"idx\": 1065, \"val\": \"MA\"}, {\"col\": \"contb_receipt_amt\", \"idx\": 1065, \"val\": 51670.0}, {\"col\": \"cand_nm\", \"idx\": 1066, \"val\": \"Walker, Scott\"}, {\"col\": \"contbr_st\", \"idx\": 1066, \"val\": \"MD\"}, {\"col\": \"contb_receipt_amt\", \"idx\": 1066, \"val\": 36624.0}, {\"col\": \"cand_nm\", \"idx\": 1067, \"val\": \"Walker, Scott\"}, {\"col\": \"contbr_st\", \"idx\": 1067, \"val\": \"ME\"}, {\"col\": \"contb_receipt_amt\", \"idx\": 1067, \"val\": 7400.0}, {\"col\": \"cand_nm\", \"idx\": 1068, \"val\": \"Walker, Scott\"}, {\"col\": \"contbr_st\", \"idx\": 1068, \"val\": \"MI\"}, {\"col\": \"contb_receipt_amt\", \"idx\": 1068, \"val\": 71335.0}, {\"col\": \"cand_nm\", \"idx\": 1069, \"val\": \"Walker, Scott\"}, {\"col\": \"contbr_st\", \"idx\": 1069, \"val\": \"MN\"}, {\"col\": \"contb_receipt_amt\", \"idx\": 1069, \"val\": 77216.0}, {\"col\": \"cand_nm\", \"idx\": 1070, \"val\": \"Walker, Scott\"}, {\"col\": \"contbr_st\", \"idx\": 1070, \"val\": \"MO\"}, {\"col\": \"contb_receipt_amt\", \"idx\": 1070, \"val\": 70775.0}, {\"col\": \"cand_nm\", \"idx\": 1071, \"val\": \"Walker, Scott\"}, {\"col\": \"contbr_st\", \"idx\": 1071, \"val\": \"MS\"}, {\"col\": \"contb_receipt_amt\", \"idx\": 1071, \"val\": 3150.0}, {\"col\": \"cand_nm\", \"idx\": 1072, \"val\": \"Walker, Scott\"}, {\"col\": \"contbr_st\", \"idx\": 1072, \"val\": \"MT\"}, {\"col\": \"contb_receipt_amt\", \"idx\": 1072, \"val\": 5550.0}, {\"col\": \"cand_nm\", \"idx\": 1073, \"val\": \"Walker, Scott\"}, {\"col\": \"contbr_st\", \"idx\": 1073, \"val\": \"NC\"}, {\"col\": \"contb_receipt_amt\", \"idx\": 1073, \"val\": 91025.0}, {\"col\": \"cand_nm\", \"idx\": 1074, \"val\": \"Walker, Scott\"}, {\"col\": \"contbr_st\", \"idx\": 1074, \"val\": \"ND\"}, {\"col\": \"contb_receipt_amt\", \"idx\": 1074, \"val\": 10155.0}, {\"col\": \"cand_nm\", \"idx\": 1075, \"val\": \"Walker, Scott\"}, {\"col\": \"contbr_st\", \"idx\": 1075, \"val\": \"NE\"}, {\"col\": \"contb_receipt_amt\", \"idx\": 1075, \"val\": 20800.0}, {\"col\": \"cand_nm\", \"idx\": 1076, \"val\": \"Walker, Scott\"}, {\"col\": \"contbr_st\", \"idx\": 1076, \"val\": \"NH\"}, {\"col\": \"contb_receipt_amt\", \"idx\": 1076, \"val\": 30850.0}, {\"col\": \"cand_nm\", \"idx\": 1077, \"val\": \"Walker, Scott\"}, {\"col\": \"contbr_st\", \"idx\": 1077, \"val\": \"NJ\"}, {\"col\": \"contb_receipt_amt\", \"idx\": 1077, \"val\": 58780.0}, {\"col\": \"cand_nm\", \"idx\": 1078, \"val\": \"Walker, Scott\"}, {\"col\": \"contbr_st\", \"idx\": 1078, \"val\": \"NM\"}, {\"col\": \"contb_receipt_amt\", \"idx\": 1078, \"val\": 8155.0}, {\"col\": \"cand_nm\", \"idx\": 1079, \"val\": \"Walker, Scott\"}, {\"col\": \"contbr_st\", \"idx\": 1079, \"val\": \"NV\"}, {\"col\": \"contb_receipt_amt\", \"idx\": 1079, \"val\": 35800.0}, {\"col\": \"cand_nm\", \"idx\": 1080, \"val\": \"Walker, Scott\"}, {\"col\": \"contbr_st\", \"idx\": 1080, \"val\": \"NY\"}, {\"col\": \"contb_receipt_amt\", \"idx\": 1080, \"val\": 190756.0}, {\"col\": \"cand_nm\", \"idx\": 1081, \"val\": \"Walker, Scott\"}, {\"col\": \"contbr_st\", \"idx\": 1081, \"val\": \"OH\"}, {\"col\": \"contb_receipt_amt\", \"idx\": 1081, \"val\": 42023.0}, {\"col\": \"cand_nm\", \"idx\": 1082, \"val\": \"Walker, Scott\"}, {\"col\": \"contbr_st\", \"idx\": 1082, \"val\": \"OK\"}, {\"col\": \"contb_receipt_amt\", \"idx\": 1082, \"val\": 38953.0}, {\"col\": \"cand_nm\", \"idx\": 1083, \"val\": \"Walker, Scott\"}, {\"col\": \"contbr_st\", \"idx\": 1083, \"val\": \"OR\"}, {\"col\": \"contb_receipt_amt\", \"idx\": 1083, \"val\": 15050.0}, {\"col\": \"cand_nm\", \"idx\": 1084, \"val\": \"Walker, Scott\"}, {\"col\": \"contbr_st\", \"idx\": 1084, \"val\": \"PA\"}, {\"col\": \"contb_receipt_amt\", \"idx\": 1084, \"val\": 95963.0}, {\"col\": \"cand_nm\", \"idx\": 1085, \"val\": \"Walker, Scott\"}, {\"col\": \"contbr_st\", \"idx\": 1085, \"val\": \"PR\"}, {\"col\": \"contb_receipt_amt\", \"idx\": 1085, \"val\": 150.0}, {\"col\": \"cand_nm\", \"idx\": 1086, \"val\": \"Walker, Scott\"}, {\"col\": \"contbr_st\", \"idx\": 1086, \"val\": \"RI\"}, {\"col\": \"contb_receipt_amt\", \"idx\": 1086, \"val\": 2400.0}, {\"col\": \"cand_nm\", \"idx\": 1087, \"val\": \"Walker, Scott\"}, {\"col\": \"contbr_st\", \"idx\": 1087, \"val\": \"SC\"}, {\"col\": \"contb_receipt_amt\", \"idx\": 1087, \"val\": 22327.0}, {\"col\": \"cand_nm\", \"idx\": 1088, \"val\": \"Walker, Scott\"}, {\"col\": \"contbr_st\", \"idx\": 1088, \"val\": \"SD\"}, {\"col\": \"contb_receipt_amt\", \"idx\": 1088, \"val\": 8128.0}, {\"col\": \"cand_nm\", \"idx\": 1089, \"val\": \"Walker, Scott\"}, {\"col\": \"contbr_st\", \"idx\": 1089, \"val\": \"TN\"}, {\"col\": \"contb_receipt_amt\", \"idx\": 1089, \"val\": 68031.0}, {\"col\": \"cand_nm\", \"idx\": 1090, \"val\": \"Walker, Scott\"}, {\"col\": \"contbr_st\", \"idx\": 1090, \"val\": \"TX\"}, {\"col\": \"contb_receipt_amt\", \"idx\": 1090, \"val\": 351405.0}, {\"col\": \"cand_nm\", \"idx\": 1091, \"val\": \"Walker, Scott\"}, {\"col\": \"contbr_st\", \"idx\": 1091, \"val\": \"UT\"}, {\"col\": \"contb_receipt_amt\", \"idx\": 1091, \"val\": 8520.0}, {\"col\": \"cand_nm\", \"idx\": 1092, \"val\": \"Walker, Scott\"}, {\"col\": \"contbr_st\", \"idx\": 1092, \"val\": \"VA\"}, {\"col\": \"contb_receipt_amt\", \"idx\": 1092, \"val\": 139112.0}, {\"col\": \"cand_nm\", \"idx\": 1093, \"val\": \"Walker, Scott\"}, {\"col\": \"contbr_st\", \"idx\": 1093, \"val\": \"VT\"}, {\"col\": \"contb_receipt_amt\", \"idx\": 1093, \"val\": 1438.0}, {\"col\": \"cand_nm\", \"idx\": 1094, \"val\": \"Walker, Scott\"}, {\"col\": \"contbr_st\", \"idx\": 1094, \"val\": \"WA\"}, {\"col\": \"contb_receipt_amt\", \"idx\": 1094, \"val\": 51918.0}, {\"col\": \"cand_nm\", \"idx\": 1095, \"val\": \"Walker, Scott\"}, {\"col\": \"contbr_st\", \"idx\": 1095, \"val\": \"WI\"}, {\"col\": \"contb_receipt_amt\", \"idx\": 1095, \"val\": 1176685.42}, {\"col\": \"cand_nm\", \"idx\": 1096, \"val\": \"Walker, Scott\"}, {\"col\": \"contbr_st\", \"idx\": 1096, \"val\": \"WV\"}, {\"col\": \"contb_receipt_amt\", \"idx\": 1096, \"val\": 5400.0}, {\"col\": \"cand_nm\", \"idx\": 1097, \"val\": \"Walker, Scott\"}, {\"col\": \"contbr_st\", \"idx\": 1097, \"val\": \"WY\"}, {\"col\": \"contb_receipt_amt\", \"idx\": 1097, \"val\": 18825.0}, {\"col\": \"cand_nm\", \"idx\": 1098, \"val\": \"Walker, Scott\"}, {\"col\": \"contbr_st\", \"idx\": 1098, \"val\": \"ZZ\"}, {\"col\": \"contb_receipt_amt\", \"idx\": 1098, \"val\": 250.0}, {\"col\": \"cand_nm\", \"idx\": 1099, \"val\": \"Webb, James Henry Jr.\"}, {\"col\": \"contbr_st\", \"idx\": 1099, \"val\": \"AL\"}, {\"col\": \"contb_receipt_amt\", \"idx\": 1099, \"val\": 650.0}, {\"col\": \"cand_nm\", \"idx\": 1100, \"val\": \"Webb, James Henry Jr.\"}, {\"col\": \"contbr_st\", \"idx\": 1100, \"val\": \"AP\"}, {\"col\": \"contb_receipt_amt\", \"idx\": 1100, \"val\": 825.0}, {\"col\": \"cand_nm\", \"idx\": 1101, \"val\": \"Webb, James Henry Jr.\"}, {\"col\": \"contbr_st\", \"idx\": 1101, \"val\": \"AZ\"}, {\"col\": \"contb_receipt_amt\", \"idx\": 1101, \"val\": 1450.0}, {\"col\": \"cand_nm\", \"idx\": 1102, \"val\": \"Webb, James Henry Jr.\"}, {\"col\": \"contbr_st\", \"idx\": 1102, \"val\": \"CA\"}, {\"col\": \"contb_receipt_amt\", \"idx\": 1102, \"val\": 76568.16}, {\"col\": \"cand_nm\", \"idx\": 1103, \"val\": \"Webb, James Henry Jr.\"}, {\"col\": \"contbr_st\", \"idx\": 1103, \"val\": \"CO\"}, {\"col\": \"contb_receipt_amt\", \"idx\": 1103, \"val\": 8455.0}, {\"col\": \"cand_nm\", \"idx\": 1104, \"val\": \"Webb, James Henry Jr.\"}, {\"col\": \"contbr_st\", \"idx\": 1104, \"val\": \"CT\"}, {\"col\": \"contb_receipt_amt\", \"idx\": 1104, \"val\": 9659.0}, {\"col\": \"cand_nm\", \"idx\": 1105, \"val\": \"Webb, James Henry Jr.\"}, {\"col\": \"contbr_st\", \"idx\": 1105, \"val\": \"DC\"}, {\"col\": \"contb_receipt_amt\", \"idx\": 1105, \"val\": 10980.0}, {\"col\": \"cand_nm\", \"idx\": 1106, \"val\": \"Webb, James Henry Jr.\"}, {\"col\": \"contbr_st\", \"idx\": 1106, \"val\": \"DE\"}, {\"col\": \"contb_receipt_amt\", \"idx\": 1106, \"val\": 1300.0}, {\"col\": \"cand_nm\", \"idx\": 1107, \"val\": \"Webb, James Henry Jr.\"}, {\"col\": \"contbr_st\", \"idx\": 1107, \"val\": \"FL\"}, {\"col\": \"contb_receipt_amt\", \"idx\": 1107, \"val\": 14275.0}, {\"col\": \"cand_nm\", \"idx\": 1108, \"val\": \"Webb, James Henry Jr.\"}, {\"col\": \"contbr_st\", \"idx\": 1108, \"val\": \"GA\"}, {\"col\": \"contb_receipt_amt\", \"idx\": 1108, \"val\": 2700.0}, {\"col\": \"cand_nm\", \"idx\": 1109, \"val\": \"Webb, James Henry Jr.\"}, {\"col\": \"contbr_st\", \"idx\": 1109, \"val\": \"HI\"}, {\"col\": \"contb_receipt_amt\", \"idx\": 1109, \"val\": 6669.0}, {\"col\": \"cand_nm\", \"idx\": 1110, \"val\": \"Webb, James Henry Jr.\"}, {\"col\": \"contbr_st\", \"idx\": 1110, \"val\": \"IA\"}, {\"col\": \"contb_receipt_amt\", \"idx\": 1110, \"val\": 3600.0}, {\"col\": \"cand_nm\", \"idx\": 1111, \"val\": \"Webb, James Henry Jr.\"}, {\"col\": \"contbr_st\", \"idx\": 1111, \"val\": \"ID\"}, {\"col\": \"contb_receipt_amt\", \"idx\": 1111, \"val\": 1250.0}, {\"col\": \"cand_nm\", \"idx\": 1112, \"val\": \"Webb, James Henry Jr.\"}, {\"col\": \"contbr_st\", \"idx\": 1112, \"val\": \"IL\"}, {\"col\": \"contb_receipt_amt\", \"idx\": 1112, \"val\": 8150.0}, {\"col\": \"cand_nm\", \"idx\": 1113, \"val\": \"Webb, James Henry Jr.\"}, {\"col\": \"contbr_st\", \"idx\": 1113, \"val\": \"IN\"}, {\"col\": \"contb_receipt_amt\", \"idx\": 1113, \"val\": 1050.0}, {\"col\": \"cand_nm\", \"idx\": 1114, \"val\": \"Webb, James Henry Jr.\"}, {\"col\": \"contbr_st\", \"idx\": 1114, \"val\": \"KY\"}, {\"col\": \"contb_receipt_amt\", \"idx\": 1114, \"val\": 1500.0}, {\"col\": \"cand_nm\", \"idx\": 1115, \"val\": \"Webb, James Henry Jr.\"}, {\"col\": \"contbr_st\", \"idx\": 1115, \"val\": \"LA\"}, {\"col\": \"contb_receipt_amt\", \"idx\": 1115, \"val\": 200.0}, {\"col\": \"cand_nm\", \"idx\": 1116, \"val\": \"Webb, James Henry Jr.\"}, {\"col\": \"contbr_st\", \"idx\": 1116, \"val\": \"MA\"}, {\"col\": \"contb_receipt_amt\", \"idx\": 1116, \"val\": 12100.09}, {\"col\": \"cand_nm\", \"idx\": 1117, \"val\": \"Webb, James Henry Jr.\"}, {\"col\": \"contbr_st\", \"idx\": 1117, \"val\": \"MD\"}, {\"col\": \"contb_receipt_amt\", \"idx\": 1117, \"val\": 15050.0}, {\"col\": \"cand_nm\", \"idx\": 1118, \"val\": \"Webb, James Henry Jr.\"}, {\"col\": \"contbr_st\", \"idx\": 1118, \"val\": \"ME\"}, {\"col\": \"contb_receipt_amt\", \"idx\": 1118, \"val\": 2200.0}, {\"col\": \"cand_nm\", \"idx\": 1119, \"val\": \"Webb, James Henry Jr.\"}, {\"col\": \"contbr_st\", \"idx\": 1119, \"val\": \"MI\"}, {\"col\": \"contb_receipt_amt\", \"idx\": 1119, \"val\": 4800.0}, {\"col\": \"cand_nm\", \"idx\": 1120, \"val\": \"Webb, James Henry Jr.\"}, {\"col\": \"contbr_st\", \"idx\": 1120, \"val\": \"MN\"}, {\"col\": \"contb_receipt_amt\", \"idx\": 1120, \"val\": 3350.0}, {\"col\": \"cand_nm\", \"idx\": 1121, \"val\": \"Webb, James Henry Jr.\"}, {\"col\": \"contbr_st\", \"idx\": 1121, \"val\": \"MO\"}, {\"col\": \"contb_receipt_amt\", \"idx\": 1121, \"val\": 5850.0}, {\"col\": \"cand_nm\", \"idx\": 1122, \"val\": \"Webb, James Henry Jr.\"}, {\"col\": \"contbr_st\", \"idx\": 1122, \"val\": \"MT\"}, {\"col\": \"contb_receipt_amt\", \"idx\": 1122, \"val\": 500.0}, {\"col\": \"cand_nm\", \"idx\": 1123, \"val\": \"Webb, James Henry Jr.\"}, {\"col\": \"contbr_st\", \"idx\": 1123, \"val\": \"NC\"}, {\"col\": \"contb_receipt_amt\", \"idx\": 1123, \"val\": 13650.0}, {\"col\": \"cand_nm\", \"idx\": 1124, \"val\": \"Webb, James Henry Jr.\"}, {\"col\": \"contbr_st\", \"idx\": 1124, \"val\": \"NH\"}, {\"col\": \"contb_receipt_amt\", \"idx\": 1124, \"val\": 3600.0}, {\"col\": \"cand_nm\", \"idx\": 1125, \"val\": \"Webb, James Henry Jr.\"}, {\"col\": \"contbr_st\", \"idx\": 1125, \"val\": \"NJ\"}, {\"col\": \"contb_receipt_amt\", \"idx\": 1125, \"val\": 6120.0}, {\"col\": \"cand_nm\", \"idx\": 1126, \"val\": \"Webb, James Henry Jr.\"}, {\"col\": \"contbr_st\", \"idx\": 1126, \"val\": \"NM\"}, {\"col\": \"contb_receipt_amt\", \"idx\": 1126, \"val\": 1500.0}, {\"col\": \"cand_nm\", \"idx\": 1127, \"val\": \"Webb, James Henry Jr.\"}, {\"col\": \"contbr_st\", \"idx\": 1127, \"val\": \"NV\"}, {\"col\": \"contb_receipt_amt\", \"idx\": 1127, \"val\": 4000.0}, {\"col\": \"cand_nm\", \"idx\": 1128, \"val\": \"Webb, James Henry Jr.\"}, {\"col\": \"contbr_st\", \"idx\": 1128, \"val\": \"NY\"}, {\"col\": \"contb_receipt_amt\", \"idx\": 1128, \"val\": 34600.0}, {\"col\": \"cand_nm\", \"idx\": 1129, \"val\": \"Webb, James Henry Jr.\"}, {\"col\": \"contbr_st\", \"idx\": 1129, \"val\": \"OH\"}, {\"col\": \"contb_receipt_amt\", \"idx\": 1129, \"val\": 2600.0}, {\"col\": \"cand_nm\", \"idx\": 1130, \"val\": \"Webb, James Henry Jr.\"}, {\"col\": \"contbr_st\", \"idx\": 1130, \"val\": \"OK\"}, {\"col\": \"contb_receipt_amt\", \"idx\": 1130, \"val\": 1100.0}, {\"col\": \"cand_nm\", \"idx\": 1131, \"val\": \"Webb, James Henry Jr.\"}, {\"col\": \"contbr_st\", \"idx\": 1131, \"val\": \"OR\"}, {\"col\": \"contb_receipt_amt\", \"idx\": 1131, \"val\": 16825.0}, {\"col\": \"cand_nm\", \"idx\": 1132, \"val\": \"Webb, James Henry Jr.\"}, {\"col\": \"contbr_st\", \"idx\": 1132, \"val\": \"PA\"}, {\"col\": \"contb_receipt_amt\", \"idx\": 1132, \"val\": 4900.0}, {\"col\": \"cand_nm\", \"idx\": 1133, \"val\": \"Webb, James Henry Jr.\"}, {\"col\": \"contbr_st\", \"idx\": 1133, \"val\": \"RI\"}, {\"col\": \"contb_receipt_amt\", \"idx\": 1133, \"val\": 950.0}, {\"col\": \"cand_nm\", \"idx\": 1134, \"val\": \"Webb, James Henry Jr.\"}, {\"col\": \"contbr_st\", \"idx\": 1134, \"val\": \"SC\"}, {\"col\": \"contb_receipt_amt\", \"idx\": 1134, \"val\": 2000.0}, {\"col\": \"cand_nm\", \"idx\": 1135, \"val\": \"Webb, James Henry Jr.\"}, {\"col\": \"contbr_st\", \"idx\": 1135, \"val\": \"SD\"}, {\"col\": \"contb_receipt_amt\", \"idx\": 1135, \"val\": 300.0}, {\"col\": \"cand_nm\", \"idx\": 1136, \"val\": \"Webb, James Henry Jr.\"}, {\"col\": \"contbr_st\", \"idx\": 1136, \"val\": \"SI\"}, {\"col\": \"contb_receipt_amt\", \"idx\": 1136, \"val\": 1000.0}, {\"col\": \"cand_nm\", \"idx\": 1137, \"val\": \"Webb, James Henry Jr.\"}, {\"col\": \"contbr_st\", \"idx\": 1137, \"val\": \"TN\"}, {\"col\": \"contb_receipt_amt\", \"idx\": 1137, \"val\": 3600.0}, {\"col\": \"cand_nm\", \"idx\": 1138, \"val\": \"Webb, James Henry Jr.\"}, {\"col\": \"contbr_st\", \"idx\": 1138, \"val\": \"TX\"}, {\"col\": \"contb_receipt_amt\", \"idx\": 1138, \"val\": 30565.16}, {\"col\": \"cand_nm\", \"idx\": 1139, \"val\": \"Webb, James Henry Jr.\"}, {\"col\": \"contbr_st\", \"idx\": 1139, \"val\": \"VA\"}, {\"col\": \"contb_receipt_amt\", \"idx\": 1139, \"val\": 91080.0}, {\"col\": \"cand_nm\", \"idx\": 1140, \"val\": \"Webb, James Henry Jr.\"}, {\"col\": \"contbr_st\", \"idx\": 1140, \"val\": \"VT\"}, {\"col\": \"contb_receipt_amt\", \"idx\": 1140, \"val\": 250.0}, {\"col\": \"cand_nm\", \"idx\": 1141, \"val\": \"Webb, James Henry Jr.\"}, {\"col\": \"contbr_st\", \"idx\": 1141, \"val\": \"WA\"}, {\"col\": \"contb_receipt_amt\", \"idx\": 1141, \"val\": 14600.0}, {\"col\": \"cand_nm\", \"idx\": 1142, \"val\": \"Webb, James Henry Jr.\"}, {\"col\": \"contbr_st\", \"idx\": 1142, \"val\": \"WI\"}, {\"col\": \"contb_receipt_amt\", \"idx\": 1142, \"val\": 1300.0}, {\"col\": \"cand_nm\", \"idx\": 1143, \"val\": \"Webb, James Henry Jr.\"}, {\"col\": \"contbr_st\", \"idx\": 1143, \"val\": \"WV\"}, {\"col\": \"contb_receipt_amt\", \"idx\": 1143, \"val\": 2000.0}, {\"col\": \"cand_nm\", \"idx\": 1144, \"val\": \"Webb, James Henry Jr.\"}, {\"col\": \"contbr_st\", \"idx\": 1144, \"val\": \"WY\"}, {\"col\": \"contb_receipt_amt\", \"idx\": 1144, \"val\": 3550.0}]}, {\"name\": \"stats\", \"source\": \"table\", \"transform\": [{\"keys\": [\"data.idx\"], \"type\": \"facet\"}, {\"type\": \"stats\", \"value\": \"data.val\"}]}], \"height\": 500, \"legends\": [], \"marks\": [{\"from\": {\"data\": \"table\", \"transform\": [{\"keys\": [\"data.col\"], \"type\": \"facet\"}, {\"height\": \"data.val\", \"point\": \"data.idx\", \"type\": \"stack\"}]}, \"marks\": [{\"properties\": {\"enter\": {\"fill\": {\"field\": \"data.col\", \"scale\": \"color\"}, \"width\": {\"band\": true, \"offset\": -1, \"scale\": \"x\"}, \"x\": {\"field\": \"data.idx\", \"scale\": \"x\"}, \"y\": {\"field\": \"y\", \"scale\": \"y\"}, \"y2\": {\"field\": \"y2\", \"scale\": \"y\"}}}, \"type\": \"rect\"}], \"type\": \"group\"}], \"padding\": \"auto\", \"scales\": [{\"domain\": {\"data\": \"table\", \"field\": \"data.idx\"}, \"name\": \"x\", \"range\": \"width\", \"type\": \"ordinal\", \"zero\": false}, {\"domain\": {\"data\": \"stats\", \"field\": \"sum\"}, \"name\": \"y\", \"nice\": true, \"range\": \"height\"}, {\"domain\": {\"data\": \"table\", \"field\": \"data.col\"}, \"name\": \"color\", \"range\": \"category20\", \"type\": \"ordinal\"}], \"width\": 960}, function(chart) {\n",
       "         chart({el: \"#vis28040791436d49c495e7910a40153229\"}).update();\n",
       "       });\n",
       "     };\n",
       "     _do_plot();\n",
       "   })();\n",
       "</script>\n",
       "<style>.vega canvas {width: 100%;}</style>\n",
       "        "
      ],
      "text/plain": [
       "<vincent.charts.Bar at 0x2576eba8>"
      ]
     },
     "execution_count": 17,
     "metadata": {},
     "output_type": "execute_result"
    }
   ],
   "source": [
    "stack = vincent.StackedBar(df2_indexchanged)\n",
    "stack"
   ]
  },
  {
   "cell_type": "code",
   "execution_count": 6,
   "metadata": {
    "collapsed": true
   },
   "outputs": [
    {
     "name": "stderr",
     "output_type": "stream",
     "text": [
      "C:\\Users\\Miya\\AppData\\Local\\Enthought\\Canopy\\User\\lib\\site-packages\\pandas\\core\\generic.py:2387: SettingWithCopyWarning: \n",
      "A value is trying to be set on a copy of a slice from a DataFrame.\n",
      "Try using .loc[row_indexer,col_indexer] = value instead\n",
      "\n",
      "See the caveats in the documentation: http://pandas.pydata.org/pandas-docs/stable/indexing.html#indexing-view-versus-copy\n",
      "  self[name] = value\n"
     ]
    }
   ],
   "source": [
    "df.cand_nm = df.cand_nm.astype('category')\n",
    "df.contbr_st = df.contbr_st.astype('category')\n",
    "df.contbr_zip =df.contbr_zip.astype('category')\n",
    "df.contbr_occupation = df.contbr_occupation .astype('category')"
   ]
  },
  {
   "cell_type": "code",
   "execution_count": 7,
   "metadata": {
    "collapsed": false
   },
   "outputs": [
    {
     "data": {
      "text/plain": [
       "cand_nm              category\n",
       "contbr_st            category\n",
       "contbr_zip           category\n",
       "contbr_occupation    category\n",
       "contb_receipt_amt     float64\n",
       "dtype: object"
      ]
     },
     "execution_count": 7,
     "metadata": {},
     "output_type": "execute_result"
    }
   ],
   "source": [
    "df.dtypes"
   ]
  },
  {
   "cell_type": "code",
   "execution_count": 8,
   "metadata": {
    "collapsed": false
   },
   "outputs": [
    {
     "data": {
      "text/plain": [
       "40202"
      ]
     },
     "execution_count": 8,
     "metadata": {},
     "output_type": "execute_result"
    }
   ],
   "source": [
    "len(set(df.contbr_occupation))"
   ]
  },
  {
   "cell_type": "code",
   "execution_count": 81,
   "metadata": {
    "collapsed": false
   },
   "outputs": [],
   "source": [
    "occupation_list = df.groupby('contbr_occupation').count()['contbr_st'].index.tolist()\n",
    "occupation_fre = df.groupby('contbr_occupation').count()['contbr_st'].values.tolist()\n",
    "occupation = zip(occupation_list, occupation_fre)\n",
    "list_occup = sorted(occupation, key = lambda x:x[1], reverse = True)[:16]\n",
    "list_occup_wecare = map(lambda x:x[0],list_occup)"
   ]
  },
  {
   "cell_type": "code",
   "execution_count": 9,
   "metadata": {
    "collapsed": false
   },
   "outputs": [
    {
     "data": {
      "text/plain": [
       "2"
      ]
     },
     "execution_count": 9,
     "metadata": {},
     "output_type": "execute_result"
    }
   ],
   "source": [
    "df.isnull().any().sum()"
   ]
  },
  {
   "cell_type": "code",
   "execution_count": 10,
   "metadata": {
    "collapsed": true
   },
   "outputs": [
    {
     "data": {
      "text/html": [
       "<div>\n",
       "<table border=\"1\" class=\"dataframe\">\n",
       "  <thead>\n",
       "    <tr style=\"text-align: right;\">\n",
       "      <th></th>\n",
       "      <th>cand_nm</th>\n",
       "      <th>contbr_st</th>\n",
       "      <th>contbr_zip</th>\n",
       "      <th>contbr_occupation</th>\n",
       "      <th>contb_receipt_amt</th>\n",
       "    </tr>\n",
       "  </thead>\n",
       "  <tbody>\n",
       "    <tr>\n",
       "      <th>0</th>\n",
       "      <td>Rubio, Marco</td>\n",
       "      <td>AE</td>\n",
       "      <td>09096</td>\n",
       "      <td>RETIRED</td>\n",
       "      <td>100.00</td>\n",
       "    </tr>\n",
       "    <tr>\n",
       "      <th>1</th>\n",
       "      <td>Rubio, Marco</td>\n",
       "      <td>AE</td>\n",
       "      <td>09096</td>\n",
       "      <td>RETIRED</td>\n",
       "      <td>220.50</td>\n",
       "    </tr>\n",
       "    <tr>\n",
       "      <th>2</th>\n",
       "      <td>Rubio, Marco</td>\n",
       "      <td>AE</td>\n",
       "      <td>09096</td>\n",
       "      <td>RETIRED</td>\n",
       "      <td>225.00</td>\n",
       "    </tr>\n",
       "    <tr>\n",
       "      <th>3</th>\n",
       "      <td>Rubio, Marco</td>\n",
       "      <td>AE</td>\n",
       "      <td>096230023</td>\n",
       "      <td>RETIRED</td>\n",
       "      <td>50.00</td>\n",
       "    </tr>\n",
       "    <tr>\n",
       "      <th>4</th>\n",
       "      <td>Rubio, Marco</td>\n",
       "      <td>AE</td>\n",
       "      <td>092131903</td>\n",
       "      <td>LAW ENFORCEMENT</td>\n",
       "      <td>500.00</td>\n",
       "    </tr>\n",
       "    <tr>\n",
       "      <th>5</th>\n",
       "      <td>Rubio, Marco</td>\n",
       "      <td>AE</td>\n",
       "      <td>091800022</td>\n",
       "      <td>MILITARY</td>\n",
       "      <td>250.00</td>\n",
       "    </tr>\n",
       "    <tr>\n",
       "      <th>6</th>\n",
       "      <td>Rubio, Marco</td>\n",
       "      <td>AE</td>\n",
       "      <td>097520002</td>\n",
       "      <td>TEACHER</td>\n",
       "      <td>500.00</td>\n",
       "    </tr>\n",
       "    <tr>\n",
       "      <th>7</th>\n",
       "      <td>Rubio, Marco</td>\n",
       "      <td>AE</td>\n",
       "      <td>090960009</td>\n",
       "      <td>INFORMATION REQUESTED PER BEST EFFORTS</td>\n",
       "      <td>210.00</td>\n",
       "    </tr>\n",
       "    <tr>\n",
       "      <th>8</th>\n",
       "      <td>Rubio, Marco</td>\n",
       "      <td>AE</td>\n",
       "      <td>096230023</td>\n",
       "      <td>RETIRED</td>\n",
       "      <td>50.00</td>\n",
       "    </tr>\n",
       "    <tr>\n",
       "      <th>9</th>\n",
       "      <td>Rubio, Marco</td>\n",
       "      <td>AK</td>\n",
       "      <td>997600113</td>\n",
       "      <td>CARPENTER</td>\n",
       "      <td>25.00</td>\n",
       "    </tr>\n",
       "    <tr>\n",
       "      <th>10</th>\n",
       "      <td>Rubio, Marco</td>\n",
       "      <td>AK</td>\n",
       "      <td>997600113</td>\n",
       "      <td>CARPENTER</td>\n",
       "      <td>17.00</td>\n",
       "    </tr>\n",
       "    <tr>\n",
       "      <th>11</th>\n",
       "      <td>Rubio, Marco</td>\n",
       "      <td>AK</td>\n",
       "      <td>997600113</td>\n",
       "      <td>CARPENTER</td>\n",
       "      <td>25.00</td>\n",
       "    </tr>\n",
       "    <tr>\n",
       "      <th>12</th>\n",
       "      <td>Rubio, Marco</td>\n",
       "      <td>AK</td>\n",
       "      <td>995165437</td>\n",
       "      <td>HEALTH CARE</td>\n",
       "      <td>100.00</td>\n",
       "    </tr>\n",
       "    <tr>\n",
       "      <th>13</th>\n",
       "      <td>Rubio, Marco</td>\n",
       "      <td>AK</td>\n",
       "      <td>995165437</td>\n",
       "      <td>HEALTH CARE</td>\n",
       "      <td>100.00</td>\n",
       "    </tr>\n",
       "    <tr>\n",
       "      <th>14</th>\n",
       "      <td>Rubio, Marco</td>\n",
       "      <td>AK</td>\n",
       "      <td>995165437</td>\n",
       "      <td>HEALTH CARE</td>\n",
       "      <td>100.00</td>\n",
       "    </tr>\n",
       "    <tr>\n",
       "      <th>15</th>\n",
       "      <td>Rubio, Marco</td>\n",
       "      <td>AK</td>\n",
       "      <td>996546390</td>\n",
       "      <td>RETIRED</td>\n",
       "      <td>25.00</td>\n",
       "    </tr>\n",
       "    <tr>\n",
       "      <th>16</th>\n",
       "      <td>Rubio, Marco</td>\n",
       "      <td>AK</td>\n",
       "      <td>996546390</td>\n",
       "      <td>RETIRED</td>\n",
       "      <td>25.00</td>\n",
       "    </tr>\n",
       "    <tr>\n",
       "      <th>17</th>\n",
       "      <td>Rubio, Marco</td>\n",
       "      <td>AK</td>\n",
       "      <td>995076742</td>\n",
       "      <td>RETIRED</td>\n",
       "      <td>100.00</td>\n",
       "    </tr>\n",
       "    <tr>\n",
       "      <th>18</th>\n",
       "      <td>Rubio, Marco</td>\n",
       "      <td>AK</td>\n",
       "      <td>995076742</td>\n",
       "      <td>RETIRED</td>\n",
       "      <td>100.00</td>\n",
       "    </tr>\n",
       "    <tr>\n",
       "      <th>19</th>\n",
       "      <td>Rubio, Marco</td>\n",
       "      <td>AK</td>\n",
       "      <td>995076742</td>\n",
       "      <td>RETIRED</td>\n",
       "      <td>100.00</td>\n",
       "    </tr>\n",
       "    <tr>\n",
       "      <th>20</th>\n",
       "      <td>Rubio, Marco</td>\n",
       "      <td>AK</td>\n",
       "      <td>995033969</td>\n",
       "      <td>RETIRED</td>\n",
       "      <td>50.00</td>\n",
       "    </tr>\n",
       "    <tr>\n",
       "      <th>21</th>\n",
       "      <td>Rubio, Marco</td>\n",
       "      <td>AK</td>\n",
       "      <td>995033969</td>\n",
       "      <td>RETIRED</td>\n",
       "      <td>50.00</td>\n",
       "    </tr>\n",
       "    <tr>\n",
       "      <th>22</th>\n",
       "      <td>Rubio, Marco</td>\n",
       "      <td>AK</td>\n",
       "      <td>995033969</td>\n",
       "      <td>RETIRED</td>\n",
       "      <td>50.00</td>\n",
       "    </tr>\n",
       "    <tr>\n",
       "      <th>23</th>\n",
       "      <td>Rubio, Marco</td>\n",
       "      <td>AK</td>\n",
       "      <td>997050258</td>\n",
       "      <td>RETIRED</td>\n",
       "      <td>25.00</td>\n",
       "    </tr>\n",
       "    <tr>\n",
       "      <th>24</th>\n",
       "      <td>Rubio, Marco</td>\n",
       "      <td>AK</td>\n",
       "      <td>997050258</td>\n",
       "      <td>RETIRED</td>\n",
       "      <td>25.00</td>\n",
       "    </tr>\n",
       "    <tr>\n",
       "      <th>25</th>\n",
       "      <td>Rubio, Marco</td>\n",
       "      <td>AK</td>\n",
       "      <td>997050258</td>\n",
       "      <td>RETIRED</td>\n",
       "      <td>25.00</td>\n",
       "    </tr>\n",
       "    <tr>\n",
       "      <th>26</th>\n",
       "      <td>Rubio, Marco</td>\n",
       "      <td>AK</td>\n",
       "      <td>995033678</td>\n",
       "      <td>CONSULTING</td>\n",
       "      <td>1743.00</td>\n",
       "    </tr>\n",
       "    <tr>\n",
       "      <th>27</th>\n",
       "      <td>Rubio, Marco</td>\n",
       "      <td>AK</td>\n",
       "      <td>995024449</td>\n",
       "      <td>IT</td>\n",
       "      <td>100.00</td>\n",
       "    </tr>\n",
       "    <tr>\n",
       "      <th>28</th>\n",
       "      <td>Rubio, Marco</td>\n",
       "      <td>AK</td>\n",
       "      <td>995024449</td>\n",
       "      <td>IT</td>\n",
       "      <td>100.00</td>\n",
       "    </tr>\n",
       "    <tr>\n",
       "      <th>29</th>\n",
       "      <td>Rubio, Marco</td>\n",
       "      <td>AK</td>\n",
       "      <td>995044731</td>\n",
       "      <td>FARM</td>\n",
       "      <td>100.00</td>\n",
       "    </tr>\n",
       "    <tr>\n",
       "      <th>...</th>\n",
       "      <td>...</td>\n",
       "      <td>...</td>\n",
       "      <td>...</td>\n",
       "      <td>...</td>\n",
       "      <td>...</td>\n",
       "    </tr>\n",
       "    <tr>\n",
       "      <th>1170130</th>\n",
       "      <td>Lessig, Lawrence</td>\n",
       "      <td>WA</td>\n",
       "      <td>981023288</td>\n",
       "      <td>FINANCIAL ADVISOR</td>\n",
       "      <td>1000.00</td>\n",
       "    </tr>\n",
       "    <tr>\n",
       "      <th>1170131</th>\n",
       "      <td>Lessig, Lawrence</td>\n",
       "      <td>WA</td>\n",
       "      <td>981023288</td>\n",
       "      <td>FINANCIAL ADVISOR</td>\n",
       "      <td>1700.00</td>\n",
       "    </tr>\n",
       "    <tr>\n",
       "      <th>1170132</th>\n",
       "      <td>Lessig, Lawrence</td>\n",
       "      <td>WA</td>\n",
       "      <td>981023513</td>\n",
       "      <td>ASST. DIR. PRIVACY</td>\n",
       "      <td>250.00</td>\n",
       "    </tr>\n",
       "    <tr>\n",
       "      <th>1170133</th>\n",
       "      <td>Lessig, Lawrence</td>\n",
       "      <td>WA</td>\n",
       "      <td>981023513</td>\n",
       "      <td>ASST. DIR. PRIVACY</td>\n",
       "      <td>38.14</td>\n",
       "    </tr>\n",
       "    <tr>\n",
       "      <th>1170134</th>\n",
       "      <td>Lessig, Lawrence</td>\n",
       "      <td>WA</td>\n",
       "      <td>981023513</td>\n",
       "      <td>ASST. DIR. PRIVACY</td>\n",
       "      <td>50.00</td>\n",
       "    </tr>\n",
       "    <tr>\n",
       "      <th>1170135</th>\n",
       "      <td>Lessig, Lawrence</td>\n",
       "      <td>WA</td>\n",
       "      <td>981055628</td>\n",
       "      <td>SOFTWARE DEVELOPER</td>\n",
       "      <td>1000.00</td>\n",
       "    </tr>\n",
       "    <tr>\n",
       "      <th>1170136</th>\n",
       "      <td>Lessig, Lawrence</td>\n",
       "      <td>WA</td>\n",
       "      <td>981055628</td>\n",
       "      <td>SOFTWARE DEVELOPER</td>\n",
       "      <td>64.14</td>\n",
       "    </tr>\n",
       "    <tr>\n",
       "      <th>1170137</th>\n",
       "      <td>Lessig, Lawrence</td>\n",
       "      <td>WA</td>\n",
       "      <td>981014528</td>\n",
       "      <td>SOFTWARE ENGINEER</td>\n",
       "      <td>1000.00</td>\n",
       "    </tr>\n",
       "    <tr>\n",
       "      <th>1170138</th>\n",
       "      <td>Lessig, Lawrence</td>\n",
       "      <td>WA</td>\n",
       "      <td>981211470</td>\n",
       "      <td>SOFTWARE ENGINEER</td>\n",
       "      <td>500.00</td>\n",
       "    </tr>\n",
       "    <tr>\n",
       "      <th>1170139</th>\n",
       "      <td>Lessig, Lawrence</td>\n",
       "      <td>WA</td>\n",
       "      <td>981042818</td>\n",
       "      <td>SOFTWARE ENGINEER</td>\n",
       "      <td>250.00</td>\n",
       "    </tr>\n",
       "    <tr>\n",
       "      <th>1170140</th>\n",
       "      <td>Lessig, Lawrence</td>\n",
       "      <td>WA</td>\n",
       "      <td>980524166</td>\n",
       "      <td>SOFTWARE ENGINEER</td>\n",
       "      <td>250.00</td>\n",
       "    </tr>\n",
       "    <tr>\n",
       "      <th>1170141</th>\n",
       "      <td>Lessig, Lawrence</td>\n",
       "      <td>WA</td>\n",
       "      <td>982210765</td>\n",
       "      <td>MECHANIC</td>\n",
       "      <td>250.00</td>\n",
       "    </tr>\n",
       "    <tr>\n",
       "      <th>1170142</th>\n",
       "      <td>Lessig, Lawrence</td>\n",
       "      <td>WA</td>\n",
       "      <td>981174336</td>\n",
       "      <td>IT</td>\n",
       "      <td>250.00</td>\n",
       "    </tr>\n",
       "    <tr>\n",
       "      <th>1170143</th>\n",
       "      <td>Lessig, Lawrence</td>\n",
       "      <td>WI</td>\n",
       "      <td>535939432</td>\n",
       "      <td>RETIRED</td>\n",
       "      <td>250.00</td>\n",
       "    </tr>\n",
       "    <tr>\n",
       "      <th>1170144</th>\n",
       "      <td>Lessig, Lawrence</td>\n",
       "      <td>WI</td>\n",
       "      <td>535661764</td>\n",
       "      <td>BUSINESS OWNER</td>\n",
       "      <td>147.15</td>\n",
       "    </tr>\n",
       "    <tr>\n",
       "      <th>1170145</th>\n",
       "      <td>Lessig, Lawrence</td>\n",
       "      <td>WI</td>\n",
       "      <td>535939432</td>\n",
       "      <td>RETIRED</td>\n",
       "      <td>50.00</td>\n",
       "    </tr>\n",
       "    <tr>\n",
       "      <th>1170146</th>\n",
       "      <td>Lessig, Lawrence</td>\n",
       "      <td>WI</td>\n",
       "      <td>535939432</td>\n",
       "      <td>RETIRED</td>\n",
       "      <td>50.00</td>\n",
       "    </tr>\n",
       "    <tr>\n",
       "      <th>1170147</th>\n",
       "      <td>Lessig, Lawrence</td>\n",
       "      <td>WI</td>\n",
       "      <td>535661764</td>\n",
       "      <td>BUSINESS OWNER</td>\n",
       "      <td>1000.00</td>\n",
       "    </tr>\n",
       "    <tr>\n",
       "      <th>1170148</th>\n",
       "      <td>Lessig, Lawrence</td>\n",
       "      <td>WI</td>\n",
       "      <td>537053196</td>\n",
       "      <td>PHYSICIAN</td>\n",
       "      <td>500.00</td>\n",
       "    </tr>\n",
       "    <tr>\n",
       "      <th>1170149</th>\n",
       "      <td>Lessig, Lawrence</td>\n",
       "      <td>WI</td>\n",
       "      <td>537053196</td>\n",
       "      <td>PHYSICIAN</td>\n",
       "      <td>500.00</td>\n",
       "    </tr>\n",
       "    <tr>\n",
       "      <th>1170150</th>\n",
       "      <td>Lessig, Lawrence</td>\n",
       "      <td>WI</td>\n",
       "      <td>537196239</td>\n",
       "      <td>POLICY ANALYST</td>\n",
       "      <td>250.00</td>\n",
       "    </tr>\n",
       "    <tr>\n",
       "      <th>1170151</th>\n",
       "      <td>Lessig, Lawrence</td>\n",
       "      <td>WI</td>\n",
       "      <td>535939432</td>\n",
       "      <td>RETIRED</td>\n",
       "      <td>200.00</td>\n",
       "    </tr>\n",
       "    <tr>\n",
       "      <th>1170152</th>\n",
       "      <td>Lessig, Lawrence</td>\n",
       "      <td>WI</td>\n",
       "      <td>546650146</td>\n",
       "      <td>SMALL BUSINESS OWNER</td>\n",
       "      <td>250.00</td>\n",
       "    </tr>\n",
       "    <tr>\n",
       "      <th>1170153</th>\n",
       "      <td>Lessig, Lawrence</td>\n",
       "      <td>WI</td>\n",
       "      <td>537115524</td>\n",
       "      <td>ATTORNEY</td>\n",
       "      <td>1000.00</td>\n",
       "    </tr>\n",
       "    <tr>\n",
       "      <th>1170154</th>\n",
       "      <td>Lessig, Lawrence</td>\n",
       "      <td>WI</td>\n",
       "      <td>537115524</td>\n",
       "      <td>ATTORNEY</td>\n",
       "      <td>1000.00</td>\n",
       "    </tr>\n",
       "    <tr>\n",
       "      <th>1170155</th>\n",
       "      <td>Lessig, Lawrence</td>\n",
       "      <td>WI</td>\n",
       "      <td>535663645</td>\n",
       "      <td>PHYSICIAN</td>\n",
       "      <td>500.00</td>\n",
       "    </tr>\n",
       "    <tr>\n",
       "      <th>1170156</th>\n",
       "      <td>Lessig, Lawrence</td>\n",
       "      <td>WI</td>\n",
       "      <td>532072270</td>\n",
       "      <td>SOFTWARE ENGINEER</td>\n",
       "      <td>250.00</td>\n",
       "    </tr>\n",
       "    <tr>\n",
       "      <th>1170157</th>\n",
       "      <td>Lessig, Lawrence</td>\n",
       "      <td>WI</td>\n",
       "      <td>546650146</td>\n",
       "      <td>SMALL BUSINESS OWNER</td>\n",
       "      <td>250.00</td>\n",
       "    </tr>\n",
       "    <tr>\n",
       "      <th>1170158</th>\n",
       "      <td>Lessig, Lawrence</td>\n",
       "      <td>WY</td>\n",
       "      <td>830250058</td>\n",
       "      <td>SCIENTIST/WRITER</td>\n",
       "      <td>500.00</td>\n",
       "    </tr>\n",
       "    <tr>\n",
       "      <th>1170159</th>\n",
       "      <td>Lessig, Lawrence</td>\n",
       "      <td>WY</td>\n",
       "      <td>820725035</td>\n",
       "      <td>LIBRARIAN</td>\n",
       "      <td>250.00</td>\n",
       "    </tr>\n",
       "  </tbody>\n",
       "</table>\n",
       "<p>1161749 rows × 5 columns</p>\n",
       "</div>"
      ],
      "text/plain": [
       "                  cand_nm contbr_st contbr_zip  \\\n",
       "0            Rubio, Marco        AE      09096   \n",
       "1            Rubio, Marco        AE      09096   \n",
       "2            Rubio, Marco        AE      09096   \n",
       "3            Rubio, Marco        AE  096230023   \n",
       "4            Rubio, Marco        AE  092131903   \n",
       "5            Rubio, Marco        AE  091800022   \n",
       "6            Rubio, Marco        AE  097520002   \n",
       "7            Rubio, Marco        AE  090960009   \n",
       "8            Rubio, Marco        AE  096230023   \n",
       "9            Rubio, Marco        AK  997600113   \n",
       "10           Rubio, Marco        AK  997600113   \n",
       "11           Rubio, Marco        AK  997600113   \n",
       "12           Rubio, Marco        AK  995165437   \n",
       "13           Rubio, Marco        AK  995165437   \n",
       "14           Rubio, Marco        AK  995165437   \n",
       "15           Rubio, Marco        AK  996546390   \n",
       "16           Rubio, Marco        AK  996546390   \n",
       "17           Rubio, Marco        AK  995076742   \n",
       "18           Rubio, Marco        AK  995076742   \n",
       "19           Rubio, Marco        AK  995076742   \n",
       "20           Rubio, Marco        AK  995033969   \n",
       "21           Rubio, Marco        AK  995033969   \n",
       "22           Rubio, Marco        AK  995033969   \n",
       "23           Rubio, Marco        AK  997050258   \n",
       "24           Rubio, Marco        AK  997050258   \n",
       "25           Rubio, Marco        AK  997050258   \n",
       "26           Rubio, Marco        AK  995033678   \n",
       "27           Rubio, Marco        AK  995024449   \n",
       "28           Rubio, Marco        AK  995024449   \n",
       "29           Rubio, Marco        AK  995044731   \n",
       "...                   ...       ...        ...   \n",
       "1170130  Lessig, Lawrence        WA  981023288   \n",
       "1170131  Lessig, Lawrence        WA  981023288   \n",
       "1170132  Lessig, Lawrence        WA  981023513   \n",
       "1170133  Lessig, Lawrence        WA  981023513   \n",
       "1170134  Lessig, Lawrence        WA  981023513   \n",
       "1170135  Lessig, Lawrence        WA  981055628   \n",
       "1170136  Lessig, Lawrence        WA  981055628   \n",
       "1170137  Lessig, Lawrence        WA  981014528   \n",
       "1170138  Lessig, Lawrence        WA  981211470   \n",
       "1170139  Lessig, Lawrence        WA  981042818   \n",
       "1170140  Lessig, Lawrence        WA  980524166   \n",
       "1170141  Lessig, Lawrence        WA  982210765   \n",
       "1170142  Lessig, Lawrence        WA  981174336   \n",
       "1170143  Lessig, Lawrence        WI  535939432   \n",
       "1170144  Lessig, Lawrence        WI  535661764   \n",
       "1170145  Lessig, Lawrence        WI  535939432   \n",
       "1170146  Lessig, Lawrence        WI  535939432   \n",
       "1170147  Lessig, Lawrence        WI  535661764   \n",
       "1170148  Lessig, Lawrence        WI  537053196   \n",
       "1170149  Lessig, Lawrence        WI  537053196   \n",
       "1170150  Lessig, Lawrence        WI  537196239   \n",
       "1170151  Lessig, Lawrence        WI  535939432   \n",
       "1170152  Lessig, Lawrence        WI  546650146   \n",
       "1170153  Lessig, Lawrence        WI  537115524   \n",
       "1170154  Lessig, Lawrence        WI  537115524   \n",
       "1170155  Lessig, Lawrence        WI  535663645   \n",
       "1170156  Lessig, Lawrence        WI  532072270   \n",
       "1170157  Lessig, Lawrence        WI  546650146   \n",
       "1170158  Lessig, Lawrence        WY  830250058   \n",
       "1170159  Lessig, Lawrence        WY  820725035   \n",
       "\n",
       "                              contbr_occupation  contb_receipt_amt  \n",
       "0                                       RETIRED             100.00  \n",
       "1                                       RETIRED             220.50  \n",
       "2                                       RETIRED             225.00  \n",
       "3                                       RETIRED              50.00  \n",
       "4                               LAW ENFORCEMENT             500.00  \n",
       "5                                      MILITARY             250.00  \n",
       "6                                       TEACHER             500.00  \n",
       "7        INFORMATION REQUESTED PER BEST EFFORTS             210.00  \n",
       "8                                       RETIRED              50.00  \n",
       "9                                     CARPENTER              25.00  \n",
       "10                                    CARPENTER              17.00  \n",
       "11                                    CARPENTER              25.00  \n",
       "12                                  HEALTH CARE             100.00  \n",
       "13                                  HEALTH CARE             100.00  \n",
       "14                                  HEALTH CARE             100.00  \n",
       "15                                      RETIRED              25.00  \n",
       "16                                      RETIRED              25.00  \n",
       "17                                      RETIRED             100.00  \n",
       "18                                      RETIRED             100.00  \n",
       "19                                      RETIRED             100.00  \n",
       "20                                      RETIRED              50.00  \n",
       "21                                      RETIRED              50.00  \n",
       "22                                      RETIRED              50.00  \n",
       "23                                      RETIRED              25.00  \n",
       "24                                      RETIRED              25.00  \n",
       "25                                      RETIRED              25.00  \n",
       "26                                   CONSULTING            1743.00  \n",
       "27                                           IT             100.00  \n",
       "28                                           IT             100.00  \n",
       "29                                         FARM             100.00  \n",
       "...                                         ...                ...  \n",
       "1170130                       FINANCIAL ADVISOR            1000.00  \n",
       "1170131                       FINANCIAL ADVISOR            1700.00  \n",
       "1170132                      ASST. DIR. PRIVACY             250.00  \n",
       "1170133                      ASST. DIR. PRIVACY              38.14  \n",
       "1170134                      ASST. DIR. PRIVACY              50.00  \n",
       "1170135                      SOFTWARE DEVELOPER            1000.00  \n",
       "1170136                      SOFTWARE DEVELOPER              64.14  \n",
       "1170137                       SOFTWARE ENGINEER            1000.00  \n",
       "1170138                       SOFTWARE ENGINEER             500.00  \n",
       "1170139                       SOFTWARE ENGINEER             250.00  \n",
       "1170140                       SOFTWARE ENGINEER             250.00  \n",
       "1170141                                MECHANIC             250.00  \n",
       "1170142                                      IT             250.00  \n",
       "1170143                                 RETIRED             250.00  \n",
       "1170144                          BUSINESS OWNER             147.15  \n",
       "1170145                                 RETIRED              50.00  \n",
       "1170146                                 RETIRED              50.00  \n",
       "1170147                          BUSINESS OWNER            1000.00  \n",
       "1170148                               PHYSICIAN             500.00  \n",
       "1170149                               PHYSICIAN             500.00  \n",
       "1170150                          POLICY ANALYST             250.00  \n",
       "1170151                                 RETIRED             200.00  \n",
       "1170152                    SMALL BUSINESS OWNER             250.00  \n",
       "1170153                                ATTORNEY            1000.00  \n",
       "1170154                                ATTORNEY            1000.00  \n",
       "1170155                               PHYSICIAN             500.00  \n",
       "1170156                       SOFTWARE ENGINEER             250.00  \n",
       "1170157                    SMALL BUSINESS OWNER             250.00  \n",
       "1170158                        SCIENTIST/WRITER             500.00  \n",
       "1170159                               LIBRARIAN             250.00  \n",
       "\n",
       "[1161749 rows x 5 columns]"
      ]
     },
     "execution_count": 10,
     "metadata": {},
     "output_type": "execute_result"
    }
   ],
   "source": [
    "df.dropna()"
   ]
  },
  {
   "cell_type": "code",
   "execution_count": 4,
   "metadata": {
    "collapsed": false
   },
   "outputs": [
    {
     "data": {
      "text/plain": [
       "['cmte_id',\n",
       " 'cand_id',\n",
       " 'cand_nm',\n",
       " 'contbr_nm',\n",
       " 'contbr_city',\n",
       " 'contbr_st',\n",
       " 'contbr_zip',\n",
       " 'contbr_employer',\n",
       " 'contbr_occupation',\n",
       " 'contb_receipt_amt',\n",
       " 'contb_receipt_dt',\n",
       " 'receipt_desc',\n",
       " 'memo_cd',\n",
       " 'memo_text',\n",
       " 'form_tp',\n",
       " 'file_num',\n",
       " 'tran_id',\n",
       " 'election_tp']"
      ]
     },
     "execution_count": 4,
     "metadata": {},
     "output_type": "execute_result"
    }
   ],
   "source": [
    "df.columns.tolist()"
   ]
  },
  {
   "cell_type": "code",
   "execution_count": 23,
   "metadata": {
    "collapsed": false
   },
   "outputs": [],
   "source": [
    "occupation_fre = df.groupby('contbr_occupation').count()['cmte_id'].values.tolist()"
   ]
  },
  {
   "cell_type": "code",
   "execution_count": 31,
   "metadata": {
    "collapsed": false
   },
   "outputs": [
    {
     "data": {
      "text/plain": [
       "[('RETIRED', 281677L),\n",
       " ('NOT EMPLOYED', 103809L),\n",
       " ('INFORMATION REQUESTED PER BEST EFFORTS', 30750L),\n",
       " ('ATTORNEY', 29968L),\n",
       " ('HOMEMAKER', 25362L),\n",
       " ('PHYSICIAN', 20544L),\n",
       " ('ENGINEER', 14561L),\n",
       " ('TEACHER', 14280L),\n",
       " ('INFORMATION REQUESTED', 14268L),\n",
       " ('NONE', 13885L),\n",
       " ('CONSULTANT', 13365L),\n",
       " ('SALES', 9886L),\n",
       " ('PROFESSOR', 9885L),\n",
       " ('PRESIDENT', 7842L),\n",
       " ('CEO', 7766L),\n",
       " ('LAWYER', 7685L)]"
      ]
     },
     "execution_count": 31,
     "metadata": {},
     "output_type": "execute_result"
    }
   ],
   "source": [
    "occupation = zip(occupation_list, occupation_fre)\n",
    "sorted(occupation, key = lambda x:x[1], reverse = True)[:16]"
   ]
  },
  {
   "cell_type": "code",
   "execution_count": 13,
   "metadata": {
    "collapsed": false
   },
   "outputs": [
    {
     "data": {
      "text/plain": [
       "cmte_id                    0\n",
       "cand_id                    0\n",
       "cand_nm                    0\n",
       "contbr_nm                  0\n",
       "contbr_city               39\n",
       "contbr_st                  0\n",
       "contbr_zip                91\n",
       "contbr_employer        59462\n",
       "contbr_occupation       8323\n",
       "contb_receipt_amt          0\n",
       "contb_receipt_dt           0\n",
       "receipt_desc         1145856\n",
       "memo_cd              1131249\n",
       "memo_text             803657\n",
       "form_tp                    0\n",
       "file_num                   0\n",
       "tran_id                    0\n",
       "election_tp              762\n",
       "dtype: int64"
      ]
     },
     "execution_count": 13,
     "metadata": {},
     "output_type": "execute_result"
    }
   ],
   "source": [
    "df.isnull().sum()"
   ]
  },
  {
   "cell_type": "markdown",
   "metadata": {},
   "source": [
    "## Drop the Column of Memo_cd, receipt_desc, contb_receipt_dt, contrbr_st, contbr_zip, contbr_nm"
   ]
  },
  {
   "cell_type": "code",
   "execution_count": 14,
   "metadata": {
    "collapsed": false
   },
   "outputs": [],
   "source": [
    "drop_columns = ['memo_cd', 'receipt_desc', \n",
    "                'contb_receipt_dt', 'contbr_city', \n",
    "                'contbr_zip','memo_text']\n",
    "for i in range(len(drop_columns)):\n",
    "    df = df.drop(drop_columns[i],1)"
   ]
  },
  {
   "cell_type": "code",
   "execution_count": 15,
   "metadata": {
    "collapsed": false
   },
   "outputs": [
    {
     "data": {
      "text/plain": [
       "22"
      ]
     },
     "execution_count": 15,
     "metadata": {},
     "output_type": "execute_result"
    }
   ],
   "source": [
    "len(df.cand_id.unique())"
   ]
  },
  {
   "cell_type": "code",
   "execution_count": 16,
   "metadata": {
    "collapsed": false
   },
   "outputs": [
    {
     "data": {
      "text/plain": [
       "338833"
      ]
     },
     "execution_count": 16,
     "metadata": {},
     "output_type": "execute_result"
    }
   ],
   "source": [
    "len(df.contbr_nm.unique())"
   ]
  },
  {
   "cell_type": "code",
   "execution_count": 17,
   "metadata": {
    "collapsed": false
   },
   "outputs": [
    {
     "data": {
      "text/plain": [
       "89"
      ]
     },
     "execution_count": 17,
     "metadata": {},
     "output_type": "execute_result"
    }
   ],
   "source": [
    "len(df.contbr_st.unique())"
   ]
  },
  {
   "cell_type": "code",
   "execution_count": null,
   "metadata": {
    "collapsed": false
   },
   "outputs": [],
   "source": [
    "df.groupby('contbr_occupation')['contb_receipt_amt'].hist()"
   ]
  },
  {
   "cell_type": "code",
   "execution_count": null,
   "metadata": {
    "collapsed": true
   },
   "outputs": [],
   "source": [
    "len(df.contbr_nm.unique())"
   ]
  },
  {
   "cell_type": "code",
   "execution_count": 59,
   "metadata": {
    "collapsed": false
   },
   "outputs": [],
   "source": [
    "meanofoccupation = df.groupby('contbr_nm')['contbr_occupation'].mean().values"
   ]
  },
  {
   "cell_type": "code",
   "execution_count": 63,
   "metadata": {
    "collapsed": true
   },
   "outputs": [],
   "source": [
    "cntofoccupation = df.groupby('contbr_nm')['contbr_occupation'].count().values"
   ]
  },
  {
   "cell_type": "code",
   "execution_count": 70,
   "metadata": {
    "collapsed": false
   },
   "outputs": [],
   "source": [
    "occupat_nm = pd.DataFrame({'mean':meanofoccupation,\n",
    "                          'cnt':cntofoccupation})"
   ]
  },
  {
   "cell_type": "code",
   "execution_count": 80,
   "metadata": {
    "collapsed": false
   },
   "outputs": [],
   "source": [
    "cond_occu = df.groupby('cand_nm')['contbr_occupation']"
   ]
  },
  {
   "cell_type": "code",
   "execution_count": 85,
   "metadata": {
    "collapsed": false
   },
   "outputs": [
    {
     "data": {
      "text/plain": [
       "755.5"
      ]
     },
     "execution_count": 85,
     "metadata": {},
     "output_type": "execute_result"
    }
   ],
   "source": [
    "cond_occu.get_group('HEFFERNAN, MICHAEL').sum()"
   ]
  }
 ],
 "metadata": {
  "kernelspec": {
   "display_name": "Python 2",
   "language": "python",
   "name": "python2"
  },
  "language_info": {
   "codemirror_mode": {
    "name": "ipython",
    "version": 2
   },
   "file_extension": ".py",
   "mimetype": "text/x-python",
   "name": "python",
   "nbconvert_exporter": "python",
   "pygments_lexer": "ipython2",
   "version": "2.7.10"
  }
 },
 "nbformat": 4,
 "nbformat_minor": 0
}
